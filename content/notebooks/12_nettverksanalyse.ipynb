{
 "cells": [
  {
   "cell_type": "markdown",
   "id": "a80732d1",
   "metadata": {},
   "source": [
    "# Nettverksanalyse i Python\n",
    "\n",
    "Å finne en korteste vei ved hjelp av et bestemt gate-nettverk er et vanlig GIS-problem\n",
    "som har mange praktiske applikasjoner. For eksempel, navigasjon, en av de\n",
    "‘hverdagslige’ applikasjonene der **rute**-algoritmer brukes til å finne den\n",
    "optimale ruten mellom to eller flere punkter.\n",
    "\n",
    "Selvfølgelig har Python-økosystemet produsert pakker som kan brukes til\n",
    "å gjennomføre nettverksanalyser, som for eksempel ruting. \n",
    "[NetworkX](https://networkx.github.io/documentation/) pakken gir forskjellige\n",
    "verktøy for å analysere nettverk, og implementerer flere forskjellige rutealgoritmer,\n",
    "som for eksempel\n",
    "[Dijkstra’s](https://networkx.org/documentation/stable/reference/algorithms/generated/networkx.algorithms.shortest_paths.generic.shortest_path.html)\n",
    "eller\n",
    "[A\\*](https://networkx.org/documentation/stable/reference/algorithms/shortest_paths.html#module-networkx.algorithms.shortest_paths.astar)\n",
    "algoritmene. Begge er vanligvis brukt til å finne korteste veier langs transportnettverk.\n",
    "\n",
    "For å kunne utføre nettverksanalyse, er det selvfølgelig nødvendig å ha et\n",
    "nettverk som brukes til analysene. \n",
    "[OSMnx](https://osmnx.readthedocs.io/) pakken lar oss hente rutbare\n",
    "nettverk fra OpenStreetMap for forskjellige transportformer (gåing, sykling og\n",
    "kjøring). OSMnx pakken pakker også noen av NetworkX's funksjoner på en praktisk måte\n",
    "for bruk på OpenStreetMap-data.\n",
    "\n",
    "I følgende avsnitt vil vi bruke OSMnx til å finne den korteste veien mellom\n",
    "to punkter basert på sykkelbare veier. Med bare de minste modifikasjonene, kan vi\n",
    "deretter gjenta analysen for det gangbare gatenettverket.\n",
    "\n",
    "\n",
    "\n",
    "## Få et rutbart nettverk\n",
    "\n",
    "For å laste ned OpenStreetMap-data som representerer gatenettverket, kan vi bruke\n",
    "dens\n",
    "[`graph_from_place()`](https://osmnx.readthedocs.io/en/stable/osmnx.html#osmnx.graph.graph_from_place)\n",
    "funksjon. Som parametere forventer den et stedsnavn og, valgfritt, en nettverkstype."
   ]
  },
  {
   "cell_type": "code",
   "execution_count": null,
   "id": "f7050529",
   "metadata": {},
   "outputs": [],
   "source": [
    "import osmnx\n",
    "\n",
    "PLACE_NAME = \"Kamppi, Helsinki, Finland\"\n",
    "graph = osmnx.graph_from_place(\n",
    "    PLACE_NAME,\n",
    "    network_type=\"bike\"\n",
    ")\n",
    "figure, ax = osmnx.plot_graph(graph)"
   ]
  },
  {
   "cell_type": "markdown",
   "id": "86463281",
   "metadata": {},
   "source": [
    ":::{admonition} Proft tips!\n",
    ":class: hint\n",
    "\n",
    "Noen ganger kan den korteste veien gå litt utenfor det definerte området av\n",
    "interesse. For å ta hensyn til dette, kan vi hente nettverket for et litt større område\n",
    "enn distriktet Kamppi, i tilfelle den korteste veien ikke er helt innenfor\n",
    "dens grenser. \n",
    ":::"
   ]
  },
  {
   "cell_type": "code",
   "execution_count": null,
   "id": "801d220a",
   "metadata": {},
   "outputs": [],
   "source": [
    "# Få området av interesse polygon\n",
    "place_polygon = osmnx.geocode_to_gdf(PLACE_NAME)\n",
    "\n",
    "# Re-projiser polygonet til en lokal projisert CRS (slik at CRS-enheten er meter)\n",
    "place_polygon = place_polygon.to_crs(\"EPSG:3067\")\n",
    "\n",
    "# Buffer med 200 meter\n",
    "place_polygon[\"geometry\"] = place_polygon.buffer(200)\n",
    "\n",
    "# Re-projiser polygonet tilbake til WGS84 (kreves av OSMnx)\n",
    "place_polygon = place_polygon.to_crs(\"EPSG:4326\")\n",
    "\n",
    "# Hent nettverksgraf\n",
    "graph = osmnx.graph_from_polygon(\n",
    "    place_polygon.at[0, \"geometry\"],\n",
    "    network_type=\"bike\"\n",
    ")\n",
    "\n",
    "fig, ax = osmnx.plot_graph(graph)"
   ]
  },
  {
   "cell_type": "markdown",
   "id": "ffec60a6",
   "metadata": {},
   "source": [
    "### Dataoversikt\n",
    "\n",
    "Nå som vi har fått et komplett nettverksdiagram for den reisemåten vi spesifiserte\n",
    "(sykling), kan vi ta en nærmere titt på hvilke attributter som er tildelt\n",
    "noder og kanter i nettverket. Det er sannsynligvis lettest å først konvertere\n",
    "nettverket til en geodata-frame der vi deretter kan bruke verktøyene vi lærte i\n",
    "tidligere leksjoner.\n",
    "\n",
    "For å konvertere et diagram til en geodata-frame, kan vi bruke `osmnx.graph_to_gdfs()`\n",
    "(se [forrige avsnitt](retrieve-data-from-openstreetmap)). Her kan vi gjøre\n",
    "bruk av funksjonens parametere `nodes` og `edges` for å velge om vi vil ha\n",
    "bare noder, bare kanter, eller begge (standard):"
   ]
  },
  {
   "cell_type": "code",
   "execution_count": null,
   "id": "67e245cc",
   "metadata": {},
   "outputs": [],
   "source": [
    "# Hent bare kanter fra grafen\n",
    "edges = osmnx.graph_to_gdfs(graph, nodes=False, edges=True)\n",
    "edges.head()"
   ]
  },
  {
   "cell_type": "markdown",
   "id": "624791ba",
   "metadata": {},
   "source": [
    "Den resulterende geodata-framen består av en lang liste over kolonner. De fleste av dem\n",
    "relaterer til [OpenStreetMap-tags](https://wiki.openstreetmap.org/wiki/Tags), og\n",
    "navnene deres er ganske selvforklarende. Kolonnene `u` og `v` beskriver\n",
    "topologisk forhold innen nettverket: de betegner start- og slutt-noden\n",
    "for hver kant.\n",
    "\n",
    ":::{list-table} Kolonner i `edges`\n",
    ":header-rows: 1\n",
    ":name: columns-in-edges\n",
    "\n",
    "* - Kolonne\n",
    "  - Beskrivelse\n",
    "  - Datatype\n",
    "* - [bridge](http://wiki.openstreetmap.org/wiki/Key:bridge)    \n",
    "  - Broelement              \n",
    "  - boolean           \n",
    "* - geometry                                                   \n",
    "  - Geometri av elementet     \n",
    "  - Shapely.geometry  \n",
    "* - [highway](http://wiki.openstreetmap.org/wiki/Key:highway)  \n",
    "  - Tag for veier (veitype)   \n",
    "  - str / list        \n",
    "* - [lanes](http://wiki.openstreetmap.org/wiki/Key:lanes)      \n",
    "  - Antall kjørefelt             \n",
    "  - int (or nan)      \n",
    "* - [length](http://wiki.openstreetmap.org/wiki/Key:length)    \n",
    "  - Lengden på elementet (meter)  \n",
    "  - float             \n",
    "* - [maxspeed](http://wiki.openstreetmap.org/wiki/Key:maxspeed)\n",
    "  - Maksimal lovlige hastighetsbegrensning   \n",
    "  - int /list         \n",
    "* - [name](http://wiki.openstreetmap.org/wiki/Key:name)        \n",
    "  - Navn på (gata) elementet\n",
    "  - str (or nan)      \n",
    "* - [oneway](http://wiki.openstreetmap.org/wiki/Key:oneway)    \n",
    "  - Enveisvei                \n",
    "  - boolean           \n",
    "* - [osmid](http://wiki.openstreetmap.org/wiki/Node)           \n",
    "  - Unike id-er for elementet  \n",
    "  - list              \n",
    "* - [u](http://ow.ly/bV8n30h7Ufm)                              \n",
    "  - Startnoden for kanten      \n",
    "  - int               \n",
    "* - [v](http://ow.ly/bV8n30h7Ufm)                              \n",
    "  - Sluttnoden for kanten       \n",
    "  - int               \n",
    ":::\n",
    "\n",
    "\n",
    "Hvilke typer gater består nettverket vårt av?"
   ]
  },
  {
   "cell_type": "code",
   "execution_count": null,
   "id": "baed6f28",
   "metadata": {},
   "outputs": [],
   "source": [
    "edges[\"highway\"].value_counts()"
   ]
  },
  {
   "cell_type": "markdown",
   "id": "ee378605",
   "metadata": {},
   "source": [
    "### Transformere til projisert referansesystem\n",
    "\n",
    "Nettverksdataens kartografiske referansesystem (CRS) er WGS84 (EPSG:4326), et\n",
    "geografisk referansesystem. Det betyr at avstander er registrert og uttrykt\n",
    "i grader, områder i kvadratgrader. Dette er ikke praktisk for nettverks-\n",
    "analyser, som for eksempel å finne en korteste vei.\n",
    "\n",
    "Igjen, OSMnx's *graf*-objekter tilbyr ikke en metode for å transformere deres\n",
    "geodata, men OSMnx kommer med en separat funksjon:\n",
    "[`osmnx.project_graph()`](https://osmnx.readthedocs.io/en/stable/osmnx.html#osmnx.projection.project_graph)\n",
    "tar en inngangsgraf og en CRS som parametere, og returnerer en ny, transformert,\n",
    "graf. Hvis `crs` utelates, er transformasjonen standard til den mest\n",
    "egnede UTM-sonen lokalt."
   ]
  },
  {
   "cell_type": "code",
   "execution_count": null,
   "id": "66a7dfe6",
   "metadata": {},
   "outputs": [],
   "source": [
    "# Transformere grafen til UTM\n",
    "graph = osmnx.project_graph(graph) \n",
    "\n",
    "# Hent re-projiserte noder og kanter\n",
    "nodes, edges = osmnx.graph_to_gdfs(graph)\n",
    "\n",
    "nodes.crs"
   ]
  },
  {
   "cell_type": "markdown",
   "id": "75c1856f",
   "metadata": {},
   "source": [
    "---\n",
    "\n",
    "\n",
    "## Analysering av nettverksegenskaper\n",
    "\n",
    "Nå som vi har forberedt et rutbart nettverksdiagram, kan vi gå over til de mer\n",
    "analytiske funksjonene til OSMnx, og hente informasjon om nettverket.\n",
    "For å beregne grunnleggende nettverksegenskaper, bruk\n",
    "[`osmnx.basic_stats()`](https://osmnx.readthedocs.io/en/stable/osmnx.html#osmnx.stats.basic_stats):"
   ]
  },
  {
   "cell_type": "code",
   "execution_count": null,
   "id": "04f5f52b",
   "metadata": {},
   "outputs": [],
   "source": [
    "# Beregn nettverksstatistikk\n",
    "osmnx.basic_stats(graph)"
   ]
  },
  {
   "cell_type": "markdown",
   "id": "9e7e5053",
   "metadata": {},
   "source": [
    "Dette gir oss ennå ikke alle interessante egenskaper ved nettverket vårt, som\n",
    "OSMnx ikke automatisk tar hensyn til området som er dekket av nettverket.\n",
    "Vi kan gjøre det manuelt, ved, først, å avgrense [komplekse\n",
    "skallet](https://en.wikipedia.org/wiki/Convex_hull) til nettverket (av en 'unary'\n",
    "union av alle funksjonene), og deretter, andre, beregne området av dette skallet."
   ]
  },
  {
   "cell_type": "code",
   "execution_count": null,
   "id": "222e08c7",
   "metadata": {},
   "outputs": [],
   "source": [
    "convex_hull = edges.unary_union.convex_hull\n",
    "convex_hull"
   ]
  },
  {
   "cell_type": "code",
   "execution_count": null,
   "id": "683a4432",
   "metadata": {},
   "outputs": [],
   "source": [
    "stats = osmnx.basic_stats(graph, area=convex_hull.area)\n",
    "stats"
   ]
  },
  {
   "cell_type": "code",
   "execution_count": null,
   "id": "6dcbb321",
   "metadata": {
    "tags": [
     "remove-input",
     "remove-output"
    ]
   },
   "outputs": [],
   "source": [
    "import math\n",
    "import myst_nb\n",
    "\n",
    "myst_nb.glue(\"node_density_km\", round(stats[\"node_density_km\"], 1))\n",
    "myst_nb.glue(\"edge_length_total\", math.floor(stats[\"edge_length_total\"] / 1000))"
   ]
  },
  {
   "cell_type": "markdown",
   "id": "c422afc1",
   "metadata": {},
   "source": [
    "Som vi kan se, har vi nå mye informasjon om gatenettverket vårt som\n",
    "kan brukes til å forstå strukturen. Vi kan for eksempel se at gjennomsnittlig\n",
    "nodetetthet i nettverket vårt er {glue:}`node_density_km`&nbsp;noder/km og at\n",
    "den totale kantlengden på nettverket vårt er mer enn\n",
    "{glue:}`edge_length_total`&nbsp;kilometer.\n",
    "\n",
    "\n",
    ":::{admonition} Sentralitetsmål\n",
    ":class: note\n",
    "\n",
    "I tidligere år diskuterte dette kurset også [grad-\n",
    "sentralitet](https://en.wikipedia.org/wiki/Centrality). Beregning av nettverk\n",
    "sentralitet har endret seg i OSMnx: å gå i dybden ville være utenfor omfanget av\n",
    "dette kurset. Se [den tilsvarende OSMnx\n",
    "notebook](https://github.com/gboeing/osmnx-examples/blob/main/notebooks/06-stats-indicators-centrality.ipynb)\n",
    "for et eksempel.\n",
    ":::\n",
    "\n",
    "\n",
    "---\n",
    "\n",
    "\n",
    "## Korteste bananalyse\n",
    "\n",
    "La oss nå beregne den korteste veien mellom to punkter ved hjelp av\n",
    "[`osmnx.shortest_path()`](https://osmnx.readthedocs.io/en/stable/osmnx.html?highlight=get_nearest_node#osmnx.distance.shortest_path).\n",
    "\n",
    "\n",
    "\n",
    "### Opprinnelses- og destinasjonspunkter \n",
    "\n",
    "Først må vi spesifisere kilden og målplasseringene for ruten vår. Hvis du\n",
    "er kjent med Kamppi-området, kan du spesifisere en egendefinert stedsnavn som en\n",
    "kildeposisjon. Eller, du kan følge med og velge disse punktene som opprinnelse\n",
    "og destinasjon i analysen:\n",
    "- [`\"Maria 01, Helsinki\"`](https://nominatim.openstreetmap.org/ui/search.html?q=Maria+01):\n",
    "  en oppstartshub i et tidligere sykehusområde.\n",
    "- [`\"ruttopuisto\"`](https://nominatim.openstreetmap.org/ui/search.html?q=ruttopuisto),\n",
    "  en park. Parkens offisielle navn er ’Vanha kirkkopuisto’, men Nominatim\n",
    "  er også i stand til å geokode kallenavnet.\n",
    "\n",
    "Vi kunne finne ut koordinatene for disse stedene manuelt, og lage\n",
    "`shapely.geometry.Point`s basert på koordinatene. Men hvis vi ville ha\n",
    "mer enn bare to punkter, ville det raskt bli et ork. I stedet kan vi\n",
    "bruke OSMnx til å geokode lokasjonene.\n",
    "\n",
    "Husk å transformere opprinnelses- og destinasjonspunktene til samme referanse\n",
    "system som nettverksdataene."
   ]
  },
  {
   "cell_type": "code",
   "execution_count": null,
   "id": "b1585fb2",
   "metadata": {},
   "outputs": [],
   "source": [
    "origin = (\n",
    "    osmnx.geocode_to_gdf(\"Maria 01, Helsinki\")  # hent geolokasjon\n",
    "    .to_crs(edges.crs)  # transformer til UTM\n",
    "    .at[0, \"geometry\"]  # velg geometri av første rad\n",
    "    .centroid  # bruk midtpunktet\n",
    ")\n",
    "\n",
    "destination = (\n",
    "    osmnx.geocode_to_gdf(\"ruttopuisto\")\n",
    "    .to_crs(edges.crs)\n",
    "    .at[0, \"geometry\"]\n",
    "    .centroid\n",
    ")"
   ]
  },
  {
   "cell_type": "markdown",
   "id": "f9a46509",
   "metadata": {},
   "source": [
    "Vi har nå `shapely.geometry.Point`s som representerer opprinnelses- og destinasjon\n",
    "plasseringene for nettverksanalysen vår. I en neste trinn, må vi finne disse punktene på\n",
    "det rutbare nettverket før den endelige rutingen.\n",
    "\n",
    "### Nærmeste node\n",
    "\n",
    "For å rute på nettverket, må vi først finne et startpunkt og sluttpunkt\n",
    "som er en del av nettverket. Bruk\n",
    "`[osmnx.distance.nearest_nodes()`](https://osmnx.readthedocs.io/en/stable/osmnx.html#osmnx.distance.nearest_nodes)\n",
    "for å returnere den nærmeste nodens ID:"
   ]
  },
  {
   "cell_type": "code",
   "execution_count": null,
   "id": "9fb0abf1",
   "metadata": {},
   "outputs": [],
   "source": [
    "origin_node_id = osmnx.nearest_nodes(graph, origin.x, origin.y)\n",
    "origin_node_id"
   ]
  },
  {
   "cell_type": "code",
   "execution_count": null,
   "id": "1029173f",
   "metadata": {},
   "outputs": [],
   "source": [
    "destination_node_id = osmnx.nearest_nodes(graph, destination.x, destination.y)\n",
    "destination_node_id"
   ]
  },
  {
   "cell_type": "markdown",
   "id": "61968a1d",
   "metadata": {},
   "source": [
    "### Ruting\n",
    "\n",
    "Nå er vi klare for ruting og for å finne den korteste veien mellom\n",
    "opprinnelses- og målplasseringene. Vi vil bruke\n",
    "[`osmnx.shortest_path()`](https://osmnx.readthedocs.io/en/stable/osmnx.html?highlight=get_nearest_node#osmnx.distance.shortest_path).\n",
    "\n",
    "Funksjonen tar tre obligatoriske parametere: en graf, en opprinnelsesnod-id, og\n",
    "en destinasjonsnod-id, og to valgfrie parametere: `weight` kan settes til\n",
    "å vurdere en annen *kostnadsimpedans* enn lengden på ruten, og `cpus`\n",
    "kontrollerer parallell beregning av mange ruter."
   ]
  },
  {
   "cell_type": "code",
   "execution_count": null,
   "id": "69dbb7a3",
   "metadata": {},
   "outputs": [],
   "source": [
    "# Finn den korteste veien mellom opprinnelse og destinasjon\n",
    "route = osmnx.shortest_path(graph, origin_node_id, destination_node_id)\n",
    "route"
   ]
  },
  {
   "cell_type": "markdown",
   "id": "d7421e75",
   "metadata": {},
   "source": [
    "Som et resultat får vi en liste over alle nodene som er langs den korteste veien.\n",
    "\n",
    "Vi kunne hente plasseringene til disse nodene fra `nodes`\n",
    "GeoDataFrame og lage en LineString-presentasjon av punktene, men heldigvis,\n",
    "OSMnx kan gjøre det for oss og vi kan plotte korteste vei ved hjelp av\n",
    "`plot_graph_route()`-funksjonen:"
   ]
  },
  {
   "cell_type": "code",
   "execution_count": null,
   "id": "f46d429b",
   "metadata": {},
   "outputs": [],
   "source": [
    "# Plot den korteste veien\n",
    "fig, ax = osmnx.plot_graph_route(graph, route)"
   ]
  },
  {
   "cell_type": "markdown",
   "id": "0d160cb4",
   "metadata": {},
   "source": [
    "Flott! Nå har vi den korteste veien mellom opprinnelses- og målplasseringene våre.\n",
    "Å kunne analysere korteste veier mellom steder kan være verdifull\n",
    "informasjon for mange applikasjoner. Her analyserte vi bare de korteste veiene\n",
    "basert på avstand, men ganske ofte er det mer nyttig å finne de optimale rutene\n",
    "mellom steder basert på reisetiden. Her, for eksempel kunne vi\n",
    "beregne tiden det tar å krysse hvert veisegment ved å dele\n",
    "lengden på veisegmentet med fartsgrensen og beregne de optimale\n",
    "rutene ved å ta hensyn til fartsgrensene også som kan endre\n",
    "resultatet spesielt på lengre turer enn her.\n",
    "\n",
    "## Lagre korteste veier til disk\n",
    "\n",
    "Ganske ofte må du lagre ruten til en fil for videre analyse og\n",
    "visualiseringsformål, eller i det minste ha den som et GeoDataFrame-objekt i Python.\n",
    "La oss derfor fortsette litt til og se hvordan vi kan lage ruten til en\n",
    "linjestreng og lagre den korteste veigeometrien og relaterte attributter i en\n",
    "geopackage-fil.\n",
    "\n",
    "Først må vi få nodene som tilhører den korteste veien:"
   ]
  },
  {
   "cell_type": "code",
   "execution_count": null,
   "id": "2fdac63f",
   "metadata": {},
   "outputs": [],
   "source": [
    "# Få nodene langs den korteste veien\n",
    "route_nodes = nodes.loc[route]\n",
    "route_nodes"
   ]
  },
  {
   "cell_type": "markdown",
   "id": "7ce48fce",
   "metadata": {},
   "source": [
    "Som vi kan se, har vi nå alle nodene som var en del av den korteste veien som en GeoDataFrame.\n",
    "\n",
    "Nå kan vi lage en LineString ut av punktgeometriene til nodene:"
   ]
  },
  {
   "cell_type": "code",
   "execution_count": null,
   "id": "9eed205b",
   "metadata": {},
   "outputs": [],
   "source": [
    "import shapely.geometry\n",
    "\n",
    "# Lag en geometri for den korteste veien\n",
    "route_line = shapely.geometry.LineString(\n",
    "    list(route_nodes.geometry.values)\n",
    ")\n",
    "route_line"
   ]
  },
  {
   "cell_type": "markdown",
   "id": "9c32dcd5",
   "metadata": {},
   "source": [
    "Nå har vi ruten som en LineString-geometri.\n",
    "\n",
    "La oss lage en GeoDataFrame ut av den med litt nyttig informasjon om ruten vår,\n",
    "for eksempel en liste over osm-idene som er en del av ruten og lengden\n",
    "på ruten."
   ]
  },
  {
   "cell_type": "code",
   "execution_count": null,
   "id": "63f04eab",
   "metadata": {},
   "outputs": [],
   "source": [
    "import geopandas\n",
    "\n",
    "route_geom = geopandas.GeoDataFrame(\n",
    "    {\n",
    "        \"geometry\": [route_line],\n",
    "        \"osm_nodes\": [route],\n",
    "    },\n",
    "    crs=edges.crs\n",
    ")\n",
    "\n",
    "# Beregn rute-lengden\n",
    "route_geom[\"length_m\"] = route_geom.length\n",
    "\n",
    "route_geom.head()"
   ]
  },
  {
   "cell_type": "markdown",
   "id": "040111a5",
   "metadata": {},
   "source": [
    "Nå har vi en GeoDataFrame som vi kan lagre til disk. La oss fortsatt bekrefte at\n",
    "alt er ok ved å plotte ruten vår på toppen av gatenettverket og noen\n",
    "bygninger, og plot også opprinnelses- og målpunktene på toppen av kartet vårt.\n",
    "\n",
    "Last ned bygninger:"
   ]
  },
  {
   "cell_type": "code",
   "execution_count": null,
   "id": "04470c73",
   "metadata": {},
   "outputs": [],
   "source": [
    "bygninger = osmnx.geometries_from_place(\n",
    "    PLACE_NAME,\n",
    "    {\n",
    "        \"building\" : True\n",
    "    }\n",
    ").to_crs(edges.crs)"
   ]
  },
  {
   "cell_type": "markdown",
   "id": "02c65b01",
   "metadata": {},
   "source": [
    "La oss nå plotte ruten og gatenettverkselementene for å bekrefte at\n",
    "alt er som det skal:"
   ]
  },
  {
   "cell_type": "code",
   "execution_count": null,
   "id": "6b6c3c36",
   "metadata": {},
   "outputs": [],
   "source": [
    "import contextily\n",
    "import matplotlib.pyplot\n",
    "\n",
    "fig, ax = matplotlib.pyplot.subplots(figsize=(12,8))\n",
    "\n",
    "# Plot kanter og noder\n",
    "edges.plot(ax=ax, linewidth=0.75, color='gray')\n",
    "nodes.plot(ax=ax, markersize=2, color='gray')\n",
    "\n",
    "# Legg til bygninger\n",
    "ax = buildings.plot(ax=ax, facecolor='lightgray', alpha=0.7)\n",
    "\n",
    "# Legg til ruten\n",
    "ax = route_geom.plot(ax=ax, linewidth=2, linestyle='--', color='red')\n",
    "\n",
    "# Legg til bakgrunnskart\n",
    "contextily.add_basemap(ax, crs=buildings.crs, source=contextily.providers.CartoDB.Positron)"
   ]
  },
  {
   "cell_type": "markdown",
   "id": "8ab4fd0b",
   "metadata": {},
   "source": [
    "Flott, alt ser ut til å være i orden! Som du kan se, har vi nå full\n",
    "kontroll over alle elementene i kartet vårt, og vi kan bruke alle estetiske\n",
    "egenskaper som matplotlib gir for å endre hvordan kartet vårt vil se ut. Nå\n",
    "er vi nesten klare til å lagre dataene våre på disk.\n",
    "\n",
    "\n",
    "\n",
    "## Forbered data for lagring til fil\n",
    "\n",
    "Dataene inneholder visse datatyper (som `list`) som bør konverteres\n",
    "til tegnstrenger før du lagrer dataene til fil (et alternativ ville være\n",
    "å kaste ugyldige kolonner)."
   ]
  },
  {
   "cell_type": "code",
   "execution_count": null,
   "id": "306c6df3",
   "metadata": {},
   "outputs": [],
   "source": [
    "edges.head()"
   ]
  },
  {
   "cell_type": "code",
   "execution_count": null,
   "id": "895b46d3",
   "metadata": {},
   "outputs": [],
   "source": [
    "# Kolonner med ugyldige verdier\n",
    "problematiske_kolonner = [\n",
    "    \"osmid\",\n",
    "    \"lanes\",\n",
    "    \"name\",\n",
    "    \"highway\",\n",
    "    \"width\",\n",
    "    \"maxspeed\",\n",
    "    \"reversed\",\n",
    "    \"junction\",\n",
    "    \"bridge\",\n",
    "    \"tunnel\",\n",
    "    \"access\",\n",
    "    \"service\",\n",
    "    \n",
    "]\n",
    "\n",
    "#  konverter valgte kolonner til strengformat\n",
    "edges[problematic_columns] = edges[problematic_columns].astype(str)"
   ]
  },
  {
   "cell_type": "code",
   "execution_count": null,
   "id": "446a66cf",
   "metadata": {},
   "outputs": [],
   "source": [
    "route_geom[\"osm_nodes\"] = route_geom[\"osm_nodes\"].astype(str)"
   ]
  },
  {
   "cell_type": "markdown",
   "id": "c35f5485",
   "metadata": {},
   "source": [
    "Nå kan vi se at de fleste attributtene er av typen `object` som ganske ofte (som vår her) refererer til en datatypetype.\n",
    "\n",
    "## Lagre dataene:"
   ]
  },
  {
   "cell_type": "code",
   "execution_count": null,
   "id": "2c2fd568",
   "metadata": {},
   "outputs": [],
   "source": [
    "import pathlib\n",
    "NOTEBOOK_PATH = pathlib.Path().resolve()\n",
    "DATA_DIRECTORY = NOTEBOOK_PATH / \"data\""
   ]
  },
  {
   "cell_type": "code",
   "execution_count": null,
   "id": "df81256d",
   "metadata": {},
   "outputs": [],
   "source": [
    "# Lagre ett lag etter et annet\n",
    "output_gpkg = DATA_DIRECTORY / \"OSM_Kamppi.gpkg\"\n",
    "\n",
    "edges.to_file(output_gpkg, layer=\"streets\")\n",
    "route_geom.to_file(output_gpkg, layer=\"route\")\n",
    "nodes.to_file(output_gpkg, layer=\"nodes\")\n",
    "#bygninger[['geometry', 'name', 'addr:street']].to_file(output_gpkg, layer=\"buildings\")\n",
    "display(buildings.describe())\n",
    "display(buildings)"
   ]
  },
  {
   "cell_type": "markdown",
   "id": "6b78698a",
   "metadata": {},
   "source": [
    "Flott, nå har vi lagret alle dataene som ble brukt til å produsere kartene i en geopakke.\n",
    "\n",
    "\n",
    "\n",
    "## Videre lesing\n",
    "\n",
    "Her lærte vi hvordan man løser en enkel ruteoppgave mellom opprinnelses- og målpunkt. Hva om vi har hundrevis eller tusenvis av opprinnelser? Dette er tilfelle hvis du vil utforske reiseavstandene til en spesifikk plassering over hele byen, for eksempel når du analyserer tilgjengeligheten av jobber og tjenester (som i reisetidsmatrisedataene som ble brukt i tidligere seksjoner). \n",
    "\n",
    "Sjekk ut pyrosm-dokumentasjonen om [arbeid med grafer](https://pyrosm.readthedocs.io/en/latest/graphs.html#working-with-graphs) for mer avanserte eksempler på nettverksanalyse i python. For eksempel er [pandana](https://udst.github.io/pandana/) et raskt og effektivt python-bibliotek for å lage aggregerte nettverksanalyser på kort tid over store nettverk, og pyrosm kan brukes til å forberede inngangsdataene for en slik analyse."
   ]
  }
 ],
 "metadata": {
  "kernelspec": {
   "display_name": "Python 3 (ipykernel)",
   "language": "python",
   "name": "python3"
  },
  "language_info": {
   "codemirror_mode": {
    "name": "ipython",
    "version": 3
   },
   "file_extension": ".py",
   "mimetype": "text/x-python",
   "name": "python",
   "nbconvert_exporter": "python",
   "pygments_lexer": "ipython3",
   "version": "3.11.0"
  }
 },
 "nbformat": 4,
 "nbformat_minor": 5
}
