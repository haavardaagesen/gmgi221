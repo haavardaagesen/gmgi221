{
 "cells": [
  {
   "cell_type": "markdown",
   "id": "28f429fb",
   "metadata": {},
   "source": [
    "# Romlig kobling\n",
    "\n",
    "*Romlige koblinger* er operasjoner som kombinerer data fra to eller flere romlige datasett\n",
    "basert på deres geometriske relasjon. I de forrige delene fikk vi\n",
    "kjennskap til to spesifikke tilfeller av romlige koblinger: [Punkt-i-polygon\n",
    "spørringer](punkt_i_polygon) og [Intersect](intersect). \n",
    "\n",
    "Romlige koblingsoperasjoner krever to inngangsparametere: *predikatet*, dvs. den\n",
    "geometriske betingelsen som må oppfylles mellom to geometrier, og\n",
    "*koblings-typen*: om bare rader med matchende geometrier beholdes, eller alle radene i en\n",
    "inputtabell, eller alle radene fra begge tabellene.\n",
    "\n",
    "*Geopandas* (ved hjelp av `shapely` for å implementere geometriske forhold) [støtter et\n",
    "standard sett med geometriske\n",
    "predikater](https://geopandas.org/en/stable/docs/user_guide/mergingdata.html#binary-predicate-joins),\n",
    "som ligner de fleste GIS analyseverktøy og progammer bruker:\n",
    "\n",
    "- intersects\n",
    "- contains\n",
    "- within\n",
    "- touches\n",
    "- crosses\n",
    "- overlaps\n",
    "\n",
    "Geometriske predikater uttrykkes som verb, så de har en intuitiv\n",
    "betydning. Se [shapely bruker\n",
    "manual](https://shapely.readthedocs.io/en/stable/manual.html#binary-predicates)\n",
    "for en detaljert beskrivelse av hvert geometrisk predikat.\n",
    "\n",
    "\n",
    ":::{admonition} Binære geometriske predikater\n",
    ":class: hint\n",
    "\n",
    "Shapely støtter flere *binære geometriske predikater* enn geopandas implementerer\n",
    "for romlige koblinger. Hva er de? Kan de uttrykkes ved å kombinere de\n",
    "som allerede er implementerte?\n",
    ":::\n",
    "\n",
    "Når det gjelder *koblings-typen*, implementerer geopandas tre forskjellige alternativer:\n",
    "\n",
    "- *left*: behold alle poster av *left* data-rammen, fyll med tomme verdier hvis\n",
    "  ingen match, behold *left* geometrikolonne\n",
    "- *right*: behold alle poster av *left* data-rammen, fyll med tomme verdier hvis\n",
    "  ingen match, behold *right* geometrikolonne\n",
    "- *inner*: behold bare poster av matchende poster, behold *left* geometrikolonne\n",
    "\n",
    "![Romlige koblinger](https://pygis.io/_images/join_types.jpg)\n",
    "\n",
    ":::{tip}\n",
    "[PyGIS\n",
    "boken](https://pygis.io/docs/e_spatial_joins.html) har en god oversikt over\n",
    "romlige predikater og koblings-typer med forklarende tegninger.\n",
    ":::\n",
    "\n",
    "\n",
    "---\n",
    "\n",
    "\n",
    "## Last inn inngangsdata\n",
    "\n",
    "Som et praktisk eksempel, la oss finne befolkningstettheten på hver av\n",
    "adressene fra [tidligere i denne leksjonen](geocoding-in-geopandas), ved å kombinere\n",
    "datasettet med data fra et befolkningsnett.\n",
    "\n",
    "Befolkningsnettdata er tilgjengelig fra [HSY, Helsingforsregionens\n",
    "Miljøtjenester](https://www.hsy.fi/en/environmental-information/open-data/), for\n",
    "eksempel via deres WFS-endepunkt."
   ]
  },
  {
   "cell_type": "code",
   "execution_count": 1,
   "id": "55084c5c",
   "metadata": {},
   "outputs": [],
   "source": [
    "import pathlib \n",
    "NOTEBOOK_PATH = pathlib.Path().resolve()\n",
    "DATA_MAPPE = NOTEBOOK_PATH / \"data\""
   ]
  },
  {
   "cell_type": "markdown",
   "id": "2564c2d2",
   "metadata": {},
   "source": [
    "```{code}\n",
    "import geopandas\n",
    "\n",
    "adresser = geopandas.read_file(DATA_DIRECTORY / \"adresser.gpkg\")\n",
    "\n",
    "befolkningsnett = geopandas.read_file(\n",
    "    (\n",
    "        \"https://kartta.hsy.fi/geoserver/wfs\"\n",
    "        \"?service=wfs\"\n",
    "        \"&version=2.0.0\"\n",
    "        \"&request=GetFeature\"\n",
    "        \"&typeName=asuminen_ja_maankaytto:Vaestotietoruudukko_2020\"\n",
    "        \"&srsName=EPSG:3879\"\n",
    "    ),\n",
    ")\n",
    "befolkningsnett.crs = \"EPSG:3879\"  # for WFS data, må CRS spesifiseres manuelt\n",
    "```"
   ]
  },
  {
   "cell_type": "code",
   "execution_count": null,
   "id": "15ca61b4",
   "metadata": {
    "tags": [
     "remove-input",
     "remove-output"
    ]
   },
   "outputs": [],
   "source": [
    "import geopandas\n",
    "\n",
    "adresser = geopandas.read_file(DATA_DIRECTORY / \"adresser.gpkg\")\n",
    "\n",
    "befolkningsnett = geopandas.read_file(\n",
    "    \"https://avoidatastr.blob.core.windows.net/avoindata/AvoinData/\"\n",
    "    \"6_Asuminen/Vaestotietoruudukko/Shp/Vaestotietoruudukko_2021_shp.zip\"\n",
    ")\n",
    "befolkningsnett = (\n",
    "    befolkningsnett[[\"ASUKKAITA\", \"geometri\"]]\n",
    "    .rename(columns={\"ASUKKAITA\": \"asukkaita\"})\n",
    ")"
   ]
  },
  {
   "cell_type": "markdown",
   "id": "83ad21ce",
   "metadata": {},
   "source": [
    ":::{admonition} Sammenkjede lange strenger\n",
    ":class: note\n",
    "\n",
    "I WFS-adressen ovenfor delte vi en lang streng over flere linjer. Strenger\n",
    "mellom parenteser blir automatisk sammenkjedet (satt sammen), selv\n",
    "uten noen operator (f.eks., `+`).\n",
    "\n",
    "For klarhetens skyld har eksempelet en ekstra sett med parenteser, men\n",
    "allerede parentesene til metodekallet ville være tilstrekkelig.\n",
    ":::\n",
    "\n",
    "\n",
    "---"
   ]
  },
  {
   "cell_type": "code",
   "execution_count": null,
   "id": "57acb2e8",
   "metadata": {},
   "outputs": [],
   "source": [
    "befolkningsnett.head()"
   ]
  },
  {
   "cell_type": "markdown",
   "id": "6ef77ee1",
   "metadata": {},
   "source": [
    "Befolkningsnettet har mange kolonner, og alle kolonnenavnene er på\n",
    "finsk. La oss fjerne (slette) alle kolonnene bortsett fra befolkningstotalen,\n",
    "og gi de gjenværende engelske navn:"
   ]
  },
  {
   "cell_type": "code",
   "execution_count": null,
   "id": "fd87113e",
   "metadata": {},
   "outputs": [],
   "source": [
    "befolkningsnett = befolkningsnett[[\"asukkaita\", \"geometri\"]]\n",
    "befolkningsnett = befolkningsnett.rename(columns={\"asukkaita\": \"population\"})"
   ]
  },
  {
   "cell_type": "markdown",
   "id": "20f6bbd4",
   "metadata": {},
   "source": [
    "Til slutt, beregn befolkningstettheten ved å dele antall innbyggere\n",
    "av hver rutenettcelle med arealet i km²:"
   ]
  },
  {
   "cell_type": "code",
   "execution_count": null,
   "id": "ccbce934",
   "metadata": {},
   "outputs": [],
   "source": [
    "befolkningsnett[\"population_density\"] = (\n",
    "    befolkningsnett[\"population\"]\n",
    "    / (befolkningsnett.area / 1_000_000)\n",
    ")\n",
    "befolkningsnett.head()"
   ]
  },
  {
   "cell_type": "markdown",
   "id": "5c45e4a2",
   "metadata": {},
   "source": [
    ":::{admonition} Koding stil: store tall, operatorer i flerlinjeuttrykk\n",
    ":class: tip\n",
    "\n",
    "Hvis du trenger å bruke veldig store tall, for eksempel, i eksempelet ovenfor, *1\n",
    "million* for å konvertere m² til km², kan du bruke understrekingskarakterer (`_`) som\n",
    "tusenvis separatorer. Python-tolkeren vil behandle en sekvens av tall\n",
    "sammenvevd med understrekinger som en vanlig numerisk verdi.\n",
    "[Du kan bruke samme syntaks for å gruppere\n",
    "tall](https://peps.python.org/pep-0515/) etter en annen logikk, for eksempel,\n",
    "for å gruppere heksadesimale eller binære verdier i grupper av fire.\n",
    "\n",
    "I tilfelle et uttrykk, for eksempel, en matematisk formel, sprer seg over\n",
    "flere linjer, anses det for å være god koding stil å plassere en operator i\n",
    "begynnelsen av en ny linje, i stedet for å la den hale i den forrige linjen. Dette er\n",
    "anses som mer lesbart, som forklart i [PEP-8 styling\n",
    "retningslinjer](https://peps.python.org/pep-0008/#should-a-line-break-before-or-after-a-binary-operator)\n",
    ":::\n",
    "\n",
    "\n",
    "---\n",
    "\n",
    "## Join inngangslagene\n",
    "\n",
    "\n",
    "Nå er vi klare til å utføre den romlige joinen mellom de to lagene.\n",
    "Husk: målet er å finne befolkningstettheten rundt hver av adressene\n",
    "punktene. Vi ønsker å knytte befolkningstetthetsinformasjon fra\n",
    "`befolkningsnett` polygonlag til `adresser` punktlag, avhengig av\n",
    "om **punktet er innenfor polygonen**. Under denne operasjonen ønsker vi å\n",
    "**beholde geometriene til punktlaget**.\n",
    "\n",
    "Før vi kan fortsette med join-operasjonen, må vi sørge for at de to\n",
    "lagene er i det samme kartografiske referansesystemet:"
   ]
  },
  {
   "cell_type": "code",
   "execution_count": null,
   "id": "f8dabc88",
   "metadata": {
    "tags": [
     "raises-exception"
    ]
   },
   "outputs": [],
   "source": [
    "assert adresser.crs == befolkningsnett.crs, \"CRS er ikke identiske\""
   ]
  },
  {
   "cell_type": "markdown",
   "id": "8b26bec7",
   "metadata": {},
   "source": [
    "De deler ikke samme CRS, la oss reprojisere en av dem:"
   ]
  },
  {
   "cell_type": "code",
   "execution_count": null,
   "id": "f32e6dbb",
   "metadata": {},
   "outputs": [],
   "source": [
    "befolkningsnett = befolkningsnett.to_crs(adresser.crs)"
   ]
  },
  {
   "cell_type": "markdown",
   "id": "0d137bd7",
   "metadata": {},
   "source": [
    "Nå er vi klare til å utføre den faktiske romlige joinen ved hjelp av\n",
    "[`geopandas.GeoDataFrame.sjoin()`](https://geopandas.org/en/stable/docs/reference/api/geopandas.GeoDataFrame.sjoin.html)\n",
    "metoden. Husk, vi ønsker å bruke et *within* geometrisk predikat og beholde\n",
    "punktlagets geometrier (i eksempelet nedenfor er *left* data-rammen)."
   ]
  },
  {
   "cell_type": "code",
   "execution_count": null,
   "id": "5d42945c",
   "metadata": {},
   "outputs": [],
   "source": [
    "adresser_med_befolkningsdata = adresser.sjoin(\n",
    "    befolkningsnett,\n",
    "    how=\"left\",\n",
    "    predicate=\"within\"\n",
    ")\n",
    "adresser_med_befolkningsdata.head()"
   ]
  },
  {
   "cell_type": "markdown",
   "id": "2fd77722",
   "metadata": {},
   "source": [
    "Det ser flott ut! Vi har nå et adresse datasett med befolkningstetthets\n",
    "informasjon knyttet til det. \n",
    "\n",
    "\n",
    "---\n",
    "\n",
    "\n",
    "Som en endelig oppgave, la oss se på hvordan du kan plotte data ved hjelp av en *gradert*\n",
    "kartografisk visualiseringsskjema. \n",
    "\n",
    "`geopandas.GeoDataFrame.plot()` metoden kan variere kartfargene avhengig av en kolonnes verdier ved å sende inn navnet som et navngitt argument `column`. I tillegg til det, aksepterer metoden mange argumenter for å påvirke stilen på kartet. Blant dem er `scheme` og `cmap` som definerer [kategoriseringsskjemaet](https://geopandas.org/en/stable/gallery/choropleths.html), og [fargekartet](https://matplotlib.org/stable/tutorials/colors/colormaps.html) som brukes. Mange flere argumenter sendes gjennom til `matplotlib`, som `markersize` for å sette størrelsen på punktsymboler, og `facecolor` for å sette fargen på polygonområder. For å tegne en legend, sett `legend` til `True`, for å sette størrelsen på figuren, send inn en tuple (med verdier i tommer) som `figsize`."
   ]
  },
  {
   "cell_type": "code",
   "execution_count": null,
   "id": "d4205b50",
   "metadata": {},
   "outputs": [],
   "source": [
    "ax = adresser_med_befolkningsdata.plot(\n",
    "    figsize=(10, 10),\n",
    "    column=\"population_density\",\n",
    "    cmap=\"Reds\",\n",
    "    scheme=\"quantiles\",\n",
    "    markersize=15,\n",
    "    legend=True\n",
    ")\n",
    "ax.set_title(\"Befolkningstetthet rundt adressepunktene\")"
   ]
  },
  {
   "cell_type": "markdown",
   "id": "730f744a",
   "metadata": {},
   "source": [
    "---\n",
    "\n",
    "Vi kan bruke de samme argumentene for å plotte et befolkningstetthetskart ved hjelp av\n",
    "hele `befolkningsnett` datasettet:"
   ]
  },
  {
   "cell_type": "code",
   "execution_count": null,
   "id": "b1b985a9",
   "metadata": {},
   "outputs": [],
   "source": [
    "ax = befolkningsnett.plot(\n",
    "    figsize=(10, 10),\n",
    "    column=\"population_density\",\n",
    "    cmap=\"Reds\",\n",
    "    scheme=\"quantiles\",\n",
    "    legend=True\n",
    ")\n",
    "ax.set_title(\"Befolkningstetthet i Helsingfors storbyområde\")\n"
   ]
  },
  {
   "cell_type": "markdown",
   "id": "eb3eba11",
   "metadata": {},
   "source": [
    "---\n",
    "\n",
    "\n",
    "Til slutt, husk å lagre output data-rammen til en fil. Vi kan legge den til\n",
    "den eksisterende *GeoPackage* ved å spesifisere et nytt lag navn:"
   ]
  },
  {
   "cell_type": "code",
   "execution_count": null,
   "id": "0d0c76c1",
   "metadata": {},
   "outputs": [],
   "source": [
    "adresser_med_befolkningsdata.to_file(\n",
    "    DATA_DIRECTORY / \"adresser.gpkg\",\n",
    "    layer=\"adresser_med_befolkningsdata\"\n",
    ")\n"
   ]
  }
 ],
 "metadata": {
  "kernelspec": {
   "display_name": "Python 3 (ipykernel)",
   "language": "python",
   "name": "python3"
  },
  "language_info": {
   "codemirror_mode": {
    "name": "ipython",
    "version": 3
   },
   "file_extension": ".py",
   "mimetype": "text/x-python",
   "name": "python",
   "nbconvert_exporter": "python",
   "pygments_lexer": "ipython3",
   "version": "3.11.0"
  }
 },
 "nbformat": 4,
 "nbformat_minor": 5
}
