{
 "cells": [
  {
   "cell_type": "markdown",
   "id": "8684bb9d",
   "metadata": {},
   "source": [
    "# Geokoding i geopandas\n",
    "\n",
    "Geopandas støtter geokoding via et bibliotek kalt\n",
    "[geopy](http://geopy.readthedocs.io/), som må være installert for å bruke\n",
    "[geopandas ' `geopandas.tools.geocode()`\n",
    "funksjon](https://geopandas.org/en/stable/docs/reference/api/geopandas.tools.geocode.html).\n",
    "`geocode()` forventer en `liste` eller `pandas.Series` av adresser (strenger) og\n",
    "returnerer en `GeoDataFrame` med løste adresser og punktgeometrier.\n",
    "\n",
    "La oss prøve dette ut.\n",
    "\n",
    "Vi vil geokode adresser lagret i en semikolon-separert tekstfil kalt\n",
    "`adresser.txt`. Disse adressene ligger i alle i Oslo."
   ]
  },
  {
   "cell_type": "code",
   "execution_count": 1,
   "id": "ca6ab35e",
   "metadata": {},
   "outputs": [],
   "source": [
    "import pathlib\n",
    "NOTEBOOK_PATH = pathlib.Path().resolve()\n",
    "DATA_MAPPE = NOTEBOOK_PATH / \"data\""
   ]
  },
  {
   "cell_type": "code",
   "execution_count": 2,
   "id": "cbb3191e",
   "metadata": {},
   "outputs": [
    {
     "data": {
      "text/html": [
       "<div>\n",
       "<style scoped>\n",
       "    .dataframe tbody tr th:only-of-type {\n",
       "        vertical-align: middle;\n",
       "    }\n",
       "\n",
       "    .dataframe tbody tr th {\n",
       "        vertical-align: top;\n",
       "    }\n",
       "\n",
       "    .dataframe thead th {\n",
       "        text-align: right;\n",
       "    }\n",
       "</style>\n",
       "<table border=\"1\" class=\"dataframe\">\n",
       "  <thead>\n",
       "    <tr style=\"text-align: right;\">\n",
       "      <th></th>\n",
       "      <th>id</th>\n",
       "      <th>adr</th>\n",
       "    </tr>\n",
       "  </thead>\n",
       "  <tbody>\n",
       "    <tr>\n",
       "      <th>0</th>\n",
       "      <td>100</td>\n",
       "      <td>Statsråd Mathisens vei 25, 0594 OSLO</td>\n",
       "    </tr>\n",
       "    <tr>\n",
       "      <th>1</th>\n",
       "      <td>101</td>\n",
       "      <td>Slimeveien 15 - 17, 1275 OSLO</td>\n",
       "    </tr>\n",
       "    <tr>\n",
       "      <th>2</th>\n",
       "      <td>102</td>\n",
       "      <td>Sognsveien 80, 0855 OSLO</td>\n",
       "    </tr>\n",
       "    <tr>\n",
       "      <th>3</th>\n",
       "      <td>103</td>\n",
       "      <td>Ullevålsveien 5, 0165 OSLO</td>\n",
       "    </tr>\n",
       "    <tr>\n",
       "      <th>4</th>\n",
       "      <td>104</td>\n",
       "      <td>Nydalsveien 30b, 0484 OSLO</td>\n",
       "    </tr>\n",
       "  </tbody>\n",
       "</table>\n",
       "</div>"
      ],
      "text/plain": [
       "    id                                    adr\n",
       "0  100   Statsråd Mathisens vei 25, 0594 OSLO\n",
       "1  101          Slimeveien 15 - 17, 1275 OSLO\n",
       "2  102               Sognsveien 80, 0855 OSLO\n",
       "3  103             Ullevålsveien 5, 0165 OSLO\n",
       "4  104             Nydalsveien 30b, 0484 OSLO"
      ]
     },
     "execution_count": 2,
     "metadata": {},
     "output_type": "execute_result"
    }
   ],
   "source": [
    "import pandas\n",
    "adresser = pandas.read_csv(\n",
    "    DATA_MAPPE / \"oslo_adresser\" / \"adresser.txt\",\n",
    "    sep=\";\"\n",
    ")\n",
    "\n",
    "adresser.head()"
   ]
  },
  {
   "cell_type": "markdown",
   "id": "83aea158",
   "metadata": {},
   "source": [
    "Vi har en `id` for hver rad og en adresse i `adr` kolonnen.\n",
    "\n",
    "\n",
    "## Geokode adresser ved hjelp av *Nominatim*\n",
    "\n",
    "I vårt eksempel vil vi bruke *Nominatim* som en *geokodingstilbyder*. [*Nominatim*](https://nominatim.org/) er et bibliotek og en tjeneste som bruker OpenStreetMap-data, og drives av OpenStreetMap Foundation. Geopandas '\n",
    "[`geocode()`\n",
    "funksjon](https://geopandas.org/en/stable/docs/reference/api/geopandas.tools.geocode.html) støtter den innebygd.\n",
    "\n",
    ":::{admonition} God bruk\n",
    ":class: note\n",
    "\n",
    "[Nominatims brukervilkår](https://operations.osmfoundation.org/policies/nominatim/)\n",
    "krever at brukere av tjenesten sørger for at de ikke sender mer hyppige\n",
    "forespørsler enn en per sekund, og at en tilpasset **bruker-agent** streng er\n",
    "knyttet til hver forespørsel.\n",
    "\n",
    "Geopandas' implementering lar oss spesifisere en `user_agent`; biblioteket tar også\n",
    "hånd om å respektere hastighetsbegrensningen til Nominatim.\n",
    "\n",
    "Å slå opp en adresse er en ganske kostbar databaseoperasjon. Derfor er det,\n",
    "noen ganger, den offentlige og gratise Nominatim-serveren bruker litt lenger tid å på\n",
    "svare. I dette eksempelet legger vi til en parameter `timeout=10` for å vente opptil 10\n",
    "sekunder for et svar.\n",
    ":::"
   ]
  },
  {
   "cell_type": "code",
   "execution_count": 3,
   "id": "0b593bb7",
   "metadata": {},
   "outputs": [
    {
     "ename": "KeyError",
     "evalue": "'adr'",
     "output_type": "error",
     "traceback": [
      "\u001b[0;31m---------------------------------------------------------------------------\u001b[0m",
      "\u001b[0;31mKeyError\u001b[0m                                  Traceback (most recent call last)",
      "File \u001b[0;32m~/anaconda3/envs/py311/lib/python3.11/site-packages/pandas/core/indexes/base.py:3653\u001b[0m, in \u001b[0;36mIndex.get_loc\u001b[0;34m(self, key)\u001b[0m\n\u001b[1;32m   3652\u001b[0m \u001b[38;5;28;01mtry\u001b[39;00m:\n\u001b[0;32m-> 3653\u001b[0m     \u001b[38;5;28;01mreturn\u001b[39;00m \u001b[38;5;28mself\u001b[39m\u001b[38;5;241m.\u001b[39m_engine\u001b[38;5;241m.\u001b[39mget_loc(casted_key)\n\u001b[1;32m   3654\u001b[0m \u001b[38;5;28;01mexcept\u001b[39;00m \u001b[38;5;167;01mKeyError\u001b[39;00m \u001b[38;5;28;01mas\u001b[39;00m err:\n",
      "File \u001b[0;32m~/anaconda3/envs/py311/lib/python3.11/site-packages/pandas/_libs/index.pyx:147\u001b[0m, in \u001b[0;36mpandas._libs.index.IndexEngine.get_loc\u001b[0;34m()\u001b[0m\n",
      "File \u001b[0;32m~/anaconda3/envs/py311/lib/python3.11/site-packages/pandas/_libs/index.pyx:176\u001b[0m, in \u001b[0;36mpandas._libs.index.IndexEngine.get_loc\u001b[0;34m()\u001b[0m\n",
      "File \u001b[0;32mpandas/_libs/hashtable_class_helper.pxi:7080\u001b[0m, in \u001b[0;36mpandas._libs.hashtable.PyObjectHashTable.get_item\u001b[0;34m()\u001b[0m\n",
      "File \u001b[0;32mpandas/_libs/hashtable_class_helper.pxi:7088\u001b[0m, in \u001b[0;36mpandas._libs.hashtable.PyObjectHashTable.get_item\u001b[0;34m()\u001b[0m\n",
      "\u001b[0;31mKeyError\u001b[0m: 'adr'",
      "\nThe above exception was the direct cause of the following exception:\n",
      "\u001b[0;31mKeyError\u001b[0m                                  Traceback (most recent call last)",
      "Cell \u001b[0;32mIn[3], line 4\u001b[0m\n\u001b[1;32m      1\u001b[0m \u001b[38;5;28;01mimport\u001b[39;00m \u001b[38;5;21;01mgeopandas\u001b[39;00m\n\u001b[1;32m      3\u001b[0m geokodede_adresser \u001b[38;5;241m=\u001b[39m geopandas\u001b[38;5;241m.\u001b[39mtools\u001b[38;5;241m.\u001b[39mgeocode(\n\u001b[0;32m----> 4\u001b[0m     adresser[\u001b[38;5;124m\"\u001b[39m\u001b[38;5;124madr\u001b[39m\u001b[38;5;124m\"\u001b[39m],\n\u001b[1;32m      5\u001b[0m     provider\u001b[38;5;241m=\u001b[39m\u001b[38;5;124m\"\u001b[39m\u001b[38;5;124mnominatim\u001b[39m\u001b[38;5;124m\"\u001b[39m,\n\u001b[1;32m      6\u001b[0m     user_agent\u001b[38;5;241m=\u001b[39m\u001b[38;5;124m\"\u001b[39m\u001b[38;5;124mgmgi221\u001b[39m\u001b[38;5;124m\"\u001b[39m,\n\u001b[1;32m      7\u001b[0m     timeout\u001b[38;5;241m=\u001b[39m\u001b[38;5;241m10\u001b[39m\n\u001b[1;32m      8\u001b[0m )\n\u001b[1;32m      9\u001b[0m geokoded_adresser\u001b[38;5;241m.\u001b[39mhead()\n",
      "File \u001b[0;32m~/anaconda3/envs/py311/lib/python3.11/site-packages/pandas/core/frame.py:3761\u001b[0m, in \u001b[0;36mDataFrame.__getitem__\u001b[0;34m(self, key)\u001b[0m\n\u001b[1;32m   3759\u001b[0m \u001b[38;5;28;01mif\u001b[39;00m \u001b[38;5;28mself\u001b[39m\u001b[38;5;241m.\u001b[39mcolumns\u001b[38;5;241m.\u001b[39mnlevels \u001b[38;5;241m>\u001b[39m \u001b[38;5;241m1\u001b[39m:\n\u001b[1;32m   3760\u001b[0m     \u001b[38;5;28;01mreturn\u001b[39;00m \u001b[38;5;28mself\u001b[39m\u001b[38;5;241m.\u001b[39m_getitem_multilevel(key)\n\u001b[0;32m-> 3761\u001b[0m indexer \u001b[38;5;241m=\u001b[39m \u001b[38;5;28mself\u001b[39m\u001b[38;5;241m.\u001b[39mcolumns\u001b[38;5;241m.\u001b[39mget_loc(key)\n\u001b[1;32m   3762\u001b[0m \u001b[38;5;28;01mif\u001b[39;00m is_integer(indexer):\n\u001b[1;32m   3763\u001b[0m     indexer \u001b[38;5;241m=\u001b[39m [indexer]\n",
      "File \u001b[0;32m~/anaconda3/envs/py311/lib/python3.11/site-packages/pandas/core/indexes/base.py:3655\u001b[0m, in \u001b[0;36mIndex.get_loc\u001b[0;34m(self, key)\u001b[0m\n\u001b[1;32m   3653\u001b[0m     \u001b[38;5;28;01mreturn\u001b[39;00m \u001b[38;5;28mself\u001b[39m\u001b[38;5;241m.\u001b[39m_engine\u001b[38;5;241m.\u001b[39mget_loc(casted_key)\n\u001b[1;32m   3654\u001b[0m \u001b[38;5;28;01mexcept\u001b[39;00m \u001b[38;5;167;01mKeyError\u001b[39;00m \u001b[38;5;28;01mas\u001b[39;00m err:\n\u001b[0;32m-> 3655\u001b[0m     \u001b[38;5;28;01mraise\u001b[39;00m \u001b[38;5;167;01mKeyError\u001b[39;00m(key) \u001b[38;5;28;01mfrom\u001b[39;00m \u001b[38;5;21;01merr\u001b[39;00m\n\u001b[1;32m   3656\u001b[0m \u001b[38;5;28;01mexcept\u001b[39;00m \u001b[38;5;167;01mTypeError\u001b[39;00m:\n\u001b[1;32m   3657\u001b[0m     \u001b[38;5;66;03m# If we have a listlike key, _check_indexing_error will raise\u001b[39;00m\n\u001b[1;32m   3658\u001b[0m     \u001b[38;5;66;03m#  InvalidIndexError. Otherwise we fall through and re-raise\u001b[39;00m\n\u001b[1;32m   3659\u001b[0m     \u001b[38;5;66;03m#  the TypeError.\u001b[39;00m\n\u001b[1;32m   3660\u001b[0m     \u001b[38;5;28mself\u001b[39m\u001b[38;5;241m.\u001b[39m_check_indexing_error(key)\n",
      "\u001b[0;31mKeyError\u001b[0m: 'adr'"
     ]
    }
   ],
   "source": [
    "import geopandas\n",
    "\n",
    "geokodede_adresser = geopandas.tools.geocode(\n",
    "    adresser[\"adr\"],\n",
    "    provider=\"nominatim\",\n",
    "    user_agent=\"gmgi221\",\n",
    "    timeout=10\n",
    ")\n",
    "geokoded_adresser.head()"
   ]
  },
  {
   "cell_type": "markdown",
   "id": "1b52ec03",
   "metadata": {},
   "source": [
    "Et voilà! Som et resultat mottok vi en `GeoDataFrame` som inneholder en analysert\n",
    "versjon av våre originale adresser og en `geometry` kolonne av\n",
    "`shapely.geometry.Point`s som vi kan bruke, for eksempel, for å eksportere dataene til\n",
    "et geospatialt dataformat.\n",
    "\n",
    "Imidlertid ble `id`-kolonnen forkastet i prosessen. For å kombinere input\n",
    "datasettet med resultatsettet vårt, kan vi bruke pandas' [*join*\n",
    "operasjoner](https://pandas.pydata.org/docs/user_guide/merging.html).\n",
    "\n",
    "\n",
    "## Bli med i data frames\n",
    "\n",
    ":::{admonition} Bli med i datasett ved hjelp av pandas\n",
    ":class: note\n",
    "\n",
    "For en omfattende oversikt over forskjellige måter å kombinere data rammer og\n",
    "Serier basert på sett teori, ta en titt på pandas dokumentasjon om [merge,\n",
    "join og\n",
    "concatenate](https://pandas.pydata.org/pandas-docs/stable/user_guide/merging.html).\n",
    ":::\n",
    "\n",
    "\n",
    "Å bli med data fra to eller flere data frames eller tabeller er en vanlig oppgave i mange\n",
    "(romlige) dataanalysearbeidsflyter. Som du kanskje husker fra våre tidligere\n",
    "leksjoner, kan kombinering av data fra forskjellige tabeller basert på felles **nøkkel** attributt\n",
    "gjøres enkelt i pandas/geopandas ved hjelp av [`merge()`\n",
    "funksjonen](https://pandas.pydata.org/pandas-docs/stable/generated/pandas.DataFrame.merge.html).\n",
    "Vi brukte denne tilnærmingen i [øvelse 6 i Geo-Python\n",
    "kurset](https://geo-python-site.readthedocs.io/en/latest/lessons/L6/exercise-6.html#joining-data-from-one-dataframe-to-another).\n",
    "\n",
    "Men, noen ganger er det nyttig å bli med to data frames sammen basert på deres\n",
    "**indeks**. Data frames må ha **samme antall poster** og\n",
    "**dele den samme indeksen** (enkelt sagt, de skal ha samme rekkefølge av rader).\n",
    "\n",
    "Vi kan bruke denne tilnærmingen, her, for å bli med informasjon fra den originale data\n",
    "rammen `addresses` til de geokodede adressene `geocoded_addresses`, rad for rad.\n",
    "`join()`-funksjonen, som standard, blir med to data frames basert på indeksen deres.\n",
    "Dette fungerer korrekt for eksemplet vårt, da rekkefølgen på de to data frames er\n",
    "identisk."
   ]
  },
  {
   "cell_type": "code",
   "execution_count": null,
   "id": "20d02f02",
   "metadata": {},
   "outputs": [],
   "source": [
    "geocoded_addresses_with_id = geocoded_addresses.join(addresses)\n",
    "geocoded_addresses_with_id"
   ]
  },
  {
   "cell_type": "markdown",
   "id": "5a1cc532",
   "metadata": {},
   "source": [
    "Utdataen fra `join()` er en ny `geopandas.GeoDataFrame`:"
   ]
  },
  {
   "cell_type": "code",
   "execution_count": null,
   "id": "c8f525c6",
   "metadata": {},
   "outputs": [],
   "source": [
    "type(geocoded_addresses_with_id)"
   ]
  },
  {
   "cell_type": "markdown",
   "id": "ed1a5b79",
   "metadata": {},
   "source": [
    "Den nye data rammen har alle originale kolonner pluss nye kolonner for `geometry`\n",
    "og for en analysert `adresse` som kan brukes til å spot-sjekke resultatene.\n",
    "\n",
    ":::{note}\n",
    "Hvis du skulle gjøre join den andre veien, dvs. `addresses.join(geocoded_addresses)`, ville utdata være en `pandas.DataFrame`, ikke en `geopandas.GeoDataFrame`.\n",
    ":::\n",
    "\n",
    "\n",
    "---\n",
    "\n",
    "\n",
    "Det er nå enkelt å lagre det nye datasettet som en geospatial fil, for eksempel, i\n",
    "*GeoPackage* format:"
   ]
  },
  {
   "cell_type": "code",
   "execution_count": null,
   "id": "037e6330",
   "metadata": {
    "tags": [
     "remove-input",
     "remove-output"
    ]
   },
   "outputs": [],
   "source": [
    "# slett en muligens eksisterende fil, da den skaper\n",
    "# problemer i tilfelle sphinx kjøres gjentatte ganger\n",
    "try:\n",
    "    (DATA_DIRECTORY / \"addresses.gpkg\").unlink()\n",
    "except FileNotFoundError:\n",
    "    pass"
   ]
  },
  {
   "cell_type": "code",
   "execution_count": null,
   "id": "89fee980",
   "metadata": {},
   "outputs": [],
   "source": [
    "geocoded_addresses.to_file(DATA_DIRECTORY / \"addresses.gpkg\")"
   ]
  }
 ],
 "metadata": {
  "kernelspec": {
   "display_name": "Python 3 (ipykernel)",
   "language": "python",
   "name": "python3"
  },
  "language_info": {
   "codemirror_mode": {
    "name": "ipython",
    "version": 3
   },
   "file_extension": ".py",
   "mimetype": "text/x-python",
   "name": "python",
   "nbconvert_exporter": "python",
   "pygments_lexer": "ipython3",
   "version": "3.11.0"
  }
 },
 "nbformat": 4,
 "nbformat_minor": 5
}
