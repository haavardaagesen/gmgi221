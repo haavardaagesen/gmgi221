{
 "cells": [
  {
   "cell_type": "markdown",
   "id": "a9a47bab",
   "metadata": {},
   "source": [
    "# Kryss\n",
    "\n",
    "Liknende de romlige forholdene `within` og `contains` som ble dekket i [forrige seksjon](point-in-polygon-queries), stiller en annen vanlig geospatial forespørsel om to geometrier krysser eller berører.\n",
    "\n",
    "Begge spørringene er implementert i `shapely`:\n",
    "- [`intersects()`](https://shapely.readthedocs.io/en/stable/manual.html#object.intersects): to objekter krysser hvis grensen eller innsiden av et objekt krysser på noen måte med grensen eller innsiden av det andre objektet.\n",
    "- [`touches()`](https://shapely.readthedocs.io/en/stable/manual.html#object.touches): to objekter berører hvis objektene har minst ett punkt felles, men innsidene deres krysser ikke med noen del av det andre objektet.\n",
    "\n",
    "La oss prøve disse funksjonene ut, for eksempel ved å bruke to linjer:"
   ]
  },
  {
   "cell_type": "code",
   "execution_count": null,
   "id": "d9e03223",
   "metadata": {},
   "outputs": [],
   "source": [
    "import shapely.geometry\n",
    "\n",
    "line1 = shapely.geometry.LineString([(0, 0), (1, 1)])\n",
    "line2 = shapely.geometry.LineString([(1, 1), (0, 2)])"
   ]
  },
  {
   "cell_type": "code",
   "execution_count": null,
   "id": "d7230197",
   "metadata": {},
   "outputs": [],
   "source": [
    "line1.intersects(line2)"
   ]
  },
  {
   "cell_type": "markdown",
   "id": "81a11872",
   "metadata": {},
   "source": [
    "Linjene krysser. Berører de også?"
   ]
  },
  {
   "cell_type": "code",
   "execution_count": null,
   "id": "7ddd1a10",
   "metadata": {},
   "outputs": [],
   "source": [
    "line1.touches(line2)"
   ]
  },
  {
   "cell_type": "markdown",
   "id": "4f0d5680",
   "metadata": {},
   "source": [
    "`line1` berører `line2`. Ved å legge dem begge til en multi-linje er en rask måte å\n",
    "tegne dem inne i en Jupyter-notatbok:"
   ]
  },
  {
   "cell_type": "code",
   "execution_count": null,
   "id": "75b5262a",
   "metadata": {},
   "outputs": [],
   "source": [
    "shapely.geometry.MultiLineString([line1, line2])"
   ]
  },
  {
   "cell_type": "markdown",
   "id": "ac512cda",
   "metadata": {},
   "source": [
    "Vi kan se her, at de deler punktet `(1, 1)`, der `line1` slutter, og\n",
    "`line2` begynner. De to linjene krysser ikke ellers (‘i deres indre’),\n",
    "så spådommet ’`touch()`’ - som definert ovenfor - er sant.\n",
    "\n",
    "Hvis linjene skulle dele noe av innsiden deres, ville det ikke bli regnet som\n",
    "berøring. For eksempel, `line1` berører ikke `line1` (seg selv), men oppfyller\n",
    "alle krav for å bli regnet som `intersect()`ing med seg selv:"
   ]
  },
  {
   "cell_type": "code",
   "execution_count": null,
   "id": "fd89e385",
   "metadata": {},
   "outputs": [],
   "source": [
    "line1.touches(line1)"
   ]
  },
  {
   "cell_type": "code",
   "execution_count": null,
   "id": "9bf5948c",
   "metadata": {},
   "outputs": [],
   "source": [
    "line1.intersects(line1)"
   ]
  }
 ],
 "metadata": {
  "kernelspec": {
   "display_name": "Python 3 (ipykernel)",
   "language": "python",
   "name": "python3"
  }
 },
 "nbformat": 4,
 "nbformat_minor": 5
}
