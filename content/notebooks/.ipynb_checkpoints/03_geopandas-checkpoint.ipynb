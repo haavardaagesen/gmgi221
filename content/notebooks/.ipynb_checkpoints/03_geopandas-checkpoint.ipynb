{
 "cells": [
  {
   "cell_type": "markdown",
   "id": "2b74d3b0",
   "metadata": {},
   "source": [
    "# Geopandas: en introduksjon\n",
    "\n",
    "I denne seksjonen vil vi dekke det grunnleggende med *geopandas*, et Python-bibliotek for\n",
    "å samhandle med geospatial vektordata.\n",
    "\n",
    "[Geopandas](https://geopandas.org/) gir et brukervennlig grensesnitt til vektordatasett. Det kombinerer mulighetene til *pandas*, datapakkene\n",
    "vi ble kjent med i [Geo-Python\n",
    "kurset](https://geo-python-site.readthedocs.io/en/latest/lessons/L5/pandas-overview.html),\n",
    "med geometrikapabilitetene til\n",
    "[shapely](../lesson-1/geometry-objects), [geospatial-filformateringstøtte\n",
    "fra fiona](vector-data-io) og [kartprojeksjonsbibliotekene til\n",
    "pyproj](map-projections).\n",
    "\n",
    "Hoveddatastrukturene i geopandas er `GeoDataFrame`s og `GeoSeries`. De\n",
    "utvider funksjonaliteten til `pandas.DataFrame`s og `pandas.Series`. Dette betyr\n",
    "at **vi kan bruke alle våre *pandas* ferdigheter også når vi jobber med\n",
    "*geopandas*!**. \n",
    "\n",
    ":::{tip}\n",
    "\n",
    "Hvis du føler at du trenger å oppfriske hukommelsen om pandas, gå tilbake til\n",
    "[leksjon\n",
    "5](https://geo-python-site.readthedocs.io/en/latest/lessons/L5/pandas-overview.html)\n",
    "og [leksjon\n",
    "6](https://geo-python-site.readthedocs.io/en/latest/notebooks/L6/advanced-data-processing-with-pandas.html)\n",
    "av Geo-Python.\n",
    ":::\n",
    "\n",
    "Det er en nøkkelforskjell mellom pandas data rammer og geopandas\n",
    "[`GeoDataFrame`s](https://geopandas.org/en/stable/docs/user_guide/data_structures.html#geodataframe):\n",
    "en `GeoDataFrame` inneholder en ekstra kolonne for geometrier. Som standard er\n",
    "navnet på denne kolonnen `geometry`, og det er en\n",
    "[`GeoSeries`](https://geopandas.org/en/stable/docs/user_guide/data_structures.html#geoseries)\n",
    "som inneholder geometrier (punkter, linjer, polygoner, ...) som\n",
    "`shapely.geometry` objekter."
   ]
  },
  {
   "cell_type": "code",
   "execution_count": null,
   "id": "746d2668",
   "metadata": {
    "tags": [
     "remove-input"
    ]
   },
   "outputs": [],
   "source": [
    "import pathlib\n",
    "import geopandas\n",
    "import numpy\n",
    "import pandas\n",
    "\n",
    "DATA_DIRECTORY = pathlib.Path().resolve() / \"data\"\n",
    "\n",
    "HIGHLIGHT_STYLE = \"background: #f66161;\"\n",
    "\n",
    "# så følgende blokk er litt dårlig magi for å få tabellutdataen til å se\n",
    "# fin ut (denne cellen er skjult, vi er bare interessert i en kort tabellisting\n",
    "# der geometrikolonnen er fremhevet).\n",
    "#\n",
    "# For dette, vi\n",
    "#    1. konverterer geopandas tilbake til en ‘normal’ pandas.DataFrame med en forkortet\n",
    "#       WKT-streng i geometrikolonnen\n",
    "#    1b. samtidig som vi gjør det, blir vi kvitt de fleste av kolonnene (gir de gjenværende kolonner nye navn)\n",
    "#    2. bruker stilen på alle celler i kolonnen \"geometry\", og til aksen-1-indeksen \"geometry\"\n",
    "\n",
    "# Hvorfor gikk jeg via en ‘plain’ `pandas.DataFrame`?\n",
    "# `pandas.set_option(\"display.max_colwidth\", 40)` ble ignorert, så dette så ut som den reneste måten\n",
    "\n",
    "df = geopandas.read_file(DATA_DIRECTORY / \"finland_topographic_database\" / \"m_L4132R_p.shp\")\n",
    "\n",
    "df[\"geom\"] = df.geometry.to_wkt().apply(lambda wkt: wkt[:40] + \" ...\")\n",
    "\n",
    "df = df[[\"RYHMA\", \"LUOKKA\", \"geom\"]]\n",
    "df = df.rename(columns={\"RYHMA\": \"GRUPPE\", \"LUOKKA\": \"KLASSE\", \"geom\": \"geometry\"})\n",
    "\n",
    "(\n",
    "    df.head().style\n",
    "        .applymap(lambda x: HIGHLIGHT_STYLE, subset=[\"geometry\"])\n",
    "        .apply_index(lambda x: numpy.where(x.isin([\"geometry\"]), HIGHLIGHT_STYLE, \"\"), axis=1)\n",
    ")"
   ]
  },
  {
   "cell_type": "markdown",
   "id": "bfb5bf80",
   "metadata": {},
   "source": [
    "---\n",
    "\n",
    "## Inngangsdata: Finsk topografisk database\n",
    "\n",
    "I denne leksjonen vil vi jobbe med [National Land Survey of Finland (NLS)/Maanmittauslaitos (MML) topografiske database](https://www.maanmittauslaitos.fi/en/maps-and-spatial-data/expert-users/product-descriptions/topographic-database). \n",
    "- Datasettet er lisensiert under NLS’ [åpen data lisens](https://www.maanmittauslaitos.fi/en/opendata-licence-cc40) (CC BY 4.0).\n",
    "- Strukturen til dataene er beskrevet i en [separat Excel-fil](http://www.nic.funet.fi/index/geodata/mml/maastotietokanta/2022/maastotietokanta_kohdemalli_eng_2019.xlsx).\n",
    "- Ytterligere informasjon om filnavngivning er tilgjengelig på [fairdata.fi](https://etsin.fairdata.fi/dataset/5023ecc7-914a-4494-9e32-d0a39d3b56ae) (denne lenken er relatert til 2018-utgaven av den topografiske databasen, men er fremdeles gyldig).\n",
    "\n",
    "For denne leksjonen har vi skaffet oss et utvalg av den topografiske databasen som\n",
    "shapefiler fra Helsinki-regionen i Finland via [CSC’s Paituli nedlastingsportal](https://paituli.csc.fi). Du kan finne filene i `data/finland_topographic_database/`.\n",
    "\n",
    ":::{figure} ../../static/images/lesson-2/paituli-download_700x650px.png\n",
    ":alt: Skjermbilde av Paituli-nedlastingssiden\n",
    "\n",
    "Paituli *spatial download service* tilbyr data fra en lang liste av nasjonale institutter og etater.\n",
    ":::\n",
    "\n",
    "\n",
    "---\n",
    "\n",
    "## Les og utforsk geospatial datasett\n",
    "\n",
    "Før vi prøver å laste opp noen filer, la oss ikke glemme å definere en konstant\n",
    "som peker til vår datamappe:"
   ]
  },
  {
   "cell_type": "code",
   "execution_count": null,
   "id": "a707bab1",
   "metadata": {},
   "outputs": [],
   "source": [
    "import pathlib \n",
    "NOTEBOOK_PATH = pathlib.Path().resolve()\n",
    "DATA_DIRECTORY = NOTEBOOK_PATH / \"data\""
   ]
  },
  {
   "cell_type": "markdown",
   "id": "e1edc1a4",
   "metadata": {},
   "source": [
    "I denne leksjonen vil vi fokusere på **terrengobjekter** (Feature-gruppe:\n",
    "\"Terrain/1\" i den topografiske databasen). Terrain/1-funksjonsgruppen inneholder\n",
    "flere funksjonsklasser. \n",
    "\n",
    "**Målet vårt i denne leksjonen er å lagre alle Terrain/1\n",
    "funksjonsklassene i separate filer**.\n",
    "\n",
    "*Terrain/1-funksjoner i den topografiske databasen:*\n",
    "\n",
    "|  funksjonsklasse | Navn på funksjon                                           | Funksjonsgruppe |\n",
    "|----------------|------------------------------------------------------------|---------------|\n",
    "| 32421          | Motor trafikk område                                       | Terrain/1     |\n",
    "| 32200          | Kirkegård                                                   | Terrain/1     |\n",
    "| 34300          | Sand                                                       | Terrain/1     |\n",
    "| 34100          | Stein - område                                             | Terrain/1     |\n",
    "| 34700          | Steinete område                                            | Terrain/1     |\n",
    "| 32500          | Steinbrudd                                                  | Terrain/1     |\n",
    "| 32112          | Område for utvinning av mineralressurser, finkornet materiale | Terrain/1     |\n",
    "| 32111          | Område for utvinning av mineralressurser, grovkornet materiale | Terrain/1     |\n",
    "| 32611          | Felt                                                       | Terrain/1     |\n",
    "| 32612          | Hage                                                       | Terrain/1     |\n",
    "| 32800          | Eng                                                        | Terrain/1     |\n",
    "| 32900          | Park                                                       | Terrain/1     |\n",
    "| 35300          | Myrland                                                    | Terrain/1     |\n",
    "| 35412          | Myr, enkel å krysse skogkledd                              | Terrain/1     |\n",
    "| 35411          | Åpen myr, enkel å krysse tre\n",
    "\n",
    "\n",
    ":::{admonition} Søk etter filer ved hjelp av et mønster\n",
    ":class: hint\n",
    "\n",
    "(#search-for-files-using-a-pattern)=\n",
    "En `pathlib.Path` (som `DATA_DIRECTORY`) har en hendig metode for å liste opp alle\n",
    "filer i en katalog (eller underkataloger) som samsvarer med et mønster:\n",
    "[`glob()`](https://docs.python.org/3/library/pathlib.html#pathlib.Path.glob).\n",
    "For å liste opp alle shapefilene i vår topografiske databasekatalog, kan vi bruke følgende uttrykk:\n",
    "\n",
    "```{code}\n",
    "(DATA_DIRECTORY / \"finland_topographic_database\").glob(\"*.shp\")\n",
    "```\n",
    "\n",
    "I søkemønsteret representerer `?` ett enkelt tegn, `*` flere\n",
    "(eller ingen, eller ett) tegn, og `**` flere tegn som kan inkludere\n",
    "underkataloger.\n",
    "\n",
    "La du merke til parentesene i kodeeksemplet ovenfor? De fungerer akkurat som\n",
    "de ville i et matematisk uttrykk: først blir uttrykket inne i\n",
    "parentesene evaluert, bare da koden utenfor.\n",
    ":::\n",
    "\n",
    "Hvis du tar en rask titt på datamappen ved hjelp av en filutforsker, vil\n",
    "du legge merke til at den topografiske databasen består av *mange* mindre filer. Deres\n",
    "navn følger en strengt definert \n",
    "[navngivningskonvensjon](https://etsin.fairdata.fi/dataset/5023ecc7-914a-4494-9e32-d0a39d3b56ae),\n",
    "i henhold til denne filnavngivningskonvensjonen, starter alle filer vi er interessert i\n",
    "(*Terrain/1* og *polygoner*) med en bokstav `m` og slutter med en `p`.\n",
    "\n",
    "Vi kan bruke `glob()` mønstersøksfunksjonaliteten til å finne disse filene:"
   ]
  },
  {
   "cell_type": "code",
   "execution_count": null,
   "id": "6b6a0f41",
   "metadata": {},
   "outputs": [],
   "source": [
    "TOPOGRAPHIC_DATABASE_DIRECTORY = DATA_DIRECTORY / \"finland_topographic_database\"\n",
    "\n",
    "TOPOGRAPHIC_DATABASE_DIRECTORY"
   ]
  },
  {
   "cell_type": "code",
   "execution_count": null,
   "id": "6eaf021b",
   "metadata": {},
   "outputs": [],
   "source": [
    "list(TOPOGRAPHIC_DATABASE_DIRECTORY.glob(\"m*p.shp\"))"
   ]
  },
  {
   "cell_type": "markdown",
   "id": "e0174481",
   "metadata": {},
   "source": [
    "(Merk at `glob()` returnerer en iterator, men for nå konverterer vi\n",
    "den raskt til en liste)\n",
    "\n",
    "Det ser ut til at vårt inngangsdatasett bare har én fil som samsvarer med vårt søkemønster.\n",
    "Vi kan lagre filnavnet i en ny variabel, ved å velge det første elementet i listen (indeks 0):"
   ]
  },
  {
   "cell_type": "code",
   "execution_count": null,
   "id": "da972cd7",
   "metadata": {},
   "outputs": [],
   "source": [
    "input_filename = list(TOPOGRAPHIC_DATABASE_DIRECTORY.glob(\"m*p.shp\"))[0] "
   ]
  },
  {
   "cell_type": "markdown",
   "id": "c26d23a8",
   "metadata": {},
   "source": [
    "Nå er det endelig på tide å åpne filen og se på innholdet:"
   ]
  },
  {
   "cell_type": "code",
   "execution_count": null,
   "id": "5e0779ec",
   "metadata": {},
   "outputs": [],
   "source": [
    "import geopandas\n",
    "data = geopandas.read_file(input_filename)"
   ]
  },
  {
   "cell_type": "markdown",
   "id": "633975e4",
   "metadata": {},
   "source": [
    "Først, sjekk datatype av det leste datasettet:"
   ]
  },
  {
   "cell_type": "code",
   "execution_count": null,
   "id": "e1637c47",
   "metadata": {},
   "outputs": [],
   "source": [
    "type(data)"
   ]
  },
  {
   "cell_type": "markdown",
   "id": "c8454e5a",
   "metadata": {},
   "source": [
    "Alt gikk bra, og vi har en `geopandas.GeoDataFrame`. \n",
    "La oss også utforske dataene: (1) skriv ut de første få radene, og \n",
    "(2) list opp kolonnene."
   ]
  },
  {
   "cell_type": "code",
   "execution_count": null,
   "id": "21b60ec6",
   "metadata": {},
   "outputs": [],
   "source": [
    "data.head()"
   ]
  },
  {
   "cell_type": "code",
   "execution_count": null,
   "id": "6dd48de3",
   "metadata": {},
   "outputs": [],
   "source": [
    "data.columns"
   ]
  },
  {
   "cell_type": "markdown",
   "id": "034d4fd4",
   "metadata": {},
   "source": [
    "Å herregud! Dette datasettet har mange kolonner, og alle kolonnenavnene er på\n",
    "finsk.\n",
    "\n",
    "La oss velge noen nyttige og oversette navnene deres til\n",
    "engelsk. Vi beholder ’RYHMA’ og ’LUOKKA’ (‘gruppe’ og ‘klasse’, henholdsvis),\n",
    "og selvfølgelig kolonnen `geometry`."
   ]
  },
  {
   "cell_type": "code",
   "execution_count": null,
   "id": "8d02e53a",
   "metadata": {},
   "outputs": [],
   "source": [
    "data = data[[\"RYHMA\", \"LUOKKA\", \"geometry\"]]"
   ]
  },
  {
   "cell_type": "markdown",
   "id": "1a0b26fc",
   "metadata": {},
   "source": [
    "Å endre navn på en kolonne i (geo)pandas fungerer ved å sende en ordbok til\n",
    "`DataFrame.rename()`. I denne ordboken er nøklene de gamle navnene, verdiene\n",
    "de nye:"
   ]
  },
  {
   "cell_type": "code",
   "execution_count": null,
   "id": "40d2662e",
   "metadata": {},
   "outputs": [],
   "source": [
    "data = data.rename(\n",
    "    columns={\n",
    "        \"RYHMA\": \"GROUP\",\n",
    "        \"LUOKKA\": \"CLASS\"\n",
    "    }\n",
    ")"
   ]
  },
  {
   "cell_type": "markdown",
   "id": "e61deeb1",
   "metadata": {},
   "source": [
    "Hvordan ser datasettet ut nå?"
   ]
  },
  {
   "cell_type": "code",
   "execution_count": null,
   "id": "523c54ca",
   "metadata": {},
   "outputs": [],
   "source": [
    "data.head()"
   ]
  },
  {
   "cell_type": "markdown",
   "id": "7974c002",
   "metadata": {},
   "source": [
    ":::{admonition} Sjekk din forståelse:\n",
    ":class: hint\n",
    "\n",
    "Bruk dine pandas ferdigheter på dette geopandas datasettet for å finne ut følgende\n",
    "informasjon:\n",
    "\n",
    "- Hvor mange rader har datasettet?\n",
    "- Hvor mange unike klasser?\n",
    "- ... og hvor mange unike grupper?\n",
    ":::\n",
    "\n",
    "\n",
    "---\n",
    "\n",
    "### Utforsk datasettet på et kart:\n",
    "\n",
    "Som geografer, elsker vi kart. Men utover det, er det alltid en god idé å\n",
    "utforske et nytt datasett også på et kart. For å lage et enkelt kart av en\n",
    "`geopandas.GeoDataFrame`, bruk ganske enkelt dens `plot()` metode. Den fungerer likt som\n",
    "pandas (se [Leksjon 7 av Geo-Python \n",
    "kurset](https://geo-python.github.io/site/notebooks/L7/matplotlib.html), men\n",
    "**tegner et kart basert på geometriene i datasettet** i stedet for et diagram."
   ]
  },
  {
   "cell_type": "code",
   "execution_count": null,
   "id": "132b77b4",
   "metadata": {},
   "outputs": [],
   "source": [
    "data.plot()"
   ]
  },
  {
   "cell_type": "markdown",
   "id": "d6e3669c",
   "metadata": {},
   "source": [
    "Voilá! Det er faktisk så enkelt å lage et kart ut av et geografisk datasett.\n",
    "Geopandas posisjonerer automatisk kartet ditt på en måte som dekker hele\n",
    "utstrekningen av dataene dine.\n",
    "\n",
    ":::{note}\n",
    "Hvis du bor i Helsinki-regionen, kan du kjenne igjen noen av formene på\n",
    "kartet ;)\n",
    ":::\n",
    "\n",
    "### Geometrier i geopandas\n",
    "\n",
    "Geopandas drar nytte av shapelys geometriobjekter. Geometrier lagres\n",
    "i en kolonne kalt *geometry*.\n",
    "\n",
    "La oss skrive ut de første 5 radene av kolonnen `geometry`:"
   ]
  },
  {
   "cell_type": "code",
   "execution_count": null,
   "id": "8f7bafdb",
   "metadata": {},
   "outputs": [],
   "source": [
    "data.geometry.head()"
   ]
  },
  {
   "cell_type": "markdown",
   "id": "c1cb36b2",
   "metadata": {},
   "source": [
    "Se og behold, kolonnen `geometry` inneholder kjente verdier:\n",
    "*Well-Known Text* (WKT) strenger. La deg ikke lure, de er faktisk,\n",
    "`shapely.geometry` objekter (du husker kanskje fra [forrige ukes\n",
    "leksjon](../lesson-1/geometry-objects)) som når `print()`ed eller typekonvertert til\n",
    "en `str`, blir representert som en WKT-streng).\n",
    "\n",
    "Siden geometriene i en `GeoDataFrame` er lagret som shapely-objekter, kan vi\n",
    "bruke **shapely metoder** for å håndtere geometrier i geopandas.\n",
    "\n",
    "La oss ta en nærmere titt på (en av) polygon-geometriene i terrengdatasettet,\n",
    "og prøve å bruke noe av shapely-funksjonaliteten vi allerede er kjent med. For klarhets skyld, vil vi først jobbe med geometrien til den aller første posten:"
   ]
  },
  {
   "cell_type": "code",
   "execution_count": null,
   "id": "89c5a119",
   "metadata": {},
   "outputs": [],
   "source": [
    "# Verdien av kolonnen `geometry` i rad 0:\n",
    "data.at[0, \"geometry\"]"
   ]
  },
  {
   "cell_type": "code",
   "execution_count": null,
   "id": "42c86daf",
   "metadata": {},
   "outputs": [],
   "source": [
    "# Skriv ut informasjon om arealet \n",
    "print(f\"Område: {round(data.at[0, 'geometry'].area)} m².\")"
   ]
  },
  {
   "cell_type": "markdown",
   "id": "9819c5af",
   "metadata": {},
   "source": [
    ":::{admonition} Områdemålenhet\n",
    ":class: note\n",
    "\n",
    "Her kjenner vi koordinatreferansesystemet (CRS) til inngangsdatasettet. CRS definerer også måleenheten (i vårt tilfelle, meter). Derfor kan vi skrive ut det beregnede området, inkludert en områdemåleenhet (kvadratmeter).\n",
    ":::\n",
    "\n",
    "\n",
    "La oss gjøre det samme for flere rader, og utforske ulike måter å gjøre det på.\n",
    "Først bruker vi det pålitelige og prøvde `iterrows()`-mønsteret vi lærte i [leksjon 6\n",
    "av Geo-Python kurset](https://geo-python.github.io/site/notebooks/L6/pandas/advanced-data-processing-with-pandas.html#Iterating-rows-and-using-self-made-functions-in-Pandas)."
   ]
  },
  {
   "cell_type": "code",
   "execution_count": null,
   "id": "3a5ce1c6",
   "metadata": {},
   "outputs": [],
   "source": [
    "# Iterer over de første 5 radene i datasettet\n",
    "for index, row in data[:5].iterrows():\n",
    "    polygon_area = row[\"geometry\"].area\n",
    "    print(f\"Polygonet i rad {index} har et overflateareal på {polygon_area:0.1f} m².\")"
   ]
  },
  {
   "cell_type": "markdown",
   "id": "e053d85b",
   "metadata": {},
   "source": [
    "Som du ser er alle **pandas** funksjoner, som `iterrows()`-metoden, tilgjengelige i geopandas uten behov for å kalle pandas separat. Geopandas bygger på toppen av pandas, og arver mesteparten av funksjonaliteten.\n",
    "\n",
    "Selvfølgelig er ikke `iterrows()`-mønsteret den mest praktiske og effektive måten\n",
    "å beregne arealet til mange rader. Både `GeoSeries` (geometri-kolonner) og\n",
    "`GeoDataFrame`s har en `area`-egenskap:"
   ]
  },
  {
   "cell_type": "code",
   "execution_count": null,
   "id": "0397c2f6",
   "metadata": {},
   "outputs": [],
   "source": [
    "# `area`-egenskapen til en `GeoDataFrame`\n",
    "data.area"
   ]
  },
  {
   "cell_type": "code",
   "execution_count": null,
   "id": "ccc78bdd",
   "metadata": {},
   "outputs": [],
   "source": [
    "# `area`-egenskapen til en `GeoSeries`\n",
    "data[\"geometry\"].area"
   ]
  },
  {
   "cell_type": "markdown",
   "id": "a2b09c92",
   "metadata": {},
   "source": [
    "Det er enkelt å lage en ny kolonne som holder arealet:"
   ]
  },
  {
   "cell_type": "code",
   "execution_count": null,
   "id": "3858e586",
   "metadata": {},
   "outputs": [],
   "source": [
    "data[\"area\"] = data.area\n",
    "data"
   ]
  },
  {
   "cell_type": "markdown",
   "id": "cd83e402",
   "metadata": {},
   "source": [
    ":::{admonition} Beskrivende statistikk\n",
    ":class: hint\n",
    "\n",
    "Husker du hvordan du beregner *minimum*, *maksimum*, *sum*, *gjennomsnitt*, og\n",
    "*standardavvik* av en pandas-kolonne? ([Leksjon 5 av\n",
    "Geo-Python](https://geo-python-site.readthedocs.io/en/latest/notebooks/L5/exploring-data-using-pandas.html#descriptive-statistics))\n",
    "Hva er disse verdiene for arealkolonnen i datasettet?\n",
    ":::\n",
    "\n",
    "\n",
    "\n",
    "## Lagre en delmengde av data til en fil\n",
    "\n",
    "[I forrige avsnitt](./vector-data-io.md#writing-geospatial-data-to-a-file), lærte vi\n",
    "hvordan vi skriver en hel `GeoDataFrame` til en fil. Vi kan også skrive en\n",
    "filtrert delmengde av et datasett til en ny fil, f.eks. for å hjelpe med behandling\n",
    "komplekse datasett.\n",
    "\n",
    "Først, isoler innsjøene i inngangsdatasettet (klassenummer `36200`, se tabell\n",
    "over):"
   ]
  },
  {
   "cell_type": "code",
   "execution_count": null,
   "id": "c79edd7e",
   "metadata": {},
   "outputs": [],
   "source": [
    "lakes = data[data.CLASS == 36200]"
   ]
  },
  {
   "cell_type": "markdown",
   "id": "c0e8cae8",
   "metadata": {},
   "source": [
    "Deretter, tegn datadelmengden for å visuelt sjekke om den ser riktig ut:"
   ]
  },
  {
   "cell_type": "code",
   "execution_count": null,
   "id": "9f823abe",
   "metadata": {},
   "outputs": [],
   "source": [
    "lakes.plot()"
   ]
  },
  {
   "cell_type": "markdown",
   "id": "9789f576",
   "metadata": {},
   "source": [
    "Og til slutt, skriv de filtrerte dataene til en Shapefile:"
   ]
  },
  {
   "cell_type": "code",
   "execution_count": null,
   "id": "68f87a89",
   "metadata": {},
   "outputs": [],
   "source": [
    "lakes.to_file(DATA_DIRECTORY / \"finland_topographic_database\" / \"lakes.shp\")"
   ]
  },
  {
   "cell_type": "markdown",
   "id": "a3351d5f",
   "metadata": {},
   "source": [
    "Sjekk [Vector Data I/O](vector-data-io) avsnittet for å se hvilke dataformater\n",
    "geopandas kan skrive til.\n",
    "\n",
    "\n",
    "\n",
    "## Gruppering av data\n",
    "\n",
    "En spesielt nyttig metode i (geo)pandas' datarammer er deres grupperingsfunksjon: [`groupby()`](https://pandas.pydata.org/docs/user_guide/groupby.html)\n",
    "kan **dele data inn i grupper** basert på noen kriterier, **bruke** en funksjon\n",
    "individuelt til hver av gruppene, og **kombinere** resultater av en slik\n",
    "operasjon i en felles datastruktur.\n",
    "\n",
    "Vi har brukt denne funksjonen tidligere: i [Geo-Python, \n",
    "leksjon 6](https://geo-python-site.readthedocs.io/en/latest/notebooks/L6/advanced-data-processing-with-pandas.html#aggregating-data-in-pandas-by-grouping).\n",
    "\n",
    "Vi kan bruke *gruppering* her for å dele inngangsdatasettet vårt i delmengder som relatere\n",
    "til hver av `CLASS`ene i terrengdekning, deretter lagre en separat fil for hver\n",
    "klasse.\n",
    "\n",
    "La oss starte dette ved igjen å ta en titt på hvordan datasettet faktisk ser ut:"
   ]
  },
  {
   "cell_type": "code",
   "execution_count": null,
   "id": "39f59197",
   "metadata": {},
   "outputs": [],
   "source": [
    "data.head()"
   ]
  },
  {
   "cell_type": "markdown",
   "id": "fbda2c64",
   "metadata": {},
   "source": [
    "Husk: kolonnen `CLASS` inneholder informasjon om en polygons arealbrukstype. Bruk metoden [`pandas.Series.unique()`](https://pandas.pydata.org/docs/reference/api/pandas.Series.unique.html) for å liste alle verdier som forekommer:"
   ]
  },
  {
   "cell_type": "code",
   "execution_count": null,
   "id": "259800c7",
   "metadata": {},
   "outputs": [],
   "source": [
    "data[\"CLASS\"].unique()"
   ]
  },
  {
   "cell_type": "markdown",
   "id": "893e9a94",
   "metadata": {},
   "source": [
    "For å gruppere data, bruk data-rammens `groupby()` metode, oppgi et kolonnenavn som parameter:"
   ]
  },
  {
   "cell_type": "code",
   "execution_count": null,
   "id": "dfe88718",
   "metadata": {},
   "outputs": [],
   "source": [
    "grouped_data = data.groupby(\"CLASS\")\n",
    "grouped_data"
   ]
  },
  {
   "cell_type": "markdown",
   "id": "5e765e36",
   "metadata": {},
   "source": [
    "Så, `grouped_data` er et `DataFrameGroupBy` objekt. Inne i et `GroupBy` objekt,\n",
    "er egenskapen `groups` en ordbok som fungerer som en oppslagstabell: den registrerer\n",
    "hvilke rader som hører til hvilken gruppe. Nøklene i ordboken er de unike\n",
    "verdiene av gruppekolonnen:"
   ]
  },
  {
   "cell_type": "code",
   "execution_count": null,
   "id": "d1b2d982",
   "metadata": {},
   "outputs": [],
   "source": [
    "grouped_data.groups"
   ]
  },
  {
   "cell_type": "markdown",
   "id": "fcc6f43b",
   "metadata": {},
   "source": [
    "Imidlertid kan man også ganske enkelt iterere over hele `GroupBy` objektet. La oss\n",
    "telle hvor mange rader med data hver gruppe har:"
   ]
  },
  {
   "cell_type": "code",
   "execution_count": null,
   "id": "01072ba9",
   "metadata": {},
   "outputs": [],
   "source": [
    "for key, group in grouped_data:\n",
    "    print(f\"Terrengklasse {key} har {len(group)} rader.\")"
   ]
  },
  {
   "cell_type": "markdown",
   "id": "63b80254",
   "metadata": {},
   "source": [
    "Det er for eksempel 56 innsjøpolygoner (klasse `36200`) i inngangsdatasettet.\n",
    "\n",
    "For å få alle rader som tilhører en bestemt gruppe, bruk `get_group()`\n",
    "metoden, som returnerer en helt ny `GeoDataFrame`:"
   ]
  },
  {
   "cell_type": "code",
   "execution_count": null,
   "id": "a1e32392",
   "metadata": {},
   "outputs": [],
   "source": [
    "lakes = grouped_data.get_group(36200)\n",
    "type(lakes)"
   ]
  },
  {
   "cell_type": "markdown",
   "id": "25aafb13",
   "metadata": {},
   "source": [
    ":::{caution}\n",
    "Indekset i den nye data-rammen forblir den samme som i det ugrupperte inngangsdatasettet.\n",
    "Dette kan være nyttig, for eksempel når du vil slå sammen de grupperte dataene\n",
    "tilbake til de originale inngangsdataene.\n",
    ":::\n",
    "\n",
    "\n",
    "## Skriv grupperte data til separate filer\n",
    "\n",
    "Nå har vi alle nødvendige verktøy for hånden for å dele inngangsdataene i\n",
    "separate datasett for hver terrengklasse, og skrive de individuelle delmengdene til\n",
    "nye, separate, filer. Faktisk ser koden nesten for enkel ut, gjør den ikke?"
   ]
  },
  {
   "cell_type": "code",
   "execution_count": null,
   "id": "bcbd8fc0",
   "metadata": {},
   "outputs": [],
   "source": [
    "# Iterer over inngangsdataene, gruppert etter CLASS\n",
    "for key, group in data.groupby(\"CLASS\"):\n",
    "    # lagre gruppen til en ny shapefile\n",
    "    group.to_file(TOPOGRAPHIC_DATABASE_DIRECTORY / f\"terrain_{key}.shp\")"
   ]
  },
  {
   "cell_type": "markdown",
   "id": "00876918",
   "metadata": {},
   "source": [
    ":::{admonition} Filnavn\n",
    ":class: attention\n",
    "\n",
    "Vi brukte en `pathlib.Path` kombinert med en f-streng for å generere den nye utdatafilens\n",
    "sti og navn. Sjekk denne ukens avsnitt [Managing file\n",
    "paths](managing-file-paths), og [Geo-Python leksjon\n",
    "2](https://geo-python-site.readthedocs.io/en/latest/notebooks/L2/Python-basic-elements.html#f-string-formatting)\n",
    "for å gå gjennom hvordan de fungerer.\n",
    ":::\n",
    "\n",
    "\n",
    "## Ekstra: lagre sammendragsstatistikk til CSV regneark\n",
    "\n",
    "Når resultatene av en operasjon på en `GeoDataFrame` ikke inkluderer en\n",
    "geometri, vil data-rammen som kommer ut automatisk bli en 'vanlig'\n",
    "`pandas.DataFrame`, og kan lagres til standard tabellformater.\n",
    "\n",
    "En interessant anvendelse av dette er å lagre grunnleggende beskrivende statistikk av\n",
    "et geografisk datasett til en CSV-tabell. For eksempel ønsker vi kanskje å vite\n",
    "arealet hver terrengklasse dekker.\n",
    "\n",
    "Igjen starter vi med å gruppere inngangsdataene etter terrengklasser, og deretter beregne\n",
    "summen av hvert klasses areal. Dette kan kondenseres til en linje med kode:"
   ]
  },
  {
   "cell_type": "code",
   "execution_count": null,
   "id": "5eb727ae",
   "metadata": {},
   "outputs": [],
   "source": [
    "area_information = data.groupby(\"CLASS\").area.sum()\n",
    "area_information"
   ]
  },
  {
   "cell_type": "markdown",
   "id": "02e752b4",
   "metadata": {},
   "source": [
    "Vi kan deretter lagre den resulterende tabellen til en CSV-fil ved å bruke den standard pandas\n",
    "tilnærmingen vi lærte om i [Geo-Python\n",
    "leksjon 5](https://geo-python-site.readthedocs.io/en/latest/notebooks/L5/processing-data-with-pandas.html#writing-data-to-a-file)."
   ]
  },
  {
   "cell_type": "code",
   "execution_count": null,
   "id": "72bd1eb1",
   "metadata": {},
   "outputs": [],
   "source": [
    "area_information.to_csv(TOPOGRAPHIC_DATABASE_DIRECTORY / \"area_by_terrain_class.csv\")"
   ]
  }
 ],
 "metadata": {
  "kernelspec": {
   "display_name": "Python 3 (ipykernel)",
   "language": "python",
   "name": "python3"
  }
 },
 "nbformat": 4,
 "nbformat_minor": 5
}
