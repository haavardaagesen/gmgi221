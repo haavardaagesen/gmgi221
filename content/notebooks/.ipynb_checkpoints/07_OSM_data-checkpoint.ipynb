{
 "cells": [
  {
   "cell_type": "markdown",
   "id": "3011b91f",
   "metadata": {},
   "source": [
    "# Henting av data fra OpenStreetMap\n",
    "\n",
    "## Hva er OpenStreetMap?\n",
    "\n",
    ":::{figure} ../../static/images/lesson-6/osm-logo_256x256px.svg\n",
    ":name: osm-logo\n",
    ":alt: Logoet til OpenStreetMap (OSM)\n",
    "\n",
    "OpenStreetMap er en gratis og åpen karttjeneste, men - først og fremst - er det\n",
    "et globalt samarbeidsprosjekt for å samle inn frie og åpne geodata. *Kilde:\n",
    "[wiki.openstreetmap.org](https://wiki.openstreetmap.org/wiki/Logos)*\n",
    ":::\n",
    "\n",
    "OpenStreetMap (OSM) er en global samarbeidsdatabase (crowd-sourced) og\n",
    "prosjekt som har som mål å lage et fritt redigerbart kart over verden som inneholder\n",
    "informasjon om miljøet vårt. Den inneholder data om gater, bygninger,\n",
    "forskjellige tjenester og arealbruk, for å nevne noen få.\n",
    "De innsamlede dataene er også grunnlaget for kartet på [openstreetmap.org](https://openstreetmap.org/). \n",
    "\n",
    "\n",
    ":::{admonition} Bidra!\n",
    ":class: note\n",
    "\n",
    "Du kan også registrere deg som bidragsyter hvis du vil legge til i databasen og\n",
    "kartet eller korrigere og forbedre eksisterende data. Les mer i [OpenStreetMap\n",
    "Wiki](https://wiki.openstreetmap.org/wiki/Main_Page).\n",
    ":::\n",
    "\n",
    "\n",
    "OSM har mer enn 8 millioner registrerte brukere som bidrar med rundt 4 millioner\n",
    "endringer daglig. Databasen inneholder data som er beskrevet av [mer enn 7\n",
    "milliarder noder](http://wiki.openstreetmap.org/wiki/Stats) (som utgjør linjer,\n",
    "polygoner og andre objekter).\n",
    "\n",
    "Mens den mest kjente siden av OpenStreetMap er kartet selv, som [vi\n",
    "har brukt som et bakgrunnskart](../lesson-5/static-maps), er prosjektet mye\n",
    "mer enn det. OSMs data kan brukes til mange andre formål som\n",
    "**ruting**, **geokoding**, **utdanning** og **forskning**. OSM brukes også mye\n",
    "for humanitær respons, for eksempel i kriseområder (for eksempel etter naturkatastrofer) og for å fremme økonomisk utvikling. Les mer om humanitære\n",
    "prosjekter som bruker OSM-data fra [Humanitarian OpenStreetMap Team (HOTOSM)\n",
    "nettsted](https://www.hotosm.org).\n",
    "\n",
    "## Hovedverktøy i denne leksjonen\n",
    "\n",
    "### OSMnx\n",
    "\n",
    "Denne uken skal vi utforske en Python-pakke kalt\n",
    "[OSMnx](https://github.com/gboeing/osmnx) som kan brukes til å hente gate-\n",
    "nettverk fra OpenStreetMap, og konstruere, analysere og visualisere dem. OSMnx\n",
    "kan også hente data om interessepunkter, som restauranter, skoler og\n",
    "forskjellige typer tjenester. Pakken inkluderer også verktøy for å finne ruter på\n",
    "et nettverk lastet ned fra OpenStreetMap, og implementerer algoritmer for å finne\n",
    "korteste forbindelser for gange, sykling eller kjøring.\n",
    "\n",
    "\n",
    "For å få en oversikt over mulighetene med pakken, se den innledende\n",
    "videoen gitt av hovedutvikleren av pakken, Prof. Geoff Boeing: [\"Meet\n",
    "the developer: Introduction to OSMnx package by Geoff\n",
    "Boeing\"](https://www.youtube.com/watch?v=Q0uxu25ddc4&list=PLs9D4XVqc6dCAhhvhZB7aHGD8fCeCC_6N).\n",
    "\n",
    "Det er også en vitenskapelig artikkel tilgjengelig som beskriver pakken:\n",
    "\n",
    "> Boeing, G. 2017. [\"OSMnx: New Methods for Acquiring, Constructing, Analyzing,\n",
    "> and Visualizing Complex Street\n",
    "> Networks.\"](https://www.researchgate.net/publication/309738462_OSMnx_New_Methods_for_Acquiring_Constructing_Analyzing_and_Visualizing_Complex_Street_Networks)\n",
    "> Computers, Environment and Urban Systems 65, 126-139.\n",
    "> doi:10.1016/j.compenvurbsys.2017.05.004\n",
    "\n",
    "[Denne\n",
    "opplæringen](https://github.com/gboeing/osmnx-examples/blob/master/notebooks/01-overview-osmnx.ipynb)\n",
    "gir en praktisk oversikt over OSMnx-funksjonaliteter, og har også inspirert\n",
    "denne AutoGIS-leksjonen.\n",
    "\n",
    "\n",
    "### NetworkX\n",
    "\n",
    "Vi vil også bruke [NetworkX](https://networkx.github.io/documentation//)\n",
    "til å manipulere og analysere gatenettverksdataene hentet fra\n",
    "OpenStreetMap. NetworkX er en Python-pakke som kan brukes til å opprette,\n",
    "manipulere og studere strukturen, dynamikken og funksjonene til komplekse\n",
    "nettverk.\n",
    "\n",
    "\n",
    "---\n",
    "\n",
    "## Last ned og visualiser OpenStreetMap-data med OSMnx\n",
    "\n",
    "En nyttig funksjon med OSMnx er enkle å bruke verktøy for å laste ned\n",
    "[OpenStreetMap](http://www.openstreetmap.org) data via prosjektets [OverPass\n",
    "API](http://wiki.openstreetmap.org/wiki/Overpass_API).\n",
    "I denne delen vil vi lære å laste ned og visualisere gatenettverket\n",
    "og tilleggsdata fra OpenStreetMap som dekker et interesseområde.\n",
    "\n",
    "\n",
    "### Gatenettverk\n",
    "\n",
    "[`osmnx.graph`\n",
    "modulen](https://osmnx.readthedocs.io/en/stable/osmnx.html#module-osmnx.graph)\n",
    "laster ned data for å konstruere et kjørbart vei-nettverksgraf, basert på et\n",
    "brukerdefinert interesseområde. Dette interesseområdet kan spesifiseres, for\n",
    "eksempel ved bruk av et stedsnavn, en begrensningsboks eller et polygon. Her vil vi bruke\n",
    "et stedsnavn for å hente data som dekker Kamppi-området i Helsinki, Finland.\n",
    "\n",
    "I stedsnavnsforespørselen bruker OSMnx Nominatim Geocoding API. Dette betyr\n",
    "at stedsnavn skal eksistere i OpenStreetMap-databasen (kjør et testsøk\n",
    "på [openstreetmap.org](https://www.openstreetmap.org/) eller\n",
    "[nominatim.openstreetmap.org](https://nominatim.openstreetmap.org/ui/search.html)).\n",
    "\n",
    "Vi vil lese et OSM-gatenettverk ved hjelp av OSMnxs\n",
    "[graph_from_place()](https://osmnx.readthedocs.io/en/stable/osmnx.html#osmnx.graph.graph_from_place) funksjon:"
   ]
  },
  {
   "cell_type": "code",
   "execution_count": null,
   "id": "d6275a89",
   "metadata": {},
   "outputs": [],
   "source": [
    "import osmnx\n",
    "\n",
    "PLACE_NAME = \"Kamppi, Helsinki, Finland\"\n",
    "graph = osmnx.graph_from_place(PLACE_NAME)"
   ]
  },
  {
   "cell_type": "markdown",
   "id": "9ddc7fc0",
   "metadata": {},
   "source": [
    "Sjekk datatypen til grafen:"
   ]
  },
  {
   "cell_type": "code",
   "execution_count": null,
   "id": "0c84f143",
   "metadata": {},
   "outputs": [],
   "source": [
    "type(graph)"
   ]
  },
  {
   "cell_type": "markdown",
   "id": "7631d8ba",
   "metadata": {},
   "source": [
    "Det vi har her er et\n",
    "[`networkx.MultiDiGraph`](https://networkx.org/documentation/stable/reference/classes/multidigraph.html) objekt.\n",
    "\n",
    "OSMnxs grafer har ikke en innebygd metode for å plotte dem, men pakken\n",
    "kommer med en funksjon for å gjøre det:"
   ]
  },
  {
   "cell_type": "code",
   "execution_count": null,
   "id": "578bc94f",
   "metadata": {},
   "outputs": [],
   "source": [
    "figure, ax = osmnx.plot_graph(graph)"
   ]
  },
  {
   "cell_type": "markdown",
   "id": "142e57f8",
   "metadata": {},
   "source": [
    "Akkurat som dens GeoPandas og Pandas-ekvivalenter, bruker `osmnx.plot_graph()`\n",
    "matplotlib. Funksjonen returnerer en `(figure, axes)`-tuple, som kan brukes til \n",
    "å modifisere figuren ved hjelp av alle matplotlib-funksjoner vi allerede har blitt kjent med.\n",
    "\n",
    "Vi kan se at grafen vår inneholder noder (punktene) og kanter (linjene)\n",
    "som kobler disse nodene til hverandre.\n",
    "\n",
    "### Konverter en graf til `GeoDataFrame`s\n",
    "\n",
    "Gatenettverket vi nettopp lastet ned er en *graf*, mer spesifikt en\n",
    "`networkx.MultiDiGraph`. Hovedformålet er å representere de topologiske\n",
    "forholdene mellom noder og koblingene (kanter) mellom dem. Noen ganger er det mer praktisk å ha de underliggende geodataene i `geopandas.GeoDataFrame`s.\n",
    "OSMnx kommer med en praktisk funksjon som konverterer en graf til to geo-data\n",
    "rammer, en for noder, og en for kanter:\n",
    "[`osmnx.graph_to_gdfs()`](https://osmnx.readthedocs.io/en/stable/osmnx.html#osmnx.utils_graph.graph_to_gdfs)."
   ]
  },
  {
   "cell_type": "code",
   "execution_count": null,
   "id": "06c71d10",
   "metadata": {},
   "outputs": [],
   "source": [
    "nodes, edges = osmnx.graph_to_gdfs(graph)"
   ]
  },
  {
   "cell_type": "code",
   "execution_count": null,
   "id": "9a9ca645",
   "metadata": {},
   "outputs": [],
   "source": [
    "nodes.head()"
   ]
  },
  {
   "cell_type": "code",
   "execution_count": null,
   "id": "90d7b665",
   "metadata": {},
   "outputs": [],
   "source": [
    "edges.head()"
   ]
  },
  {
   "cell_type": "markdown",
   "id": "d10c882b",
   "metadata": {},
   "source": [
    "Fint! Nå, som vi kan se, har vi grafen vår som GeoDataFrames og vi kan plotte\n",
    "dem ved hjelp av de samme funksjonene og verktøyene som vi har brukt før.\n",
    "\n",
    "\n",
    "\n",
    "### Stedspolygon\n",
    "\n",
    "La oss også plotte polygonet som representerer vårt interesseområde (Kamppi,\n",
    "Helsinki). Vi kan hente polygon-geometrien ved hjelp av\n",
    "[osmnx.geocode_to_gdf()](https://osmnx.readthedocs.io/en/stable/osmnx.html?highlight=geocode_to_gdf(#osmnx.geocoder.geocode_to_gdf)\n",
    "funksjonen."
   ]
  },
  {
   "cell_type": "code",
   "execution_count": null,
   "id": "ab021999",
   "metadata": {},
   "outputs": [],
   "source": [
    "# Hent stedsgrensen relatert til stedsnavnet som en geodataframe\n",
    "area = osmnx.geocode_to_gdf(PLACE_NAME)"
   ]
  },
  {
   "cell_type": "markdown",
   "id": "de9d2f91",
   "metadata": {},
   "source": [
    "Som navnet på funksjonen allerede forteller oss, returnerer den et GeoDataFrame-objekt\n",
    "basert på det spesifiserte stedsnavnsøket. La oss fortsatt verifisere datatypen:"
   ]
  },
  {
   "cell_type": "code",
   "execution_count": null,
   "id": "f6e98a25",
   "metadata": {},
   "outputs": [],
   "source": [
    "# Sjekk datatypen\n",
    "type(area)"
   ]
  },
  {
   "cell_type": "markdown",
   "id": "47d1c932",
   "metadata": {},
   "source": [
    "La oss også ta en titt på dataene:"
   ]
  },
  {
   "cell_type": "code",
   "execution_count": null,
   "id": "40615618",
   "metadata": {},
   "outputs": [],
   "source": [
    "# Sjekk dataverdier\n",
    "area"
   ]
  },
  {
   "cell_type": "code",
   "execution_count": null,
   "id": "dbb743da",
   "metadata": {},
   "outputs": [],
   "source": [
    "# Plot området:\n",
    "area.plot()"
   ]
  },
  {
   "cell_type": "markdown",
   "id": "c2e41759",
   "metadata": {},
   "source": [
    "### Bygningsavtrykk\n",
    "\n",
    "I tillegg til nettverksdata, kan OSMnx også laste ned alle andre data som finnes i OpenStreetMap-databasen. Dette inkluderer for eksempel bygningsavtrykk og forskjellige interessepunkter (POI-er). For å laste ned vilkårlige geometrier, filtrert av [OSM-tags](https://wiki.openstreetmap.org/wiki/Map_features) og et stedsnavn, bruk [`osmnx.geometries_from_place()`](https://osmnx.readthedocs.io/en/stable/osmnx.html#osmnx.geometries.geometries_from_place) [geometries er snart utdatert - La oss allerede bruke features i stedet]. Taggen for å hente alle [bygninger](https://wiki.openstreetmap.org/wiki/Buildings) er `building = yes`."
   ]
  },
  {
   "cell_type": "code",
   "execution_count": null,
   "id": "83506c54",
   "metadata": {},
   "outputs": [],
   "source": [
    "buildings = osmnx.geometries_from_place(\n",
    "    PLACE_NAME,\n",
    "    {\"building\": True},\n",
    ")"
   ]
  },
  {
   "cell_type": "code",
   "execution_count": null,
   "id": "0bd70423",
   "metadata": {},
   "outputs": [],
   "source": [
    "len(buildings) "
   ]
  },
  {
   "cell_type": "code",
   "execution_count": null,
   "id": "3dc5ee73",
   "metadata": {},
   "outputs": [],
   "source": [
    "buildings.head() "
   ]
  },
  {
   "cell_type": "markdown",
   "id": "8e2c5e5e",
   "metadata": {},
   "source": [
    "Som du kan se, er det flere kolonner i `buildings`. Hver kolonne inneholder\n",
    "informasjon om en spesifikk tag som OpenStreetMap-bidragsytere har lagt til.\n",
    "Hver tag består av en nøkkel (kolonnenavnet) og verdier (for eksempel\n",
    "`building=yes` eller `building=school`). Les mer om tags og tagging\n",
    "praksis i [OpenStreetMap\n",
    "wiki](https://wiki.openstreetmap.org/wiki/Tags)."
   ]
  },
  {
   "cell_type": "code",
   "execution_count": null,
   "id": "d76051ad",
   "metadata": {},
   "outputs": [],
   "source": [
    "buildings.columns "
   ]
  },
  {
   "cell_type": "markdown",
   "id": "88974cc0",
   "metadata": {},
   "source": [
    "### Interessepunkter\n",
    "\n",
    "Interessepunkt (POI) er et generisk konsept som beskriver punktlokasjoner\n",
    "som representerer steder av interesse. Siden `osmnx.geometries_from_place()` kan laste ned alle geometridata som finnes i OpenStreetMap-databasen, kan det også brukes til å laste ned alle typer POI-data. [geometries er snart utdatert - La oss allerede bruke features i stedet]\n",
    "\n",
    "I OpenStreetMap beskrives mange POI-er ved hjelp av [`amenity`\n",
    "taggen](https://wiki.openstreetmap.org/wiki/Key:amenity).  Vi kan for eksempel,\n",
    "hente alle restaurantlokasjoner ved å spørre om `amenity=restaurant`."
   ]
  },
  {
   "cell_type": "code",
   "execution_count": null,
   "id": "9f36be90",
   "metadata": {},
   "outputs": [],
   "source": [
    "restaurants = osmnx.geometries_from_place(\n",
    "    PLACE_NAME,\n",
    "    {\n",
    "        \"amenity\": \"restaurant\"\n",
    "    }\n",
    ")\n",
    "len(restaurants) "
   ]
  },
  {
   "cell_type": "markdown",
   "id": "bb83cf77",
   "metadata": {},
   "source": [
    "Som vi kan se, er det ganske mange restauranter i området.\n",
    "\n",
    "La oss utforske hvilke attributter vi har i vår GeoDataFrame for restauranter:"
   ]
  },
  {
   "cell_type": "code",
   "execution_count": null,
   "id": "5ed3bf1c",
   "metadata": {},
   "outputs": [],
   "source": [
    "# Tilgjengelige kolonner\n",
    "restaurants.columns.values "
   ]
  },
  {
   "cell_type": "markdown",
   "id": "a118d732",
   "metadata": {},
   "source": [
    "Som du kan se, er det ganske mye (potensiell) informasjon relatert til\n",
    "fasilitetene. La oss velge ut kolonnene og undersøke dataene videre. Kan vi\n",
    "hente ut alle restauranters navn, adresse og åpningstider?"
   ]
  },
  {
   "cell_type": "code",
   "execution_count": null,
   "id": "d70f7b3c",
   "metadata": {},
   "outputs": [],
   "source": [
    "# Velg noen nyttige kolonner og skriv ut\n",
    "interesting_columns = [\n",
    "    \"name\",\n",
    "    \"opening_hours\",\n",
    "    \"addr:city\",\n",
    "    \"addr:country\",\n",
    "    \"addr:housenumber\",\n",
    "    \"addr:postcode\",\n",
    "    \"addr:street\"\n",
    "]\n",
    "\n",
    "# Skriv ut kun valgte kolonner\n",
    "restaurants[interesting_columns].head(10) "
   ]
  },
  {
   "cell_type": "markdown",
   "id": "be68cf5e",
   "metadata": {},
   "source": [
    ":::{tip}\n",
    "hvis noe av informasjonen trenger en oppdatering, gå til [openstreetmap.org](https://openstreetmap.org) og rediger kildeinformasjonen!\n",
    ":::\n",
    "\n",
    "\n",
    "\n",
    "### Parker og grøntområder\n",
    "\n",
    "La oss prøve å hente alle offentlige parker i Kamppi-området. I OpenStreetMap,\n",
    "[skal parker være tagget](https://wiki.openstreetmap.org/wiki/Map_features) som\n",
    "`leisure = park`. Mindre grøntområder (*puistikot*) er noen ganger også tagget\n",
    "`landuse = grass`. Vi kan kombinere flere tags i en dataforespørsel."
   ]
  },
  {
   "cell_type": "code",
   "execution_count": null,
   "id": "e611550e",
   "metadata": {},
   "outputs": [],
   "source": [
    "parks = osmnx.geometries_from_place(\n",
    "    PLACE_NAME,\n",
    "    {\n",
    "        \"leisure\": \"park\",\n",
    "        \"landuse\": \"grass\",\n",
    "    },\n",
    ")"
   ]
  },
  {
   "cell_type": "code",
   "execution_count": null,
   "id": "308eaa9d",
   "metadata": {},
   "outputs": [],
   "source": [
    "parks.head()"
   ]
  },
  {
   "cell_type": "code",
   "execution_count": null,
   "id": "1651c3ee",
   "metadata": {},
   "outputs": [],
   "source": [
    "parks.plot(color=\"green\") "
   ]
  },
  {
   "cell_type": "markdown",
   "id": "b155aa79",
   "metadata": {},
   "source": [
    "### Plotting av dataene\n",
    "\n",
    "La oss lage et kart ut av gatene, bygningene, restaurantene og områdepolygonet."
   ]
  },
  {
   "cell_type": "code",
   "execution_count": null,
   "id": "2365eec7",
   "metadata": {},
   "outputs": [],
   "source": [
    "import matplotlib\n",
    "figure, ax = matplotlib.pyplot.subplots(figsize=(12,8))\n",
    "\n",
    "# Plot avtrykket\n",
    "area.plot(ax=ax, facecolor=\"black\")\n",
    "\n",
    "# Plot parkene\n",
    "parks.plot(ax=ax, facecolor=\"green\")\n",
    "\n",
    "# Plot gate 'kanter'\n",
    "edges.plot(ax=ax, linewidth=1, edgecolor=\"dimgray\")\n",
    "\n",
    "# Plot bygningene\n",
    "buildings.plot(ax=ax, facecolor=\"silver\", alpha=0.7)\n",
    "\n",
    "# Plot restaurantene\n",
    "restaurants.plot(ax=ax, color=\"yellow\", alpha=0.7, markersize=10)"
   ]
  },
  {
   "cell_type": "markdown",
   "id": "9c96b753",
   "metadata": {},
   "source": [
    "Kult! Nå har vi et kart der vi har plottet restaurantene, bygningene,\n",
    "gatene og grensene for det valgte området 'Kamppi' i Helsinki. Og\n",
    "alt dette krever bare noen få linjer med kode. Ganske flott!\n",
    "\n",
    ":::{admonition} Sjekk din forståelse\n",
    ":class: hint\n",
    "\n",
    "Hent OpenStreetMap-data fra et annet område! Last ned disse elementene ved hjelp av\n",
    "OSMnx-funksjoner fra ditt interesseområde:\n",
    "    \n",
    "- Utstrekning av området ved hjelp av `geocode_to_gdf()`\n",
    "- Gate-nettverk ved hjelp av `graph_from_place()`, og konverter til geo-data frame ved hjelp av\n",
    "  `graph_to_gdfs()`\n",
    "- Bygningsavtrykk (og andre geometrier) ved hjelp av `geometries_from_place()`\n",
    "  og passende tags.\n",
    "    \n",
    "*Merk, jo større område du velger, jo lenger tid tar det å hente data\n",
    "fra API!*"
   ]
  },
  {
   "cell_type": "code",
   "execution_count": null,
   "id": "287a7abc",
   "metadata": {},
   "outputs": [],
   "source": [
    "# Spesifiser navnet som brukes for å søke etter dataene. Sjekk at steds-\n",
    "# navnet er gyldig fra https://nominatim.openstreetmap.org/ui/search.html\n",
    "MY_PLACE = \"\""
   ]
  },
  {
   "cell_type": "code",
   "execution_count": null,
   "id": "5c41213d",
   "metadata": {},
   "outputs": [],
   "source": [
    "# Hent gate-nettverk"
   ]
  },
  {
   "cell_type": "code",
   "execution_count": null,
   "id": "496b5cdf",
   "metadata": {},
   "outputs": [],
   "source": [
    "# Hent bygningsavtrykk"
   ]
  },
  {
   "cell_type": "code",
   "execution_count": null,
   "id": "8cd9f7c1",
   "metadata": {},
   "outputs": [],
   "source": [
    "# Plot dataene"
   ]
  },
  {
   "cell_type": "markdown",
   "id": "25409fa9",
   "metadata": {},
   "source": [
    ":::\n",
    "\n",
    "\n",
    "## Videre lesing\n",
    "\n",
    "For å analysere OpenStreetMap-data over store områder, er det ofte mer effektivt og\n",
    "meningsfullt å laste ned dataene på en gang, i stedet for separate spørringer til\n",
    "API. Slike datadumper fra OpenStreetMap er tilgjengelige i forskjellige filformater,\n",
    "OSM [Protocolbuffer Binary\n",
    "Format](https://wiki.openstreetmap.org/wiki/PBF_Format) (PBF) er en av\n",
    "dem. Datautdrag som dekker hele land og kontinenter er tilgjengelige, for\n",
    "eksempel, på [download.geofabrik.de](https://download.geofabrik.de/).\n",
    "\n",
    "[Pyrosm](https://pyrosm.readthedocs.io/) er en Python-pakke for lesing\n",
    "av OpenStreetMap-data fra PBF-filer til `geopandas.GeoDataFrames`. Pyrosm gjør\n",
    "det enkelt å hente vei-nettverk, bygninger, interessepunkter (POI), arealbruk,\n",
    "naturlige elementer, administrative grenser og mye mer - likt OSMnx,\n",
    "men tilpasset analyser av store områder.  Mens OSMnx leser dataene fra\n",
    "Overpass API, leser pyrosm dataene fra en lokal PBF-fil.\n",
    "\n",
    "Les mer om henting og bruk av pbf-filer som kilde for å analysere\n",
    "OpenStreetMap-data i Python fra [pyrosm\n",
    "dokumentasjonen](https://pyrosm.readthedocs.io/en/latest/basics.html#protobuf-file-what-is-it-and-how-to-get-one)."
   ]
  }
 ],
 "metadata": {
  "kernelspec": {
   "display_name": "Python 3",
   "language": "python",
   "name": "python3"
  }
 },
 "nbformat": 4,
 "nbformat_minor": 5
}
