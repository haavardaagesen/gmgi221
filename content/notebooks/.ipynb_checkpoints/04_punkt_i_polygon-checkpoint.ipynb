{
 "cells": [
  {
   "cell_type": "markdown",
   "id": "85bcbe78",
   "metadata": {},
   "source": [
    "# Spørringer om punkt-i-polygon\n",
    "\n",
    "Å finne ut om et bestemt punkt er plassert innenfor eller utenfor et område,\n",
    "eller å finne ut om en linje skjærer med en annen linje eller polygon er\n",
    "grunnleggende geospatiale operasjoner som ofte brukes f.eks. for å velge\n",
    "data basert på plassering. Slike romlige spørringer er en av de typiske\n",
    "første trinnene i arbeidsflyten når du gjør romlig analyse. Å utføre en\n",
    "romlig join (vil bli introdusert senere) mellom to romlige datasett er\n",
    "en av de mest typiske applikasjonene der Point in Polygon (PIP) spørring\n",
    "brukes.\n",
    "\n",
    "For videre lesing om PIP og andre geometriske operasjoner,\n",
    "se kapittel 4.2 i Smith, Goodchild & Longley: [Geospatial Analysis - 6th edition](https://www.spatialanalysisonline.com/HTML/index.html).\n",
    "\n",
    "\n",
    "## Hvordan sjekke om et punkt er inne i en polygon?\n",
    "\n",
    "Beregningsteknisk er det mest vanlig å oppdage om et punkt er inne i en polygon ved å bruke en spesifikk formel kalt [Ray Casting-algoritmen](https://en.wikipedia.org/wiki/Point_in_polygon#Ray_casting_algorithm).\n",
    "Heldigvis trenger vi ikke å lage en slik funksjon selv for\n",
    "utføre Point in Polygon (PIP) spørring. I stedet kan vi dra\n",
    "fordel av [Shapely's binære predikater](https://shapely.readthedocs.io/en/stable/manual.html#binary-predicates)\n",
    "som kan evaluere de topologiske forholdene mellom geografiske\n",
    "objekter, som PIP som vi er interessert i her.\n",
    "\n",
    "## Spørringer om punkt-i-polygon på `shapely` geometrier\n",
    "\n",
    "Det er stort sett to måter å utføre PIP på i Shapely:\n",
    "\n",
    "1. ved hjelp av en funksjon kalt\n",
    "   [within()](https://shapely.readthedocs.io/en/stable/manual.html#object.within)\n",
    "   som sjekker om et punkt er innenfor en polygon\n",
    "2. ved hjelp av en funksjon kalt\n",
    "   [contains()](https://shapely.readthedocs.io/en/stable/manual.html#object.contains)\n",
    "   som sjekker om en polygon inneholder et punkt\n",
    "\n",
    ":::{note}\n",
    "Selv om vi snakker her om **Point** i Polygon\n",
    "operasjon, er det også mulig å sjekke om en LineString eller Polygon er\n",
    "inne i en annen Polygon.\n",
    ":::\n",
    "\n",
    "\n",
    "La oss først lage et par punktgeometrier:"
   ]
  },
  {
   "cell_type": "code",
   "execution_count": null,
   "id": "79fca517",
   "metadata": {},
   "outputs": [],
   "source": [
    "import shapely.geometry\n",
    "point1 = shapely.geometry.Point(24.952242, 60.1696017)\n",
    "point2 = shapely.geometry.Point(24.976567, 60.1612500)"
   ]
  },
  {
   "cell_type": "markdown",
   "id": "bf429476",
   "metadata": {},
   "source": [
    "... og en polygon:"
   ]
  },
  {
   "cell_type": "code",
   "execution_count": null,
   "id": "a1ac71d4",
   "metadata": {},
   "outputs": [],
   "source": [
    "polygon = shapely.geometry.Polygon(\n",
    "    [\n",
    "        (24.950899, 60.169158),\n",
    "        (24.953492, 60.169158),\n",
    "        (24.953510, 60.170104),\n",
    "        (24.950958, 60.169990)\n",
    "    ]\n",
    ")"
   ]
  },
  {
   "cell_type": "code",
   "execution_count": null,
   "id": "ca8a9d72",
   "metadata": {},
   "outputs": [],
   "source": [
    "print(point1)\n",
    "print(point2)\n",
    "print(polygon)"
   ]
  },
  {
   "cell_type": "markdown",
   "id": "1c286409",
   "metadata": {},
   "source": [
    "La oss sjekke om punktene er `within()` polygonen:"
   ]
  },
  {
   "cell_type": "code",
   "execution_count": null,
   "id": "4d29bf5c",
   "metadata": {},
   "outputs": [],
   "source": [
    "point1.within(polygon)"
   ]
  },
  {
   "cell_type": "code",
   "execution_count": null,
   "id": "22fa2de1",
   "metadata": {},
   "outputs": [],
   "source": [
    "point2.within(polygon)"
   ]
  },
  {
   "cell_type": "markdown",
   "id": "b4ddd376",
   "metadata": {},
   "source": [
    "Det ser ut til at det første punktet er inne i polygonen, men det andre er det ikke.\n",
    "\n",
    "Vi kan snu logikken til oppslaget: I stedet for å sjekke om punktet er\n",
    "innenfor polygonen, kan vi også spørre om polygonen `contains()` punktet:"
   ]
  },
  {
   "cell_type": "code",
   "execution_count": null,
   "id": "b43bf930",
   "metadata": {},
   "outputs": [],
   "source": [
    "polygon.contains(point1)"
   ]
  },
  {
   "cell_type": "code",
   "execution_count": null,
   "id": "5e856233",
   "metadata": {},
   "outputs": [],
   "source": [
    "polygon.contains(point2)"
   ]
  },
  {
   "cell_type": "markdown",
   "id": "4d750300",
   "metadata": {},
   "source": [
    ":::{hint}\n",
    "De to måtene å sjekke det romlige forholdet er komplementære og gir\n",
    "ekvivalente resultater;\n",
    "[`contains()`](https://shapely.readthedocs.io/en/stable/manual.html#object.contains)\n",
    "er inverse til\n",
    "[`within()`](https://shapely.readthedocs.io/en/stable/manual.html#object.within),\n",
    "og omvendt.\n",
    "\n",
    "Så, hvilken en skal du bruke? Vel, det avhenger av:\n",
    "\n",
    "-  hvis du har **mange punkter og bare en polygon** og du prøver å finne ut\n",
    "   hvilken av dem som er inne i polygonen: Du må kanskje iterere over punktene\n",
    "   og sjekke ett om gangen om det er **`within()`** polygonen.\n",
    "-  hvis du har **mange polygoner og bare ett punkt** og du vil finne ut\n",
    "   hvilket polygon som inneholder punktet: Du må kanskje iterere over polygonene\n",
    "   til du finner et polygon som **`contains()`** det spesifiserte punktet\n",
    ":::\n",
    "\n",
    "\n",
    "## Spørringer om punkt-i-polygon på `geopandas.GeoDataFrame`s\n",
    "\n",
    "I det følgende praktiske eksempelet finner vi ut hvilke av adressene vi fikk\n",
    "i [geokodingseksjonen](geocoding-in-geopandas) som ligger innenfor et bestemt\n",
    "bydistrikt i Helsinki.\n",
    "\n",
    "Datamengden vi bruker er fra [Helsinki Region Infoshare](https://hri.fi/data/en_GB/dataset/helsingin-piirijako), og lisensiert under en [Creative-Commons-Attribution-4.0](https://creativecommons.org/licenses/by/4.0/) lisens."
   ]
  },
  {
   "cell_type": "code",
   "execution_count": null,
   "id": "9f162f56",
   "metadata": {},
   "outputs": [],
   "source": [
    "import pathlib\n",
    "NOTEBOOK_PATH = pathlib.Path().resolve()\n",
    "DATA_DIRECTORY = NOTEBOOK_PATH / \"data\""
   ]
  },
  {
   "cell_type": "code",
   "execution_count": null,
   "id": "552f3524",
   "metadata": {},
   "outputs": [],
   "source": [
    "import geopandas\n",
    "\n",
    "bydeler = geopandas.read_file(\n",
    "    DATA_DIRECTORY / \"helsinki_city_districts\" / \"helsinki_city_districts_2021.gpkg\"\n",
    ")\n",
    "bydeler.head()"
   ]
  },
  {
   "cell_type": "code",
   "execution_count": null,
   "id": "24ec306b",
   "metadata": {},
   "outputs": [],
   "source": [
    "bydeler.plot()"
   ]
  },
  {
   "cell_type": "markdown",
   "id": "a27f00c6",
   "metadata": {},
   "source": [
    "Spesielt ønsker vi å finne ut hvilke punkter som er innenfor 'Eteläinen'\n",
    "('sør') bydelen. La oss begynne med å få et separat datasett for\n",
    "denne distriktet, laste adressene data, og plotte et flerlagskart\n",
    "som viser alle distriktene, 'Eteläinen' distriktet og alle punktene i\n",
    "ett kart:"
   ]
  },
  {
   "cell_type": "code",
   "execution_count": null,
   "id": "ef488856",
   "metadata": {},
   "outputs": [],
   "source": [
    "sør_distrikt = bydeler[bydeler.name == \"Eteläinen\"]\n",
    "sør_distrikt"
   ]
  },
  {
   "cell_type": "code",
   "execution_count": null,
   "id": "2c891529",
   "metadata": {},
   "outputs": [],
   "source": [
    "adresser = geopandas.read_file(DATA_DIRECTORY / \"adresser.gpkg\")"
   ]
  },
  {
   "cell_type": "markdown",
   "id": "f29e83a7",
   "metadata": {},
   "source": [
    ":::{admonition} Plotting flere kartlag\n",
    ":class: hint\n",
    "\n",
    "For å plotte flere kartlag i én figur, bruk `ax` parameter for å spesifisere i\n",
    "hvilke *akser* data skal plottes. Vi brukte dette i [leksjon 7 av\n",
    "Geo-Python](https://geo-python-site.readthedocs.io/en/latest/notebooks/L7/matplotlib.html) for å legge til tekst i et plot eller modifisere akseegenskaper.\n",
    "\n",
    "Den enkleste måten å få en *akse* er å lagre den første `plot()`’s\n",
    "returverdi (se nedenfor). Et annet alternativ er å lage [`subplots()`](https://geo-python-site.readthedocs.io/en/latest/notebooks/L7/advanced-plotting.html#using-subplots), muligens med bare en rad og en kolonne.\n",
    ":::"
   ]
  },
  {
   "cell_type": "code",
   "execution_count": null,
   "id": "d591c2d3",
   "metadata": {},
   "outputs": [],
   "source": [
    "akser = bydeler.plot(facecolor=\"grå\")\n",
    "sør_distrikt.plot(ax=akser, facecolor=\"rød\")\n",
    "adresser.plot(ax=akser, color=\"blå\", markersize=5)"
   ]
  },
  {
   "cell_type": "markdown",
   "id": "3c43659d",
   "metadata": {},
   "source": [
    "Noen punkter er innenfor 'Eteläinen' distriktet, men andre er det ikke. For å finne\n",
    "ut hvilke som er de inne i distriktet, kan vi bruke en **punkt-i-polygon\n",
    "spørring**, denne gangen på hele `geopandas.GeoDataFrame`. Dens metode\n",
    "`within()` returnerer Boolsk (`True`/`False`) verdier som indikerer om eller ikke\n",
    "en rad's geometri er inneholdt i den angitte *andre* geometrien:\n",
    "\n",
    "\n",
    ":::{admonition} geometri vs. geometrikolonne\n",
    ":class: caution\n",
    "\n",
    "I eksempelet nedenfor bruker vi `sør.at[0, \"geometry\"]` for å få en enkelt\n",
    "verdi, en `shapely.geometry.Polygon`, i stedet for en hel kolonne (en\n",
    "`GeoSeries`). Dette er for å matche hver rad's geometri av hele\n",
    "`adresser` data rammen mot *den samme polygonen*. Hvis, i motsetning, vi ville\n",
    "kjøre `within()` mot en kolonne, ville operasjonen bli utført radvis,\n",
    "dvs. det første adressepunktet ville bli sjekket mot den første polygonen, det\n",
    "andre adressepunktet mot den andre polygonen, og så videre.\n",
    "\n",
    "Sjekk [dokumentasjonen for\n",
    "`within()`](https://geopandas.org/en/stable/docs/reference/api/geopandas.GeoSeries.within.html)\n",
    "for å lære mer!\n",
    ":::"
   ]
  },
  {
   "cell_type": "code",
   "execution_count": null,
   "id": "7e632140",
   "metadata": {},
   "outputs": [],
   "source": [
    "adresser.within(sør_distrikt.at[0, \"geometry\"])"
   ]
  },
  {
   "cell_type": "markdown",
   "id": "30e619cc",
   "metadata": {},
   "source": [
    "Denne listen med Boolsk verdier, også kalt en *maske-array* kan brukes til å filtrere\n",
    "input data-rammen:"
   ]
  },
  {
   "cell_type": "code",
   "execution_count": null,
   "id": "f6d3e143",
   "metadata": {},
   "outputs": [],
   "source": [
    "adresser_i_sør_distriktet = adresser[\n",
    "    adresser.within(sør_distrikt.at[0, \"geometry\"])\n",
    "]\n",
    "adresser_i_sør_distriktet"
   ]
  },
  {
   "cell_type": "markdown",
   "id": "bd420c87",
   "metadata": {},
   "source": [
    "Til slutt, la oss plotte denne listen med adresser en gang til for visuelt å verifisere\n",
    "at alle av dem, faktisk, er plassert innenfor 'Eteläinen' bydistriktet:"
   ]
  },
  {
   "cell_type": "code",
   "execution_count": null,
   "id": "5ab8a684",
   "metadata": {},
   "outputs": [],
   "source": [
    "akser = bydeler.plot(facecolor=\"grå\")\n",
    "sør_distrikt.plot(ax=akser, facecolor=\"rød\")\n",
    "\n",
    "adresser_i_sør_distriktet.plot(\n",
    "    ax=akser,\n",
    "    color=\"gull\",\n",
    "    markersize=5\n",
    ")"
   ]
  },
  {
   "cell_type": "markdown",
   "id": "74a1939d",
   "metadata": {},
   "source": [
    "Perfekt! Nå sitter vi igjen med bare de (gyldne) punktene som faktisk er\n",
    "inne i den røde polygonen. Det er akkurat det vi ønsket!"
   ]
  }
 ],
 "metadata": {
  "kernelspec": {
   "display_name": "Python 3 (ipykernel)",
   "language": "python",
   "name": "python3"
  }
 },
 "nbformat": 4,
 "nbformat_minor": 5
}
