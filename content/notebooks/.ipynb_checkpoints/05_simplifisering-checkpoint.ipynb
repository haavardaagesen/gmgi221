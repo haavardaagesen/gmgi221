{
 "cells": [
  {
   "cell_type": "markdown",
   "id": "95c9b3c8",
   "metadata": {},
   "source": [
    "# Forenkling av geometrier\n",
    "\n",
    "\n",
    "Noen ganger kan det være nyttig å kunne forenkle geometrier. Dette kan være\n",
    "noe å vurdere for eksempel når du har veldig detaljerte romlige egenskaper\n",
    "som dekker hele verden. Hvis du lager et kart som dekker hele verden, er det unødvendig å ha veldig detaljerte geometrier fordi det er rett og slett\n",
    "umulig å se de små detaljene fra kartet ditt. Videre tar det en\n",
    "lang tid å faktisk gjengi et stort antall funksjoner til et kart. Her vil vi\n",
    "se hvordan det er mulig å forenkle geometriske egenskaper i Python.\n",
    "\n",
    "Som et eksempel vil vi bruke data som representerer Amazonas-elven i Sør-Amerika,\n",
    "og forenkle dens geometrier.\n",
    "\n",
    "La oss først lese dataene og se hvordan elven ser ut:"
   ]
  },
  {
   "cell_type": "code",
   "execution_count": null,
   "id": "e0246988",
   "metadata": {},
   "outputs": [],
   "source": [
    "import pathlib \n",
    "NOTEBOOK_PATH = pathlib.Path().resolve()\n",
    "DATA_DIRECTORY = NOTEBOOK_PATH / \"data\""
   ]
  },
  {
   "cell_type": "code",
   "execution_count": null,
   "id": "683d317f",
   "metadata": {},
   "outputs": [],
   "source": [
    "import geopandas\n",
    "\n",
    "amazon = geopandas.read_file(DATA_DIRECTORY / \"amazon_river\" / \"amazon_river.gpkg\")\n",
    "\n",
    "amazon.head()"
   ]
  },
  {
   "cell_type": "code",
   "execution_count": null,
   "id": "12859a0a",
   "metadata": {},
   "outputs": [],
   "source": [
    "amazon.crs"
   ]
  },
  {
   "cell_type": "code",
   "execution_count": null,
   "id": "37357ca3",
   "metadata": {},
   "outputs": [],
   "source": [
    "amazon.plot()"
   ]
  },
  {
   "cell_type": "markdown",
   "id": "afc67530",
   "metadata": {},
   "source": [
    "LineString som presenteres her er ganske detaljert, så la oss se hvordan vi\n",
    "kan generalisere dem litt. Som vi kan se fra koordinatreferansesystemet,\n",
    "er dataene projisert i et system som bruker [Mercator-projeksjon basert på\n",
    "SIRGAS-datum](http://spatialreference.org/ref/sr-org/7868/), og meter som en enhet. \n",
    "\n",
    "Generalisering kan enkelt gjøres ved å bruke en Shapely funksjon kalt\n",
    "`.simplify()`. `tolerance` parameteren kan brukes til å justere hvor mye\n",
    "geometrier skal generaliseres. **Toleranseverdien er knyttet til\n",
    "koordinatsystemet til geometriene**. Derfor er verdien vi gir her 20 000\n",
    "**meter** (20 kilometer)."
   ]
  },
  {
   "cell_type": "code",
   "execution_count": null,
   "id": "b9eb0ac9",
   "metadata": {},
   "outputs": [],
   "source": [
    "# Generaliser geometri\n",
    "amazon['simplegeom'] = amazon.simplify(tolerance=20000)\n",
    "\n",
    "# Sett geometri til å være vår nye forenklede geometri\n",
    "amazon = amazon.set_geometry('simplegeom')\n",
    "\n",
    "# Plott \n",
    "amazon.plot()"
   ]
  },
  {
   "cell_type": "markdown",
   "id": "91c9fee7",
   "metadata": {},
   "source": [
    "Flott! Som et resultat har vi nå forenklet vår LineString ganske betydelig som vi kan se fra kartet."
   ]
  }
 ],
 "metadata": {
  "kernelspec": {
   "display_name": "Python 3 (ipykernel)",
   "language": "python",
   "name": "python3"
  }
 },
 "nbformat": 4,
 "nbformat_minor": 5
}
