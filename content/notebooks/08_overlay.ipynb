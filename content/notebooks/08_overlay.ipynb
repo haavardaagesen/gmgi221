{
 "cells": [
  {
   "cell_type": "markdown",
   "id": "d91e383b",
   "metadata": {},
   "source": [
    "# 💻 Overlay\n",
    "\n",
    "[![Open In Colab](https://colab.research.google.com/assets/colab-badge.svg)](https://colab.research.google.com/github/GMGI221-2024/forelesninger/blob/main/08_overlay.ipynb)\n",
    "\n",
    "Overlay-analyser er GIS-operasjoner der to eller flere vektorlag er\n",
    "kombinert for å produsere nye geometrier. Typiske overlay-operasjoner inkluderer *union*,\n",
    "*intersection*, og *difference* - navngitt etter resultatet av kombinasjonen av to lag.\n",
    "\n",
    "\n",
    "![Fire paneler som viser union, intersection, symmetric difference og difference av to geometrier.](imgs/overlay_operations.png)\n",
    "\n",
    "\n",
    "Romlig overlay med to inputvektorlag (rektangel, sirkel). Det resulterende vektorlaget vises i grønt. *Kilde: [QGIS dokumentasjon](https://docs.qgis.org/latest/en/docs/gentle_gis_introduction/vector_spatial_analysis_buffers.html#figure-overlay-operations)*\n",
    ":::\n",
    "\n",
    "\n",
    "I denne notebooken vil vi utføre en overlay-analyse for å velge de polygon-cellene i et grid-datasett som ligger innenfor Oslo. I denne\n",
    "øvelsen, bruker vi to input-datasett: et grid av statistiske polygoner med\n",
    "befolkningen i Oslo og et polygon-datasett av norske kommuner\n",
    "(`kommuner.gpkg`), hvor vi skal velge bare Oslo kommune."
   ]
  },
  {
   "cell_type": "code",
   "execution_count": 1,
   "id": "52082ac4",
   "metadata": {},
   "outputs": [],
   "source": [
    "import pathlib \n",
    "NOTEBOOK_PATH = pathlib.Path().resolve()\n",
    "DATA_MAPPE = NOTEBOOK_PATH / \"data\""
   ]
  },
  {
   "cell_type": "code",
   "execution_count": 2,
   "id": "18ff58b6",
   "metadata": {},
   "outputs": [
    {
     "data": {
      "text/html": [
       "<div>\n",
       "<style scoped>\n",
       "    .dataframe tbody tr th:only-of-type {\n",
       "        vertical-align: middle;\n",
       "    }\n",
       "\n",
       "    .dataframe tbody tr th {\n",
       "        vertical-align: top;\n",
       "    }\n",
       "\n",
       "    .dataframe thead th {\n",
       "        text-align: right;\n",
       "    }\n",
       "</style>\n",
       "<table border=\"1\" class=\"dataframe\">\n",
       "  <thead>\n",
       "    <tr style=\"text-align: right;\">\n",
       "      <th></th>\n",
       "      <th>gml_id</th>\n",
       "      <th>lokalId</th>\n",
       "      <th>navnerom</th>\n",
       "      <th>versjonId</th>\n",
       "      <th>oppdateringsdato</th>\n",
       "      <th>gyldigFra</th>\n",
       "      <th>datauttaksdato</th>\n",
       "      <th>navn</th>\n",
       "      <th>språk</th>\n",
       "      <th>kommunenummer</th>\n",
       "      <th>kommunenavn</th>\n",
       "      <th>samiskForvaltningsområde</th>\n",
       "      <th>geometry</th>\n",
       "    </tr>\n",
       "  </thead>\n",
       "  <tbody>\n",
       "    <tr>\n",
       "      <th>0</th>\n",
       "      <td>kommune.1</td>\n",
       "      <td>0466e7c3-6a23-4b70-97d4-cf81f949490b</td>\n",
       "      <td>https://data.geonorge.no/sosi/inndelinger/innd...</td>\n",
       "      <td>3</td>\n",
       "      <td>2023-11-28T17:47:39</td>\n",
       "      <td>2024-01-01</td>\n",
       "      <td>2024-03-04T12:27:57</td>\n",
       "      <td>Ibestad</td>\n",
       "      <td>nor</td>\n",
       "      <td>5514</td>\n",
       "      <td>Ibestad</td>\n",
       "      <td>False</td>\n",
       "      <td>MULTIPOLYGON (((589669.263 7630312.979, 589669...</td>\n",
       "    </tr>\n",
       "    <tr>\n",
       "      <th>1</th>\n",
       "      <td>kommune.2</td>\n",
       "      <td>0f821a2d-a307-41ec-9b64-f01c80e39357</td>\n",
       "      <td>https://data.geonorge.no/sosi/inndelinger/innd...</td>\n",
       "      <td>4</td>\n",
       "      <td>2023-11-07T23:33:28</td>\n",
       "      <td>2023-11-07</td>\n",
       "      <td>2024-03-04T12:27:57</td>\n",
       "      <td>Rendalen</td>\n",
       "      <td>nor</td>\n",
       "      <td>3424</td>\n",
       "      <td>Rendalen</td>\n",
       "      <td>False</td>\n",
       "      <td>MULTIPOLYGON (((327391.890 6869419.570, 327363...</td>\n",
       "    </tr>\n",
       "    <tr>\n",
       "      <th>2</th>\n",
       "      <td>kommune.3</td>\n",
       "      <td>251a3fdd-ac96-4ef2-badb-a9b75e6ab2e6</td>\n",
       "      <td>https://data.geonorge.no/sosi/inndelinger/innd...</td>\n",
       "      <td>3</td>\n",
       "      <td>2023-11-28T15:42:05</td>\n",
       "      <td>2024-01-01</td>\n",
       "      <td>2024-03-04T12:27:57</td>\n",
       "      <td>Rakkestad</td>\n",
       "      <td>nor</td>\n",
       "      <td>3120</td>\n",
       "      <td>Rakkestad</td>\n",
       "      <td>False</td>\n",
       "      <td>MULTIPOLYGON (((284560.990 6591094.550, 284575...</td>\n",
       "    </tr>\n",
       "    <tr>\n",
       "      <th>3</th>\n",
       "      <td>kommune.4</td>\n",
       "      <td>2758a7b8-edba-4d6a-936e-4754ce03ca8f</td>\n",
       "      <td>https://data.geonorge.no/sosi/inndelinger/innd...</td>\n",
       "      <td>3</td>\n",
       "      <td>2023-11-28T15:56:10</td>\n",
       "      <td>2024-01-01</td>\n",
       "      <td>2024-03-04T12:27:57</td>\n",
       "      <td>Nordre Follo</td>\n",
       "      <td>nor</td>\n",
       "      <td>3207</td>\n",
       "      <td>Nordre Follo</td>\n",
       "      <td>False</td>\n",
       "      <td>MULTIPOLYGON (((269615.270 6638265.470, 269615...</td>\n",
       "    </tr>\n",
       "    <tr>\n",
       "      <th>4</th>\n",
       "      <td>kommune.5</td>\n",
       "      <td>340fff7f-b153-4a87-814d-12ca4f2d1682</td>\n",
       "      <td>https://data.geonorge.no/sosi/inndelinger/innd...</td>\n",
       "      <td>4</td>\n",
       "      <td>2023-11-07T23:33:28</td>\n",
       "      <td>2023-11-07</td>\n",
       "      <td>2024-03-04T12:27:57</td>\n",
       "      <td>Overhalla</td>\n",
       "      <td>nor</td>\n",
       "      <td>5047</td>\n",
       "      <td>Overhalla</td>\n",
       "      <td>False</td>\n",
       "      <td>MULTIPOLYGON (((359415.100 7152572.930, 359412...</td>\n",
       "    </tr>\n",
       "  </tbody>\n",
       "</table>\n",
       "</div>"
      ],
      "text/plain": [
       "      gml_id                               lokalId  \\\n",
       "0  kommune.1  0466e7c3-6a23-4b70-97d4-cf81f949490b   \n",
       "1  kommune.2  0f821a2d-a307-41ec-9b64-f01c80e39357   \n",
       "2  kommune.3  251a3fdd-ac96-4ef2-badb-a9b75e6ab2e6   \n",
       "3  kommune.4  2758a7b8-edba-4d6a-936e-4754ce03ca8f   \n",
       "4  kommune.5  340fff7f-b153-4a87-814d-12ca4f2d1682   \n",
       "\n",
       "                                            navnerom  versjonId  \\\n",
       "0  https://data.geonorge.no/sosi/inndelinger/innd...          3   \n",
       "1  https://data.geonorge.no/sosi/inndelinger/innd...          4   \n",
       "2  https://data.geonorge.no/sosi/inndelinger/innd...          3   \n",
       "3  https://data.geonorge.no/sosi/inndelinger/innd...          3   \n",
       "4  https://data.geonorge.no/sosi/inndelinger/innd...          4   \n",
       "\n",
       "      oppdateringsdato   gyldigFra       datauttaksdato          navn språk  \\\n",
       "0  2023-11-28T17:47:39  2024-01-01  2024-03-04T12:27:57       Ibestad   nor   \n",
       "1  2023-11-07T23:33:28  2023-11-07  2024-03-04T12:27:57      Rendalen   nor   \n",
       "2  2023-11-28T15:42:05  2024-01-01  2024-03-04T12:27:57     Rakkestad   nor   \n",
       "3  2023-11-28T15:56:10  2024-01-01  2024-03-04T12:27:57  Nordre Follo   nor   \n",
       "4  2023-11-07T23:33:28  2023-11-07  2024-03-04T12:27:57     Overhalla   nor   \n",
       "\n",
       "   kommunenummer   kommunenavn  samiskForvaltningsområde  \\\n",
       "0           5514       Ibestad                     False   \n",
       "1           3424      Rendalen                     False   \n",
       "2           3120     Rakkestad                     False   \n",
       "3           3207  Nordre Follo                     False   \n",
       "4           5047     Overhalla                     False   \n",
       "\n",
       "                                            geometry  \n",
       "0  MULTIPOLYGON (((589669.263 7630312.979, 589669...  \n",
       "1  MULTIPOLYGON (((327391.890 6869419.570, 327363...  \n",
       "2  MULTIPOLYGON (((284560.990 6591094.550, 284575...  \n",
       "3  MULTIPOLYGON (((269615.270 6638265.470, 269615...  \n",
       "4  MULTIPOLYGON (((359415.100 7152572.930, 359412...  "
      ]
     },
     "metadata": {},
     "output_type": "display_data"
    }
   ],
   "source": [
    "import geopandas\n",
    "\n",
    "rutenett = geopandas.read_file(DATA_MAPPE / \"ssb_rutenett\" / \"befolkning_250m_2023_akershus.gpkg\")\n",
    "\n",
    "\n",
    "kommuner = geopandas.read_file(\n",
    "    DATA_MAPPE / \"kommuner\" / \"kommuner.gpkg\"\n",
    ")\n",
    "display(kommuner.head())"
   ]
  },
  {
   "cell_type": "markdown",
   "id": "c9b036ee-9e99-4cf1-9710-bd68e7c71a97",
   "metadata": {},
   "source": [
    "Vi kan nå velge bare Ås kommune fra kommune-datasettet."
   ]
  },
  {
   "cell_type": "code",
   "execution_count": 3,
   "id": "0cc5e4ac-5eff-4810-afb5-9ba1f1c181f1",
   "metadata": {},
   "outputs": [
    {
     "data": {
      "text/html": [
       "<div>\n",
       "<style scoped>\n",
       "    .dataframe tbody tr th:only-of-type {\n",
       "        vertical-align: middle;\n",
       "    }\n",
       "\n",
       "    .dataframe tbody tr th {\n",
       "        vertical-align: top;\n",
       "    }\n",
       "\n",
       "    .dataframe thead th {\n",
       "        text-align: right;\n",
       "    }\n",
       "</style>\n",
       "<table border=\"1\" class=\"dataframe\">\n",
       "  <thead>\n",
       "    <tr style=\"text-align: right;\">\n",
       "      <th></th>\n",
       "      <th>gml_id</th>\n",
       "      <th>lokalId</th>\n",
       "      <th>navnerom</th>\n",
       "      <th>versjonId</th>\n",
       "      <th>oppdateringsdato</th>\n",
       "      <th>gyldigFra</th>\n",
       "      <th>datauttaksdato</th>\n",
       "      <th>navn</th>\n",
       "      <th>språk</th>\n",
       "      <th>kommunenummer</th>\n",
       "      <th>kommunenavn</th>\n",
       "      <th>samiskForvaltningsområde</th>\n",
       "      <th>geometry</th>\n",
       "    </tr>\n",
       "  </thead>\n",
       "  <tbody>\n",
       "    <tr>\n",
       "      <th>27</th>\n",
       "      <td>kommune.28</td>\n",
       "      <td>d285e9c4-8da0-4dfc-b927-31ba7ee17e6a</td>\n",
       "      <td>https://data.geonorge.no/sosi/inndelinger/innd...</td>\n",
       "      <td>3</td>\n",
       "      <td>2023-11-28T16:00:22</td>\n",
       "      <td>2024-01-01</td>\n",
       "      <td>2024-03-04T12:27:57</td>\n",
       "      <td>Ås</td>\n",
       "      <td>nor</td>\n",
       "      <td>3218</td>\n",
       "      <td>Ås</td>\n",
       "      <td>False</td>\n",
       "      <td>MULTIPOLYGON (((266871.580 6614231.500, 266871...</td>\n",
       "    </tr>\n",
       "  </tbody>\n",
       "</table>\n",
       "</div>"
      ],
      "text/plain": [
       "        gml_id                               lokalId  \\\n",
       "27  kommune.28  d285e9c4-8da0-4dfc-b927-31ba7ee17e6a   \n",
       "\n",
       "                                             navnerom  versjonId  \\\n",
       "27  https://data.geonorge.no/sosi/inndelinger/innd...          3   \n",
       "\n",
       "       oppdateringsdato   gyldigFra       datauttaksdato navn språk  \\\n",
       "27  2023-11-28T16:00:22  2024-01-01  2024-03-04T12:27:57   Ås   nor   \n",
       "\n",
       "    kommunenummer kommunenavn  samiskForvaltningsområde  \\\n",
       "27           3218          Ås                     False   \n",
       "\n",
       "                                             geometry  \n",
       "27  MULTIPOLYGON (((266871.580 6614231.500, 266871...  "
      ]
     },
     "execution_count": 3,
     "metadata": {},
     "output_type": "execute_result"
    }
   ],
   "source": [
    "aas = kommuner.loc[kommuner[\"navn\"] == \"Ås\"]\n",
    "aas.head()"
   ]
  },
  {
   "cell_type": "markdown",
   "id": "4604e487-d4e1-4a95-99ae-7ade3ef935a7",
   "metadata": {},
   "source": [
    "Før vi fortsetter er det en god ide å sørge for at begge lagene har samme koordinatsystem:"
   ]
  },
  {
   "cell_type": "code",
   "execution_count": 4,
   "id": "153a3b3a-79f3-44a2-8443-fd9dbec0562b",
   "metadata": {},
   "outputs": [
    {
     "data": {
      "text/plain": [
       "False"
      ]
     },
     "execution_count": 4,
     "metadata": {},
     "output_type": "execute_result"
    }
   ],
   "source": [
    "# Sjekke at lagene har samme crs\n",
    "rutenett.crs == aas.crs"
   ]
  },
  {
   "cell_type": "markdown",
   "id": "5b195154-d48b-4c0a-9f9b-918f5c61b009",
   "metadata": {},
   "source": [
    "De er ikke i samme koordinatsystem, så vi må transformere ett av lagene, sånn som vi gjorde i [en tidligere uke](#04_projeksjoner):"
   ]
  },
  {
   "cell_type": "code",
   "execution_count": 5,
   "id": "dcbdc4b9-57eb-429c-be91-e2d11d542936",
   "metadata": {},
   "outputs": [
    {
     "data": {
      "text/plain": [
       "True"
      ]
     },
     "execution_count": 5,
     "metadata": {},
     "output_type": "execute_result"
    }
   ],
   "source": [
    "# Transformere Ås-geodataframen\n",
    "rutenett = rutenett.to_crs(aas.crs)\n",
    "# Sjekke at lagene har samme crs\n",
    "rutenett.crs == aas.crs"
   ]
  },
  {
   "cell_type": "markdown",
   "id": "b9c4fcbc",
   "metadata": {},
   "source": [
    "La oss gjøre en rask overleggsvisualisering av de to lagene:"
   ]
  },
  {
   "cell_type": "code",
   "execution_count": 6,
   "id": "d3bb7a5a",
   "metadata": {},
   "outputs": [
    {
     "data": {
      "text/plain": [
       "<Axes: >"
      ]
     },
     "execution_count": 6,
     "metadata": {},
     "output_type": "execute_result"
    },
    {
     "data": {
      "image/png": "[encoded data removed]",
      "text/plain": [
       "<Figure size 640x480 with 1 Axes>"
      ]
     },
     "metadata": {},
     "output_type": "display_data"
    }
   ],
   "source": [
    "# Plott lagene\n",
    "ax = rutenett.plot(color=\"gray\")\n",
    "aas.plot(ax=ax, facecolor=\"None\", edgecolor=\"blue\")"
   ]
  },
  {
   "cell_type": "markdown",
   "id": "d9b14f53",
   "metadata": {},
   "source": [
    "Her er alle de grå rutene gridceller med befolkningsdata for Akershus fylke. Datasettet inneholder 17376 ruter.\n",
    "Det blå omrisset representerer Ås kommune. Vårt mål er nå å utføre en overlay-analyse og velge de geometriene fra rutenettet som krysser polygonet for Ås kommune.\n",
    "\n",
    "Vi vil lage et nytt lag basert på rutenett-polygoner som `intersect`-er med Ås-laget vårt. Vi kan bruke metoden `overlay()` med en `GeoDataFrame` for å utføre overlay-analysen som tar som en input 1) andre GeoDataFrames, og 2)\n",
    "parameteren `how` som kan brukes til å kontrollere hvordan overlay-analysen blir\n",
    "utført (mulige verdier er `'intersection'`, `'union'`,`'symmetric_difference'`, `'difference'`, og `'identity'`):"
   ]
  },
  {
   "cell_type": "code",
   "execution_count": 7,
   "id": "4ae9debf",
   "metadata": {},
   "outputs": [],
   "source": [
    "intersection = rutenett.overlay(aas, how=\"intersection\")"
   ]
  },
  {
   "cell_type": "markdown",
   "id": "d22abba7",
   "metadata": {},
   "source": [
    "La oss plotte dataene våre og se hva vi har:"
   ]
  },
  {
   "cell_type": "code",
   "execution_count": 8,
   "id": "4a0bb477",
   "metadata": {},
   "outputs": [
    {
     "data": {
      "text/plain": [
       "<Axes: >"
      ]
     },
     "execution_count": 8,
     "metadata": {},
     "output_type": "execute_result"
    },
    {
     "data": {
      "image/png": "[encoded data removed]",
      "text/plain": [
       "<Figure size 640x480 with 1 Axes>"
      ]
     },
     "metadata": {},
     "output_type": "display_data"
    }
   ],
   "source": [
    "intersection.plot(color=\"b\")"
   ]
  },
  {
   "cell_type": "markdown",
   "id": "12aec719",
   "metadata": {},
   "source": [
    "Som et resultat har vi nå bare de rutenett cellene som krysser med Helsingfors\n",
    "grenser. Hvis du ser nøye etter, kan du også observere at **rutenett cellene er\n",
    "klippet basert på grensen.**\n",
    "\n",
    "- Hva med dataattributter? La oss se hva vi har:"
   ]
  },
  {
   "cell_type": "code",
   "execution_count": 9,
   "id": "57716634",
   "metadata": {},
   "outputs": [
    {
     "data": {
      "text/html": [
       "<div>\n",
       "<style scoped>\n",
       "    .dataframe tbody tr th:only-of-type {\n",
       "        vertical-align: middle;\n",
       "    }\n",
       "\n",
       "    .dataframe tbody tr th {\n",
       "        vertical-align: top;\n",
       "    }\n",
       "\n",
       "    .dataframe thead th {\n",
       "        text-align: right;\n",
       "    }\n",
       "</style>\n",
       "<table border=\"1\" class=\"dataframe\">\n",
       "  <thead>\n",
       "    <tr style=\"text-align: right;\">\n",
       "      <th></th>\n",
       "      <th>ru250m</th>\n",
       "      <th>pop_tot</th>\n",
       "      <th>gml_id</th>\n",
       "      <th>lokalId</th>\n",
       "      <th>navnerom</th>\n",
       "      <th>versjonId</th>\n",
       "      <th>oppdateringsdato</th>\n",
       "      <th>gyldigFra</th>\n",
       "      <th>datauttaksdato</th>\n",
       "      <th>navn</th>\n",
       "      <th>språk</th>\n",
       "      <th>kommunenummer</th>\n",
       "      <th>kommunenavn</th>\n",
       "      <th>samiskForvaltningsområde</th>\n",
       "      <th>geometry</th>\n",
       "    </tr>\n",
       "  </thead>\n",
       "  <tbody>\n",
       "    <tr>\n",
       "      <th>0</th>\n",
       "      <td>22605006625250</td>\n",
       "      <td>10</td>\n",
       "      <td>kommune.28</td>\n",
       "      <td>d285e9c4-8da0-4dfc-b927-31ba7ee17e6a</td>\n",
       "      <td>https://data.geonorge.no/sosi/inndelinger/innd...</td>\n",
       "      <td>3</td>\n",
       "      <td>2023-11-28T16:00:22</td>\n",
       "      <td>2024-01-01</td>\n",
       "      <td>2024-03-04T12:27:57</td>\n",
       "      <td>Ås</td>\n",
       "      <td>nor</td>\n",
       "      <td>3218</td>\n",
       "      <td>Ås</td>\n",
       "      <td>False</td>\n",
       "      <td>POLYGON ((260500.000 6625250.000, 260500.000 6...</td>\n",
       "    </tr>\n",
       "    <tr>\n",
       "      <th>1</th>\n",
       "      <td>22617506625250</td>\n",
       "      <td>3</td>\n",
       "      <td>kommune.28</td>\n",
       "      <td>d285e9c4-8da0-4dfc-b927-31ba7ee17e6a</td>\n",
       "      <td>https://data.geonorge.no/sosi/inndelinger/innd...</td>\n",
       "      <td>3</td>\n",
       "      <td>2023-11-28T16:00:22</td>\n",
       "      <td>2024-01-01</td>\n",
       "      <td>2024-03-04T12:27:57</td>\n",
       "      <td>Ås</td>\n",
       "      <td>nor</td>\n",
       "      <td>3218</td>\n",
       "      <td>Ås</td>\n",
       "      <td>False</td>\n",
       "      <td>POLYGON ((261750.000 6625250.000, 261750.000 6...</td>\n",
       "    </tr>\n",
       "    <tr>\n",
       "      <th>2</th>\n",
       "      <td>22620006625250</td>\n",
       "      <td>23</td>\n",
       "      <td>kommune.28</td>\n",
       "      <td>d285e9c4-8da0-4dfc-b927-31ba7ee17e6a</td>\n",
       "      <td>https://data.geonorge.no/sosi/inndelinger/innd...</td>\n",
       "      <td>3</td>\n",
       "      <td>2023-11-28T16:00:22</td>\n",
       "      <td>2024-01-01</td>\n",
       "      <td>2024-03-04T12:27:57</td>\n",
       "      <td>Ås</td>\n",
       "      <td>nor</td>\n",
       "      <td>3218</td>\n",
       "      <td>Ås</td>\n",
       "      <td>False</td>\n",
       "      <td>POLYGON ((262000.000 6625250.000, 262000.000 6...</td>\n",
       "    </tr>\n",
       "    <tr>\n",
       "      <th>3</th>\n",
       "      <td>22622506625250</td>\n",
       "      <td>10</td>\n",
       "      <td>kommune.28</td>\n",
       "      <td>d285e9c4-8da0-4dfc-b927-31ba7ee17e6a</td>\n",
       "      <td>https://data.geonorge.no/sosi/inndelinger/innd...</td>\n",
       "      <td>3</td>\n",
       "      <td>2023-11-28T16:00:22</td>\n",
       "      <td>2024-01-01</td>\n",
       "      <td>2024-03-04T12:27:57</td>\n",
       "      <td>Ås</td>\n",
       "      <td>nor</td>\n",
       "      <td>3218</td>\n",
       "      <td>Ås</td>\n",
       "      <td>False</td>\n",
       "      <td>POLYGON ((262250.000 6625250.000, 262250.000 6...</td>\n",
       "    </tr>\n",
       "    <tr>\n",
       "      <th>4</th>\n",
       "      <td>22625006625250</td>\n",
       "      <td>14</td>\n",
       "      <td>kommune.28</td>\n",
       "      <td>d285e9c4-8da0-4dfc-b927-31ba7ee17e6a</td>\n",
       "      <td>https://data.geonorge.no/sosi/inndelinger/innd...</td>\n",
       "      <td>3</td>\n",
       "      <td>2023-11-28T16:00:22</td>\n",
       "      <td>2024-01-01</td>\n",
       "      <td>2024-03-04T12:27:57</td>\n",
       "      <td>Ås</td>\n",
       "      <td>nor</td>\n",
       "      <td>3218</td>\n",
       "      <td>Ås</td>\n",
       "      <td>False</td>\n",
       "      <td>POLYGON ((262500.000 6625250.000, 262500.000 6...</td>\n",
       "    </tr>\n",
       "  </tbody>\n",
       "</table>\n",
       "</div>"
      ],
      "text/plain": [
       "           ru250m  pop_tot      gml_id                               lokalId  \\\n",
       "0  22605006625250       10  kommune.28  d285e9c4-8da0-4dfc-b927-31ba7ee17e6a   \n",
       "1  22617506625250        3  kommune.28  d285e9c4-8da0-4dfc-b927-31ba7ee17e6a   \n",
       "2  22620006625250       23  kommune.28  d285e9c4-8da0-4dfc-b927-31ba7ee17e6a   \n",
       "3  22622506625250       10  kommune.28  d285e9c4-8da0-4dfc-b927-31ba7ee17e6a   \n",
       "4  22625006625250       14  kommune.28  d285e9c4-8da0-4dfc-b927-31ba7ee17e6a   \n",
       "\n",
       "                                            navnerom  versjonId  \\\n",
       "0  https://data.geonorge.no/sosi/inndelinger/innd...          3   \n",
       "1  https://data.geonorge.no/sosi/inndelinger/innd...          3   \n",
       "2  https://data.geonorge.no/sosi/inndelinger/innd...          3   \n",
       "3  https://data.geonorge.no/sosi/inndelinger/innd...          3   \n",
       "4  https://data.geonorge.no/sosi/inndelinger/innd...          3   \n",
       "\n",
       "      oppdateringsdato   gyldigFra       datauttaksdato navn språk  \\\n",
       "0  2023-11-28T16:00:22  2024-01-01  2024-03-04T12:27:57   Ås   nor   \n",
       "1  2023-11-28T16:00:22  2024-01-01  2024-03-04T12:27:57   Ås   nor   \n",
       "2  2023-11-28T16:00:22  2024-01-01  2024-03-04T12:27:57   Ås   nor   \n",
       "3  2023-11-28T16:00:22  2024-01-01  2024-03-04T12:27:57   Ås   nor   \n",
       "4  2023-11-28T16:00:22  2024-01-01  2024-03-04T12:27:57   Ås   nor   \n",
       "\n",
       "   kommunenummer kommunenavn  samiskForvaltningsområde  \\\n",
       "0           3218          Ås                     False   \n",
       "1           3218          Ås                     False   \n",
       "2           3218          Ås                     False   \n",
       "3           3218          Ås                     False   \n",
       "4           3218          Ås                     False   \n",
       "\n",
       "                                            geometry  \n",
       "0  POLYGON ((260500.000 6625250.000, 260500.000 6...  \n",
       "1  POLYGON ((261750.000 6625250.000, 261750.000 6...  \n",
       "2  POLYGON ((262000.000 6625250.000, 262000.000 6...  \n",
       "3  POLYGON ((262250.000 6625250.000, 262250.000 6...  \n",
       "4  POLYGON ((262500.000 6625250.000, 262500.000 6...  "
      ]
     },
     "execution_count": 9,
     "metadata": {},
     "output_type": "execute_result"
    }
   ],
   "source": [
    "intersection.head()"
   ]
  },
  {
   "cell_type": "markdown",
   "id": "d3c68ee5",
   "metadata": {},
   "source": [
    "Som vi kan se, på grunn av overleggsanalysen, inneholder datasettet attributtene\n",
    "fra begge input lagene.\n",
    "\n",
    "La oss lagre resultatrutenettet vårt som en GeoPackage."
   ]
  },
  {
   "cell_type": "code",
   "execution_count": 10,
   "id": "0a83f86c",
   "metadata": {},
   "outputs": [],
   "source": [
    "intersection.to_file(\n",
    "    DATA_MAPPE / \"intersection.gpkg\",\n",
    "    layer=\"befolkning_aas_kommune\"\n",
    ")"
   ]
  },
  {
   "cell_type": "markdown",
   "id": "66ad917d",
   "metadata": {},
   "source": [
    "Det er mange flere eksempler på forskjellige typer overleggsanalyse i\n",
    "[Geopandas dokumentasjon](http://geopandas.org/set_operations.html) hvor du\n",
    "kan gå og lære mer."
   ]
  }
 ],
 "metadata": {
  "kernelspec": {
   "display_name": "Python 3 (ipykernel)",
   "language": "python",
   "name": "python3"
  },
  "language_info": {
   "codemirror_mode": {
    "name": "ipython",
    "version": 3
   },
   "file_extension": ".py",
   "mimetype": "text/x-python",
   "name": "python",
   "nbconvert_exporter": "python",
   "pygments_lexer": "ipython3",
   "version": "3.10.14"
  }
 },
 "nbformat": 4,
 "nbformat_minor": 5
}
