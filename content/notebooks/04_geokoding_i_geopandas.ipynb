{
 "cells": [
  {
   "cell_type": "markdown",
   "id": "8684bb9d",
   "metadata": {},
   "source": [
    "# Geokoding i geopandas\n",
    "\n",
    "Geopandas støtter geokoding via et bibliotek kalt\n",
    "[geopy](http://geopy.readthedocs.io/), som må være installert for å bruke\n",
    "[geopandas ' `geopandas.tools.geocode()`\n",
    "funksjon](https://geopandas.org/en/stable/docs/reference/api/geopandas.tools.geocode.html).\n",
    "`geocode()` forventer en `liste` eller `pandas.Series` av adresser (strenger) og\n",
    "returnerer en `GeoDataFrame` med løste adresser og punktgeometrier.\n",
    "\n",
    "La oss prøve dette ut.\n",
    "\n",
    "Vi vil geokode adresser lagret i en semikolon-separert tekstfil kalt\n",
    "`addresses.txt`. Disse adressene ligger i Helsingforsregionen i Sør-Finland."
   ]
  },
  {
   "cell_type": "code",
   "execution_count": null,
   "id": "ca6ab35e",
   "metadata": {},
   "outputs": [],
   "source": [
    "import pathlib\n",
    "NOTEBOOK_PATH = pathlib.Path().resolve()\n",
    "DATA_DIRECTORY = NOTEBOOK_PATH / \"data\""
   ]
  },
  {
   "cell_type": "code",
   "execution_count": null,
   "id": "cbb3191e",
   "metadata": {},
   "outputs": [],
   "source": [
    "import pandas\n",
    "addresses = pandas.read_csv(\n",
    "    DATA_DIRECTORY / \"helsinki_addresses\" / \"addresses.txt\",\n",
    "    sep=\";\"\n",
    ")\n",
    "\n",
    "addresses.head()"
   ]
  },
  {
   "cell_type": "markdown",
   "id": "83aea158",
   "metadata": {},
   "source": [
    "Vi har en `id` for hver rad og en adresse i `addr` kolonnen.\n",
    "\n",
    "\n",
    "## Geokode adresser ved hjelp av *Nominatim*\n",
    "\n",
    "I vårt eksempel vil vi bruke *Nominatim* som en *geokodingstilbyder*. [*Nominatim*](https://nominatim.org/) er et bibliotek og tjeneste som bruker OpenStreetMap-data, og drives av OpenStreetMap Foundation. Geopandas '\n",
    "[`geocode()`\n",
    "funksjon](https://geopandas.org/en/stable/docs/reference/api/geopandas.tools.geocode.html) støtter den naturlig.\n",
    "\n",
    ":::{admonition} Rettferdig bruk\n",
    ":class: note\n",
    "\n",
    "[Nominatims brukervilkår](https://operations.osmfoundation.org/policies/nominatim/)\n",
    "krever at brukere av tjenesten sørger for at de ikke sender mer hyppige\n",
    "forespørsler enn en per sekund, og at en tilpasset **bruker-agent** streng er\n",
    "festet til hver forespørsel.\n",
    "\n",
    "Geopandas' implementering lar oss spesifisere en `user_agent`; biblioteket tar også\n",
    "hånd om å respektere hastighetsbegrensningen til Nominatim.\n",
    "\n",
    "Å slå opp en adresse er en ganske kostbar databaseoperasjon. Derfor er det,\n",
    "noen ganger, den offentlige og gratis å bruke Nominatim-serveren tar litt lenger tid å\n",
    "svare. I dette eksempelet legger vi til en parameter `timeout=10` for å vente opptil 10\n",
    "sekunder for et svar.\n",
    ":::"
   ]
  },
  {
   "cell_type": "code",
   "execution_count": null,
   "id": "0b593bb7",
   "metadata": {},
   "outputs": [],
   "source": [
    "import geopandas\n",
    "\n",
    "geocoded_addresses = geopandas.tools.geocode(\n",
    "    addresses[\"addr\"],\n",
    "    provider=\"nominatim\",\n",
    "    user_agent=\"autogis2023\",\n",
    "    timeout=10\n",
    ")\n",
    "geocoded_addresses.head()"
   ]
  },
  {
   "cell_type": "markdown",
   "id": "1b52ec03",
   "metadata": {},
   "source": [
    "Et voilà! Som et resultat mottok vi en `GeoDataFrame` som inneholder en analysert\n",
    "versjon av våre originale adresser og en `geometry` kolonne av\n",
    "`shapely.geometry.Point`s som vi kan bruke, for eksempel, for å eksportere dataene til\n",
    "et geospatialt dataformat.\n",
    "\n",
    "Imidlertid ble `id`-kolonnen forkastet i prosessen. For å kombinere input\n",
    "datasettet med resultatsettet vårt, kan vi bruke pandas' [*join*\n",
    "operasjoner](https://pandas.pydata.org/docs/user_guide/merging.html).\n",
    "\n",
    "\n",
    "## Bli med i data frames\n",
    "\n",
    ":::{admonition} Bli med i datasett ved hjelp av pandas\n",
    ":class: note\n",
    "\n",
    "For en omfattende oversikt over forskjellige måter å kombinere data rammer og\n",
    "Serier basert på sett teori, ta en titt på pandas dokumentasjon om [merge,\n",
    "join og\n",
    "concatenate](https://pandas.pydata.org/pandas-docs/stable/user_guide/merging.html).\n",
    ":::\n",
    "\n",
    "\n",
    "Å bli med data fra to eller flere data frames eller tabeller er en vanlig oppgave i mange\n",
    "(romlige) dataanalysearbeidsflyter. Som du kanskje husker fra våre tidligere\n",
    "leksjoner, kan kombinering av data fra forskjellige tabeller basert på felles **nøkkel** attributt\n",
    "gjøres enkelt i pandas/geopandas ved hjelp av [`merge()`\n",
    "funksjonen](https://pandas.pydata.org/pandas-docs/stable/generated/pandas.DataFrame.merge.html).\n",
    "Vi brukte denne tilnærmingen i [øvelse 6 i Geo-Python\n",
    "kurset](https://geo-python-site.readthedocs.io/en/latest/lessons/L6/exercise-6.html#joining-data-from-one-dataframe-to-another).\n",
    "\n",
    "Men, noen ganger er det nyttig å bli med to data frames sammen basert på deres\n",
    "**indeks**. Data frames må ha **samme antall poster** og\n",
    "**dele den samme indeksen** (enkelt sagt, de skal ha samme rekkefølge av rader).\n",
    "\n",
    "Vi kan bruke denne tilnærmingen, her, for å bli med informasjon fra den originale data\n",
    "rammen `addresses` til de geokodede adressene `geocoded_addresses`, rad for rad.\n",
    "`join()`-funksjonen, som standard, blir med to data frames basert på indeksen deres.\n",
    "Dette fungerer korrekt for eksemplet vårt, da rekkefølgen på de to data frames er\n",
    "identisk."
   ]
  },
  {
   "cell_type": "code",
   "execution_count": null,
   "id": "20d02f02",
   "metadata": {},
   "outputs": [],
   "source": [
    "geocoded_addresses_with_id = geocoded_addresses.join(addresses)\n",
    "geocoded_addresses_with_id"
   ]
  },
  {
   "cell_type": "markdown",
   "id": "5a1cc532",
   "metadata": {},
   "source": [
    "Utdataen fra `join()` er en ny `geopandas.GeoDataFrame`:"
   ]
  },
  {
   "cell_type": "code",
   "execution_count": null,
   "id": "c8f525c6",
   "metadata": {},
   "outputs": [],
   "source": [
    "type(geocoded_addresses_with_id)"
   ]
  },
  {
   "cell_type": "markdown",
   "id": "ed1a5b79",
   "metadata": {},
   "source": [
    "Den nye data rammen har alle originale kolonner pluss nye kolonner for `geometry`\n",
    "og for en analysert `adresse` som kan brukes til å spot-sjekke resultatene.\n",
    "\n",
    ":::{note}\n",
    "Hvis du skulle gjøre join den andre veien, dvs. `addresses.join(geocoded_addresses)`, ville utdata være en `pandas.DataFrame`, ikke en `geopandas.GeoDataFrame`.\n",
    ":::\n",
    "\n",
    "\n",
    "---\n",
    "\n",
    "\n",
    "Det er nå enkelt å lagre det nye datasettet som en geospatial fil, for eksempel, i\n",
    "*GeoPackage* format:"
   ]
  },
  {
   "cell_type": "code",
   "execution_count": null,
   "id": "037e6330",
   "metadata": {
    "tags": [
     "remove-input",
     "remove-output"
    ]
   },
   "outputs": [],
   "source": [
    "# slett en muligens eksisterende fil, da den skaper\n",
    "# problemer i tilfelle sphinx kjøres gjentatte ganger\n",
    "try:\n",
    "    (DATA_DIRECTORY / \"addresses.gpkg\").unlink()\n",
    "except FileNotFoundError:\n",
    "    pass"
   ]
  },
  {
   "cell_type": "code",
   "execution_count": null,
   "id": "89fee980",
   "metadata": {},
   "outputs": [],
   "source": [
    "geocoded_addresses.to_file(DATA_DIRECTORY / \"addresses.gpkg\")"
   ]
  }
 ],
 "metadata": {
  "kernelspec": {
   "display_name": "Python 3 (ipykernel)",
   "language": "python",
   "name": "python3"
  },
  "language_info": {
   "codemirror_mode": {
    "name": "ipython",
    "version": 3
   },
   "file_extension": ".py",
   "mimetype": "text/x-python",
   "name": "python",
   "nbconvert_exporter": "python",
   "pygments_lexer": "ipython3",
   "version": "3.11.0"
  }
 },
 "nbformat": 4,
 "nbformat_minor": 5
}
