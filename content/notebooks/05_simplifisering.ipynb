{
 "cells": [
  {
   "cell_type": "markdown",
   "id": "95c9b3c8",
   "metadata": {},
   "source": [
    "# 💻 Forenkling av geometrier\n",
    "\n",
    "Noen ganger kan det være nyttig å kunne forenkle geometrier. Dette kan være\n",
    "noe å vurdere for eksempel når du har veldig detaljerte romlige egenskaper\n",
    "som dekker hele verden. Hvis du lager et kart som dekker hele verden, er det unødvendig å ha veldig detaljerte geometrier fordi det er rett og slett\n",
    "umulig å se de små detaljene fra kartet ditt. Videre tar det lang tid å faktisk gjengi et stort antall detaljer i et kart. Her vil vi\n",
    "se hvordan det er mulig å forenkle geometriske egenskaper i Python.\n",
    "\n",
    "\n",
    "Som eksempel vil vi bruke data som representerer Amazonas-elven i Sør-Amerika og forenkle dens geometrier.\n",
    "\n",
    "La oss først lese dataene og se hvordan elven ser ut:"
   ]
  },
  {
   "cell_type": "code",
   "execution_count": 1,
   "id": "e0246988",
   "metadata": {},
   "outputs": [],
   "source": [
    "import pathlib \n",
    "NOTEBOOK_PATH = pathlib.Path().resolve()\n",
    "DATA_MAPPE = NOTEBOOK_PATH / \"data\""
   ]
  },
  {
   "cell_type": "code",
   "execution_count": 2,
   "id": "683d317f",
   "metadata": {},
   "outputs": [
    {
     "data": {
      "text/html": [
       "<div>\n",
       "<style scoped>\n",
       "    .dataframe tbody tr th:only-of-type {\n",
       "        vertical-align: middle;\n",
       "    }\n",
       "\n",
       "    .dataframe tbody tr th {\n",
       "        vertical-align: top;\n",
       "    }\n",
       "\n",
       "    .dataframe thead th {\n",
       "        text-align: right;\n",
       "    }\n",
       "</style>\n",
       "<table border=\"1\" class=\"dataframe\">\n",
       "  <thead>\n",
       "    <tr style=\"text-align: right;\">\n",
       "      <th></th>\n",
       "      <th>bbox_east</th>\n",
       "      <th>bbox_north</th>\n",
       "      <th>bbox_south</th>\n",
       "      <th>bbox_west</th>\n",
       "      <th>place_name</th>\n",
       "      <th>geometry</th>\n",
       "    </tr>\n",
       "  </thead>\n",
       "  <tbody>\n",
       "    <tr>\n",
       "      <th>0</th>\n",
       "      <td>-49.10927</td>\n",
       "      <td>0.70653</td>\n",
       "      <td>-4.44219</td>\n",
       "      <td>-73.450126</td>\n",
       "      <td>Rio Amazonas, Microrregião de Manaus, Mesorreg...</td>\n",
       "      <td>MULTILINESTRING ((1612358.589 9508606.173, 161...</td>\n",
       "    </tr>\n",
       "  </tbody>\n",
       "</table>\n",
       "</div>"
      ],
      "text/plain": [
       "   bbox_east  bbox_north  bbox_south  bbox_west  \\\n",
       "0  -49.10927     0.70653    -4.44219 -73.450126   \n",
       "\n",
       "                                          place_name  \\\n",
       "0  Rio Amazonas, Microrregião de Manaus, Mesorreg...   \n",
       "\n",
       "                                            geometry  \n",
       "0  MULTILINESTRING ((1612358.589 9508606.173, 161...  "
      ]
     },
     "execution_count": 2,
     "metadata": {},
     "output_type": "execute_result"
    }
   ],
   "source": [
    "import geopandas\n",
    "\n",
    "amazon = geopandas.read_file(DATA_MAPPE / \"amazon_river\" / \"amazon_river.gpkg\")\n",
    "\n",
    "amazon.head()"
   ]
  },
  {
   "cell_type": "code",
   "execution_count": 3,
   "id": "12859a0a",
   "metadata": {},
   "outputs": [
    {
     "data": {
      "text/plain": [
       "<Projected CRS: PROJCS[\"Mercator_2SP\",GEOGCS[\"GCS_GRS 1980(IUGG, 1 ...>\n",
       "Name: Mercator_2SP\n",
       "Axis Info [cartesian]:\n",
       "- [east]: Easting (metre)\n",
       "- [north]: Northing (metre)\n",
       "Area of Use:\n",
       "- undefined\n",
       "Coordinate Operation:\n",
       "- name: unnamed\n",
       "- method: Mercator (variant B)\n",
       "Datum: unknown\n",
       "- Ellipsoid: GRS80\n",
       "- Prime Meridian: Unknown"
      ]
     },
     "execution_count": 3,
     "metadata": {},
     "output_type": "execute_result"
    }
   ],
   "source": [
    "amazon.crs"
   ]
  },
  {
   "cell_type": "code",
   "execution_count": 4,
   "id": "37357ca3",
   "metadata": {},
   "outputs": [
    {
     "data": {
      "text/plain": [
       "<Axes: >"
      ]
     },
     "execution_count": 4,
     "metadata": {},
     "output_type": "execute_result"
    },
    {
     "data": {
      "image/png": "[encoded data removed]",
      "text/plain": [
       "<Figure size 640x480 with 1 Axes>"
      ]
     },
     "metadata": {},
     "output_type": "display_data"
    }
   ],
   "source": [
    "amazon.plot()"
   ]
  },
  {
   "cell_type": "markdown",
   "id": "afc67530",
   "metadata": {},
   "source": [
    "LineStringen som presenteres her er ganske detaljert, så la oss se hvordan vi\n",
    "kan generalisere den litt. Som vi kan se fra koordinasystemet,\n",
    "er dataene projisert i et system som bruker [Mercator-projeksjon basert på\n",
    "SIRGAS-datum](http://spatialreference.org/ref/sr-org/7868/), og meter som enhet. \n",
    "\n",
    "Generalisering kan enkelt gjøres ved å bruke en Shapely funksjon kalt\n",
    "`.simplify()`. `tolerance`-parameteren kan brukes til å justere hvor mye\n",
    "geometrier skal generaliseres. **Toleranseverdien er knyttet til\n",
    "koordinatsystemet til geometriene**. Derfor er verdien vi gir her 20 000\n",
    "**meter** (20 kilometer)."
   ]
  },
  {
   "cell_type": "code",
   "execution_count": 5,
   "id": "b9eb0ac9",
   "metadata": {},
   "outputs": [
    {
     "data": {
      "text/plain": [
       "<Axes: >"
      ]
     },
     "execution_count": 5,
     "metadata": {},
     "output_type": "execute_result"
    },
    {
     "data": {
      "image/png": "[encoded data removed]",
      "text/plain": [
       "<Figure size 640x480 with 1 Axes>"
      ]
     },
     "metadata": {},
     "output_type": "display_data"
    }
   ],
   "source": [
    "# Generaliser geometri\n",
    "amazon['simplegeom'] = amazon.simplify(tolerance=20000)\n",
    "\n",
    "# Sett geometri til å være vår nye forenklede geometri\n",
    "amazon = amazon.set_geometry('simplegeom')\n",
    "\n",
    "# Plott \n",
    "amazon.plot()"
   ]
  },
  {
   "cell_type": "markdown",
   "id": "91c9fee7",
   "metadata": {},
   "source": [
    "Flott! Som et resultat har vi nå forenklet vår LineString ganske betydelig som vi kan se fra kartet."
   ]
  }
 ],
 "metadata": {
  "kernelspec": {
   "display_name": "base",
   "language": "python",
   "name": "python3"
  },
  "language_info": {
   "codemirror_mode": {
    "name": "ipython",
    "version": 3
   },
   "file_extension": ".py",
   "mimetype": "text/x-python",
   "name": "python",
   "nbconvert_exporter": "python",
   "pygments_lexer": "ipython3",
   "version": "3.11.6"
  }
 },
 "nbformat": 4,
 "nbformat_minor": 5
}
