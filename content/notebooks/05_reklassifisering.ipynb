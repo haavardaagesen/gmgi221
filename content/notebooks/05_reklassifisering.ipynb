{
 "cells": [
  {
   "cell_type": "markdown",
   "id": "62d5a33e",
   "metadata": {},
   "source": [
    "# 💻 Reklassifisering av data\n",
    "\n",
    "Reklassifisering av data basert på spesifikke kriterier er en vanlig oppgave når man utfører GIS\n",
    "analyse. Formålet med denne leksjonen er å se hvordan vi kan reklassifisere verdier\n",
    "basert på noen kriterier. Vi kunne for eksempel klassifisere informasjon basert på\n",
    "reisetider og boligpriser ved hjelp av disse kriteriene:\n",
    "\n",
    "\n",
    "1. Hvis reisetiden til jobben min er mindre enn 30 minutter, **OG**\n",
    "2. husleien for leiligheten er mindre enn 1000 € per måned\n",
    "\n",
    "Hvis begge kriteriene er oppfylt: Jeg går for å se leiligheten og prøver å leie den\n",
    "Hvis ikke: Jeg fortsetter å lete etter noe annet\n",
    "\n",
    "\n",
    "I denne opplæringen vil vi:\n",
    "\n",
    "1. Bruk klassifiseringsskjemaer fra PySAL [mapclassify\n",
    "   bibliotek](https://pysal.org/mapclassify/) for å klassifisere reisetider til\n",
    "   flere klasser.\n",
    "\n",
    "2. Opprett en egendefinert klassifisering for å klassifisere reisetider og avstander for å finne ut gode steder å kjøpe en leilighet med disse forholdene:\n",
    "   - god offentlig transport tilgjengelighet til sentrum\n",
    "   - litt lenger borte fra sentrum hvor prisene antageligvis er lavere\n",
    "\n",
    "\n",
    "## Inngangsdata\n",
    "\n",
    "Vi vil bruke [Travel Time Matrix data fra\n",
    "Helsingfors](https://blogs.helsinki.fi/accessibility/helsinki-region-travel-time-matrix/)\n",
    "som inneholder reisetid og avstandsinformasjon for ruter mellom alle 250 m\n",
    "x 250 m rutenettcellesentroider (n = 13231) i hovedstadsregionen i Helsingfors ved\n",
    "gange, sykling, offentlig transport og bil."
   ]
  },
  {
   "cell_type": "code",
   "execution_count": null,
   "id": "db569794",
   "metadata": {},
   "outputs": [],
   "source": [
    "import pathlib \n",
    "NOTEBOOK_PATH = pathlib.Path().resolve()\n",
    "DATA_DIRECTORY = NOTEBOOK_PATH / \"data\""
   ]
  },
  {
   "cell_type": "code",
   "execution_count": null,
   "id": "ccc1ffdd",
   "metadata": {},
   "outputs": [],
   "source": [
    "import geopandas\n",
    "tilgjengelighet_rutenett = geopandas.read_file(\n",
    "    DATA_DIRECTORY\n",
    "    / \"helsinki_region_travel_times_to_railway_station\"\n",
    "    / \"helsinki_region_travel_times_to_railway_station.gpkg\"\n",
    ")\n",
    "tilgjengelighet_rutenett.head()"
   ]
  },
  {
   "cell_type": "markdown",
   "id": "6e83115b",
   "metadata": {},
   "source": [
    "## Vanlige klassifiseringer\n",
    "\n",
    "### Klassifiseringsskjemaer for tematiske kart\n",
    "\n",
    "[PySAL](https://pysal.org/) -modulen er et omfattende Python-bibliotek for romlig\n",
    "analyse. Det inkluderer også alle de vanligste dataklassifiseringene som er\n",
    "brukt vanlig f.eks. når man visualiserer data. Tilgjengelige kartklassifiseringer i [pysal's\n",
    "mapclassify -modul](https://github.com/pysal/mapclassify):\n",
    "\n",
    "- Box Plot\n",
    "- Equal Interval\n",
    "- Fisher Jenks\n",
    "- Fisher Jenks Sampled\n",
    "- HeadTail Breaks\n",
    "- Jenks Caspall\n",
    "- Jenks Caspall Forced\n",
    "- Jenks Caspall Sampled\n",
    "- Max P Classifier\n",
    "- Maximum Breaks\n",
    "- Natural Breaks\n",
    "- Quantiles\n",
    "- Percentiles\n",
    "- Std Mean\n",
    "- User Defined\n",
    "\n",
    "\n",
    "Det er mange forskjellige variabler i tilgjengelighets datasettet (se\n",
    "[herfra beskrivelsen](http://blogs.helsinki.fi/accessibility/helsinki-region-travel-time-matrix-2015)\n",
    "for alle attributter) men det vi er interessert i er kolonner kalt `pt_r_tt`\n",
    "som forteller tiden i minutter det tar å nå bysentrum fra\n",
    "forskjellige deler av byen, og `walk_d` som forteller nettverksavstanden ved\n",
    "veier for å nå bysentrum fra forskjellige deler av byen (nesten lik\n",
    "Euklidsk avstand).\n",
    "\n",
    "**NoData-verdiene presenteres med verdi -1**. \n",
    "Derfor må vi først fjerne No Data-verdiene."
   ]
  },
  {
   "cell_type": "code",
   "execution_count": null,
   "id": "b2dbb165",
   "metadata": {},
   "outputs": [],
   "source": [
    "# Inkluder bare data som er over eller lik 0\n",
    "tilgjengelighet_rutenett = tilgjengelighet_rutenett.loc[tilgjengelighet_rutenett[\"pt_r_tt\"] >=0]"
   ]
  },
  {
   "cell_type": "markdown",
   "id": "9e56ed55",
   "metadata": {},
   "source": [
    "La oss plotte dataene og se hvordan det ser ut\n",
    "- `cmap` parameter definerer fargekartet. Les mer om [valg av fargekart i matplotlib](https://matplotlib.org/3.1.0/tutorials/colors/colormaps.html)\n",
    "- `scheme` alternativ skalerer fargene i henhold til et klassifiseringsskjema (krever at `mapclassify` modulen er installert):"
   ]
  },
  {
   "cell_type": "code",
   "execution_count": null,
   "id": "fb540ac0",
   "metadata": {},
   "outputs": [],
   "source": [
    "# Plott ved hjelp av 9 klasser og klassifiser verdiene ved hjelp av \"Natural Breaks\" klassifisering\n",
    "tilgjengelighet_rutenett.plot(column=\"pt_r_tt\", scheme=\"Natural_Breaks\", k=9, cmap=\"RdYlBu\", linewidth=0, legend=True)"
   ]
  },
  {
   "cell_type": "markdown",
   "id": "0f6591cc",
   "metadata": {},
   "source": [
    "Som vi kan se fra dette kartet, er reisetidene lavere i sør hvor\n",
    "bysentrum ligger, men det er også noen områder med \"god\" tilgjengelighet også i\n",
    "noen andre områder (hvor fargen er rød).\n",
    "\n",
    "La oss også lage et plott om gangavstander:"
   ]
  },
  {
   "cell_type": "code",
   "execution_count": null,
   "id": "ad11db7f",
   "metadata": {},
   "outputs": [],
   "source": [
    "# Plott gangavstand\n",
    "tilgjengelighet_rutenett.plot(column=\"walk_d\", scheme=\"Natural_Breaks\", k=9, cmap=\"RdYlBu\", linewidth=0, legend=True)"
   ]
  },
  {
   "cell_type": "markdown",
   "id": "2c710848",
   "metadata": {},
   "source": [
    "Ok, herfra kan vi se at gangavstandene (langs vei nettverket)\n",
    "minner mer eller mindre om Euklidske avstander.\n",
    "\n",
    "### Bruk av klassifiseringer på data\n",
    "\n",
    "Som nevnt, definerer `scheme` alternativet klassifiseringsskjemaet ved hjelp av\n",
    "`pysal/mapclassify`. La oss se nærmere på hvordan disse klassifiseringene fungerer."
   ]
  },
  {
   "cell_type": "code",
   "execution_count": null,
   "id": "0b50da15",
   "metadata": {},
   "outputs": [],
   "source": [
    "import mapclassify"
   ]
  },
  {
   "cell_type": "markdown",
   "id": "b889e486",
   "metadata": {},
   "source": [
    "#### Natural Breaks"
   ]
  },
  {
   "cell_type": "code",
   "execution_count": null,
   "id": "a92c8e76",
   "metadata": {},
   "outputs": [],
   "source": [
    "mapclassify.NaturalBreaks(y=tilgjengelighet_rutenett[\"pt_r_tt\"], k=9)"
   ]
  },
  {
   "cell_type": "markdown",
   "id": "d4ca8389",
   "metadata": {},
   "source": [
    "#### Quantiles (standard er 5 klasser):"
   ]
  },
  {
   "cell_type": "code",
   "execution_count": null,
   "id": "b397080f",
   "metadata": {},
   "outputs": [],
   "source": [
    "mapclassify.Quantiles(y=tilgjengelighet_rutenett[\"pt_r_tt\"])"
   ]
  },
  {
   "cell_type": "markdown",
   "id": "db2659d8",
   "metadata": {},
   "source": [
    "#### Trekk ut terskelverdiene\n",
    "\n",
    "Det er mulig å trekke ut terskelverdiene i en matrise:"
   ]
  },
  {
   "cell_type": "code",
   "execution_count": null,
   "id": "4b37a2b2",
   "metadata": {},
   "outputs": [],
   "source": [
    "klassifiserer = mapclassify.NaturalBreaks(y=tilgjengelighet_rutenett[\"pt_r_tt\"], k=9)\n",
    "klassifiserer.bins"
   ]
  },
  {
   "cell_type": "markdown",
   "id": "7ddfcc8e",
   "metadata": {},
   "source": [
    "La oss bruke en av `Pysal` klassifiseringene på dataene våre og klassifisere\n",
    "reisetider med offentlig transport til 9 klasser\n",
    "Klassifiseringen må først initialiseres med `make()` funksjonen som tar\n",
    "antall ønskede klasser som inngangsparameter"
   ]
  },
  {
   "cell_type": "code",
   "execution_count": null,
   "id": "a147e645",
   "metadata": {},
   "outputs": [],
   "source": [
    "# Lag en Natural Breaks klassifisering\n",
    "klassifiserer = mapclassify.NaturalBreaks.make(k=9)"
   ]
  },
  {
   "cell_type": "markdown",
   "id": "bc94ef05",
   "metadata": {},
   "source": [
    "- Nå kan vi bruke klassifiseringen på dataene våre ved å bruke `apply` -funksjonen"
   ]
  },
  {
   "cell_type": "code",
   "execution_count": null,
   "id": "a3ce4f0c",
   "metadata": {},
   "outputs": [],
   "source": [
    "# Klassifiser dataene\n",
    "klassifiseringer = tilgjengelighet_rutenett[[\"pt_r_tt\"]].apply(klassifiserer)\n",
    "\n",
    "# La oss se hva vi har\n",
    "klassifiseringer.head()"
   ]
  },
  {
   "cell_type": "code",
   "execution_count": null,
   "id": "0bce101c",
   "metadata": {},
   "outputs": [],
   "source": [
    "type(klassifiseringer)"
   ]
  },
  {
   "cell_type": "markdown",
   "id": "8c37942d",
   "metadata": {},
   "source": [
    "Ok, så nå har vi en DataFrame der inngangskolonnen vår ble klassifisert til 9\n",
    "forskjellige klasser (tallene 1-9) basert på [Natural Breaks\n",
    "klassifisering](http://wiki-1-1930356585.us-east-1.elb.amazonaws.com/wiki/index.php/Jenks_Natural_Breaks_Classification).\n",
    "\n",
    "Vi kan også legge til klassifiseringsverdiene direkte i en ny kolonne i vår dataframe:"
   ]
  },
  {
   "cell_type": "code",
   "execution_count": null,
   "id": "1cfa98aa",
   "metadata": {},
   "outputs": [],
   "source": [
    "# Gi nytt navn til kolonnen så vi vet at den ble klassifisert med naturlige brudd\n",
    "tilgjengelighet_rutenett[\"nb_pt_r_tt\"] = tilgjengelighet_rutenett[[\"pt_r_tt\"]].apply(klassifiserer)\n",
    "\n",
    "# Sjekk de opprinnelige verdiene og klassifiseringen\n",
    "tilgjengelighet_rutenett[[\"pt_r_tt\", \"nb_pt_r_tt\"]].head()"
   ]
  },
  {
   "cell_type": "markdown",
   "id": "ca2305e5",
   "metadata": {},
   "source": [
    "Flott, nå har vi disse verdiene i vår tilgjengelighet GeoDataFrame. La oss\n",
    "visualisere resultatene og se hvordan de ser ut."
   ]
  },
  {
   "cell_type": "code",
   "execution_count": null,
   "id": "32c53729",
   "metadata": {},
   "outputs": [],
   "source": [
    "# Plott\n",
    "tilgjengelighet_rutenett.plot(column=\"nb_pt_r_tt\", linewidth=0, legend=True)"
   ]
  },
  {
   "cell_type": "markdown",
   "id": "d12dc8a1",
   "metadata": {},
   "source": [
    "Og her går vi, nå har vi et kart der vi har brukt en av de vanlige\n",
    "klassifiseringene for å klassifisere dataene våre i 9 klasser.\n",
    "\n",
    "\n",
    "## Plott et histogram\n",
    "\n",
    "Et histogram er en grafisk representasjon av datafordelingen. Når\n",
    "man klassifiserer data, er det alltid bra å vurdere hvordan dataene er fordelt,\n",
    "og hvordan klassifiseringsskjemaet deler verdier i forskjellige områder.\n",
    "\n",
    "- plott histogrammet ved hjelp av [pandas.DataFrame.plot.hist](https://pandas.pydata.org/pandas-docs/stable/reference/api/pandas.DataFrame.plot.hist.html)\n",
    "- Antall histogrambinner (grupper av data) kan kontrolleres ved hjelp av parameteren `bins`:"
   ]
  },
  {
   "cell_type": "code",
   "execution_count": null,
   "id": "70708402",
   "metadata": {},
   "outputs": [],
   "source": [
    "# Histogram for offentlig transport i rushtiden reisetid\n",
    "tilgjengelighet_rutenett[\"pt_r_tt\"].plot.hist(bins=50)"
   ]
  },
  {
   "cell_type": "markdown",
   "id": "d00cd27f",
   "metadata": {},
   "source": [
    "La oss også legge til terskelverdier på toppen av histogrammet som vertikale linjer.\n",
    "\n",
    "- Natural Breaks:"
   ]
  },
  {
   "cell_type": "code",
   "execution_count": null,
   "id": "004f88fd",
   "metadata": {},
   "outputs": [],
   "source": [
    "import matplotlib.pyplot as plt\n",
    "\n",
    "# Definer klassifiserer\n",
    "klassifiserer = mapclassify.NaturalBreaks(y=tilgjengelighet_rutenett[\"pt_r_tt\"], k=9)\n",
    "\n",
    "# Plott histogram for offentlig transport i rushtiden reisetid\n",
    "tilgjengelighet_rutenett[\"pt_r_tt\"].plot.hist(bins=50)\n",
    "\n",
    "# Legg til vertikale linjer for klassebrudd\n",
    "for break_point in klassifiserer.bins:\n",
    "    plt.axvline(break_point, color=\"k\", linestyle=\"dashed\", linewidth=1)"
   ]
  },
  {
   "cell_type": "markdown",
   "id": "fdd440e4",
   "metadata": {},
   "source": [
    "- Kvartiler:"
   ]
  },
  {
   "cell_type": "code",
   "execution_count": null,
   "id": "8fcd562c",
   "metadata": {},
   "outputs": [],
   "source": [
    "# Definer klassifiserer\n",
    "klassifiserer = mapclassify.Quantiles(y=tilgjengelighet_rutenett['pt_r_tt'])\n",
    "\n",
    "# Plott histogram for offentlig transport i rushtiden reisetid\n",
    "tilgjengelighet_rutenett[\"pt_r_tt\"].plot.hist(bins=50)\n",
    "\n",
    "for break_point in klassifiserer.bins:\n",
    "    plt.axvline(break_point, color=\"k\", linestyle=\"dashed\", linewidth=1)"
   ]
  },
  {
   "cell_type": "markdown",
   "id": "55516b7f",
   "metadata": {},
   "source": [
    ":::{admonition} Sjekk din forståelse\n",
    ":class: tip\n",
    "\n",
    "Velg en annen kolonne fra dataene (for eksempel reisetider med bil:\n",
    "`car_r_t`). Gjør følgende visualiseringer ved hjelp av en av klassifiseringene\n",
    "ordninger tilgjengelig fra\n",
    "[pysal/mapclassify](https://github.com/pysal/mapclassify):\n",
    "    \n",
    "- histogram med vertikale linjer som viser klassifiseringens binger\n",
    "- tematisk kart ved hjelp av klassifiseringsskjemaet\n",
    ":::\n",
    "\n",
    "\n",
    "## Bruke en egendefinert klassifisering\n",
    "\n",
    "### Multikriterium dataklassifisering\n",
    "\n",
    "La oss klassifisere geometriene i to klasser basert\n",
    "på en gitt `terskel` -parameter. Hvis området til en polygon er lavere enn terskelverdien (f.eks., en viss avstand), vil utgangskolonnen få en verdi\n",
    "0, hvis den er større, vil den få en verdi 1. Denne typen klassifisering kalles ofte en [binær\n",
    "klassifisering](https://en.wikipedia.org/wiki/Binary_classification).\n",
    "\n",
    "For å klassifisere hver rad i vår GeoDataFrame kan vi iterere over hver rad, eller vi kan bruke\n",
    "en funksjon for hver rad. I vårt tilfelle vil vi bruke en [lambda funksjon](https://autogis-site.readthedocs.io/en/latest/lessons/lesson-1/exercise-1.html#apply-ing-an-anonymous-lambda-function) for hver rad i\n",
    "vår GeoDataFrame, som returnerer en verdi basert på de vilkårene vi gir.\n",
    "\n",
    "La oss klassifisere basert på to kriterier: og finne ut rutenettceller\n",
    "\n",
    "1. Rutenettceller der reisetiden er **lavere eller lik 20 minutter** \n",
    "\n",
    "2. *og* de er lenger unna **enn 4 km (4000 meter)** fra bysentrum.\n",
    "\n",
    "La oss først se hvordan vi klassifiserer en enkelt rad:"
   ]
  },
  {
   "cell_type": "code",
   "execution_count": null,
   "id": "264281fc",
   "metadata": {},
   "outputs": [],
   "source": [
    "tilgjengelighet_rutenett.iloc[0][\"pt_r_tt\"] < 20 and tilgjengelighet_rutenett.iloc[0][\"walk_d\"] > 4000"
   ]
  },
  {
   "cell_type": "code",
   "execution_count": null,
   "id": "ef703b73",
   "metadata": {},
   "outputs": [],
   "source": [
    "int(tilgjengelighet_rutenett.iloc[11293][\"pt_r_tt\"] < 20 and tilgjengelighet_rutenett.iloc[11293][\"walk_d\"] > 4000)"
   ]
  },
  {
   "cell_type": "markdown",
   "id": "0fa0c8ae",
   "metadata": {},
   "source": [
    "La oss nå bruke dette på vår GeoDataFrame og lagre det i en kolonne kalt `\"suitable_area\"`:"
   ]
  },
  {
   "cell_type": "code",
   "execution_count": null,
   "id": "d9109649",
   "metadata": {},
   "outputs": [],
   "source": [
    "tilgjengelighet_rutenett[\"suitable_area\"] = tilgjengelighet_rutenett.apply(lambda row: int(row[\"pt_r_tt\"] < 20 and row[\"walk_d\"] > 4000), axis=1)"
   ]
  },
  {
   "cell_type": "code",
   "execution_count": null,
   "id": "51f1ea50",
   "metadata": {},
   "outputs": [],
   "source": [
    "tilgjengelighet_rutenett.head()"
   ]
  },
  {
   "cell_type": "markdown",
   "id": "213f26e3",
   "metadata": {},
   "source": [
    "Ok, vi har nye verdier i `suitable_area` -kolonnen.\n",
    "\n",
    "- Hvor mange polygoner passer for oss? La oss finne ut ved hjelp av en Pandas\n",
    "  funksjon kalt `value_counts()` som returnerer antall forskjellige verdier i\n",
    "  vår kolonne."
   ]
  },
  {
   "cell_type": "code",
   "execution_count": null,
   "id": "e2495b61",
   "metadata": {},
   "outputs": [],
   "source": [
    "# Få antall verdier\n",
    "tilgjengelighet_rutenett[\"suitable_area\"].value_counts()"
   ]
  },
  {
   "cell_type": "markdown",
   "id": "6bf222dc",
   "metadata": {},
   "source": [
    "Ok, så det ser ut til å være ni passende steder for oss hvor vi kan prøve å\n",
    "finne en leilighet å kjøpe.\n",
    "\n",
    "- La oss se hvor de er lokalisert:"
   ]
  },
  {
   "cell_type": "code",
   "execution_count": null,
   "id": "73a84681",
   "metadata": {},
   "outputs": [],
   "source": [
    "# Plott\n",
    "tilgjengelighet_rutenett.plot(column=\"suitable_area\", linewidth=0)"
   ]
  },
  {
   "cell_type": "markdown",
   "id": "de7ffa08",
   "metadata": {},
   "source": [
    "A-haa, ok så vi kan se at passende steder for oss med våre kriterier ser ut til\n",
    "å være lokalisert i den østlige delen av bysentrum. Faktisk er de aktuelle stedene\n",
    "langs metro linjen som gjør dem til gode steder i form av reisetid\n",
    "til bysentrum siden metro er en veldig rask reisemåte."
   ]
  }
 ],
 "metadata": {
  "kernelspec": {
   "display_name": "Python 3 (ipykernel)",
   "language": "python",
   "name": "python3"
  },
  "language_info": {
   "codemirror_mode": {
    "name": "ipython",
    "version": 3
   },
   "file_extension": ".py",
   "mimetype": "text/x-python",
   "name": "python",
   "nbconvert_exporter": "python",
   "pygments_lexer": "ipython3",
   "version": "3.11.0"
  }
 },
 "nbformat": 4,
 "nbformat_minor": 5
}
