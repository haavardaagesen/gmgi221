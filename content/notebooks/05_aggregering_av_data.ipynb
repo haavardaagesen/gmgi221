{
 "cells": [
  {
   "cell_type": "markdown",
   "id": "5e656f0d",
   "metadata": {},
   "source": [
    "# Aggregering av data\n",
    "\n",
    "Dataaggregering refererer til en prosess der vi kombinerer data i grupper. Når\n",
    "vi gjør romlig dataaggregering, slår vi geometriene sammen til grovere\n",
    "enheter (basert på noen attributter), og kan også beregne sammendragsstatistikk for\n",
    "disse kombinerte geometriene fra de opprinnelige, mer detaljerte verdiene. For eksempel,\n",
    "antar at vi er interessert i å studere kontinenter, men vi har bare\n",
    "landnivådata som datsettet for land. Hvis vi aggregerer dataene etter\n",
    "kontinent, vil vi konvertere dataene på landsnivå til et datasett på\n",
    "kontinentnivå.\n",
    "\n",
    "I denne opplæringen vil vi aggregere reisetidsdataene våre etter reisetider med bil\n",
    "(kolonne `car_r_t`), dvs. rutenettcellene som har samme reisetid til\n",
    "Jernbanestasjonen vil bli slått sammen.\n",
    "\n",
    "La oss starte med å laste `intersection.gpkg`, utdatafilen fra\n",
    "[forrige seksjon](overlay-analysis):"
   ]
  },
  {
   "cell_type": "code",
   "execution_count": null,
   "id": "0da59bd4",
   "metadata": {},
   "outputs": [],
   "source": [
    "import pathlib \n",
    "NOTEBOOK_PATH = pathlib.Path().resolve()\n",
    "DATA_DIRECTORY = NOTEBOOK_PATH / \"data\""
   ]
  },
  {
   "cell_type": "code",
   "execution_count": null,
   "id": "f60699fb",
   "metadata": {},
   "outputs": [],
   "source": [
    "import geopandas\n",
    "intersection = geopandas.read_file(DATA_DIRECTORY / \"intersection.gpkg\")"
   ]
  },
  {
   "cell_type": "markdown",
   "id": "af58fe34",
   "metadata": {},
   "source": [
    "For å gjøre aggregeringen vil vi bruke en metode som heter `dissolve()` som tar\n",
    "som inngang kolonnen som vil bli brukt til å utføre aggregeringen:"
   ]
  },
  {
   "cell_type": "code",
   "execution_count": null,
   "id": "c4befebe",
   "metadata": {},
   "outputs": [],
   "source": [
    "# Utføre aggregeringen\n",
    "dissolved = intersection.dissolve(by=\"car_r_t\")\n",
    "\n",
    "# Hva fikk vi\n",
    "dissolved.head()"
   ]
  },
  {
   "cell_type": "markdown",
   "id": "c6adf892",
   "metadata": {},
   "source": [
    "La oss sammenligne antall celler i lagene før og etter aggregeringen:"
   ]
  },
  {
   "cell_type": "code",
   "execution_count": null,
   "id": "9b36aa39",
   "metadata": {},
   "outputs": [],
   "source": [
    "print(f\"Rader i opprinnelig intersection GeoDataFrame: {len(intersection)}\")\n",
    "print(f\"Rader i oppløst lag: {len(dissolved)}\")"
   ]
  },
  {
   "cell_type": "markdown",
   "id": "1a0b8056",
   "metadata": {},
   "source": [
    "Faktisk har antall rader i dataene våre redusert og polygonene ble\n",
    "slått sammen.\n",
    "\n",
    "Hva skjedde egentlig her? La oss ta en nærmere titt. \n",
    "\n",
    "La oss se hvilke kolonner vi nå har i vår GeoDataFrame:"
   ]
  },
  {
   "cell_type": "code",
   "execution_count": null,
   "id": "de0d71c9",
   "metadata": {},
   "outputs": [],
   "source": [
    "dissolved.columns"
   ]
  },
  {
   "cell_type": "markdown",
   "id": "026ce48f",
   "metadata": {},
   "source": [
    "Som vi kan se, kan ikke kolonnen som vi brukte for å utføre aggregeringen\n",
    "(`car_r_t`) finnes lenger i kolonnelisten. Hva skjedde med\n",
    "den?\n",
    "\n",
    "La oss ta en titt på indeksene i vår GeoDataFrame:"
   ]
  },
  {
   "cell_type": "code",
   "execution_count": null,
   "id": "0864f418",
   "metadata": {},
   "outputs": [],
   "source": [
    "dissolved.index"
   ]
  },
  {
   "cell_type": "markdown",
   "id": "41a49537",
   "metadata": {},
   "source": [
    "Aha! Vel nå forstår vi hvor kolonnen vår gikk. Den brukes nå som indeks i\n",
    "vår `dissolved` GeoDataFrame. \n",
    "\n",
    "Nå kan vi for eksempel bare velge slike geometrier fra laget som er for\n",
    "eksempel nøyaktig 15 minutter unna Helsingfors jernbanestasjon:"
   ]
  },
  {
   "cell_type": "code",
   "execution_count": null,
   "id": "6b5f54db",
   "metadata": {},
   "outputs": [],
   "source": [
    "# Velg bare geometrier som er innen 15 minutter unna\n",
    "dissolved.loc[15]"
   ]
  },
  {
   "cell_type": "code",
   "execution_count": null,
   "id": "8806cba1",
   "metadata": {},
   "outputs": [],
   "source": [
    "# Se datatype\n",
    "type(dissolved.loc[15])"
   ]
  },
  {
   "cell_type": "markdown",
   "id": "a64a16a3",
   "metadata": {},
   "source": [
    "Som vi kan se, har vi nå som et resultat et Pandas `Series` objekt som inneholder\n",
    "i utgangspunktet en rad fra vår opprinnelige aggregerte GeoDataFrame.\n",
    "\n",
    "La oss også visualisere disse 15 minutters rutenettcellene.\n",
    "\n",
    "Først må vi konvertere den valgte raden tilbake til en GeoDataFrame:"
   ]
  },
  {
   "cell_type": "code",
   "execution_count": null,
   "id": "4eeb2269",
   "metadata": {},
   "outputs": [],
   "source": [
    "# Lag en GeoDataFrame\n",
    "selection = geopandas.GeoDataFrame([dissolved.loc[15]], crs=dissolved.crs)"
   ]
  },
  {
   "cell_type": "markdown",
   "id": "9541de9a",
   "metadata": {},
   "source": [
    "Plott utvalget på toppen av hele rutenettet:"
   ]
  },
  {
   "cell_type": "code",
   "execution_count": null,
   "id": "306e562a",
   "metadata": {},
   "outputs": [],
   "source": [
    "# Plott alle rutenettcellene, og rutenettcellene som er 15 minutter\n",
    "# unna jernbanestasjonen\n",
    "ax = dissolved.plot(facecolor=\"gray\")\n",
    "selection.plot(ax=ax, facecolor=\"red\")"
   ]
  },
  {
   "cell_type": "markdown",
   "id": "b7421fab",
   "metadata": {},
   "source": [
    "En annen måte å visualisere reisetidene i hele GeoDataFrame på er å plott ved hjelp av en spesifikk kolonne. For å bruke vår `car_r_t` kolonne, som nå er indeksen i GeoDataFrame, må vi tilbakestille indeksen:"
   ]
  },
  {
   "cell_type": "code",
   "execution_count": null,
   "id": "ab8d8424",
   "metadata": {},
   "outputs": [],
   "source": [
    "dissolved = dissolved.reset_index()\n",
    "dissolved.head()"
   ]
  },
  {
   "cell_type": "markdown",
   "id": "f9aad113",
   "metadata": {},
   "source": [
    "Som vi kan se, har vi nå vår `car_r_t` som en kolonne igjen, og kan da plott GeoDataFrame ved å sende denne kolonnen ved hjelp av `column` parameteren:"
   ]
  },
  {
   "cell_type": "code",
   "execution_count": null,
   "id": "0578d89a",
   "metadata": {},
   "outputs": [],
   "source": [
    "dissolved.plot(column=\"car_r_t\")"
   ]
  }
 ],
 "metadata": {
  "kernelspec": {
   "display_name": "Python 3 (ipykernel)",
   "language": "python",
   "name": "python3"
  },
  "language_info": {
   "codemirror_mode": {
    "name": "ipython",
    "version": 3
   },
   "file_extension": ".py",
   "mimetype": "text/x-python",
   "name": "python",
   "nbconvert_exporter": "python",
   "pygments_lexer": "ipython3",
   "version": "3.11.0"
  }
 },
 "nbformat": 4,
 "nbformat_minor": 5
}
