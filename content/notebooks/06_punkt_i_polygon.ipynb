{
 "cells": [
  {
   "cell_type": "markdown",
   "id": "85bcbe78",
   "metadata": {},
   "source": [
    "# 💻 Punkt-i-polygon analyse\n",
    "\n",
    "Å finne ut om et bestemt punkt er plassert innenfor eller utenfor et område,\n",
    "eller å finne ut om en linje krysser en annen linje eller polygon er\n",
    "grunnleggende romlige spørringer som ofte brukes f.eks. for å velge\n",
    "data basert på plassering. Slike romlige spørringer er en av de typiske\n",
    "første trinnene i arbeidsflyten når du gjør romlig analyse. Å utføre en\n",
    "romlig kobling (vil bli introdusert senere) mellom to romlige datasett er\n",
    "en av de mest typiske bruksområdene der Punkt-i-Polygon (PIP)-analyser\n",
    "brukes.\n",
    "\n",
    "For videre lesing om PIP og andre geometriske operasjoner,\n",
    "se kapittel 4.2 i Smith, Goodchild & Longley: [Geospatial Analysis - 6th edition](https://www.spatialanalysisonline.com/HTML/index.html).\n",
    "\n",
    "\n",
    "## Hvordan sjekke om et punkt er inne i en polygon?\n",
    "\n",
    "Beregningsteknisk er det mest vanlig å oppdage om et punkt er inne i en polygon ved å bruke en spesifikk formel kalt [Ray Casting-algoritmen](https://en.wikipedia.org/wiki/Point_in_polygon#Ray_casting_algorithm).\n",
    "Heldigvis trenger vi ikke å lage en slik funksjon selv for\n",
    "utføre Punkt-i-Polygon (PIP)-analyser. I stedet kan vi dra\n",
    "fordel av [Shapely's binære predikater](https://shapely.readthedocs.io/en/stable/manual.html#binary-predicates)\n",
    "som kan evaluere de topologiske forholdene mellom geografiske\n",
    "objekter, så som PIP, som vi er interessert i her.\n",
    "\n",
    "## Spørringer om punkt-i-polygon på `shapely` geometrier\n",
    "\n",
    "Det er stort sett to måter å utføre PIP på i Shapely:\n",
    "\n",
    "1. ved hjelp av en funksjon kalt\n",
    "   [within()](https://shapely.readthedocs.io/en/stable/manual.html#object.within)\n",
    "   som sjekker om et punkt er innenfor et polygon\n",
    "2. ved hjelp av en funksjon kalt\n",
    "   [contains()](https://shapely.readthedocs.io/en/stable/manual.html#object.contains)\n",
    "   som sjekker om et polygon inneholder et punkt\n",
    "\n",
    ":::{note}\n",
    "Selv om vi snakker her om **Point** i Polygon\n",
    "operasjon, er det også mulig å sjekke om en LineString eller Polygon er\n",
    "inne i et annen Polygon.\n",
    ":::\n",
    "\n",
    "\n",
    "La oss først lage et par punktgeometrier:"
   ]
  },
  {
   "cell_type": "code",
   "execution_count": 1,
   "id": "79fca517",
   "metadata": {},
   "outputs": [],
   "source": [
    "import shapely.geometry\n",
    "punkt1 = shapely.geometry.Point(24.952242, 60.1696017)\n",
    "punkt2 = shapely.geometry.Point(24.976567, 60.1612500)"
   ]
  },
  {
   "cell_type": "markdown",
   "id": "bf429476",
   "metadata": {},
   "source": [
    "... og en polygon:"
   ]
  },
  {
   "cell_type": "code",
   "execution_count": 2,
   "id": "a1ac71d4",
   "metadata": {},
   "outputs": [],
   "source": [
    "polygon = shapely.geometry.Polygon(\n",
    "    [\n",
    "        (24.950899, 60.169158),\n",
    "        (24.953492, 60.169158),\n",
    "        (24.953510, 60.170104),\n",
    "        (24.950958, 60.169990)\n",
    "    ]\n",
    ")"
   ]
  },
  {
   "cell_type": "code",
   "execution_count": 3,
   "id": "ca8a9d72",
   "metadata": {},
   "outputs": [
    {
     "name": "stdout",
     "output_type": "stream",
     "text": [
      "POINT (24.952242 60.1696017)\n",
      "POINT (24.976567 60.16125)\n",
      "POLYGON ((24.950899 60.169158, 24.953492 60.169158, 24.95351 60.170104, 24.950958 60.16999, 24.950899 60.169158))\n"
     ]
    }
   ],
   "source": [
    "print(punkt1)\n",
    "print(punkt2)\n",
    "print(polygon)"
   ]
  },
  {
   "cell_type": "markdown",
   "id": "1c286409",
   "metadata": {},
   "source": [
    "La oss sjekke om punktene er `within()` polygonet:"
   ]
  },
  {
   "cell_type": "code",
   "execution_count": 4,
   "id": "4d29bf5c",
   "metadata": {},
   "outputs": [
    {
     "data": {
      "text/plain": [
       "True"
      ]
     },
     "execution_count": 4,
     "metadata": {},
     "output_type": "execute_result"
    }
   ],
   "source": [
    "punkt1.within(polygon)"
   ]
  },
  {
   "cell_type": "code",
   "execution_count": 5,
   "id": "22fa2de1",
   "metadata": {},
   "outputs": [
    {
     "data": {
      "text/plain": [
       "False"
      ]
     },
     "execution_count": 5,
     "metadata": {},
     "output_type": "execute_result"
    }
   ],
   "source": [
    "punkt2.within(polygon)"
   ]
  },
  {
   "cell_type": "markdown",
   "id": "b4ddd376",
   "metadata": {},
   "source": [
    "Det ser ut til at det første punktet er inne i polygonet, men det andre er ikke det.\n",
    "\n",
    "Vi kan snu logikken til spørringen: I stedet for å sjekke om punktet er\n",
    "innenfor polygonet, kan vi også spørre om polygonet `contains()` punktet:"
   ]
  },
  {
   "cell_type": "code",
   "execution_count": 6,
   "id": "b43bf930",
   "metadata": {},
   "outputs": [
    {
     "data": {
      "text/plain": [
       "True"
      ]
     },
     "execution_count": 6,
     "metadata": {},
     "output_type": "execute_result"
    }
   ],
   "source": [
    "polygon.contains(punkt1)"
   ]
  },
  {
   "cell_type": "code",
   "execution_count": 7,
   "id": "5e856233",
   "metadata": {},
   "outputs": [
    {
     "data": {
      "text/plain": [
       "False"
      ]
     },
     "execution_count": 7,
     "metadata": {},
     "output_type": "execute_result"
    }
   ],
   "source": [
    "polygon.contains(punkt2)"
   ]
  },
  {
   "cell_type": "markdown",
   "id": "4d750300",
   "metadata": {},
   "source": [
    ":::{hint}\n",
    "De to måtene å sjekke det romlige forholdet er komplementære og gir\n",
    "ekvivalente resultater;\n",
    "[`contains()`](https://shapely.readthedocs.io/en/stable/manual.html#object.contains)\n",
    "er invers av\n",
    "[`within()`](https://shapely.readthedocs.io/en/stable/manual.html#object.within),\n",
    "og omvendt.\n",
    "\n",
    "Så, hvilken skal du bruke? Vel, det avhenger av:\n",
    "\n",
    "-  hvis du har **mange punkter og bare ett polygon** og du prøver å finne ut\n",
    "   hvilket av dem som er inne i polygonet: Da må du kanskje iterere over punktene\n",
    "   og sjekke ett om gangen om det er **`within()`** polygonet.\n",
    "-  hvis du har **mange polygoner og bare ett punkt** og du vil finne ut\n",
    "   hvilket polygon som inneholder punktet: Da må du kanskje iterere over polygonene\n",
    "   til du finner et polygon som **`contains()`** det spesifiserte punktet\n",
    ":::\n",
    "\n",
    "\n",
    "## Spørringer om punkt-i-polygon på `geopandas.GeoDataFrame`s\n",
    "\n",
    "I det følgende praktiske eksempelet finner vi ut hvilke av adressene vi fikk\n",
    "i [geokodingseksjonen](geokoding_i_geopandas) som ligger innenfor en bestemt\n",
    "bydel i Oslo.\n"
   ]
  },
  {
   "cell_type": "code",
   "execution_count": 8,
   "id": "9f162f56",
   "metadata": {},
   "outputs": [],
   "source": [
    "import pathlib\n",
    "NOTEBOOK_PATH = pathlib.Path().resolve()\n",
    "DATA_MAPPE = NOTEBOOK_PATH / \"data\""
   ]
  },
  {
   "cell_type": "code",
   "execution_count": 10,
   "id": "552f3524",
   "metadata": {},
   "outputs": [
    {
     "data": {
      "text/html": [
       "<div>\n",
       "<style scoped>\n",
       "    .dataframe tbody tr th:only-of-type {\n",
       "        vertical-align: middle;\n",
       "    }\n",
       "\n",
       "    .dataframe tbody tr th {\n",
       "        vertical-align: top;\n",
       "    }\n",
       "\n",
       "    .dataframe thead th {\n",
       "        text-align: right;\n",
       "    }\n",
       "</style>\n",
       "<table border=\"1\" class=\"dataframe\">\n",
       "  <thead>\n",
       "    <tr style=\"text-align: right;\">\n",
       "      <th></th>\n",
       "      <th>bydelsnr</th>\n",
       "      <th>bynavn</th>\n",
       "      <th>bydel</th>\n",
       "      <th>geometry</th>\n",
       "    </tr>\n",
       "  </thead>\n",
       "  <tbody>\n",
       "    <tr>\n",
       "      <th>0</th>\n",
       "      <td>030101</td>\n",
       "      <td>Oslo</td>\n",
       "      <td>Gamle Oslo</td>\n",
       "      <td>MULTIPOLYGON (((10.66087 59.88365, 10.66472 59...</td>\n",
       "    </tr>\n",
       "    <tr>\n",
       "      <th>1</th>\n",
       "      <td>030102</td>\n",
       "      <td>Oslo</td>\n",
       "      <td>Grünerløkka</td>\n",
       "      <td>MULTIPOLYGON (((10.75378 59.91469, 10.75453 59...</td>\n",
       "    </tr>\n",
       "    <tr>\n",
       "      <th>2</th>\n",
       "      <td>030103</td>\n",
       "      <td>Oslo</td>\n",
       "      <td>Sagene</td>\n",
       "      <td>MULTIPOLYGON (((10.77156 59.93095, 10.77135 59...</td>\n",
       "    </tr>\n",
       "    <tr>\n",
       "      <th>3</th>\n",
       "      <td>030104</td>\n",
       "      <td>Oslo</td>\n",
       "      <td>St.Hanshaugen</td>\n",
       "      <td>MULTIPOLYGON (((10.75136 59.91923, 10.75158 59...</td>\n",
       "    </tr>\n",
       "    <tr>\n",
       "      <th>4</th>\n",
       "      <td>030105</td>\n",
       "      <td>Oslo</td>\n",
       "      <td>Frogner</td>\n",
       "      <td>MULTIPOLYGON (((10.65562 59.89038, 10.65381 59...</td>\n",
       "    </tr>\n",
       "  </tbody>\n",
       "</table>\n",
       "</div>"
      ],
      "text/plain": [
       "  bydelsnr bynavn          bydel  \\\n",
       "0   030101   Oslo     Gamle Oslo   \n",
       "1   030102   Oslo    Grünerløkka   \n",
       "2   030103   Oslo         Sagene   \n",
       "3   030104   Oslo  St.Hanshaugen   \n",
       "4   030105   Oslo        Frogner   \n",
       "\n",
       "                                            geometry  \n",
       "0  MULTIPOLYGON (((10.66087 59.88365, 10.66472 59...  \n",
       "1  MULTIPOLYGON (((10.75378 59.91469, 10.75453 59...  \n",
       "2  MULTIPOLYGON (((10.77156 59.93095, 10.77135 59...  \n",
       "3  MULTIPOLYGON (((10.75136 59.91923, 10.75158 59...  \n",
       "4  MULTIPOLYGON (((10.65562 59.89038, 10.65381 59...  "
      ]
     },
     "execution_count": 10,
     "metadata": {},
     "output_type": "execute_result"
    }
   ],
   "source": [
    "import geopandas\n",
    "\n",
    "bydeler = geopandas.read_file(\n",
    "    DATA_MAPPE / \"oslo_bydeler\" / \"oslo_bydeler.gpkg\"\n",
    ")\n",
    "bydeler.head()"
   ]
  },
  {
   "cell_type": "code",
   "execution_count": 11,
   "id": "24ec306b",
   "metadata": {},
   "outputs": [
    {
     "data": {
      "text/plain": [
       "<Axes: >"
      ]
     },
     "execution_count": 11,
     "metadata": {},
     "output_type": "execute_result"
    },
    {
     "data": {
      "image/png": "[encoded data removed]",
      "text/plain": [
       "<Figure size 640x480 with 1 Axes>"
      ]
     },
     "metadata": {},
     "output_type": "display_data"
    }
   ],
   "source": [
    "bydeler.plot()"
   ]
  },
  {
   "cell_type": "markdown",
   "id": "a27f00c6",
   "metadata": {},
   "source": [
    "Spesielt ønsker vi å finne ut hvilke punkter som er innenfor bydelen \"Gamle Oslo\". La oss begynne med å få et separat datasett for\n",
    "denne bydele, laste in adressene, og plotte et flerlagskart\n",
    "som viser alle bydelene, \"Gamle Oslo\" og alle punktene i\n",
    "ett kart:"
   ]
  },
  {
   "cell_type": "code",
   "execution_count": 12,
   "id": "ef488856",
   "metadata": {},
   "outputs": [
    {
     "data": {
      "text/html": [
       "<div>\n",
       "<style scoped>\n",
       "    .dataframe tbody tr th:only-of-type {\n",
       "        vertical-align: middle;\n",
       "    }\n",
       "\n",
       "    .dataframe tbody tr th {\n",
       "        vertical-align: top;\n",
       "    }\n",
       "\n",
       "    .dataframe thead th {\n",
       "        text-align: right;\n",
       "    }\n",
       "</style>\n",
       "<table border=\"1\" class=\"dataframe\">\n",
       "  <thead>\n",
       "    <tr style=\"text-align: right;\">\n",
       "      <th></th>\n",
       "      <th>bydelsnr</th>\n",
       "      <th>bynavn</th>\n",
       "      <th>bydel</th>\n",
       "      <th>geometry</th>\n",
       "    </tr>\n",
       "  </thead>\n",
       "  <tbody>\n",
       "    <tr>\n",
       "      <th>0</th>\n",
       "      <td>030101</td>\n",
       "      <td>Oslo</td>\n",
       "      <td>Gamle Oslo</td>\n",
       "      <td>MULTIPOLYGON (((10.66087 59.88365, 10.66472 59...</td>\n",
       "    </tr>\n",
       "  </tbody>\n",
       "</table>\n",
       "</div>"
      ],
      "text/plain": [
       "  bydelsnr bynavn       bydel  \\\n",
       "0   030101   Oslo  Gamle Oslo   \n",
       "\n",
       "                                            geometry  \n",
       "0  MULTIPOLYGON (((10.66087 59.88365, 10.66472 59...  "
      ]
     },
     "execution_count": 12,
     "metadata": {},
     "output_type": "execute_result"
    }
   ],
   "source": [
    "gamle_oslo = bydeler[bydeler.bydel == \"Gamle Oslo\"]\n",
    "gamle_oslo"
   ]
  },
  {
   "cell_type": "code",
   "execution_count": 13,
   "id": "2c891529",
   "metadata": {},
   "outputs": [],
   "source": [
    "adresser = geopandas.read_file(DATA_MAPPE / \"oslo_adresser\" / \"adresser.gpkg\")"
   ]
  },
  {
   "cell_type": "markdown",
   "id": "f29e83a7",
   "metadata": {},
   "source": [
    ":::{admonition} Plotting av flere kartlag\n",
    ":class: hint\n",
    "\n",
    "For å plotte flere kartlag i én figur, bruk `ax` parameteren for å spesifisere i\n",
    "hvilke *akser* data skal plottes. \n",
    "\n",
    "Den enkleste måten å få en *akse* er å lagre den første `plot()`ens\n",
    "returverdi (se nedenfor). Et annet alternativ er å lage [`subplots()`](https://geo-python-site.readthedocs.io/en/latest/notebooks/L7/advanced-plotting.html#using-subplots), muligens med bare en rad og en kolonne.\n",
    ":::"
   ]
  },
  {
   "cell_type": "code",
   "execution_count": 14,
   "id": "d591c2d3",
   "metadata": {},
   "outputs": [
    {
     "data": {
      "text/plain": [
       "<Axes: >"
      ]
     },
     "execution_count": 14,
     "metadata": {},
     "output_type": "execute_result"
    },
    {
     "data": {
      "image/png": "[encoded data removed]",
      "text/plain": [
       "<Figure size 640x480 with 1 Axes>"
      ]
     },
     "metadata": {},
     "output_type": "display_data"
    }
   ],
   "source": [
    "akser = bydeler.plot(facecolor=\"grey\")\n",
    "gamle_oslo.plot(ax=akser, facecolor=\"red\")\n",
    "adresser.plot(ax=akser, color=\"blue\", markersize=5)"
   ]
  },
  {
   "cell_type": "markdown",
   "id": "3c43659d",
   "metadata": {},
   "source": [
    "Noen punkter er innenfor 'Gamle Oslo', men andre er det ikke. For å finne\n",
    "ut hvilke som er de inne i bydelen, kan vi bruke en **punkt-i-polygon\n",
    "spørring**, denne gangen på en hel `geopandas.GeoDataFrame`. Metoden\n",
    "`within()` returnerer boolske (`True`/`False`) verdier som indikerer om eller ikke\n",
    "en rads geometri er inni den angitte *andre* geometrien:\n",
    "\n",
    "\n",
    ":::{admonition} geometri vs. geometrikolonne\n",
    ":class: caution\n",
    "\n",
    "I eksempelet nedenfor bruker vi `gamle_oslo.at[0, \"geometry\"]` for å få en enkelt\n",
    "verdi, et `shapely.geometry.Polygon`, i stedet for en hel kolonne (en\n",
    "`GeoSeries`). Dette er for å matche hver rad's geometri av hele\n",
    "`adresser`-dataframen mot *det samme polygonet*. Hvis, i motsetning, vi ville\n",
    "kjøre `within()` mot en kolonne, ville operasjonen bli utført radvis,\n",
    "dvs. det første adressepunktet ville bli sjekket mot det første polygonet, det\n",
    "andre adressepunktet mot det andre polygonet, og så videre.\n",
    "\n",
    "Sjekk [dokumentasjonen for\n",
    "`within()`](https://geopandas.org/en/stable/docs/reference/api/geopandas.GeoSeries.within.html)\n",
    "for å lære mer!\n",
    ":::"
   ]
  },
  {
   "cell_type": "code",
   "execution_count": 15,
   "id": "7e632140",
   "metadata": {},
   "outputs": [
    {
     "data": {
      "text/plain": [
       "0     False\n",
       "1     False\n",
       "2     False\n",
       "3     False\n",
       "4     False\n",
       "5     False\n",
       "6      True\n",
       "7     False\n",
       "8      True\n",
       "9     False\n",
       "10    False\n",
       "11     True\n",
       "12    False\n",
       "13    False\n",
       "14     True\n",
       "15     True\n",
       "16    False\n",
       "17    False\n",
       "18    False\n",
       "19    False\n",
       "20    False\n",
       "21    False\n",
       "22    False\n",
       "23    False\n",
       "24    False\n",
       "25    False\n",
       "26    False\n",
       "27     True\n",
       "28    False\n",
       "29    False\n",
       "dtype: bool"
      ]
     },
     "execution_count": 15,
     "metadata": {},
     "output_type": "execute_result"
    }
   ],
   "source": [
    "adresser.within(gamle_oslo.at[0, \"geometry\"])"
   ]
  },
  {
   "cell_type": "markdown",
   "id": "30e619cc",
   "metadata": {},
   "source": [
    "Denne listen med boolske verdier, også kalt en *maske-array* kan brukes til å filtrere\n",
    "input dataframen:"
   ]
  },
  {
   "cell_type": "code",
   "execution_count": 16,
   "id": "f6d3e143",
   "metadata": {},
   "outputs": [
    {
     "data": {
      "text/html": [
       "<div>\n",
       "<style scoped>\n",
       "    .dataframe tbody tr th:only-of-type {\n",
       "        vertical-align: middle;\n",
       "    }\n",
       "\n",
       "    .dataframe tbody tr th {\n",
       "        vertical-align: top;\n",
       "    }\n",
       "\n",
       "    .dataframe thead th {\n",
       "        text-align: right;\n",
       "    }\n",
       "</style>\n",
       "<table border=\"1\" class=\"dataframe\">\n",
       "  <thead>\n",
       "    <tr style=\"text-align: right;\">\n",
       "      <th></th>\n",
       "      <th>address</th>\n",
       "      <th>id</th>\n",
       "      <th>adr</th>\n",
       "      <th>geometry</th>\n",
       "    </tr>\n",
       "  </thead>\n",
       "  <tbody>\n",
       "    <tr>\n",
       "      <th>6</th>\n",
       "      <td>5, Etterstadsletta, Gamle Oslo, Oslo, 0660, Norge</td>\n",
       "      <td>106</td>\n",
       "      <td>Etterstadsletta 5, 0660 OSLO</td>\n",
       "      <td>POINT (10.79645 59.90968)</td>\n",
       "    </tr>\n",
       "    <tr>\n",
       "      <th>8</th>\n",
       "      <td>21, Fyrstikkalléen, Lilleberg, Gamle Oslo, Osl...</td>\n",
       "      <td>108</td>\n",
       "      <td>Fyrstikkalleen 21, 0661 OSLO</td>\n",
       "      <td>POINT (10.79433 59.91526)</td>\n",
       "    </tr>\n",
       "    <tr>\n",
       "      <th>11</th>\n",
       "      <td>20B, Herslebs gate, Grønland, Gamle Oslo, Oslo...</td>\n",
       "      <td>111</td>\n",
       "      <td>Herslebs gate 20B, 0561 OSLO</td>\n",
       "      <td>POINT (10.76403 59.91813)</td>\n",
       "    </tr>\n",
       "    <tr>\n",
       "      <th>14</th>\n",
       "      <td>30, Kongsveien, Grønlia, Gamle Oslo, Oslo, 019...</td>\n",
       "      <td>114</td>\n",
       "      <td>Kongsveien 30, 0193 OSLO</td>\n",
       "      <td>POINT (10.75825 59.89739)</td>\n",
       "    </tr>\n",
       "    <tr>\n",
       "      <th>15</th>\n",
       "      <td>Gladengveien 3B, Gladengveien, Ensjø, Gamle Os...</td>\n",
       "      <td>115</td>\n",
       "      <td>Gladengveien 3B, 0661 OSLO</td>\n",
       "      <td>POINT (10.79030 59.91467)</td>\n",
       "    </tr>\n",
       "    <tr>\n",
       "      <th>27</th>\n",
       "      <td>16H, Innspurten, Gullhaug, Gamle Oslo, Oslo, 0...</td>\n",
       "      <td>127</td>\n",
       "      <td>Innspurten 16, 0663 OSLO</td>\n",
       "      <td>POINT (10.80533 59.91732)</td>\n",
       "    </tr>\n",
       "  </tbody>\n",
       "</table>\n",
       "</div>"
      ],
      "text/plain": [
       "                                              address   id  \\\n",
       "6   5, Etterstadsletta, Gamle Oslo, Oslo, 0660, Norge  106   \n",
       "8   21, Fyrstikkalléen, Lilleberg, Gamle Oslo, Osl...  108   \n",
       "11  20B, Herslebs gate, Grønland, Gamle Oslo, Oslo...  111   \n",
       "14  30, Kongsveien, Grønlia, Gamle Oslo, Oslo, 019...  114   \n",
       "15  Gladengveien 3B, Gladengveien, Ensjø, Gamle Os...  115   \n",
       "27  16H, Innspurten, Gullhaug, Gamle Oslo, Oslo, 0...  127   \n",
       "\n",
       "                             adr                   geometry  \n",
       "6   Etterstadsletta 5, 0660 OSLO  POINT (10.79645 59.90968)  \n",
       "8   Fyrstikkalleen 21, 0661 OSLO  POINT (10.79433 59.91526)  \n",
       "11  Herslebs gate 20B, 0561 OSLO  POINT (10.76403 59.91813)  \n",
       "14      Kongsveien 30, 0193 OSLO  POINT (10.75825 59.89739)  \n",
       "15    Gladengveien 3B, 0661 OSLO  POINT (10.79030 59.91467)  \n",
       "27      Innspurten 16, 0663 OSLO  POINT (10.80533 59.91732)  "
      ]
     },
     "execution_count": 16,
     "metadata": {},
     "output_type": "execute_result"
    }
   ],
   "source": [
    "adresser_i_gamle_oslo = adresser[\n",
    "    adresser.within(gamle_oslo.at[0, \"geometry\"])\n",
    "]\n",
    "adresser_i_gamle_oslo"
   ]
  },
  {
   "cell_type": "markdown",
   "id": "bd420c87",
   "metadata": {},
   "source": [
    "Til slutt, la oss plotte denne listen med adresser en gang til for visuelt å verifisere\n",
    "at alle av dem, faktisk, er plassert i 'Gamle Oslo':"
   ]
  },
  {
   "cell_type": "code",
   "execution_count": 17,
   "id": "5ab8a684",
   "metadata": {},
   "outputs": [
    {
     "data": {
      "text/plain": [
       "<Axes: >"
      ]
     },
     "execution_count": 17,
     "metadata": {},
     "output_type": "execute_result"
    },
    {
     "data": {
      "image/png": "[encoded data removed]",
      "text/plain": [
       "<Figure size 640x480 with 1 Axes>"
      ]
     },
     "metadata": {},
     "output_type": "display_data"
    }
   ],
   "source": [
    "akser = bydeler.plot(facecolor=\"grey\")\n",
    "gamle_oslo.plot(ax=akser, facecolor=\"red\")\n",
    "\n",
    "adresser_i_gamle_oslo.plot(\n",
    "    ax=akser,\n",
    "    color=\"gold\",\n",
    "    markersize=5\n",
    ")"
   ]
  },
  {
   "cell_type": "markdown",
   "id": "74a1939d",
   "metadata": {},
   "source": [
    "Perfekt! Nå sitter vi igjen med bare de (gyldne) punktene som faktisk er\n",
    "inne i det røde polygonet. Det er akkurat det vi ønsket!"
   ]
  },
  {
   "cell_type": "code",
   "execution_count": null,
   "id": "263b2684-0e4e-4359-9c20-f40b2df11b04",
   "metadata": {},
   "outputs": [],
   "source": []
  }
 ],
 "metadata": {
  "kernelspec": {
   "display_name": "Python 3 (ipykernel)",
   "language": "python",
   "name": "python3"
  },
  "language_info": {
   "codemirror_mode": {
    "name": "ipython",
    "version": 3
   },
   "file_extension": ".py",
   "mimetype": "text/x-python",
   "name": "python",
   "nbconvert_exporter": "python",
   "pygments_lexer": "ipython3",
   "version": "3.10.14"
  }
 },
 "nbformat": 4,
 "nbformat_minor": 5
}
