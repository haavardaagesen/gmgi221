{
 "cells": [
  {
   "cell_type": "markdown",
   "id": "d91e383b",
   "metadata": {},
   "source": [
    "# Overlay\n",
    "\n",
    "Overlay-analyser er GIS-operasjoner der to eller flere vektorlag er\n",
    "kombinert for å produsere nye geometrier. Typiske overlay-operasjoner inkluderer *union*,\n",
    "*intersection*, og *difference* - navngitt etter resultatet av kombinasjonen av to lag.\n",
    "\n",
    "\n",
    "![Fire paneler som viser union, intersection, symmetric difference og difference av to geometrier.](imgs/overlay_operations.png)\n",
    "\n",
    "\n",
    "Romlig overlay med to inputvektorlag (rektangel, sirkel). Det resulterende vektorlaget vises i grønt. *Kilde: [QGIS dokumentasjon](https://docs.qgis.org/latest/en/docs/gentle_gis_introduction/vector_spatial_analysis_buffers.html#figure-overlay-operations)*\n",
    ":::\n",
    "\n",
    "\n",
    "I denne notebooken vil vi utføre en overlay-analyse for å velge de polygon\n",
    "cellene i et nett datasett som ligger innenfor bygrensene i Helsinki. For denne\n",
    "øvelsen, bruker vi to inngangs datasett: et nett av statistiske polygoner med\n",
    "reisetiden til Helsingfors jernbanestasjon, som dekker hele storbyområdet (`helsinki_region_travel_times_to_railway_station.gpkg`) og et polygon\n",
    "datasett (med en funksjon) av området kommunen Helsingfors dekker\n",
    "(`helsinki_municipality.gpkg`). Begge filene er i logisk navngitte undermapper\n",
    "av `DATA_DIRECTORY`."
   ]
  },
  {
   "cell_type": "code",
   "execution_count": null,
   "id": "52082ac4",
   "metadata": {},
   "outputs": [],
   "source": [
    "import pathlib \n",
    "NOTEBOOK_PATH = pathlib.Path().resolve()\n",
    "DATA_DIRECTORY = NOTEBOOK_PATH / \"data\""
   ]
  },
  {
   "cell_type": "code",
   "execution_count": null,
   "id": "18ff58b6",
   "metadata": {},
   "outputs": [],
   "source": [
    "import geopandas\n",
    "\n",
    "nett = geopandas.read_file(\n",
    "    DATA_DIRECTORY\n",
    "    / \"helsinki_region_travel_times_to_railway_station\"\n",
    "    / \"helsinki_region_travel_times_to_railway_station.gpkg\"\n",
    ")\n",
    "\n",
    "helsinki = geopandas.read_file(\n",
    "    DATA_DIRECTORY / \"helsinki_municipality\" / \"helsinki_municipality.gpkg\"\n",
    ")"
   ]
  },
  {
   "cell_type": "markdown",
   "id": "b9c4fcbc",
   "metadata": {},
   "source": [
    "La oss gjøre en rask overleggsvisualisering av de to lagene:"
   ]
  },
  {
   "cell_type": "code",
   "execution_count": null,
   "id": "d3bb7a5a",
   "metadata": {},
   "outputs": [],
   "source": [
    "# Plott lagene\n",
    "ax = nett.plot(facecolor=\"gray\")\n",
    "helsinki.plot(ax=ax, facecolor=\"None\", edgecolor=\"blue\")"
   ]
  },
  {
   "cell_type": "markdown",
   "id": "d9b14f53",
   "metadata": {},
   "source": [
    "Her er det grå området Reisetid Matrise - et datasett som inneholder 13231\n",
    "rutenett kvadrater (13231 rader med data) som dekker Helsingfors-regionen, og det blå området representerer kommunen Helsingfors. Målet vårt er å utføre en overleggsanalyse og velge geometriene fra rutenett polygonlaget som krysser\n",
    "med Helsingfors kommune polygon.\n",
    "\n",
    "Når du utfører overleggsanalyse, er det viktig å først sjekke at CRS\n",
    "av lagene matcher. Overleggsvisualiseringen indikerer at alt burde være\n",
    "ok (lagene plottes pent oppå hverandre). Men, la oss\n",
    "likevel sjekke om crs matcher ved hjelp av Python:"
   ]
  },
  {
   "cell_type": "code",
   "execution_count": null,
   "id": "38fae1ed",
   "metadata": {},
   "outputs": [],
   "source": [
    "# Sjekk crs av kommunen polygon\n",
    "print(helsinki.crs)"
   ]
  },
  {
   "cell_type": "code",
   "execution_count": null,
   "id": "9ddd9e2e",
   "metadata": {},
   "outputs": [],
   "source": [
    "# Sørg for at CRS matcher, hvis ikke løft en AssertionError\n",
    "assert helsinki.crs == nett.crs, \"CRS skiller seg mellom lagene!\""
   ]
  },
  {
   "cell_type": "markdown",
   "id": "a9c29bb8",
   "metadata": {},
   "source": [
    "Faktisk, det gjør de. Vi er nå klare til å utføre en overleggsanalyse mellom disse lagene. \n",
    "\n",
    "Vi vil lage et nytt lag basert på rutenett polygoner som `intersect` med vår\n",
    "Helsingfors lag. Vi kan bruke en metode `overlay()` av en `GeoDataFrame` for å utføre\n",
    "overleggsanalysen som tar som en input 1) andre GeoDataFrame, og 2)\n",
    "parameter `how` som kan brukes til å kontrollere hvordan overleggsanalysen er\n",
    "utført (mulige verdier er `'intersection'`, `'union'`,\n",
    "`'symmetric_difference'`, `'difference'`, og `'identity'`):"
   ]
  },
  {
   "cell_type": "code",
   "execution_count": null,
   "id": "4ae9debf",
   "metadata": {},
   "outputs": [],
   "source": [
    "intersection = nett.overlay(helsinki, how=\"intersection\")"
   ]
  },
  {
   "cell_type": "markdown",
   "id": "d22abba7",
   "metadata": {},
   "source": [
    "La oss plotte dataene våre og se hva vi har:"
   ]
  },
  {
   "cell_type": "code",
   "execution_count": null,
   "id": "4a0bb477",
   "metadata": {},
   "outputs": [],
   "source": [
    "intersection.plot(color=\"b\")"
   ]
  },
  {
   "cell_type": "markdown",
   "id": "12aec719",
   "metadata": {},
   "source": [
    "Som et resultat har vi nå bare de rutenett cellene som krysser med Helsingfors\n",
    "grenser. Hvis du ser nøye etter, kan du også observere at **rutenett cellene er\n",
    "klippet basert på grensen.**\n",
    "\n",
    "- Hva med dataattributter? La oss se hva vi har:"
   ]
  },
  {
   "cell_type": "code",
   "execution_count": null,
   "id": "57716634",
   "metadata": {},
   "outputs": [],
   "source": [
    "intersection.head()"
   ]
  },
  {
   "cell_type": "markdown",
   "id": "d3c68ee5",
   "metadata": {},
   "source": [
    "Som vi kan se, på grunn av overleggsanalysen, inneholder datasettet attributtene\n",
    "fra begge input lagene.\n",
    "\n",
    "La oss lagre resultatrutenettet vårt som en GeoPackage."
   ]
  },
  {
   "cell_type": "code",
   "execution_count": null,
   "id": "0a83f86c",
   "metadata": {},
   "outputs": [],
   "source": [
    "intersection.to_file(\n",
    "    DATA_DIRECTORY / \"intersection.gpkg\",\n",
    "    layer=\"travel_time_matrix_helsinki_region\"\n",
    ")"
   ]
  },
  {
   "cell_type": "markdown",
   "id": "66ad917d",
   "metadata": {},
   "source": [
    "Det er mange flere eksempler på forskjellige typer overleggsanalyse i\n",
    "[Geopandas dokumentasjon](http://geopandas.org/set_operations.html) hvor du\n",
    "kan gå og lære mer."
   ]
  }
 ],
 "metadata": {
  "kernelspec": {
   "display_name": "Python 3 (ipykernel)",
   "language": "python",
   "name": "python3"
  },
  "language_info": {
   "codemirror_mode": {
    "name": "ipython",
    "version": 3
   },
   "file_extension": ".py",
   "mimetype": "text/x-python",
   "name": "python",
   "nbconvert_exporter": "python",
   "pygments_lexer": "ipython3",
   "version": "3.11.0"
  }
 },
 "nbformat": 4,
 "nbformat_minor": 5
}
