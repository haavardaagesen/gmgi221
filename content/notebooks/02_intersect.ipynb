{
 "cells": [
  {
   "cell_type": "markdown",
   "id": "a9a47bab",
   "metadata": {},
   "source": [
    "# 💻 Intersect\n",
    "\n",
    "På samme måte som de romlige forholdene `within` og `contains` som ble dekket i [forrige seksjon](punkt_i_polygon), er et annet vanlig spørsmål om to geometrier krysser eller berører hverandre.\n",
    "\n",
    "Begge spørringene er implementert i `shapely`:\n",
    "- [`intersects()`](https://shapely.readthedocs.io/en/stable/manual.html#object.intersects): to objekter krysser hverandre hvis grensen eller innsiden av et objekt krysser på noen måte med grensen eller innsiden av det andre objektet.\n",
    "- [`touches()`](https://shapely.readthedocs.io/en/stable/manual.html#object.touches): to objekter berører hverandre hvis objektene har minst ett punkt felles, men innsidene deres ikke krysser noen del av det andre objektet.\n",
    "\n",
    "La oss teste disse funksjonene, for eksempel ved å bruke to linjer:"
   ]
  },
  {
   "cell_type": "code",
   "execution_count": 1,
   "id": "d9e03223",
   "metadata": {},
   "outputs": [],
   "source": [
    "import shapely.geometry\n",
    "\n",
    "linje1 = shapely.geometry.LineString([(0, 0), (1, 1)])\n",
    "linje2 = shapely.geometry.LineString([(1, 1), (0, 2)])"
   ]
  },
  {
   "cell_type": "code",
   "execution_count": 2,
   "id": "d7230197",
   "metadata": {},
   "outputs": [
    {
     "data": {
      "text/plain": [
       "True"
      ]
     },
     "execution_count": 2,
     "metadata": {},
     "output_type": "execute_result"
    }
   ],
   "source": [
    "linje1.intersects(linje2)"
   ]
  },
  {
   "cell_type": "markdown",
   "id": "81a11872",
   "metadata": {},
   "source": [
    "Linjene krysser. Berører de også?"
   ]
  },
  {
   "cell_type": "code",
   "execution_count": 3,
   "id": "7ddd1a10",
   "metadata": {},
   "outputs": [
    {
     "data": {
      "text/plain": [
       "True"
      ]
     },
     "execution_count": 3,
     "metadata": {},
     "output_type": "execute_result"
    }
   ],
   "source": [
    "linje1.touches(linje2)"
   ]
  },
  {
   "cell_type": "markdown",
   "id": "4f0d5680",
   "metadata": {},
   "source": [
    "`linje1` berører `linje2`. Å gjøre de om til en multi-linje er en rask måte å\n",
    "tegne dem inne i en Jupyter-notebook:"
   ]
  },
  {
   "cell_type": "code",
   "execution_count": 4,
   "id": "75b5262a",
   "metadata": {},
   "outputs": [
    {
     "data": {
      "image/svg+xml": [
       "<svg xmlns=\"http://www.w3.org/2000/svg\" xmlns:xlink=\"http://www.w3.org/1999/xlink\" width=\"100.0\" height=\"100.0\" viewBox=\"-0.08 -0.08 1.1600000000000001 2.16\" preserveAspectRatio=\"xMinYMin meet\"><g transform=\"matrix(1,0,0,-1,0,2.0)\"><g><polyline fill=\"none\" stroke=\"#66cc99\" stroke-width=\"0.0432\" points=\"0.0,0.0 1.0,1.0\" opacity=\"0.8\" /><polyline fill=\"none\" stroke=\"#66cc99\" stroke-width=\"0.0432\" points=\"1.0,1.0 0.0,2.0\" opacity=\"0.8\" /></g></g></svg>"
      ],
      "text/plain": [
       "<MULTILINESTRING ((0 0, 1 1), (1 1, 0 2))>"
      ]
     },
     "execution_count": 4,
     "metadata": {},
     "output_type": "execute_result"
    }
   ],
   "source": [
    "shapely.geometry.MultiLineString([linje1, linje2])"
   ]
  },
  {
   "cell_type": "markdown",
   "id": "ac512cda",
   "metadata": {},
   "source": [
    "Vi kan se her, at de deler punktet `(1, 1)`, der `linje1` slutter, og\n",
    "`linje2` begynner. De to linjene krysser ikke ellers (‘i deres indre’),\n",
    "så spådommen ’`touch()`’ - som definert ovenfor - er sann.\n",
    "\n",
    "Hvis linjene skulle dele noe av innsidene deres, ville det ikke bli regnet som\n",
    "berøring. For eksempel, `linje1` berører ikke `linje1` (seg selv), men oppfyller\n",
    "alle krav for å bli regnet som `intersect()`ing med seg selv:"
   ]
  },
  {
   "cell_type": "code",
   "execution_count": 5,
   "id": "fd89e385",
   "metadata": {},
   "outputs": [
    {
     "data": {
      "text/plain": [
       "False"
      ]
     },
     "execution_count": 5,
     "metadata": {},
     "output_type": "execute_result"
    }
   ],
   "source": [
    "linje1.touches(linje1)"
   ]
  },
  {
   "cell_type": "code",
   "execution_count": 6,
   "id": "9bf5948c",
   "metadata": {},
   "outputs": [
    {
     "data": {
      "text/plain": [
       "True"
      ]
     },
     "execution_count": 6,
     "metadata": {},
     "output_type": "execute_result"
    }
   ],
   "source": [
    "linje1.intersects(linje1)"
   ]
  }
 ],
 "metadata": {
  "kernelspec": {
   "display_name": "Python 3 (ipykernel)",
   "language": "python",
   "name": "python3"
  },
  "language_info": {
   "codemirror_mode": {
    "name": "ipython",
    "version": 3
   },
   "file_extension": ".py",
   "mimetype": "text/x-python",
   "name": "python",
   "nbconvert_exporter": "python",
   "pygments_lexer": "ipython3",
   "version": "3.11.0"
  }
 },
 "nbformat": 4,
 "nbformat_minor": 5
}
