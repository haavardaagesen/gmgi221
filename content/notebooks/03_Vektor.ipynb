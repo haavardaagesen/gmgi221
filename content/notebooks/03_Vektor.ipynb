{
 "cells": [
  {
   "cell_type": "markdown",
   "id": "15e64ebd-8974-44f0-861b-1c04cb0b0a7d",
   "metadata": {},
   "source": [
    "# Vektor Data I/O\n",
    "\n",
    "En av de første trinnene i mange analyse-arbeidsflyter er å lese data fra en fil, et av de siste trinnene skriver ofte data til en utdatafil. Til skrekk og gru for mange geoinformatikkforskere, finnes det mange filformater for GIS-data: den gamle og forhatte, men også elskede og etablerte [ESRI Shapefile](https://en.wikipedia.org/wiki/Shapefile), den universelle [Geopackage (GPKG)](https://en.wikipedia.org/wiki/GeoPackage), og den web-optimaliserte [GeoJSON](https://en.wikipedia.org/wiki/GeoJSON) er bare noen av de mer kjente eksemplene.\n",
    "\n",
    "Frykt ikke, Python kan lese dem alle (ingen garantier, though)! \n",
    "\n",
    "De fleste av dagens Python GIS-pakker er avhengige av [GDAL/OGR](https://gdal.org/)-bibliotekene, som det finnes moderne grensesnitt for i form av Python-pakkene [fiona](https://fiona.readthedocs.io) og [rasterio](https://rasterio.readthedocs.io).\n",
    "\n",
    "I dag skal vi konsentrere oss om vektordata, så la oss først ta en nærmere titt på fionas kapabiliteter, og deretter importere og eksportere data ved hjelp av [geopandas](https://geopandas.org/), som bruker fiona under hetta.\n",
    "\n",
    "---\n",
    "\n",
    ":::{admonition} Definere en konstant for datamappen\n",
    ":class: note\n",
    "\n",
    "For å gjøre det lettere å håndtere stiene til inngangs- og utgangsdatafiler, er det en god vane å [definere en konstant som peker på datamappen](managing-file-paths) øverst i en notatbok:\n",
    "\n",
    ":::"
   ]
  },
  {
   "cell_type": "code",
   "execution_count": null,
   "id": "e9ffec37-1bcf-4dc0-9278-b1e348994ec0",
   "metadata": {},
   "outputs": [],
   "source": [
    "import pathlib \n",
    "NOTEBOOK_PATH = pathlib.Path().resolve()\n",
    "DATA_DIRECTORY = NOTEBOOK_PATH / \"data\""
   ]
  },
  {
   "cell_type": "markdown",
   "id": "7e4fef2b-384d-49a9-865a-5b8ba61942fb",
   "metadata": {},
   "source": [
    "---\n",
    "\n",
    "## Filformater\n",
    "\n",
    "Fiona kan lese (nesten) alle geospatiale filformater, og skrive mange av dem. For å finne ut nøyaktig hvilke (det kan avhenge av den lokale installasjonen og versjonen), kan vi skrive ut listen over dens filformatdrivere:"
   ]
  },
  {
   "cell_type": "code",
   "execution_count": null,
   "id": "73add0cc-c8ad-4636-a713-b1da3e0f72a2",
   "metadata": {},
   "outputs": [],
   "source": [
    "import fiona\n",
    "fiona.supported_drivers"
   ]
  },
  {
   "cell_type": "markdown",
   "id": "c4a1dbfb-1428-4b4c-a76f-d019b1c6f73b",
   "metadata": {},
   "source": [
    ":::{hint}\n",
    "I denne listen markerer `r` filformater som Fiona kan *l*ese, og `w` formater det kan *s*krive. En `a` markerer formater som Fiona kan *a*ppendere nye data til eksisterende filer.\n",
    "\n",
    "Merk at hver av de listede 'formatene' faktisk er navnet på driverimplementasjonen, og mange av driverne kan åpne flere relaterte filformater.\n",
    "\n",
    "Mange flere 'eksotiske' filformater kan kanskje ikke vises i denne listen over din lokale installasjon, fordi du må installere ekstra biblioteker. Du kan finne en fullstendig liste over filformater som støttes av GDAL/OGR (og Fiona) på nettsiden: [gdal.org/drivers/vector/](https://gdal.org/drivers/vector/).\n",
    ":::\n",
    "\n",
    "### Lesing og skriving av geospatiale data\n",
    "\n",
    "Fiona gir veldig lavt nivå tilgang til geodatafiler. Dette er noen ganger nødvendig, men i typiske analysearbeidsflyter er det mer praktisk å bruke et høyere nivå bibliotek. Den mest brukte for geospatiale vektordata er [geopandas](https://geopandas.org). Som nevnt ovenfor, bruker den Fiona for lesing og skriving av filer, og støtter dermed de samme filformatene.\n",
    "\n",
    "For å lese data fra en *GeoPackage* -fil til en `geopandas.GeoDataFrame` (en geospatiale versjon av en `pandas.DataFrame`), bruk `geopandas.read_file()`:"
   ]
  },
  {
   "cell_type": "code",
   "execution_count": null,
   "id": "9257008d-a4fe-4c84-a10d-28278cf51e56",
   "metadata": {},
   "outputs": [],
   "source": [
    "import geopandas\n",
    "municipalities = geopandas.read_file(\n",
    "    DATA_DIRECTORY / \"finland_municipalities\" / \"finland_municipalities_2021.gpkg\"\n",
    ")\n",
    "municipalities.head()"
   ]
  },
  {
   "cell_type": "markdown",
   "id": "5e10a099-13b1-45db-a06b-4c53b0e8caaf",
   "metadata": {},
   "source": [
    "Å lese en lokal GPKG-fil er mest sannsynlig den enkleste oppgaven for en GIS-pakke. Imidlertid, i perfekt Python 'Swiss pocket knife' stil, kan geopandas også lese Shapefiles **innenfor en ZIP-arkiv**, og/eller direkte **fra en Internett-URL**. For eksempel, nedlasting, utpakking og åpning av et datasett av NUTS-regioner fra [European Union’s GISCO/eurostat download page](https://ec.europa.eu/eurostat/web/gisco/geodata/reference-data/administrative-units-statistical-units/nuts) er en linje med kode:"
   ]
  },
  {
   "cell_type": "code",
   "execution_count": null,
   "id": "4d14581c-aec7-44d2-99f0-b21b00e90c0a",
   "metadata": {},
   "outputs": [],
   "source": [
    "nuts_regions = geopandas.read_file(\"https://gisco-services.ec.europa.eu/distribution/v2/nuts/shp/NUTS_RG_60M_2021_3035.shp.zip\")\n",
    "nuts_regions.head()"
   ]
  },
  {
   "cell_type": "markdown",
   "id": "c8f27b3d-53c6-44a5-9ddf-16f34780438a",
   "metadata": {},
   "source": []
  }
 ],
 "metadata": {
  "kernelspec": {
   "display_name": "Python 3 (ipykernel)",
   "language": "python",
   "name": "python3"
  },
  "language_info": {
   "codemirror_mode": {
    "name": "ipython",
    "version": 3
   },
   "file_extension": ".py",
   "mimetype": "text/x-python",
   "name": "python",
   "nbconvert_exporter": "python",
   "pygments_lexer": "ipython3",
   "version": "3.11.0"
  }
 },
 "nbformat": 4,
 "nbformat_minor": 5
}
