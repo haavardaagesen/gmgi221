{
 "cells": [
  {
   "cell_type": "markdown",
   "id": "0",
   "metadata": {},
   "source": [
    "# 💻 En smakebit av Python\n",
    "\n",
    "## Oversikt\n",
    "\n",
    "I denne forelesningen skal vi få en smakebit av Python og se på noen grunnleggende konsepter som variabler og datatyper. Å kunne forstå disse grunnleggende prisippene er helt essensielt for å jobbe med romlige data. Med variabler kan du lagre og manipulere informasjon, mens datatyper definere hvilke operasjoner du kan utføre på disse variablene. \n",
    "\n",
    "Denne forelesningen er inspirert av [Introduction to GIS Programming](https://geog-312.gishub.org/book/python/02_variables.html) fra University of Tennessee."
   ]
  },
  {
   "cell_type": "markdown",
   "id": "1",
   "metadata": {},
   "source": [
    "## Variabler i Python\n",
    "\n",
    "I Python er variabler et symbolsk navn som refererer eller peker til et objekt. Etter at et objekt har blitt tildelt til en variabel kan du referere til objektet ved å bruke variabelnavnet.\n",
    "\n",
    "Vi kan begynne med å opprette en enkel variabel som representerer et antall punkter i et datasett."
   ]
  },
  {
   "cell_type": "code",
   "execution_count": null,
   "id": "2",
   "metadata": {},
   "outputs": [],
   "source": [
    "antall_punkt = 120"
   ]
  },
  {
   "cell_type": "markdown",
   "id": "3",
   "metadata": {},
   "source": [
    "Variablen `antall_punkt` representerer nå heltallet 120 som vi nå kan bruke videre. \n",
    "\n",
    "For å se hva verdien av variablen er, kan vi bruke `print()`-funksjonen."
   ]
  },
  {
   "cell_type": "code",
   "execution_count": null,
   "id": "4",
   "metadata": {},
   "outputs": [],
   "source": [
    "print(antall_punkt)"
   ]
  },
  {
   "cell_type": "markdown",
   "id": "5",
   "metadata": {},
   "source": [
    "I en Notebook som denne, kan vi også bare skrive variabelnavnet i en kodecelle og kjøre cellen for å vise variabelverdien."
   ]
  },
  {
   "cell_type": "code",
   "execution_count": null,
   "id": "6",
   "metadata": {},
   "outputs": [],
   "source": [
    "antall_punkt"
   ]
  },
  {
   "cell_type": "markdown",
   "id": "7",
   "metadata": {},
   "source": [
    "## Navngivning\n",
    "\n",
    "Når du navngir variabler er det noen tommelfingerregler som er nyttige å følge:\n",
    "\n",
    "- Variabelnavn må starte med en bokstav eller en understrek (`_`).\n",
    "- Resten av variabelnavnet kan bestå av bokstaver, tall og understreker.\n",
    "- Variabelnavn er følsomme for store og små bokstaver, så `antall_punkt` og `Antall_Punkt` er forskjellige variabler.\n",
    "- Variabelnavn bør være beskrivende og meningsfulle, slik som `antall_punkt` i stedet for `n`.\n",
    "- Unngå å bruke Python-nøkkelord og innebygde funksjoner som variabelnavn, sånn som `print`, `sum`, `list`, `dict`, `str`, `int`, `float`, `bool`, `set`, `tuple`, `range`, `type`, `object`, `None`, `True`, `False` og [mange fler](https://docs.python.org/3/library/functions.html)."
   ]
  },
  {
   "cell_type": "markdown",
   "id": "8",
   "metadata": {},
   "source": [
    "## Datatyper\n",
    "\n",
    "Python støtter et hav av datatyper og de aller fleste som vi bruker når vi jobber med romlige data. De vanligste datatypene inkluderer:\n",
    "\n",
    "**a) Heltall (int):** Dette er heltall som for eksempel: 1, 120, -5"
   ]
  },
  {
   "cell_type": "code",
   "execution_count": 8,
   "id": "9",
   "metadata": {},
   "outputs": [],
   "source": [
    "antall_datapunkt = 500  # Representerer antall datapunkt i et datasett"
   ]
  },
  {
   "cell_type": "markdown",
   "id": "10",
   "metadata": {},
   "source": [
    "**b) Flyttall (float):** Dette er tall med desimaler så som: 3.14, -0.001, 100.0. Desimaler skrives med punktum som desimaltegn."
   ]
  },
  {
   "cell_type": "code",
   "execution_count": 15,
   "id": "11",
   "metadata": {},
   "outputs": [],
   "source": [
    "breddegrad = 59.665  # Representerer verdien til breddegraden til et punkt på jordens overflate\n",
    "lengdegrad = 10.776  # Representerer verdien til lengdegraden til et punkt på jordens overflate"
   ]
  },
  {
   "cell_type": "markdown",
   "id": "12",
   "metadata": {},
   "source": [
    "**c) Strenger (str):** Strenger er tekst eller bokstavkombinasjoner så som: \"Hello\", \"Lat/Long\""
   ]
  },
  {
   "cell_type": "code",
   "execution_count": 2,
   "id": "13",
   "metadata": {},
   "outputs": [],
   "source": [
    "koordinatsystem = \"WGS 84\"  # Representerer et vanlig koordinatsystem"
   ]
  },
  {
   "cell_type": "markdown",
   "id": "14",
   "metadata": {},
   "source": [
    "Strenger kan omringes av ett anførselestegn (`'`) eller doble anførselestegn (`\"`). Du kan også bruke triple anførselestegn (`'''` or `\"\"\"`) for strenger som går over flere linjer."
   ]
  },
  {
   "cell_type": "markdown",
   "id": "15",
   "metadata": {},
   "source": [
    "**d) Boolske variabler (bool):** Boolske variabler representerer en av to verdier: sant eller falsk / True or False"
   ]
  },
  {
   "cell_type": "code",
   "execution_count": 3,
   "id": "16",
   "metadata": {},
   "outputs": [],
   "source": [
    "er_georeferert = True  # Representerer hvorvidt et dataset er georeferert eller ikke"
   ]
  },
  {
   "cell_type": "markdown",
   "id": "17",
   "metadata": {},
   "source": [
    "**e) Lister:** Lister er en ordnet samling av objekter. Lister kan innehold ulike typer objekter."
   ]
  },
  {
   "cell_type": "code",
   "execution_count": 4,
   "id": "18",
   "metadata": {},
   "outputs": [],
   "source": [
    "koordinater = [\n",
    "    10.776,\n",
    "    59.665,\n",
    "]  # En liste som representerer breddegrad og lengdegradene til et punkt"
   ]
  },
  {
   "cell_type": "markdown",
   "id": "19",
   "metadata": {},
   "source": [
    "**f) Ordbøker/Dictionaries (dict):** Ordbøker er en samling av par bestående av nøkkel og verdi."
   ]
  },
  {
   "cell_type": "code",
   "execution_count": 5,
   "id": "20",
   "metadata": {},
   "outputs": [],
   "source": [
    "attributter = {\n",
    "    \"navn\": \"Ås\",\n",
    "    \"befolkning\": 10962,\n",
    "    \"type\": \"tettsted\",\n",
    "    \"koordinater\": [10.776, 59.665]\n",
    "}"
   ]
  },
  {
   "cell_type": "markdown",
   "id": "28",
   "metadata": {},
   "source": [
    "## Kommentarer\n",
    "\n",
    "Kommentarer brukes i koding til å forklare hva koden gjør og å gjøre koden mer lesbar. I Python starter kommentarer på en enkelt linje med `#`. Alt etter `#` på den linjen blir tolket som kommentar og blir ignorert av Python. For kommentarer som går over flere linjer, kan du bruke triple anførselestegn (`'''` or `\"\"\"`)."
   ]
  },
  {
   "cell_type": "code",
   "execution_count": 6,
   "id": "29",
   "metadata": {},
   "outputs": [],
   "source": [
    "# Dette er en kommentar\n",
    "antall_punkt = 120  # Dette er en \"inline\"-kommentar"
   ]
  },
  {
   "cell_type": "markdown",
   "id": "30",
   "metadata": {},
   "source": [
    "## Jobbe med variabler og datatyper\n",
    "\n",
    "Nå som vi kjenner til de grunnleggende datatypene og hvordan variabler fungerer, kan vi begynne å jobbe med de:\n",
    "\n",
    "Vi begynner med en enkel operasjon, å legge til en bestemt verdi til en allerede eksisterende variabel:"
   ]
  },
  {
   "cell_type": "code",
   "execution_count": 9,
   "id": "31",
   "metadata": {},
   "outputs": [
    {
     "name": "stdout",
     "output_type": "stream",
     "text": [
      "Et oppdatert antall datapunkt: 520\n"
     ]
    }
   ],
   "source": [
    "antall_datapunkt += 20\n",
    "print(\"Et oppdatert antall datapunkt:\", antall_datapunkt)"
   ]
  },
  {
   "cell_type": "markdown",
   "id": "32",
   "metadata": {},
   "source": [
    "Konvertere lengdegrader fra grader til radianer:"
   ]
  },
  {
   "cell_type": "code",
   "execution_count": 14,
   "id": "33",
   "metadata": {},
   "outputs": [
    {
     "name": "stdout",
     "output_type": "stream",
     "text": [
      "Lengdegrad i radianer: 0.18807668019490895\n"
     ]
    }
   ],
   "source": [
    "import math\n",
    "\n",
    "lengdegrad = 10.776\n",
    "lengdegrad_radianer = math.radians(lengdegrad)\n",
    "print(\"Lengdegrad i radianer:\", lengdegrad_radianer)"
   ]
  },
  {
   "cell_type": "markdown",
   "id": "34",
   "metadata": {},
   "source": [
    "Legge til koordinater til en liste:"
   ]
  },
  {
   "cell_type": "code",
   "execution_count": 12,
   "id": "35",
   "metadata": {},
   "outputs": [
    {
     "name": "stdout",
     "output_type": "stream",
     "text": [
      "Oppdaterte koordinater: [10.776, 59.665, 24.952, 60.169]\n"
     ]
    }
   ],
   "source": [
    "koordinater = [10.776, 59.665]\n",
    "koordinater.append(24.952)\n",
    "koordinater.append(60.169)\n",
    "print(\"Oppdaterte koordinater:\", koordinater)"
   ]
  },
  {
   "cell_type": "markdown",
   "id": "36",
   "metadata": {},
   "source": [
    "Bruke innholdet i en ordbok:"
   ]
  },
  {
   "cell_type": "code",
   "execution_count": 13,
   "id": "37",
   "metadata": {},
   "outputs": [
    {
     "name": "stdout",
     "output_type": "stream",
     "text": [
      "I Ås bor det 10962 mennesker.\n"
     ]
    }
   ],
   "source": [
    "\n",
    "aas_navn = attributter[\"navn\"]\n",
    "aas_befolkning = attributter[\"befolkning\"]\n",
    "print(f\"I {aas_navn} bor det {aas_befolkning} mennesker.\")"
   ]
  },
  {
   "cell_type": "markdown",
   "id": "38",
   "metadata": {},
   "source": [
    "## Bruk i en romlig kontekst\n",
    "\n",
    "Si at du har fått en liste med koordinatpar og har blitt bedt om å regne ut centroiden eller midtpunktet:\n",
    "\n",
    "Her er listen med koordinater (lengdegrad/breddegrad) som representerer fire byer:"
   ]
  },
  {
   "cell_type": "code",
   "execution_count": 16,
   "id": "39",
   "metadata": {},
   "outputs": [],
   "source": [
    "punkter = [\n",
    "    [10.738, 59.913],  # Oslo\n",
    "    [5.323333, 60.3925],  # Bergen\n",
    "    [10.4, 63.44],  # Trondheim\n",
    "    [18.96366, 69.65455],  # Tromsø\n",
    "]"
   ]
  },
  {
   "cell_type": "markdown",
   "id": "40",
   "metadata": {},
   "source": [
    "Regn ut centroiden:"
   ]
  },
  {
   "cell_type": "code",
   "execution_count": 19,
   "id": "41",
   "metadata": {},
   "outputs": [
    {
     "name": "stdout",
     "output_type": "stream",
     "text": [
      "Centroid for punktene er: [11.35624825, 63.3500125]\n"
     ]
    }
   ],
   "source": [
    "centroid_lengdegrad = sum([punkt[0] for punkt in punkter]) / len(punkter)\n",
    "centroid_breddegrad = sum([punkt[1] for punkt in punkter]) / len(punkter)\n",
    "centroid = [centroid_lengdegrad, centroid_breddegrad]\n",
    "print(\"Centroid for punktene er:\", centroid)"
   ]
  }
 ],
 "metadata": {
  "kernelspec": {
   "display_name": "Python 3",
   "language": "python",
   "name": "python3"
  },
  "language_info": {
   "codemirror_mode": {
    "name": "ipython",
    "version": 3
   },
   "file_extension": ".py",
   "mimetype": "text/x-python",
   "name": "python",
   "nbconvert_exporter": "python",
   "pygments_lexer": "ipython3",
   "version": "3.11.9"
  }
 },
 "nbformat": 4,
 "nbformat_minor": 5
}
