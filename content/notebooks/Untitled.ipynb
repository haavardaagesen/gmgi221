{
 "cells": [
  {
   "cell_type": "code",
   "execution_count": 11,
   "id": "c799db72-20c8-42ff-b70d-335d454191d6",
   "metadata": {},
   "outputs": [],
   "source": [
    "import geopandas as gpd\n",
    "import pandas as pd"
   ]
  },
  {
   "cell_type": "code",
   "execution_count": 2,
   "id": "635b0128-289d-4361-99ed-701fcf8fef9b",
   "metadata": {},
   "outputs": [
    {
     "data": {
      "text/plain": [
       "PosixPath('.')"
      ]
     },
     "execution_count": 2,
     "metadata": {},
     "output_type": "execute_result"
    }
   ],
   "source": [
    "import pathlib\n",
    "pathlib.Path()"
   ]
  },
  {
   "cell_type": "code",
   "execution_count": 3,
   "id": "77d23dd0-fef2-40e8-aeaa-b53360d399d0",
   "metadata": {},
   "outputs": [],
   "source": [
    "NOTEBOOK_PATH = pathlib.Path().resolve()\n",
    "DATA_MAPPE = NOTEBOOK_PATH / \"geop\""
   ]
  },
  {
   "cell_type": "code",
   "execution_count": 6,
   "id": "2e331f1d-38d8-4caa-8f73-f2248139cf25",
   "metadata": {},
   "outputs": [],
   "source": [
    "data_set = gpd.read_file(DATA_MAPPE / \"myr.gpkg\")"
   ]
  },
  {
   "cell_type": "code",
   "execution_count": 17,
   "id": "b8d083fa-fb28-4889-adc9-7613f2418aca",
   "metadata": {},
   "outputs": [],
   "source": [
    "myr = gpd.read_file(DATA_MAPPE / \"myr.gpkg\")\n",
    "innsjo = gpd.read_file(DATA_MAPPE / \"innsjo.gpkg\")\n",
    "apentomrade = gpd.read_file(DATA_MAPPE / \"apentomrade.gpkg\")\n",
    "dyrketmark = gpd.read_file(DATA_MAPPE / \"dyrketmark.gpkg\")\n",
    "gravplass = gpd.read_file(DATA_MAPPE / \"gravplass.gpkg\")\n",
    "havflate = gpd.read_file(DATA_MAPPE / \"havflate.gpkg\")\n",
    "industriomrade = gpd.read_file(DATA_MAPPE / \"industriomrade.gpkg\")\n",
    "skog = gpd.read_file(DATA_MAPPE / \"skog.gpkg\")\n",
    "sportidrettplass = gpd.read_file(DATA_MAPPE / \"sportidrettplass.gpkg\")\n",
    "steinbrudd = gpd.read_file(DATA_MAPPE / \"steinbrudd.gpkg\")\n",
    "tettbebyggelse = gpd.read_file(DATA_MAPPE / \"tettbebyggelse.gpkg\")\n"
   ]
  },
  {
   "cell_type": "code",
   "execution_count": null,
   "id": "6c1f3a3f-6c76-46ba-a88e-b311cccfdd1a",
   "metadata": {},
   "outputs": [],
   "source": [
    "myr, innsjo, apentomrade, dyrketmark, gravplass, havflate, industriomrade, skog, sportidrettplass, steinbrudd, tettbebyggelse"
   ]
  },
  {
   "cell_type": "code",
   "execution_count": 18,
   "id": "63010701-b9ee-4bf2-af19-b72aaaf06a63",
   "metadata": {},
   "outputs": [],
   "source": [
    "joined = pd.concat([myr, innsjo, apentomrade, dyrketmark, gravplass, havflate, industriomrade, skog, sportidrettplass, steinbrudd, tettbebyggelse])"
   ]
  },
  {
   "cell_type": "code",
   "execution_count": 19,
   "id": "a9ed2f6f-a3f0-49c4-b573-08a02dbbfef2",
   "metadata": {},
   "outputs": [
    {
     "data": {
      "text/html": [
       "<div>\n",
       "<style scoped>\n",
       "    .dataframe tbody tr th:only-of-type {\n",
       "        vertical-align: middle;\n",
       "    }\n",
       "\n",
       "    .dataframe tbody tr th {\n",
       "        vertical-align: top;\n",
       "    }\n",
       "\n",
       "    .dataframe thead th {\n",
       "        text-align: right;\n",
       "    }\n",
       "</style>\n",
       "<table border=\"1\" class=\"dataframe\">\n",
       "  <thead>\n",
       "    <tr style=\"text-align: right;\">\n",
       "      <th></th>\n",
       "      <th>gml_id</th>\n",
       "      <th>oppdateringsdato</th>\n",
       "      <th>klasse</th>\n",
       "      <th>klasse_navn</th>\n",
       "      <th>geometry</th>\n",
       "    </tr>\n",
       "  </thead>\n",
       "  <tbody>\n",
       "    <tr>\n",
       "      <th>0</th>\n",
       "      <td>idd51cad71-d02b-4043-833b-8a6e50539af0</td>\n",
       "      <td>2016-12-02</td>\n",
       "      <td>100</td>\n",
       "      <td>myr</td>\n",
       "      <td>POLYGON ((265791.900 6614994.650, 265790.180 6...</td>\n",
       "    </tr>\n",
       "    <tr>\n",
       "      <th>1</th>\n",
       "      <td>id41c8ac6e-b5ce-4657-958c-312c27dafd9a</td>\n",
       "      <td>2016-12-02</td>\n",
       "      <td>100</td>\n",
       "      <td>myr</td>\n",
       "      <td>POLYGON ((262206.270 6628558.130, 262202.640 6...</td>\n",
       "    </tr>\n",
       "    <tr>\n",
       "      <th>2</th>\n",
       "      <td>ide574839d-8f33-4b1e-bc44-01a865a1beb9</td>\n",
       "      <td>2016-12-02</td>\n",
       "      <td>100</td>\n",
       "      <td>myr</td>\n",
       "      <td>POLYGON ((265299.880 6621504.120, 265294.080 6...</td>\n",
       "    </tr>\n",
       "    <tr>\n",
       "      <th>3</th>\n",
       "      <td>id2aa8beeb-8a23-4159-ae85-d218ead88c9f</td>\n",
       "      <td>2016-12-02</td>\n",
       "      <td>100</td>\n",
       "      <td>myr</td>\n",
       "      <td>POLYGON ((260561.580 6622897.200, 260562.110 6...</td>\n",
       "    </tr>\n",
       "    <tr>\n",
       "      <th>4</th>\n",
       "      <td>iddf0f9506-8358-49ae-bd65-b496cd4571be</td>\n",
       "      <td>2016-12-02</td>\n",
       "      <td>100</td>\n",
       "      <td>myr</td>\n",
       "      <td>POLYGON ((265326.090 6621350.040, 265320.020 6...</td>\n",
       "    </tr>\n",
       "    <tr>\n",
       "      <th>...</th>\n",
       "      <td>...</td>\n",
       "      <td>...</td>\n",
       "      <td>...</td>\n",
       "      <td>...</td>\n",
       "      <td>...</td>\n",
       "    </tr>\n",
       "    <tr>\n",
       "      <th>24</th>\n",
       "      <td>id8688ef9b-9e63-4ee0-8d13-5bddbf16e9a8</td>\n",
       "      <td>2024-05-06</td>\n",
       "      <td>120</td>\n",
       "      <td>tettbebyggelse</td>\n",
       "      <td>POLYGON ((264495.760 6627874.970, 264495.310 6...</td>\n",
       "    </tr>\n",
       "    <tr>\n",
       "      <th>25</th>\n",
       "      <td>idc06fab68-012a-45cb-a7a9-0b4875e4870f</td>\n",
       "      <td>2024-05-06</td>\n",
       "      <td>120</td>\n",
       "      <td>tettbebyggelse</td>\n",
       "      <td>POLYGON ((264428.770 6627393.320, 264429.130 6...</td>\n",
       "    </tr>\n",
       "    <tr>\n",
       "      <th>26</th>\n",
       "      <td>idbd95d1b3-99a3-4e05-b970-14ded79f31e6</td>\n",
       "      <td>2023-03-21</td>\n",
       "      <td>120</td>\n",
       "      <td>tettbebyggelse</td>\n",
       "      <td>POLYGON ((264328.880 6627669.330, 264329.240 6...</td>\n",
       "    </tr>\n",
       "    <tr>\n",
       "      <th>27</th>\n",
       "      <td>id3bb07481-6824-4b39-8e45-4f2dea49abaf</td>\n",
       "      <td>2024-01-25</td>\n",
       "      <td>120</td>\n",
       "      <td>tettbebyggelse</td>\n",
       "      <td>POLYGON ((262436.510 6622047.280, 262438.610 6...</td>\n",
       "    </tr>\n",
       "    <tr>\n",
       "      <th>28</th>\n",
       "      <td>id385f787c-b96e-4a0d-8769-ccb6dbd183de</td>\n",
       "      <td>2016-12-02</td>\n",
       "      <td>120</td>\n",
       "      <td>tettbebyggelse</td>\n",
       "      <td>POLYGON ((264288.040 6627606.730, 264280.250 6...</td>\n",
       "    </tr>\n",
       "  </tbody>\n",
       "</table>\n",
       "<p>1286 rows × 5 columns</p>\n",
       "</div>"
      ],
      "text/plain": [
       "                                    gml_id oppdateringsdato  klasse  \\\n",
       "0   idd51cad71-d02b-4043-833b-8a6e50539af0       2016-12-02     100   \n",
       "1   id41c8ac6e-b5ce-4657-958c-312c27dafd9a       2016-12-02     100   \n",
       "2   ide574839d-8f33-4b1e-bc44-01a865a1beb9       2016-12-02     100   \n",
       "3   id2aa8beeb-8a23-4159-ae85-d218ead88c9f       2016-12-02     100   \n",
       "4   iddf0f9506-8358-49ae-bd65-b496cd4571be       2016-12-02     100   \n",
       "..                                     ...              ...     ...   \n",
       "24  id8688ef9b-9e63-4ee0-8d13-5bddbf16e9a8       2024-05-06     120   \n",
       "25  idc06fab68-012a-45cb-a7a9-0b4875e4870f       2024-05-06     120   \n",
       "26  idbd95d1b3-99a3-4e05-b970-14ded79f31e6       2023-03-21     120   \n",
       "27  id3bb07481-6824-4b39-8e45-4f2dea49abaf       2024-01-25     120   \n",
       "28  id385f787c-b96e-4a0d-8769-ccb6dbd183de       2016-12-02     120   \n",
       "\n",
       "       klasse_navn                                           geometry  \n",
       "0              myr  POLYGON ((265791.900 6614994.650, 265790.180 6...  \n",
       "1              myr  POLYGON ((262206.270 6628558.130, 262202.640 6...  \n",
       "2              myr  POLYGON ((265299.880 6621504.120, 265294.080 6...  \n",
       "3              myr  POLYGON ((260561.580 6622897.200, 260562.110 6...  \n",
       "4              myr  POLYGON ((265326.090 6621350.040, 265320.020 6...  \n",
       "..             ...                                                ...  \n",
       "24  tettbebyggelse  POLYGON ((264495.760 6627874.970, 264495.310 6...  \n",
       "25  tettbebyggelse  POLYGON ((264428.770 6627393.320, 264429.130 6...  \n",
       "26  tettbebyggelse  POLYGON ((264328.880 6627669.330, 264329.240 6...  \n",
       "27  tettbebyggelse  POLYGON ((262436.510 6622047.280, 262438.610 6...  \n",
       "28  tettbebyggelse  POLYGON ((264288.040 6627606.730, 264280.250 6...  \n",
       "\n",
       "[1286 rows x 5 columns]"
      ]
     },
     "execution_count": 19,
     "metadata": {},
     "output_type": "execute_result"
    }
   ],
   "source": [
    "joined"
   ]
  },
  {
   "cell_type": "code",
   "execution_count": 20,
   "id": "4864c467-0efa-41f9-b3a9-1711bcb164e7",
   "metadata": {},
   "outputs": [],
   "source": [
    "joined.to_file(\"ArealdekkeN50.gpkg\", driver=\"GPKG\")"
   ]
  },
  {
   "cell_type": "code",
   "execution_count": null,
   "id": "4ec20e3a-bcd9-4a62-bd91-0ba78e9d8ce6",
   "metadata": {},
   "outputs": [],
   "source": []
  }
 ],
 "metadata": {
  "kernelspec": {
   "display_name": "Python 3 (ipykernel)",
   "language": "python",
   "name": "python3"
  },
  "language_info": {
   "codemirror_mode": {
    "name": "ipython",
    "version": 3
   },
   "file_extension": ".py",
   "mimetype": "text/x-python",
   "name": "python",
   "nbconvert_exporter": "python",
   "pygments_lexer": "ipython3",
   "version": "3.11.0"
  }
 },
 "nbformat": 4,
 "nbformat_minor": 5
}
