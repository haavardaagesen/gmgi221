{
  "cells": [
    {
      "cell_type": "markdown",
      "metadata": {
        "tags": [
          "raises-exception"
        ]
      },
      "source": [
        "# 💻 Bruke `assertion`\n",
        "\n",
        "Du kan også åpne denne notebooken i Binder: [![Binder](https://mybinder.org/badge_logo.svg)](https://mybinder.org/v2/gh/GMGI221/forelesninger/HEAD?urlpath=%2Fdoc%2Ftree%2F02_assertions.ipynb)\n",
        "\n",
        "\n",
        "Målet med [defensive programming](https://en.wikipedia.org/wiki/Defensive_programming) er å prøve å maksimere påliteligheten og den generelle kvaliteten til et stykke programvare. For oss betyr dette at vi bør ta skritt for å håndtere uventede inputverdier i koden vår, og å gi nyttige feilmeldinger som gir meningsfull veiledning til brukeren når et program flagger et unntak. Vi kan ta skritt mot å skrive mer pålitelig programvare ved å bruke en nyttig funksjon i Python: \"Assertions\".\n",
        "\n",
        "## Assertions/Påstander\n",
        "\n",
        "*Assertions*/Påstander er en måte å hevde, eller sikre, at verdiene som brukes i skriptene dine kommer til å passe til det koden gjør. La oss starte med å vurdere funksjonen `convert_kph_ms` som konverterer vindhastigheter fra kilometer i timen til meter per sekund. Vi kan definere og bruke funksjonen vår i cellen under."
      ]
    },
    {
      "cell_type": "code",
      "execution_count": 1,
      "metadata": {},
      "outputs": [
        {
          "name": "stdout",
          "output_type": "stream",
          "text": [
            "En vindhastighet på 9 km/t er 2.5 m/s.\n"
          ]
        }
      ],
      "source": [
        "def convert_kmt_ms(speed):\n",
        "    \"\"\"Konverterer hastighet fra km/t til m/s\"\"\"\n",
        "    return speed * 1000 / 3600\n",
        "\n",
        "\n",
        "wind_speed_km = 9\n",
        "wind_speed_ms = convert_kmt_ms(wind_speed_km)\n",
        "\n",
        "print(f\"En vindhastighet på {wind_speed_km} km/t er {wind_speed_ms} m/s.\")"
      ]
    },
    {
      "cell_type": "markdown",
      "metadata": {},
      "source": [
        "Alt dette virker greit, men du vil kanskje sørge for at verdiene for vindhastigheten ikke er negative tall, siden hastigheten ganske enkelt er størrelsen på vindhastigheten, som alltid skal være positiv eller null. Vi kan håndheve denne betingelsen ved å legge til en påstand til funksjonen vår."
      ]
    },
    {
      "cell_type": "code",
      "execution_count": 2,
      "metadata": {
        "tags": [
          "raises-exception"
        ]
      },
      "outputs": [
        {
          "name": "stdout",
          "output_type": "stream",
          "text": [
            "En vindhastighet på 9 km/t er 2.5 m/s.\n"
          ]
        }
      ],
      "source": [
        "def convert_kmt_ms(speed):\n",
        "    \"\"\"Konverterer hastighet fra km/t til m/s\"\"\"\n",
        "    assert speed >= 0.0\n",
        "    return speed * 1000 / 3600\n",
        "\n",
        "\n",
        "wind_speed_km = 9\n",
        "wind_speed_ms = convert_kmt_ms(wind_speed_km)\n",
        "\n",
        "print(f\"En vindhastighet på {wind_speed_km} km/t er {wind_speed_ms} m/s.\")"
      ]
    },
    {
      "cell_type": "markdown",
      "metadata": {},
      "source": [
        "OK, så alt fungerer fortsatt ved bruk av en positiv verdi, men hva skjer hvis vi nå gir en negativ verdi for vindhastigheten? La oss sjekke!"
      ]
    },
    {
      "cell_type": "code",
      "execution_count": 3,
      "metadata": {
        "tags": [
          "raises-exception"
        ]
      },
      "outputs": [
        {
          "ename": "AssertionError",
          "evalue": "",
          "output_type": "error",
          "traceback": [
            "\u001b[0;31m---------------------------------------------------------------------------\u001b[0m",
            "\u001b[0;31mAssertionError\u001b[0m                            Traceback (most recent call last)",
            "Cell \u001b[0;32mIn[3], line 2\u001b[0m\n\u001b[1;32m      1\u001b[0m wind_speed_km \u001b[38;5;241m=\u001b[39m \u001b[38;5;241m-\u001b[39m\u001b[38;5;241m27\u001b[39m\n\u001b[0;32m----> 2\u001b[0m wind_speed_ms \u001b[38;5;241m=\u001b[39m \u001b[43mconvert_kmt_ms\u001b[49m\u001b[43m(\u001b[49m\u001b[43mwind_speed_km\u001b[49m\u001b[43m)\u001b[49m\n\u001b[1;32m      4\u001b[0m \u001b[38;5;28mprint\u001b[39m(\u001b[38;5;124mf\u001b[39m\u001b[38;5;124m\"\u001b[39m\u001b[38;5;124mEn vindhastighet på \u001b[39m\u001b[38;5;132;01m{\u001b[39;00mwind_speed_km\u001b[38;5;132;01m}\u001b[39;00m\u001b[38;5;124m km/t er \u001b[39m\u001b[38;5;132;01m{\u001b[39;00mwind_speed_ms\u001b[38;5;132;01m}\u001b[39;00m\u001b[38;5;124m m/s.\u001b[39m\u001b[38;5;124m\"\u001b[39m)\n",
            "Cell \u001b[0;32mIn[2], line 3\u001b[0m, in \u001b[0;36mconvert_kmt_ms\u001b[0;34m(speed)\u001b[0m\n\u001b[1;32m      1\u001b[0m \u001b[38;5;28;01mdef\u001b[39;00m\u001b[38;5;250m \u001b[39m\u001b[38;5;21mconvert_kmt_ms\u001b[39m(speed):\n\u001b[1;32m      2\u001b[0m \u001b[38;5;250m    \u001b[39m\u001b[38;5;124;03m\"\"\"Konverterer hastighet fra km/t til m/s\"\"\"\u001b[39;00m\n\u001b[0;32m----> 3\u001b[0m     \u001b[38;5;28;01massert\u001b[39;00m speed \u001b[38;5;241m>\u001b[39m\u001b[38;5;241m=\u001b[39m \u001b[38;5;241m0.0\u001b[39m\n\u001b[1;32m      4\u001b[0m     \u001b[38;5;28;01mreturn\u001b[39;00m speed \u001b[38;5;241m*\u001b[39m \u001b[38;5;241m1000\u001b[39m \u001b[38;5;241m/\u001b[39m \u001b[38;5;241m3600\u001b[39m\n",
            "\u001b[0;31mAssertionError\u001b[0m: "
          ]
        }
      ],
      "source": [
        "wind_speed_km = -27\n",
        "wind_speed_ms = convert_kmt_ms(wind_speed_km)\n",
        "\n",
        "print(f\"En vindhastighet på {wind_speed_km} km/t er {wind_speed_ms} m/s.\")"
      ]
    },
    {
      "cell_type": "markdown",
      "metadata": {},
      "source": [
        "OK, så nå får vi en `AssertionError` når en negativ verdi er gitt. Denne `AssertionError` er produsert på grunn av `assert`-setningen vi skrev inn i funksjonsdefinisjonen. Hvis betingelsen som er oppført etter `assert` er usann, oppstår en `AssertionError`.\n",
        "\n",
        "Dette er en klar forbedring, men det ville være mye bedre å gi brukeren litt informasjon om hvorfor denne påstanden eksisterer. Heldigvis kan vi gjøre dette ganske enkelt ved å legge til litt tekst etter påstandsbetingelsen."
      ]
    },
    {
      "cell_type": "code",
      "execution_count": 4,
      "metadata": {
        "tags": [
          "raises-exception"
        ]
      },
      "outputs": [
        {
          "ename": "AssertionError",
          "evalue": "Vindhastighetsverdier må være positive eller null",
          "output_type": "error",
          "traceback": [
            "\u001b[0;31m---------------------------------------------------------------------------\u001b[0m",
            "\u001b[0;31mAssertionError\u001b[0m                            Traceback (most recent call last)",
            "Cell \u001b[0;32mIn[4], line 8\u001b[0m\n\u001b[1;32m      4\u001b[0m     \u001b[38;5;28;01mreturn\u001b[39;00m speed \u001b[38;5;241m*\u001b[39m \u001b[38;5;241m1000\u001b[39m \u001b[38;5;241m/\u001b[39m \u001b[38;5;241m3600\u001b[39m\n\u001b[1;32m      7\u001b[0m wind_speed_km \u001b[38;5;241m=\u001b[39m \u001b[38;5;241m-\u001b[39m\u001b[38;5;241m27\u001b[39m\n\u001b[0;32m----> 8\u001b[0m wind_speed_ms \u001b[38;5;241m=\u001b[39m \u001b[43mconvert_kmt_ms\u001b[49m\u001b[43m(\u001b[49m\u001b[43mwind_speed_km\u001b[49m\u001b[43m)\u001b[49m\n\u001b[1;32m     10\u001b[0m \u001b[38;5;28mprint\u001b[39m(\u001b[38;5;124mf\u001b[39m\u001b[38;5;124m\"\u001b[39m\u001b[38;5;124mEn vindhastighet på \u001b[39m\u001b[38;5;132;01m{\u001b[39;00mwind_speed_km\u001b[38;5;132;01m}\u001b[39;00m\u001b[38;5;124m km/t er \u001b[39m\u001b[38;5;132;01m{\u001b[39;00mwind_speed_ms\u001b[38;5;132;01m}\u001b[39;00m\u001b[38;5;124m m/s.\u001b[39m\u001b[38;5;124m\"\u001b[39m)\n",
            "Cell \u001b[0;32mIn[4], line 3\u001b[0m, in \u001b[0;36mconvert_kmt_ms\u001b[0;34m(speed)\u001b[0m\n\u001b[1;32m      1\u001b[0m \u001b[38;5;28;01mdef\u001b[39;00m\u001b[38;5;250m \u001b[39m\u001b[38;5;21mconvert_kmt_ms\u001b[39m(speed):\n\u001b[1;32m      2\u001b[0m \u001b[38;5;250m    \u001b[39m\u001b[38;5;124;03m\"\"\"Konverterer hastighet fra km/t til m/s\"\"\"\u001b[39;00m\n\u001b[0;32m----> 3\u001b[0m     \u001b[38;5;28;01massert\u001b[39;00m speed \u001b[38;5;241m>\u001b[39m\u001b[38;5;241m=\u001b[39m \u001b[38;5;241m0.0\u001b[39m, \u001b[38;5;124m\"\u001b[39m\u001b[38;5;124mVindhastighetsverdier må være positive eller null\u001b[39m\u001b[38;5;124m\"\u001b[39m\n\u001b[1;32m      4\u001b[0m     \u001b[38;5;28;01mreturn\u001b[39;00m speed \u001b[38;5;241m*\u001b[39m \u001b[38;5;241m1000\u001b[39m \u001b[38;5;241m/\u001b[39m \u001b[38;5;241m3600\u001b[39m\n",
            "\u001b[0;31mAssertionError\u001b[0m: Vindhastighetsverdier må være positive eller null"
          ]
        }
      ],
      "source": [
        "def convert_kmt_ms(speed):\n",
        "    \"\"\"Konverterer hastighet fra km/t til m/s\"\"\"\n",
        "    assert speed >= 0.0, \"Vindhastighetsverdier må være positive eller null\"\n",
        "    return speed * 1000 / 3600\n",
        "\n",
        "\n",
        "wind_speed_km = -27\n",
        "wind_speed_ms = convert_kmt_ms(wind_speed_km)\n",
        "\n",
        "print(f\"En vindhastighet på {wind_speed_km} km/t er {wind_speed_ms} m/s.\")"
      ]
    },
    {
      "cell_type": "markdown",
      "metadata": {},
      "source": [
        "Fint! Nå ser vi at når `AssertionError` blir flagget, informerer meldingen oss om hvorfor det skjedde uten å måtte tolke koden. Meldingen gjør det også enkelt å fikse verdien for `wind_speed_km` for å fungere med funksjonen `convert_kmt_ms`.\n",
        "\n",
        "\n",
        "Mer generelt har påstander følgende form:\n",
        "\n",
        "```python\n",
        "assert <some condition>, \"Error message to display\"\n",
        "```\n",
        "\n",
        "Så vi starter med \"assert\"-setningen, og gir deretter en logisk test for en tilstand. Hvis testen er sann, skjer ingenting og koden fortsetter. Hvis ikke, stopper koden og en `AssertionError` vises med teksten skrevet etter kommaet på linjen som inneholder `assert`-setningen."
      ]
    },
    {
      "cell_type": "markdown",
      "metadata": {},
      "source": [
        "### Flere påstander\n",
        "\n",
        "#### Et dårlig eksempel\n",
        "\n",
        "Selvfølgelig kan det være lurt å ha flere påstander i en funksjon for å sikre at den fungerer som forventet og gir meningsfulle verdier. I vårt tilfelle vil vi kanskje først sjekke at verdien som er oppgitt som skal konverteres, er et tall. Hvis ikke, ville vi ikke kunne konvertere enhetene. La oss legge til en ny påstand for å sikre at funksjonen vår er \"trygg\"."
      ]
    },
    {
      "cell_type": "code",
      "execution_count": 5,
      "metadata": {
        "tags": [
          "raises-exception"
        ]
      },
      "outputs": [
        {
          "ename": "AssertionError",
          "evalue": "Vindhastighetsverdier må være tall",
          "output_type": "error",
          "traceback": [
            "\u001b[0;31m---------------------------------------------------------------------------\u001b[0m",
            "\u001b[0;31mAssertionError\u001b[0m                            Traceback (most recent call last)",
            "Cell \u001b[0;32mIn[5], line 11\u001b[0m\n\u001b[1;32m      7\u001b[0m     \u001b[38;5;28;01mreturn\u001b[39;00m speed \u001b[38;5;241m*\u001b[39m \u001b[38;5;241m1000\u001b[39m \u001b[38;5;241m/\u001b[39m \u001b[38;5;241m3600\u001b[39m\n\u001b[1;32m     10\u001b[0m wind_speed_km \u001b[38;5;241m=\u001b[39m \u001b[38;5;124m\"\u001b[39m\u001b[38;5;124mhund\u001b[39m\u001b[38;5;124m\"\u001b[39m\n\u001b[0;32m---> 11\u001b[0m wind_speed_ms \u001b[38;5;241m=\u001b[39m \u001b[43mconvert_kmt_ms\u001b[49m\u001b[43m(\u001b[49m\u001b[43mwind_speed_km\u001b[49m\u001b[43m)\u001b[49m\n\u001b[1;32m     13\u001b[0m \u001b[38;5;28mprint\u001b[39m(\u001b[38;5;124mf\u001b[39m\u001b[38;5;124m\"\u001b[39m\u001b[38;5;124mEn vindhastighet på \u001b[39m\u001b[38;5;132;01m{\u001b[39;00mwind_speed_km\u001b[38;5;132;01m}\u001b[39;00m\u001b[38;5;124m km/t er \u001b[39m\u001b[38;5;132;01m{\u001b[39;00mwind_speed_ms\u001b[38;5;132;01m}\u001b[39;00m\u001b[38;5;124m m/s.\u001b[39m\u001b[38;5;124m\"\u001b[39m)\n",
            "Cell \u001b[0;32mIn[5], line 4\u001b[0m, in \u001b[0;36mconvert_kmt_ms\u001b[0;34m(speed)\u001b[0m\n\u001b[1;32m      1\u001b[0m \u001b[38;5;28;01mdef\u001b[39;00m\u001b[38;5;250m \u001b[39m\u001b[38;5;21mconvert_kmt_ms\u001b[39m(speed):\n\u001b[1;32m      2\u001b[0m \u001b[38;5;250m    \u001b[39m\u001b[38;5;124;03m\"\"\"Konverterer hastighet fra km/t til m/s\"\"\"\u001b[39;00m\n\u001b[1;32m      3\u001b[0m     \u001b[38;5;28;01massert\u001b[39;00m (\n\u001b[0;32m----> 4\u001b[0m         \u001b[38;5;28mtype\u001b[39m(speed) \u001b[38;5;241m==\u001b[39m \u001b[38;5;28mint\u001b[39m \u001b[38;5;129;01mor\u001b[39;00m \u001b[38;5;28mtype\u001b[39m(speed) \u001b[38;5;241m==\u001b[39m \u001b[38;5;28mfloat\u001b[39m\n\u001b[1;32m      5\u001b[0m     ), \u001b[38;5;124m\"\u001b[39m\u001b[38;5;124mVindhastighetsverdier må være tall\u001b[39m\u001b[38;5;124m\"\u001b[39m\n\u001b[1;32m      6\u001b[0m     \u001b[38;5;28;01massert\u001b[39;00m speed \u001b[38;5;241m>\u001b[39m\u001b[38;5;241m=\u001b[39m \u001b[38;5;241m0.0\u001b[39m, \u001b[38;5;124m\"\u001b[39m\u001b[38;5;124mVindhastighetsverdier må være positive eller null\u001b[39m\u001b[38;5;124m\"\u001b[39m\n\u001b[1;32m      7\u001b[0m     \u001b[38;5;28;01mreturn\u001b[39;00m speed \u001b[38;5;241m*\u001b[39m \u001b[38;5;241m1000\u001b[39m \u001b[38;5;241m/\u001b[39m \u001b[38;5;241m3600\u001b[39m\n",
            "\u001b[0;31mAssertionError\u001b[0m: Vindhastighetsverdier må være tall"
          ]
        }
      ],
      "source": [
        "def convert_kmt_ms(speed):\n",
        "    \"\"\"Konverterer hastighet fra km/t til m/s\"\"\"\n",
        "    assert (\n",
        "        type(speed) == int or type(speed) == float\n",
        "    ), \"Vindhastighetsverdier må være tall\"\n",
        "    assert speed >= 0.0, \"Vindhastighetsverdier må være positive eller null\"\n",
        "    return speed * 1000 / 3600\n",
        "\n",
        "\n",
        "wind_speed_km = \"hund\"\n",
        "wind_speed_ms = convert_kmt_ms(wind_speed_km)\n",
        "\n",
        "print(f\"En vindhastighet på {wind_speed_km} km/t er {wind_speed_ms} m/s.\")"
      ]
    },
    {
      "cell_type": "markdown",
      "metadata": {},
      "source": [
        "OK, så det fungerer. Nå, hvis brukeren prøver å gi en datatype som ikke er 'int' eller 'float', vil funksjonen flagge en 'AssertionError' som indikerer at et tall forventes for at funksjonen skal fungere. Dette er greit, men som nevnt nedenfor er det grunner til at du kanskje ikke vil inkludere påstander av denne typen i en funksjon.\n",
        "\n",
        "```{warning}\n",
        "Man kan forestille seg at det ville være nyttig å bruke en påstand for å sjekke typen til `speed` i vår funksjon for å sikre at man ikke får en `TypeError` som oppstod i forrige seksjon. Det viser seg at dette egentlig ikke er en god idé. Grunnen er at den filosofiske ideen bak en `TypeError` er å indikere at du har inkompatible datatyper. Med det i tankene, hvorfor skulle du da utløse en `AssertionError` for å gjøre det samme?\n",
        "```"
      ]
    },
    {
      "cell_type": "markdown",
      "metadata": {},
      "source": [
        "#### Et bedre eksempel\n",
        "\n",
        "Så vi ønsker ikke å sjekke datatypekompatibiliteten vår ved å bruke påstander, men vi kan inkludere en påstand for å sikre at maksimum av vindhastigheten er et rimelig tall. I dette tilfellet kan vi anta at vindhastigheten som konverteres ble målt på jorden, og derfor bør være lavere enn [den raskeste vindhastigheten somnoensinne har blitt målt](https://en.wikipedia.org/wiki/Wind_speed#Highest_speed), 408 km/t. La oss legge til den betingelsen."
      ]
    },
    {
      "cell_type": "code",
      "execution_count": 6,
      "metadata": {
        "tags": [
          "raises-exception"
        ]
      },
      "outputs": [
        {
          "ename": "TypeError",
          "evalue": "'>=' not supported between instances of 'str' and 'float'",
          "output_type": "error",
          "traceback": [
            "\u001b[0;31m---------------------------------------------------------------------------\u001b[0m",
            "\u001b[0;31mTypeError\u001b[0m                                 Traceback (most recent call last)",
            "Cell \u001b[0;32mIn[6], line 9\u001b[0m\n\u001b[1;32m      5\u001b[0m     \u001b[38;5;28;01mreturn\u001b[39;00m speed \u001b[38;5;241m*\u001b[39m \u001b[38;5;241m1000\u001b[39m \u001b[38;5;241m/\u001b[39m \u001b[38;5;241m3600\u001b[39m\n\u001b[1;32m      8\u001b[0m wind_speed_km \u001b[38;5;241m=\u001b[39m \u001b[38;5;124m\"\u001b[39m\u001b[38;5;124m409\u001b[39m\u001b[38;5;124m\"\u001b[39m\n\u001b[0;32m----> 9\u001b[0m wind_speed_ms \u001b[38;5;241m=\u001b[39m \u001b[43mconvert_kmt_ms\u001b[49m\u001b[43m(\u001b[49m\u001b[43mwind_speed_km\u001b[49m\u001b[43m)\u001b[49m\n\u001b[1;32m     11\u001b[0m \u001b[38;5;28mprint\u001b[39m(\u001b[38;5;124mf\u001b[39m\u001b[38;5;124m\"\u001b[39m\u001b[38;5;124mEn vindhastighet på \u001b[39m\u001b[38;5;132;01m{\u001b[39;00mwind_speed_km\u001b[38;5;132;01m}\u001b[39;00m\u001b[38;5;124m km/t er \u001b[39m\u001b[38;5;132;01m{\u001b[39;00mwind_speed_ms\u001b[38;5;132;01m}\u001b[39;00m\u001b[38;5;124m m/s.\u001b[39m\u001b[38;5;124m\"\u001b[39m)\n",
            "Cell \u001b[0;32mIn[6], line 3\u001b[0m, in \u001b[0;36mconvert_kmt_ms\u001b[0;34m(speed)\u001b[0m\n\u001b[1;32m      1\u001b[0m \u001b[38;5;28;01mdef\u001b[39;00m\u001b[38;5;250m \u001b[39m\u001b[38;5;21mconvert_kmt_ms\u001b[39m(speed):\n\u001b[1;32m      2\u001b[0m \u001b[38;5;250m    \u001b[39m\u001b[38;5;124;03m\"\"\"Konverterer hastighet fra km/t til m/s\"\"\"\u001b[39;00m\n\u001b[0;32m----> 3\u001b[0m     \u001b[38;5;28;01massert\u001b[39;00m \u001b[43mspeed\u001b[49m\u001b[43m \u001b[49m\u001b[38;5;241;43m>\u001b[39;49m\u001b[38;5;241;43m=\u001b[39;49m\u001b[43m \u001b[49m\u001b[38;5;241;43m0.0\u001b[39;49m, \u001b[38;5;124m\"\u001b[39m\u001b[38;5;124mVindhastighetsverdier må være positive eller null\u001b[39m\u001b[38;5;124m\"\u001b[39m\n\u001b[1;32m      4\u001b[0m     \u001b[38;5;28;01massert\u001b[39;00m speed \u001b[38;5;241m<\u001b[39m\u001b[38;5;241m=\u001b[39m \u001b[38;5;241m408.0\u001b[39m, \u001b[38;5;124m\"\u001b[39m\u001b[38;5;124mVindhastigheten er raskere enn noensinne målt tidligere\u001b[39m\u001b[38;5;124m\"\u001b[39m\n\u001b[1;32m      5\u001b[0m     \u001b[38;5;28;01mreturn\u001b[39;00m speed \u001b[38;5;241m*\u001b[39m \u001b[38;5;241m1000\u001b[39m \u001b[38;5;241m/\u001b[39m \u001b[38;5;241m3600\u001b[39m\n",
            "\u001b[0;31mTypeError\u001b[0m: '>=' not supported between instances of 'str' and 'float'"
          ]
        }
      ],
      "source": [
        "def convert_kmt_ms(speed):\n",
        "    \"\"\"Konverterer hastighet fra km/t til m/s\"\"\"\n",
        "    assert speed >= 0.0, \"Vindhastighetsverdier må være positive eller null\"\n",
        "    assert speed <= 408.0, \"Vindhastigheten er raskere enn noensinne målt tidligere\"\n",
        "    return speed * 1000 / 3600\n",
        "\n",
        "\n",
        "wind_speed_km = \"409\"\n",
        "wind_speed_ms = convert_kmt_ms(wind_speed_km)\n",
        "\n",
        "print(f\"En vindhastighet på {wind_speed_km} km/t er {wind_speed_ms} m/s.\")"
      ]
    },
    {
      "cell_type": "markdown",
      "metadata": {},
      "source": [
        "Dette er et bedre eksempel av to grunner:\n",
        "\n",
        "1. Vi tillater nå en `TypeError` når inkompatible datatyper brukes i funksjonen vår, som er en klar og kjent feilmelding.\n",
        "2. Vi bruker påstander/assertion for å sjekke at verdiene som brukes i funksjonen gir mening for dens tiltenkte bruk. Hvis vi ønsker å hjelpe brukere med å konvertere vindhastigheter på jorden, gir vi grenser som sikrer at de bruker rimelige inputverdier. Dermed hjelper vi dem å bruke funksjonen vår på riktig måte.\n",
        "\n",
        "Kombinert sikrer disse påstandene at funksjonen vår håndterer vanlige feil og gir brukeren nyttig tilbakemelding for å kunne bruke funksjonen riktig.\n",
        "\n",
        "```{note}\n",
        "En ting som er viktig å merke seg om påstander er at selv om vi bruker dem her for å sjekke at våre inputverdier er rimelige, er dette generelt sett ikke den anbefalte bruken.\n",
        "I stedet anbefaler mer avanserte programmerere å bruke påstander kun for å teste at koden din fungerer riktig internt.\n",
        "For eksempel ville du bruke påstander for å sjekke ting som ikke skal skje, slik som funksjoner som dupliserer verdier i lister når de ikke skal.\n",
        "Grunnen til at det ikke anbefales å bruke påstander for å teste brukerinputverdier eller eksistensen av filer, er at påstander kan deaktiveres ved bruk av flagg når man kjører et Python-program.\n",
        "Dermed er det mulig at de kan bli ignorert helt.\n",
        "Dette er greit når man feilsøker kode, men åpenbart ikke ønskelig når brukere kjører programmene dine.\n",
        "Hvis du er interessert i flere detaljer, kan du gjerne sjekke ut [artikkelen om bruk av påstander i Python-wikien](https://wiki.python.org/moin/UsingAssertionsEffectively).\n",
        "```\n",
        "\n",
        "### Mer informasjon om påstander\n",
        "\n",
        "Mer informasjon om påstander finner du på [Software Carpentry sin nettside](https://swcarpentry.github.io/python-novice-inflammation/10-defensive/index.html)."
      ]
    }
  ],
  "metadata": {
    "kernelspec": {
      "display_name": "base",
      "language": "python",
      "name": "python3"
    },
    "language_info": {
      "codemirror_mode": {
        "name": "ipython",
        "version": 3
      },
      "file_extension": ".py",
      "mimetype": "text/x-python",
      "name": "python",
      "nbconvert_exporter": "python",
      "pygments_lexer": "ipython3",
      "version": "3.11.6"
    }
  },
  "nbformat": 4,
  "nbformat_minor": 4
}
