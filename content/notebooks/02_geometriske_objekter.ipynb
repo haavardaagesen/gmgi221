{
 "cells": [
  {
   "cell_type": "markdown",
   "metadata": {},
   "source": [
    "# Geometriske objekter\n",
    "\n",
    "Vi starter med de grunnleggende byggesteinene når vi jobber med geografiske data; nemlig geometriske objekter. Som regel når vi jobber med geometriske objekter i Python gjør vi det med biblioteket [Shapely](https://shapely.readthedocs.io/en/stable/manual.html).\n",
    "\n",
    "## Datamodellen\n",
    "\n",
    "![Spatial data model](https://autogis-site.readthedocs.io/en/latest/_images/simple-features_595x500px.svg)\n",
    "\n",
    "`Punkt(Points)`, `Linjer(Lines)` og `Polygoner(Polygons)` er fundamentale geometriske objekter når vi jobber med romlig data i vektor formatet. I Python er [Shapely](https://shapely.readthedocs.io/en/stable/manual.html) biblioteket som brukes for å utføre diverse geometriske operasjoner.\n",
    "\n",
    "**Geometriske objekter består av koordinattuppler hvor:**\n",
    "\n",
    "-  `Point` -objektet representerer et enkelt punkt i et rom. Punkt kan være enten todimensjonale (x, y) eller tredimensjonale (x, y, z).\n",
    "-  `LineString` -objektet representerer en sekvens av punkt som er koblet sammen og former en linje. En linje består dermed av en liste med minst to koordinattuppler.\n",
    "-  `Polygon` -objektet representerer et fyllt område som består av en liste med misnt tre koordinattuppler som utgjør den ytre ringen (og potensielt en liste med \"hull-polygoner\".\n",
    "\n",
    "**Det er også mulig å ha en samling med geometriske objekter (f.eks. et polygon med flere bestanddeler):**\n",
    "\n",
    "-  `MultiPoint` -objektet representerer en samling med punkt og består av en liste med koordinattuppler.\n",
    "-  `MultiLineString` -objektet representerer en samling med linjer og består av en liste med liste med linjelignende sekvenser.\n",
    "-  `MultiPolygon` -objektet representerer en samling med polygoner som består av en lsite med polygonlignende sekvenser.\n",
    "\n",
    "**Nyttige attributter og metoder i Shapely:**\n",
    "\n",
    "-  Lage linjer og polygoner fra en samling med punktobjekter.\n",
    "-  Regne ut areal/lengde/grenser osv. av geometrier.\n",
    "-  Utføre geometriske operasjoner fra input-geometrier så som; `union`, `difference`, `distance` osv.\n",
    "-  Utføre romlige spørringer mellom geometrier så som; `intersects`, `touches`, `crosses`, `within` osv.\n"
   ]
  },
  {
   "cell_type": "markdown",
   "metadata": {},
   "source": [
    "<div class=\"alert alert-info\">\n",
    "\n",
    "**Tuppler**\n",
    "\n",
    "En [Tuppel](https://docs.python.org/3/tutorial/datastructures.html#tuples-and-sequences) er en datastruktur i Python som består av et antall verdier separert av komma. Koordinatpar er ofte representert som tuppler. For eksempel:\n",
    "\n",
    "```\n",
    "(59.66539, 10.77604)\n",
    "``` \n",
    "\n",
    "</div>\n"
   ]
  },
  {
   "cell_type": "markdown",
   "metadata": {},
   "source": [
    "## Punkt\n",
    "\n",
    "Punkt lages ganske enkelt ved å gi `Point()`-objektet x- og y-koordinater:"
   ]
  },
  {
   "cell_type": "code",
   "execution_count": 1,
   "metadata": {
    "collapsed": false,
    "jupyter": {
     "outputs_hidden": false
    },
    "tags": []
   },
   "outputs": [],
   "source": [
    "# Import necessary geometric objects from shapely module\n",
    "from shapely.geometry import Point, LineString, Polygon\n",
    "\n",
    "# Create Point geometric object(s) with coordinates\n",
    "punkt1 = Point(2.2, 4.2)\n",
    "punkt2 = Point(7.2, -25.1)\n",
    "punkt3 = Point(9.26, -2.456)\n",
    "punkt3D = Point(9.26, -2.456, 0.57)"
   ]
  },
  {
   "cell_type": "code",
   "execution_count": 2,
   "metadata": {
    "tags": []
   },
   "outputs": [
    {
     "data": {
      "image/svg+xml": [
       "<svg xmlns=\"http://www.w3.org/2000/svg\" xmlns:xlink=\"http://www.w3.org/1999/xlink\" width=\"100.0\" height=\"100.0\" viewBox=\"1.2000000000000002 3.2 2.0 2.0\" preserveAspectRatio=\"xMinYMin meet\"><g transform=\"matrix(1,0,0,-1,0,8.4)\"><circle cx=\"2.2\" cy=\"4.2\" r=\"0.06\" stroke=\"#555555\" stroke-width=\"0.02\" fill=\"#66cc99\" opacity=\"0.6\" /></g></svg>"
      ],
      "text/plain": [
       "<POINT (2.2 4.2)>"
      ]
     },
     "execution_count": 2,
     "metadata": {},
     "output_type": "execute_result"
    }
   ],
   "source": [
    "punkt1"
   ]
  },
  {
   "cell_type": "markdown",
   "metadata": {},
   "source": [
    "Jupyter viser objektet direkte visuelt, men vi kan også få mer informasjon om definisjonen av disse objektene ved å bruke `print()`:"
   ]
  },
  {
   "cell_type": "code",
   "execution_count": 4,
   "metadata": {
    "collapsed": false,
    "jupyter": {
     "outputs_hidden": false
    },
    "tags": []
   },
   "outputs": [
    {
     "name": "stdout",
     "output_type": "stream",
     "text": [
      "POINT (2.2 4.2)\n",
      "POINT Z (9.26 -2.456 0.57)\n"
     ]
    }
   ],
   "source": [
    "print(punkt1)\n",
    "print(punkt3D)"
   ]
  },
  {
   "cell_type": "markdown",
   "metadata": {},
   "source": [
    "3D-punkt kan kjennes igjen ved hjelp av Z-bokstaven foran koordinatene.\n",
    "\n",
    "Vi kan også finne ut datatypen for objektet:"
   ]
  },
  {
   "cell_type": "code",
   "execution_count": 5,
   "metadata": {},
   "outputs": [
    {
     "data": {
      "text/plain": [
       "shapely.geometry.point.Point"
      ]
     },
     "execution_count": 5,
     "metadata": {},
     "output_type": "execute_result"
    }
   ],
   "source": [
    "type(punkt1)"
   ]
  },
  {
   "cell_type": "markdown",
   "metadata": {},
   "source": [
    "Her ser vi at objektet er et Shapely Point. Point-objektet er representert i et spesifikt format basert på [GEOS](https://trac.osgeo.org/geos) C++ biblioteket som er et av standardbibliotekene som brukes av ulike GIS-programmer. Det brukes blant annet som standard i [QGIS](http://www.qgis.org/en/site/). "
   ]
  },
  {
   "cell_type": "markdown",
   "metadata": {},
   "source": [
    "### Punkt-attributter og -funksjoner\n",
    "\n",
    "Punkt og andre shapely-objekter har innebygde [attributter og funkjoner](https://shapely.readthedocs.io/en/stable/manual.html#general-attributes-and-methods). Med de tilgjengelige attributtene kan vi blant annet hente ut koordinatverdiene og regne ut avstanden mellom ulike punkt."
   ]
  },
  {
   "cell_type": "markdown",
   "metadata": {},
   "source": [
    "`geom_type` attributten inneholder informasjon om geometritypen til et Shapely objekt:"
   ]
  },
  {
   "cell_type": "code",
   "execution_count": 6,
   "metadata": {
    "tags": []
   },
   "outputs": [
    {
     "data": {
      "text/plain": [
       "'Point'"
      ]
     },
     "execution_count": 6,
     "metadata": {},
     "output_type": "execute_result"
    }
   ],
   "source": [
    "punkt1.geom_type"
   ]
  },
  {
   "cell_type": "markdown",
   "metadata": {},
   "source": [
    "Man kan trekke ut koordinatene fra et `Point` på flere måter:\n",
    "\n",
    "`coords` attributtet inneholder blant annet informasjon om `CoordinateSequence`, en annen Shapely datatype:"
   ]
  },
  {
   "cell_type": "code",
   "execution_count": 11,
   "metadata": {
    "tags": []
   },
   "outputs": [
    {
     "data": {
      "text/plain": [
       "[(2.2, 4.2)]"
      ]
     },
     "execution_count": 11,
     "metadata": {},
     "output_type": "execute_result"
    }
   ],
   "source": [
    "# Get xy coordinate tuple\n",
    "list(punkt1.coords)"
   ]
  },
  {
   "cell_type": "code",
   "execution_count": 12,
   "metadata": {
    "collapsed": false,
    "jupyter": {
     "outputs_hidden": false
    },
    "tags": []
   },
   "outputs": [],
   "source": [
    "# Read x and y coordinates separately\n",
    "x = punkt1.x\n",
    "y = punkt1.y"
   ]
  },
  {
   "cell_type": "code",
   "execution_count": 14,
   "metadata": {},
   "outputs": [
    {
     "name": "stdout",
     "output_type": "stream",
     "text": [
      "2.2 4.2\n"
     ]
    }
   ],
   "source": [
    "print(x, y)"
   ]
  },
  {
   "cell_type": "markdown",
   "metadata": {},
   "source": [
    "Man kan også regne ut avstanden mellom to objekter med [distance](https://shapely.readthedocs.io/en/stable/manual.html#object.distance) metoden. I dette eksemplet er avstanden målt i et kartesisk koordinatsystem. Når man jobber med ekte GIS-data er avstanden basert på koordinatsystemet som brukes. Man bør alltid sjekke hva som er måleenheten (meter, grader, osv.) i koordinatsystemet som brukes.\n",
    "\n",
    "La oss sjekke avstanden mellom `punkt1` og `punkt2`:"
   ]
  },
  {
   "cell_type": "code",
   "execution_count": 15,
   "metadata": {},
   "outputs": [
    {
     "name": "stdout",
     "output_type": "stream",
     "text": [
      "POINT (2.2 4.2)\n",
      "POINT (7.2 -25.1)\n"
     ]
    }
   ],
   "source": [
    "# Check input data\n",
    "print(punkt1)\n",
    "print(punkt2)"
   ]
  },
  {
   "cell_type": "code",
   "execution_count": 16,
   "metadata": {},
   "outputs": [
    {
     "name": "stdout",
     "output_type": "stream",
     "text": [
      "Avstanden mellom punktene er 29.723559679150142 enheter.\n"
     ]
    }
   ],
   "source": [
    "# Calculate the distance between point1 and point2\n",
    "avstand = punkt1.distance(punkt2)\n",
    "\n",
    "# Print out a nicely formatted info message\n",
    "print(f\"Avstanden mellom punktene er {avstand} enheter.\")"
   ]
  },
  {
   "cell_type": "markdown",
   "metadata": {},
   "source": [
    "## LineString\n",
    "\n",
    "Fremgangsmåten for å lage LineString-objekter er ganske lik som med Shapely punkter.\n",
    "\n",
    "I stedet for et enkelt koordinattuppel bruker vi her en liste med Shapely punkter eller en liste med koordinattuppler:"
   ]
  },
  {
   "cell_type": "code",
   "execution_count": 17,
   "metadata": {
    "collapsed": false,
    "jupyter": {
     "outputs_hidden": false
    }
   },
   "outputs": [],
   "source": [
    "# Create a LineString from our Point objects\n",
    "linje = LineString([punkt1, punkt2, punkt3])"
   ]
  },
  {
   "cell_type": "code",
   "execution_count": 18,
   "metadata": {},
   "outputs": [],
   "source": [
    "# It is also possible to produce the same outcome using coordinate tuples\n",
    "linje2 = LineString([(2.2, 4.2), (7.2, -25.1), (9.26, -2.456)])"
   ]
  },
  {
   "cell_type": "code",
   "execution_count": 19,
   "metadata": {},
   "outputs": [
    {
     "data": {
      "text/plain": [
       "True"
      ]
     },
     "execution_count": 19,
     "metadata": {},
     "output_type": "execute_result"
    }
   ],
   "source": [
    "# Check if lines are identical\n",
    "linje == linje2 "
   ]
  },
  {
   "cell_type": "markdown",
   "metadata": {},
   "source": [
    "La oss se hvordan linjen vår ser ut: "
   ]
  },
  {
   "cell_type": "code",
   "execution_count": 20,
   "metadata": {},
   "outputs": [
    {
     "data": {
      "image/svg+xml": [
       "<svg xmlns=\"http://www.w3.org/2000/svg\" xmlns:xlink=\"http://www.w3.org/1999/xlink\" width=\"100.0\" height=\"100.0\" viewBox=\"1.028 -26.272000000000002 9.404 31.644000000000002\" preserveAspectRatio=\"xMinYMin meet\"><g transform=\"matrix(1,0,0,-1,0,-20.900000000000002)\"><polyline fill=\"none\" stroke=\"#66cc99\" stroke-width=\"0.63288\" points=\"2.2,4.2 7.2,-25.1 9.26,-2.456\" opacity=\"0.8\" /></g></svg>"
      ],
      "text/plain": [
       "<LINESTRING (2.2 4.2, 7.2 -25.1, 9.26 -2.456)>"
      ]
     },
     "execution_count": 20,
     "metadata": {},
     "output_type": "execute_result"
    }
   ],
   "source": [
    "linje"
   ]
  },
  {
   "cell_type": "code",
   "execution_count": 21,
   "metadata": {},
   "outputs": [
    {
     "name": "stdout",
     "output_type": "stream",
     "text": [
      "LINESTRING (2.2 4.2, 7.2 -25.1, 9.26 -2.456)\n"
     ]
    }
   ],
   "source": [
    "print(linje)"
   ]
  },
  {
   "cell_type": "markdown",
   "metadata": {},
   "source": [
    "Som vi kan se så består `linje`-variablen vår av flere koordinatpar."
   ]
  },
  {
   "cell_type": "code",
   "execution_count": 22,
   "metadata": {
    "tags": []
   },
   "outputs": [
    {
     "data": {
      "text/plain": [
       "shapely.geometry.linestring.LineString"
      ]
     },
     "execution_count": 22,
     "metadata": {},
     "output_type": "execute_result"
    }
   ],
   "source": [
    "# Check data type of the line object\n",
    "type(linje)"
   ]
  },
  {
   "cell_type": "code",
   "execution_count": 23,
   "metadata": {},
   "outputs": [
    {
     "data": {
      "text/plain": [
       "'LineString'"
      ]
     },
     "execution_count": 23,
     "metadata": {},
     "output_type": "execute_result"
    }
   ],
   "source": [
    "# Check geometry type of the line object\n",
    "linje.geom_type"
   ]
  },
  {
   "cell_type": "markdown",
   "metadata": {},
   "source": [
    "### LineString-attributter og funksjoner\n",
    "\n",
    "\n",
    "`LineString` -objekter har mange nyttige innebygde attributter og funksjoner. Vi kan for eksempel trekke ut koordinatene eller lenden på en linje, finne midtpunktet, lage punkter langs linjen med gitte mellomrom, eller regne ut den minste avstanden fra linjen til et punkt. Alle funksjonene er videre definert i [Shapely documentasjonen](http://toblerity.org/shapely/manual.html).\n",
    "\n",
    "Vi kan trekke ut koordinatene fra en LineString på samme måte som med et `Point`."
   ]
  },
  {
   "cell_type": "code",
   "execution_count": 24,
   "metadata": {
    "collapsed": false,
    "jupyter": {
     "outputs_hidden": false
    }
   },
   "outputs": [
    {
     "data": {
      "text/plain": [
       "[(2.2, 4.2), (7.2, -25.1), (9.26, -2.456)]"
      ]
     },
     "execution_count": 24,
     "metadata": {},
     "output_type": "execute_result"
    }
   ],
   "source": [
    "# Get xy coordinate tuples\n",
    "list(linje.coords)"
   ]
  },
  {
   "cell_type": "markdown",
   "metadata": {},
   "source": [
    "Her har vi igjen en liste med koordinattuppler.\n",
    "\n",
    "Hvis vi vil bruke de individuelle x- eller y-koordinatene i linjen, kan vi bruke `xy`-attributten: "
   ]
  },
  {
   "cell_type": "code",
   "execution_count": 25,
   "metadata": {
    "collapsed": false,
    "jupyter": {
     "outputs_hidden": false
    },
    "tags": []
   },
   "outputs": [],
   "source": [
    "# Extract x and y coordinates separately\n",
    "xkoordinater = list(linje.xy[0])\n",
    "ykoordinater = list(linje.xy[1])"
   ]
  },
  {
   "cell_type": "code",
   "execution_count": 26,
   "metadata": {},
   "outputs": [
    {
     "name": "stdout",
     "output_type": "stream",
     "text": [
      "[2.2, 7.2, 9.26]\n",
      "[4.2, -25.1, -2.456]\n"
     ]
    }
   ],
   "source": [
    "print(xkoordinater)\n",
    "print(ykoordinater)"
   ]
  },
  {
   "cell_type": "markdown",
   "metadata": {},
   "source": [
    "Vi kan også hente ut spesifikke attributter, så som lengden av linjen og midtpunktet:"
   ]
  },
  {
   "cell_type": "code",
   "execution_count": 27,
   "metadata": {
    "collapsed": false,
    "jupyter": {
     "outputs_hidden": false
    },
    "tags": []
   },
   "outputs": [
    {
     "name": "stdout",
     "output_type": "stream",
     "text": [
      "Lengden på linjen vår er: 52.46106912939557 enheter\n"
     ]
    }
   ],
   "source": [
    "# Get the lenght of the line\n",
    "linje_lengden = linje.length\n",
    "print(f\"Lengden på linjen vår er: {linje_lengden} enheter\")"
   ]
  },
  {
   "cell_type": "code",
   "execution_count": 28,
   "metadata": {},
   "outputs": [
    {
     "name": "stdout",
     "output_type": "stream",
     "text": [
      "POINT (6.229961354035622 -11.892411157572392)\n"
     ]
    }
   ],
   "source": [
    "# Get the centroid of the line\n",
    "print(linje.centroid)"
   ]
  },
  {
   "cell_type": "markdown",
   "metadata": {},
   "source": [
    "Som vi kan se, så er midtpunktet også et Shapely Point-objekt."
   ]
  },
  {
   "cell_type": "markdown",
   "metadata": {},
   "source": [
    "## Polygon\n",
    "\n",
    "`Polygon` -objektet følger samme logikk som `Point` og `LineString`, bare at Polygon-objektet tar en sekvens eller liste av koordinater som input.\n",
    "\n",
    "Polygoner trenger **minst tre koordinattuppler**:"
   ]
  },
  {
   "cell_type": "code",
   "execution_count": 30,
   "metadata": {
    "collapsed": false,
    "jupyter": {
     "outputs_hidden": false
    }
   },
   "outputs": [],
   "source": [
    "# Create a Polygon from the coordinates\n",
    "poly = Polygon([(2.2, 4.2), (7.2, -25.1), (9.26, -2.456)])"
   ]
  },
  {
   "cell_type": "markdown",
   "metadata": {},
   "source": [
    "La oss se hvordan polygonet vårt ser ut:"
   ]
  },
  {
   "cell_type": "code",
   "execution_count": 31,
   "metadata": {
    "tags": []
   },
   "outputs": [
    {
     "data": {
      "image/svg+xml": [
       "<svg xmlns=\"http://www.w3.org/2000/svg\" xmlns:xlink=\"http://www.w3.org/1999/xlink\" width=\"100.0\" height=\"100.0\" viewBox=\"1.028 -26.272000000000002 9.404 31.644000000000002\" preserveAspectRatio=\"xMinYMin meet\"><g transform=\"matrix(1,0,0,-1,0,-20.900000000000002)\"><path fill-rule=\"evenodd\" fill=\"#66cc99\" stroke=\"#555555\" stroke-width=\"0.63288\" opacity=\"0.6\" d=\"M 2.2,4.2 L 7.2,-25.1 L 9.26,-2.456 L 2.2,4.2 z\" /></g></svg>"
      ],
      "text/plain": [
       "<POLYGON ((2.2 4.2, 7.2 -25.1, 9.26 -2.456, 2.2 4.2))>"
      ]
     },
     "execution_count": 31,
     "metadata": {},
     "output_type": "execute_result"
    }
   ],
   "source": [
    "poly"
   ]
  },
  {
   "cell_type": "code",
   "execution_count": 32,
   "metadata": {},
   "outputs": [
    {
     "name": "stdout",
     "output_type": "stream",
     "text": [
      "POLYGON ((2.2 4.2, 7.2 -25.1, 9.26 -2.456, 2.2 4.2))\n"
     ]
    }
   ],
   "source": [
    "print(poly)"
   ]
  },
  {
   "cell_type": "code",
   "execution_count": 33,
   "metadata": {},
   "outputs": [
    {
     "data": {
      "text/plain": [
       "shapely.geometry.polygon.Polygon"
      ]
     },
     "execution_count": 33,
     "metadata": {},
     "output_type": "execute_result"
    }
   ],
   "source": [
    "# Data type\n",
    "type(poly)"
   ]
  },
  {
   "cell_type": "code",
   "execution_count": 34,
   "metadata": {},
   "outputs": [
    {
     "data": {
      "text/plain": [
       "'Polygon'"
      ]
     },
     "execution_count": 34,
     "metadata": {},
     "output_type": "execute_result"
    }
   ],
   "source": [
    "# Geometry type\n",
    "poly.geom_type"
   ]
  },
  {
   "cell_type": "markdown",
   "metadata": {},
   "source": [
    "Vi kan også lage polygoner med hull:"
   ]
  },
  {
   "cell_type": "code",
   "execution_count": 35,
   "metadata": {},
   "outputs": [],
   "source": [
    "# Define the outer border\n",
    "border = [(-180, 90), (-180, -90), (180, -90), (180, 90)]"
   ]
  },
  {
   "cell_type": "code",
   "execution_count": 36,
   "metadata": {},
   "outputs": [
    {
     "name": "stdout",
     "output_type": "stream",
     "text": [
      "POLYGON ((-180 90, -180 -90, 180 -90, 180 90, -180 90))\n"
     ]
    }
   ],
   "source": [
    "# Outer polygon\n",
    "world = Polygon(shell=border)\n",
    "print(world)"
   ]
  },
  {
   "cell_type": "code",
   "execution_count": 37,
   "metadata": {},
   "outputs": [
    {
     "data": {
      "image/svg+xml": [
       "<svg xmlns=\"http://www.w3.org/2000/svg\" xmlns:xlink=\"http://www.w3.org/1999/xlink\" width=\"300\" height=\"208.8\" viewBox=\"-194.4 -104.4 388.8 208.8\" preserveAspectRatio=\"xMinYMin meet\"><g transform=\"matrix(1,0,0,-1,0,0.0)\"><path fill-rule=\"evenodd\" fill=\"#66cc99\" stroke=\"#555555\" stroke-width=\"2.592\" opacity=\"0.6\" d=\"M -180.0,90.0 L -180.0,-90.0 L 180.0,-90.0 L 180.0,90.0 L -180.0,90.0 z\" /></g></svg>"
      ],
      "text/plain": [
       "<POLYGON ((-180 90, -180 -90, 180 -90, 180 90, -180 90))>"
      ]
     },
     "execution_count": 37,
     "metadata": {},
     "output_type": "execute_result"
    }
   ],
   "source": [
    "world"
   ]
  },
  {
   "cell_type": "code",
   "execution_count": 39,
   "metadata": {
    "tags": []
   },
   "outputs": [],
   "source": [
    "# Let's make a large hole 10 units from the edge\n",
    "# NB: you can have multiple holes, so we have to pass a list of the hole-coordinates\n",
    "hole = [[(-170, 80), (-170, -80), (170, -80), (170, 80)]]"
   ]
  },
  {
   "cell_type": "code",
   "execution_count": 40,
   "metadata": {
    "tags": []
   },
   "outputs": [
    {
     "name": "stdout",
     "output_type": "stream",
     "text": [
      "POLYGON ((-180 90, -180 -90, 180 -90, 180 90, -180 90), (-170 80, -170 -80, 170 -80, 170 80, -170 80))\n"
     ]
    }
   ],
   "source": [
    "# Now we can construct the polygon with our hole inside\n",
    "frame = Polygon(shell=border, holes=hole)\n",
    "print(frame)"
   ]
  },
  {
   "cell_type": "markdown",
   "metadata": {},
   "source": [
    "La oss se hva vi har:"
   ]
  },
  {
   "cell_type": "code",
   "execution_count": 41,
   "metadata": {
    "tags": []
   },
   "outputs": [
    {
     "data": {
      "image/svg+xml": [
       "<svg xmlns=\"http://www.w3.org/2000/svg\" xmlns:xlink=\"http://www.w3.org/1999/xlink\" width=\"300\" height=\"208.8\" viewBox=\"-194.4 -104.4 388.8 208.8\" preserveAspectRatio=\"xMinYMin meet\"><g transform=\"matrix(1,0,0,-1,0,0.0)\"><path fill-rule=\"evenodd\" fill=\"#66cc99\" stroke=\"#555555\" stroke-width=\"2.592\" opacity=\"0.6\" d=\"M -180.0,90.0 L -180.0,-90.0 L 180.0,-90.0 L 180.0,90.0 L -180.0,90.0 z M -170.0,80.0 L -170.0,-80.0 L 170.0,-80.0 L 170.0,80.0 L -170.0,80.0 z\" /></g></svg>"
      ],
      "text/plain": [
       "<POLYGON ((-180 90, -180 -90, 180 -90, 180 90, -180 90), (-170 80, -170 -80,...>"
      ]
     },
     "execution_count": 41,
     "metadata": {},
     "output_type": "execute_result"
    }
   ],
   "source": [
    "frame"
   ]
  },
  {
   "cell_type": "code",
   "execution_count": 42,
   "metadata": {},
   "outputs": [
    {
     "name": "stdout",
     "output_type": "stream",
     "text": [
      "POLYGON ((-180 90, -180 -90, 180 -90, 180 90, -180 90), (-170 80, -170 -80, 170 -80, 170 80, -170 80))\n"
     ]
    }
   ],
   "source": [
    "print(frame)"
   ]
  },
  {
   "cell_type": "markdown",
   "metadata": {},
   "source": [
    "Som vi kan se, så har polygonet nå to sett med koordinattuppler. Det første representerer det ytterste polygonet, og det andre representererer hullet inni polygonet."
   ]
  },
  {
   "cell_type": "markdown",
   "metadata": {},
   "source": [
    "### Polygon attributter og funksjoner\n",
    "\n",
    "Vi kan også med polygoner bruke attributtene direkte fra `Polygon`-objektet, noe som kan være nyttig for ulike typer analyser. For eksempel: `area`, `centroid`, `bounding box`, `exterior`, og `exterior-length`. Den fulle listen av metoder finner du i [Shapely User Manual](https://shapely.readthedocs.io/en/stable/manual.html#the-shapely-user-manual).\n",
    "\n",
    "La oss se på noen av attributtene her:"
   ]
  },
  {
   "cell_type": "code",
   "execution_count": 43,
   "metadata": {},
   "outputs": [
    {
     "name": "stdout",
     "output_type": "stream",
     "text": [
      "Polygon centroid: POINT (0 0)\n",
      "Polygon Area: 64800.0\n",
      "Polygon Bounding Box: (-180.0, -90.0, 180.0, 90.0)\n",
      "Polygon Exterior: LINEARRING (-180 90, -180 -90, 180 -90, 180 90, -180 90)\n",
      "Polygon Exterior Length: 1080.0\n"
     ]
    }
   ],
   "source": [
    "# Print the outputs\n",
    "print(f\"Polygon centroid: {world.centroid}\")\n",
    "print(f\"Polygon Area: {world.area}\")\n",
    "print(f\"Polygon Bounding Box: {world.bounds}\")\n",
    "print(f\"Polygon Exterior: {world.exterior}\")\n",
    "print(f\"Polygon Exterior Length: {world.exterior.length}\")"
   ]
  },
  {
   "cell_type": "markdown",
   "metadata": {},
   "source": [
    "Som vi kan se, er det forholdsvis enkelt å hente ut de ulike attributtene fra `Polygon`-objektet. Merk at avstandsmålene vil gi mer mening når man jobber med data i et projisert koordinatsystem."
   ]
  }
 ],
 "metadata": {
  "anaconda-cloud": {},
  "kernelspec": {
   "display_name": "Python 3 (ipykernel)",
   "language": "python",
   "name": "python3"
  },
  "language_info": {
   "codemirror_mode": {
    "name": "ipython",
    "version": 3
   },
   "file_extension": ".py",
   "mimetype": "text/x-python",
   "name": "python",
   "nbconvert_exporter": "python",
   "pygments_lexer": "ipython3",
   "version": "3.11.0"
  }
 },
 "nbformat": 4,
 "nbformat_minor": 4
}
