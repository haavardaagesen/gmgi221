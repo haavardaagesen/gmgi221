{
 "cells": [
  {
   "cell_type": "markdown",
   "id": "e66699a6",
   "metadata": {},
   "source": [
    "# Statiske kart\n",
    "\n",
    "I løpet av de siste ukene har vi allerede blitt kjent med plotting\n",
    "grunnleggende statiske kart ved hjelp av\n",
    "[`geopandas.GeoDataFrame.plot()`](http://geopandas.org/mapping.html), for\n",
    "eksempel i leksjonene [2](../lesson-2/geopandas-an-introduction),\n",
    "[3](../lesson-3/spatial-join), og [4](../lesson-4/reclassifying-data). Vi lærte også\n",
    "at `geopandas.GeoDataFrame.plot()` bruker `matplotlib.pyplot`\n",
    "biblioteket, og at [de fleste av argumentene og alternativene blir akseptert av\n",
    "geopandas](https://matplotlib.org/stable/api/pyplot_summary.html).\n",
    "\n",
    "For å friske opp hukommelsen om det grunnleggende i å plotte kart, la oss lage et statisk\n",
    "tilgjengelighetskart over Helsingfors storbyområde, som også viser veier og\n",
    "metro linjer (tre lag, overlappet hverandre). Husk at inngangsdataene må være i samme koordinatsystem!\n",
    "\n",
    "\n",
    "## Data\n",
    "\n",
    "Vi vil bruke tre forskjellige datasett:\n",
    "- reisetiden til Helsingfors jernbanestasjon vi brukte i [leksjon\n",
    "  4](../lesson-4/reclassifying-data), som ligger i `DATA_DIRECTORY /\n",
    "\"helsinki_region_travel_times_to_railway_station\"`,\n",
    "- Helsingfors Metro-nettverk, tilgjengelig via WFS fra byens karttjenester,\n",
    "  og\n",
    "- et forenklet nettverk av de viktigste veiene i storbyregionen,\n",
    "  også tilgjengelig via WFS fra samme endepunkt."
   ]
  },
  {
   "cell_type": "code",
   "execution_count": null,
   "id": "afd82f26",
   "metadata": {},
   "outputs": [],
   "source": [
    "import pathlib\n",
    "NOTEBOOK_PATH = pathlib.Path().resolve()\n",
    "DATA_DIRECTORY = NOTEBOOK_PATH / \"data\""
   ]
  },
  {
   "cell_type": "code",
   "execution_count": null,
   "id": "a364ee85",
   "metadata": {},
   "outputs": [],
   "source": [
    "import geopandas\n",
    "import numpy\n",
    "import ssl\n",
    "ssl._create_default_https_context = ssl._create_unverified_context\n",
    "to\n",
    "accessibility_grid = geopandas.read_file(\n",
    "    DATA_DIRECTORY\n",
    "    / \"helsinki_region_travel_times_to_railway_station\"\n",
    "    / \"helsinki_region_travel_times_to_railway_station.gpkg\"\n",
    ")\n",
    "accessibility_grid[\"pt_r_t\"] = accessibility_grid[\"pt_r_t\"].replace(-1, numpy.nan)\n",
    "\n",
    "WFS_BASE_URL = (\n",
    "    \"https://kartta.hel.fi/ws/geoserver/avoindata/wfs\"\n",
    "    \"?service=wfs\"\n",
    "    \"&version=2.0.0\"\n",
    "    \"&request=GetFeature\"\n",
    "    \"&srsName=EPSG:3879\"\n",
    "    \"&typeName={layer:s}\"\n",
    ")\n",
    "\n",
    "metro = (\n",
    "    geopandas.read_file(\n",
    "        WFS_BASE_URL.format(layer=\"avoindata:Seutukartta_liikenne_metro_rata\")\n",
    "    )\n",
    "    .set_crs(\"EPSG:3879\")\n",
    ")\n",
    "roads = (\n",
    "    geopandas.read_file(\n",
    "        WFS_BASE_URL.format(layer=\"avoindata:Seutukartta_liikenne_paatiet\")\n",
    "    )\n",
    "    .set_crs(\"EPSG:3879\")\n",
    ")"
   ]
  },
  {
   "cell_type": "markdown",
   "id": "32790cb8",
   "metadata": {},
   "source": [
    ":::{admonition} Koordinatreferansesystemer\n",
    ":class: attention\n",
    "\n",
    "Husk at forskjellige geo-dataframes må være i samme koordinatsystem\n",
    "før de plottes på samme kart. `geopandas.GeoDataFrame.plot()` utfører ikke\n",
    "reprosjisering av data automatisk.\n",
    "\n",
    "Du kan alltid sjekke det med en enkel `assert` uttalelse.\n",
    ":::"
   ]
  },
  {
   "cell_type": "code",
   "execution_count": null,
   "id": "f50429b7",
   "metadata": {
    "tags": [
     "raises-exception"
    ]
   },
   "outputs": [],
   "source": [
    "assert accessibility_grid.crs == metro.crs == roads.crs, \"Inndataenes CRS er forskjellige\""
   ]
  },
  {
   "cell_type": "markdown",
   "id": "27707cc0",
   "metadata": {},
   "source": [
    "Hvis flere datasett ikke deler et felles CRS, finn ut først hvilket CRS\n",
    "de har tildelt (hvis noen!), deretter transformere dataene til et felles referanse\n",
    "system:"
   ]
  },
  {
   "cell_type": "code",
   "execution_count": null,
   "id": "2f504170",
   "metadata": {},
   "outputs": [],
   "source": [
    "accessibility_grid.crs"
   ]
  },
  {
   "cell_type": "code",
   "execution_count": null,
   "id": "d5257ef5",
   "metadata": {},
   "outputs": [],
   "source": [
    "metro.crs"
   ]
  },
  {
   "cell_type": "code",
   "execution_count": null,
   "id": "28b1ecb1",
   "metadata": {},
   "outputs": [],
   "source": [
    "roads.crs"
   ]
  },
  {
   "cell_type": "code",
   "execution_count": null,
   "id": "b5d8954b",
   "metadata": {},
   "outputs": [],
   "source": [
    "roads = roads.to_crs(accessibility_grid.crs)\n",
    "metro = metro.to_crs(accessibility_grid.crs)"
   ]
  },
  {
   "cell_type": "code",
   "execution_count": null,
   "id": "00e16734",
   "metadata": {},
   "outputs": [],
   "source": [
    "assert accessibility_grid.crs == metro.crs == roads.crs, \"Inndataenes CRS er forskjellige\""
   ]
  },
  {
   "cell_type": "markdown",
   "id": "a83a95a7",
   "metadata": {},
   "source": [
    "## Plotting et flerlagskart\n",
    "\n",
    ":::{admonition} Sjekk forståelsen din\n",
    ":class: hint\n",
    "\n",
    "Fullfør de neste trinnene i ditt eget tempo (tøm først kodecellene).\n",
    "Sørg for å gå tilbake til tidligere leksjoner hvis du føler deg usikker på hvordan du fullfører\n",
    "en oppgave.\n",
    "\n",
    "- Visualiser et flerlagskart ved hjelp av `geopandas.GeoDataFrame.plot()` metoden;\n",
    "- først, plott tilgjengelighetsrutenettet ved hjelp av et 'kvantil' klassifiseringsskjema,\n",
    "- deretter, legg til vei nettverk og metrolinjer i samme plott (husk `ax`\n",
    "  parameter)\n",
    ":::\n",
    "\n",
    "\n",
    "Husk følgende alternativer som kan sendes til `plot()`:\n",
    "- stil polygonlaget:\n",
    "    - definer et klassifiseringsskjema ved hjelp av `scheme` parameteren\n",
    "    - [endre fargekartet ved hjelp av\n",
    "      `cmap`](https://matplotlib.org/stable/tutorials/colors/colormaps.html)\n",
    "    - kontroller lagets gjennomsiktighet med `alpha` parameteren (`0` er fullt\n",
    "      gjennomsiktig, `1` fullt ugjennomsiktig)\n",
    "- stil linjelagene:\n",
    "    - juster [linjefargen](https://matplotlib.org/stable/api/colors_api.html) ved hjelp av\n",
    "      `color` parameteren\n",
    "    - endre `linewidth`, etter behov\n",
    "\n",
    "Lagene har forskjellige omfang (`roads` dekker et mye større område). Du kan\n",
    "bruke aksenes (`ax`) metoder `set_xlim()` og `set_ylim()` for å sette den horisontale\n",
    "og vertikale utstrekningen av kartet (f.eks. til en geo-dataframes `total_bounds`)."
   ]
  },
  {
   "cell_type": "code",
   "execution_count": null,
   "id": "d916dc17",
   "metadata": {},
   "outputs": [],
   "source": [
    "ax = accessibility_grid.plot(\n",
    "    figsize=(12, 8),\n",
    "\n",
    "    column=\"pt_r_t\",\n",
    "    scheme=\"quantiles\",\n",
    "    cmap=\"Spectral\",\n",
    "    linewidth=0,\n",
    "    alpha=0.8\n",
    ")\n",
    "\n",
    "metro.plot(\n",
    "    ax=ax,\n",
    "    color=\"orange\",\n",
    "    linewidth=2.5\n",
    ")\n",
    "\n",
    "roads.plot(\n",
    "    ax=ax,\n",
    "    color=\"grey\",\n",
    "    linewidth=0.8\n",
    ")\n",
    "\n",
    "minx, miny, maxx, maxy = accessibility_grid.total_bounds\n",
    "ax.set_xlim(minx, maxx)\n",
    "ax.set_ylim(miny, maxy)"
   ]
  },
  {
   "cell_type": "markdown",
   "id": "e656ece7",
   "metadata": {},
   "source": [
    "## Legge til en legend\n",
    "\n",
    "For å plotte en legend for et kart, legg til parameteren `legend=True`.\n",
    "\n",
    "For figurer uten et klassifisering `scheme`, består legenden av en farge\n",
    "gradient bar. Legend er en instans av\n",
    "[`matplotlib.pyplot.colorbar.Colorbar`](https://matplotlib.org/stable/api/_as_gen/matplotlib.pyplot.colorbar.html),\n",
    "og alle argumenter definert i `legend_kwds` blir sendt gjennom til den. Se nedenfor\n",
    "hvordan du bruker `label` egenskapen for å sette *legend tittelen*:"
   ]
  },
  {
   "cell_type": "code",
   "execution_count": null,
   "id": "270a26e5",
   "metadata": {},
   "outputs": [],
   "source": [
    "ax = accessibility_grid.plot(\n",
    "    figsize=(12, 8),\n",
    "\n",
    "    column=\"pt_r_t\",\n",
    "    cmap=\"Spectral\",\n",
    "    linewidth=0,\n",
    "    alpha=0.8,\n",
    "\n",
    "    legend=True,\n",
    "    legend_kwds={\"label\": \"Reisetid (min)\"}\n",
    ")"
   ]
  },
  {
   "cell_type": "markdown",
   "id": "814fe489",
   "metadata": {},
   "source": [
    ":::{admonition} Sett andre `Colorbar` parametere\n",
    ":class: hint\n",
    "\n",
    "Sjekk ut [`matplotlib.pyplot.colorbar.Colorbar`’s\n",
    "dokumentasjon](https://matplotlib.org/stable/api/_as_gen/matplotlib.pyplot.colorbar.html)\n",
    "og eksperimenter med andre parametere! Alt du legger til i `legend_kwds`\n",
    "ordboken vil bli sendt til fargebaren.\n",
    ":::\n",
    "\n",
    "\n",
    "---\n",
    "\n",
    "For figurer som bruker et klassifisering `scheme`, på den annen side, `plot()`\n",
    "lager en\n",
    "[`matplotlib.legend.Legend`](https://matplotlib.org/stable/api/legend_api.html#matplotlib.legend.Legend).\n",
    "Igjen, `legend_kwds` blir sendt gjennom, men parameterne er litt\n",
    "forskjellige: for eksempel, bruk `title` i stedet for `label` for å sette legenden\n",
    "tittel:"
   ]
  },
  {
   "cell_type": "code",
   "execution_count": null,
   "id": "9dac9267",
   "metadata": {},
   "outputs": [],
   "source": [
    "accessibility_grid.plot(\n",
    "    figsize=(12, 8),\n",
    "\n",
    "    column=\"pt_r_t\",\n",
    "    scheme=\"quantiles\",\n",
    "    cmap=\"Spectral\",\n",
    "    linewidth=0,\n",
    "    alpha=0.8,\n",
    "\n",
    "    legend=True,\n",
    "    legend_kwds={\"title\": \"Reisetid (min)\"}\n",
    ")"
   ]
  },
  {
   "cell_type": "markdown",
   "id": "6f60d498",
   "metadata": {},
   "source": [
    ":::{admonition} Sett andre `Legend` parametere\n",
    ":class: hint\n",
    "\n",
    "Sjekk ut [`matplotlib.pyplot.legend.Legend`’s\n",
    "dokumentasjon](https://matplotlib.org/stable/api/legend_api.html#matplotlib.legend.Legend),\n",
    "og eksperimenter med andre parametere! Alt du legger til i `legend_kwds`\n",
    "ordboken vil bli sendt til legenden.\n",
    "\n",
    "Hvilket `legend_kwds` nøkkelord vil spre legenden over to kolonner?\n",
    ":::\n",
    "\n",
    "\n",
    "## Legge til et basekart\n",
    "\n",
    "For bedre orientering er det ofte nyttig å legge til et basekart i et kartplott. En\n",
    "basekart, for eksempel, fra kartleverandører som\n",
    "[OpenStreetMap](https://osm.org/) eller [Stamen](https://maps.stamen.com/), legger til\n",
    "gater, stedsnavn, og annen kontekstuell informasjon.\n",
    "\n",
    "Python-pakken [contextily](https://contextily.readthedocs.io/) tar seg av\n",
    "nedlasting av nødvendige kartfliser og gjengir dem i en geopandas plot.\n",
    "\n",
    ":::{admonition} Web Mercator\n",
    ":class: caution\n",
    "\n",
    "Kartfliser fra online kartleverandører er typisk i [Web Mercator-projeksjon\n",
    "(EPSG:3857](http://spatialreference.org/ref/sr-org/epsg3857-wgs84-web-mercator-auxiliary-sphere/).\n",
    "Det er generelt tilrådelig å transformere alle andre lag til `EPSG:3857`, også.\n",
    ":::"
   ]
  },
  {
   "cell_type": "code",
   "execution_count": null,
   "id": "2a4b60b0",
   "metadata": {},
   "outputs": [],
   "source": [
    "accessibility_grid = accessibility_grid.to_crs(\"EPSG:3857\")\n",
    "metro = metro.to_crs(\"EPSG:3857\")\n",
    "roads = roads.to_crs(\"EPSG:3857\")"
   ]
  },
  {
   "cell_type": "markdown",
   "id": "d572bfbb",
   "metadata": {},
   "source": [
    "For å legge til et basekart i en eksisterende plot, bruk\n",
    "[`contextily.add_basemap()`](https://contextily.readthedocs.io/en/latest/intro_guide.html)\n",
    "funksjonen, og gi plot’s `ax` objektet som ble oppnådd i et tidligere trinn."
   ]
  },
  {
   "cell_type": "code",
   "execution_count": null,
   "id": "0643f350",
   "metadata": {},
   "outputs": [],
   "source": [
    "import contextily\n",
    "\n",
    "ax = accessibility_grid.plot(\n",
    "    figsize=(12, 8),\n",
    "\n",
    "    column=\"pt_r_t\",\n",
    "    scheme=\"quantiles\",\n",
    "    cmap=\"Spectral\",\n",
    "    linewidth=0,\n",
    "    alpha=0.8,\n",
    "\n",
    "    legend=True,\n",
    "    legend_kwds={\"title\": \"Reisetid (min)\"}\n",
    ")\n",
    "contextily.add_basemap(ax, source=contextily.providers.OpenStreetMap.Mapnik)"
   ]
  },
  {
   "cell_type": "markdown",
   "id": "d8197eee",
   "metadata": {},
   "source": [
    "[Det er mange\n",
    "andre nettbaserte kart å velge\n",
    "fra](https://contextily.readthedocs.io/en/latest/intro_guide.html#Providers).\n",
    "Alle de andre `contextily.providers` (se lenke ovenfor) kan sendes som en\n",
    "`source` til `add_basemap()`. Du kan få en liste over tilgjengelige leverandører:"
   ]
  },
  {
   "cell_type": "code",
   "execution_count": null,
   "id": "ac338144",
   "metadata": {},
   "outputs": [],
   "source": [
    "contextily.providers"
   ]
  },
  {
   "cell_type": "markdown",
   "id": "279ae00f",
   "metadata": {},
   "source": [
    "På dette zoomnivået, lever fordelene ved å bruke OpenStreetMap (som stedsnavn)\n",
    "ikke opp til sitt fulle potensial. La oss se på et delsett av reisetidsmatrisen:\n",
    "rutenettceller som er innenfor 15 minutter fra jernbanestasjonen."
   ]
  },
  {
   "cell_type": "code",
   "execution_count": null,
   "id": "3c66bc6e",
   "metadata": {},
   "outputs": [],
   "source": [
    "ax = accessibility_grid[accessibility_grid.pt_r_t <= 15].plot(\n",
    "    figsize=(12, 8),\n",
    "\n",
    "    column=\"pt_r_t\",\n",
    "    scheme=\"quantiles\",\n",
    "    k=5,\n",
    "    cmap=\"Spectral\",\n",
    "    linewidth=0,\n",
    "    alpha=0.8,\n",
    "\n",
    "    legend=True,\n",
    "    legend_kwds={\"title\": \"Reisetid (min)\"}\n",
    ")\n",
    "contextily.add_basemap(\n",
    "    ax,\n",
    "    source=contextily.providers.OpenStreetMap.Mapnik\n",
    ")"
   ]
  },
  {
   "cell_type": "markdown",
   "id": "c0252e31",
   "metadata": {},
   "source": [
    "Til slutt kan vi endre tilskrivningen (copyright-meldingen) som vises i\n",
    "nederste venstre hjørne av kartplottet. Merk at du alltid skal respektere kart\n",
    "leverandørenes bruksvilkår, som vanligvis inkluderer en datakilde-attribusjon\n",
    "(*contextily*’s standarder tar hånd om dette). Vi kan og bør imidlertid\n",
    "legge til en datakilde for alle lag vi la til, slik som reisetidsmatrisen\n",
    "datasett:"
   ]
  },
  {
   "cell_type": "code",
   "execution_count": null,
   "id": "8849c6b3",
   "metadata": {},
   "outputs": [],
   "source": [
    "ax = accessibility_grid[accessibility_grid.pt_r_t <= 15].plot(\n",
    "    figsize=(12, 8),\n",
    "\n",
    "    column=\"pt_r_t\",\n",
    "    scheme=\"quantiles\",\n",
    "    k=5,\n",
    "    cmap=\"Spectral\",\n",
    "    linewidth=0,\n",
    "    alpha=0.8,\n",
    "\n",
    "    legend=True,\n",
    "    legend_kwds={\"title\": \"Reisetid (min)\"}\n",
    ")\n",
    "contextily.add_basemap(\n",
    "    ax,\n",
    "    source=contextily.providers.OpenStreetMap.Mapnik,\n",
    "    attribution=(\n",
    "        \"Reisetidsdata (c) Digital Geography Lab, \"\n",
    "        \"kartdata (c) OpenStreetMap bidragsytere\"\n",
    "    )\n",
    ")"
   ]
  }
 ],
 "metadata": {
  "kernelspec": {
   "display_name": "Python 3 (ipykernel)",
   "language": "python",
   "name": "python3"
  },
  "language_info": {
   "codemirror_mode": {
    "name": "ipython",
    "version": 3
   },
   "file_extension": ".py",
   "mimetype": "text/x-python",
   "name": "python",
   "nbconvert_exporter": "python",
   "pygments_lexer": "ipython3",
   "version": "3.11.0"
  }
 },
 "nbformat": 4,
 "nbformat_minor": 5
}
