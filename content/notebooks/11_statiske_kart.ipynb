{
 "cells": [
  {
   "cell_type": "markdown",
   "id": "e66699a6",
   "metadata": {},
   "source": [
    "# 💻 Statiske kart\n",
    "\n",
    "I løpet av de siste ukene har vi allerede blitt kjent med plotting\n",
    "grunnleggende statiske kart ved hjelp av\n",
    "[`geopandas.GeoDataFrame.plot()`](http://geopandas.org/mapping.html), for\n",
    "eksempel i leksjonene [2](../lesson-2/geopandas-an-introduction),\n",
    "[3](../lesson-3/spatial-join), og [4](../lesson-4/reclassifying-data). Vi lærte også\n",
    "at `geopandas.GeoDataFrame.plot()` bruker `matplotlib.pyplot`\n",
    "biblioteket, og at [de fleste av argumentene og alternativene blir akseptert av\n",
    "geopandas](https://matplotlib.org/stable/api/pyplot_summary.html).\n",
    "\n",
    "For å friske opp hukommelsen om det grunnleggende i å plotte kart, la oss lage et statisk\n",
    "tilgjengelighetskart over Helsingfors storbyområde, som også viser veier og\n",
    "metro linjer (tre lag, overlappet hverandre). Husk at inngangsdataene må være i samme koordinatsystem!\n",
    "\n",
    "\n",
    "## Data\n",
    "\n",
    "Vi vil bruke tre forskjellige datasett:\n",
    "- reisetiden til Helsingfors jernbanestasjon vi brukte i [leksjon\n",
    "  4](../lesson-4/reclassifying-data), som ligger i `DATA_DIRECTORY /\n",
    "\"helsinki_region_travel_times_to_railway_station\"`,\n",
    "- Helsingfors Metro-nettverk, tilgjengelig via WFS fra byens karttjenester,\n",
    "  og\n",
    "- et forenklet nettverk av de viktigste veiene i storbyregionen,\n",
    "  også tilgjengelig via WFS fra samme endepunkt."
   ]
  },
  {
   "cell_type": "code",
   "execution_count": 2,
   "id": "afd82f26",
   "metadata": {},
   "outputs": [],
   "source": [
    "import pathlib\n",
    "NOTEBOOK_PATH = pathlib.Path().resolve()\n",
    "DATA_DIRECTORY = NOTEBOOK_PATH / \"data\""
   ]
  },
  {
   "cell_type": "code",
   "execution_count": 3,
   "id": "a364ee85",
   "metadata": {},
   "outputs": [
    {
     "ename": "DriverError",
     "evalue": "/home/local/aagesenh/GoogleDrive/Samfunnsgeo/phd/teaching/gmgi221/gmgi221/content/notebooks/data/helsinki_region_travel_times_to_railway_station/helsinki_region_travel_times_to_railway_station.gpkg: No such file or directory",
     "output_type": "error",
     "traceback": [
      "\u001b[0;31m---------------------------------------------------------------------------\u001b[0m",
      "\u001b[0;31mCPLE_OpenFailedError\u001b[0m                      Traceback (most recent call last)",
      "File \u001b[0;32mfiona/ogrext.pyx:136\u001b[0m, in \u001b[0;36mfiona.ogrext.gdal_open_vector\u001b[0;34m()\u001b[0m\n",
      "File \u001b[0;32mfiona/_err.pyx:291\u001b[0m, in \u001b[0;36mfiona._err.exc_wrap_pointer\u001b[0;34m()\u001b[0m\n",
      "\u001b[0;31mCPLE_OpenFailedError\u001b[0m: /home/local/aagesenh/GoogleDrive/Samfunnsgeo/phd/teaching/gmgi221/gmgi221/content/notebooks/data/helsinki_region_travel_times_to_railway_station/helsinki_region_travel_times_to_railway_station.gpkg: No such file or directory",
      "\nDuring handling of the above exception, another exception occurred:\n",
      "\u001b[0;31mDriverError\u001b[0m                               Traceback (most recent call last)",
      "Cell \u001b[0;32mIn[3], line 6\u001b[0m\n\u001b[1;32m      3\u001b[0m \u001b[38;5;28;01mimport\u001b[39;00m \u001b[38;5;21;01mssl\u001b[39;00m\n\u001b[1;32m      4\u001b[0m ssl\u001b[38;5;241m.\u001b[39m_create_default_https_context \u001b[38;5;241m=\u001b[39m ssl\u001b[38;5;241m.\u001b[39m_create_unverified_context\n\u001b[0;32m----> 6\u001b[0m accessibility_grid \u001b[38;5;241m=\u001b[39m geopandas\u001b[38;5;241m.\u001b[39mread_file(\n\u001b[1;32m      7\u001b[0m     DATA_DIRECTORY\n\u001b[1;32m      8\u001b[0m     \u001b[38;5;241m/\u001b[39m \u001b[38;5;124m\"\u001b[39m\u001b[38;5;124mhelsinki_region_travel_times_to_railway_station\u001b[39m\u001b[38;5;124m\"\u001b[39m\n\u001b[1;32m      9\u001b[0m     \u001b[38;5;241m/\u001b[39m \u001b[38;5;124m\"\u001b[39m\u001b[38;5;124mhelsinki_region_travel_times_to_railway_station.gpkg\u001b[39m\u001b[38;5;124m\"\u001b[39m\n\u001b[1;32m     10\u001b[0m )\n\u001b[1;32m     11\u001b[0m accessibility_grid[\u001b[38;5;124m\"\u001b[39m\u001b[38;5;124mpt_r_t\u001b[39m\u001b[38;5;124m\"\u001b[39m] \u001b[38;5;241m=\u001b[39m accessibility_grid[\u001b[38;5;124m\"\u001b[39m\u001b[38;5;124mpt_r_t\u001b[39m\u001b[38;5;124m\"\u001b[39m]\u001b[38;5;241m.\u001b[39mreplace(\u001b[38;5;241m-\u001b[39m\u001b[38;5;241m1\u001b[39m, numpy\u001b[38;5;241m.\u001b[39mnan)\n\u001b[1;32m     13\u001b[0m WFS_BASE_URL \u001b[38;5;241m=\u001b[39m (\n\u001b[1;32m     14\u001b[0m     \u001b[38;5;124m\"\u001b[39m\u001b[38;5;124mhttps://kartta.hel.fi/ws/geoserver/avoindata/wfs\u001b[39m\u001b[38;5;124m\"\u001b[39m\n\u001b[1;32m     15\u001b[0m     \u001b[38;5;124m\"\u001b[39m\u001b[38;5;124m?service=wfs\u001b[39m\u001b[38;5;124m\"\u001b[39m\n\u001b[0;32m   (...)\u001b[0m\n\u001b[1;32m     19\u001b[0m     \u001b[38;5;124m\"\u001b[39m\u001b[38;5;124m&typeName=\u001b[39m\u001b[38;5;132;01m{layer:s}\u001b[39;00m\u001b[38;5;124m\"\u001b[39m\n\u001b[1;32m     20\u001b[0m )\n",
      "File \u001b[0;32m~/anaconda3/envs/py311/lib/python3.11/site-packages/geopandas/io/file.py:281\u001b[0m, in \u001b[0;36m_read_file\u001b[0;34m(filename, bbox, mask, rows, engine, **kwargs)\u001b[0m\n\u001b[1;32m    278\u001b[0m     \u001b[38;5;28;01melse\u001b[39;00m:\n\u001b[1;32m    279\u001b[0m         path_or_bytes \u001b[38;5;241m=\u001b[39m filename\n\u001b[0;32m--> 281\u001b[0m     \u001b[38;5;28;01mreturn\u001b[39;00m _read_file_fiona(\n\u001b[1;32m    282\u001b[0m         path_or_bytes, from_bytes, bbox\u001b[38;5;241m=\u001b[39mbbox, mask\u001b[38;5;241m=\u001b[39mmask, rows\u001b[38;5;241m=\u001b[39mrows, \u001b[38;5;241m*\u001b[39m\u001b[38;5;241m*\u001b[39mkwargs\n\u001b[1;32m    283\u001b[0m     )\n\u001b[1;32m    285\u001b[0m \u001b[38;5;28;01melse\u001b[39;00m:\n\u001b[1;32m    286\u001b[0m     \u001b[38;5;28;01mraise\u001b[39;00m \u001b[38;5;167;01mValueError\u001b[39;00m(\u001b[38;5;124mf\u001b[39m\u001b[38;5;124m\"\u001b[39m\u001b[38;5;124munknown engine \u001b[39m\u001b[38;5;124m'\u001b[39m\u001b[38;5;132;01m{\u001b[39;00mengine\u001b[38;5;132;01m}\u001b[39;00m\u001b[38;5;124m'\u001b[39m\u001b[38;5;124m\"\u001b[39m)\n",
      "File \u001b[0;32m~/anaconda3/envs/py311/lib/python3.11/site-packages/geopandas/io/file.py:322\u001b[0m, in \u001b[0;36m_read_file_fiona\u001b[0;34m(path_or_bytes, from_bytes, bbox, mask, rows, where, **kwargs)\u001b[0m\n\u001b[1;32m    319\u001b[0m     reader \u001b[38;5;241m=\u001b[39m fiona\u001b[38;5;241m.\u001b[39mopen\n\u001b[1;32m    321\u001b[0m \u001b[38;5;28;01mwith\u001b[39;00m fiona_env():\n\u001b[0;32m--> 322\u001b[0m     \u001b[38;5;28;01mwith\u001b[39;00m reader(path_or_bytes, \u001b[38;5;241m*\u001b[39m\u001b[38;5;241m*\u001b[39mkwargs) \u001b[38;5;28;01mas\u001b[39;00m features:\n\u001b[1;32m    323\u001b[0m         crs \u001b[38;5;241m=\u001b[39m features\u001b[38;5;241m.\u001b[39mcrs_wkt\n\u001b[1;32m    324\u001b[0m         \u001b[38;5;66;03m# attempt to get EPSG code\u001b[39;00m\n",
      "File \u001b[0;32m~/anaconda3/envs/py311/lib/python3.11/site-packages/fiona/env.py:457\u001b[0m, in \u001b[0;36mensure_env_with_credentials.<locals>.wrapper\u001b[0;34m(*args, **kwds)\u001b[0m\n\u001b[1;32m    454\u001b[0m     session \u001b[38;5;241m=\u001b[39m DummySession()\n\u001b[1;32m    456\u001b[0m \u001b[38;5;28;01mwith\u001b[39;00m env_ctor(session\u001b[38;5;241m=\u001b[39msession):\n\u001b[0;32m--> 457\u001b[0m     \u001b[38;5;28;01mreturn\u001b[39;00m f(\u001b[38;5;241m*\u001b[39margs, \u001b[38;5;241m*\u001b[39m\u001b[38;5;241m*\u001b[39mkwds)\n",
      "File \u001b[0;32m~/anaconda3/envs/py311/lib/python3.11/site-packages/fiona/__init__.py:292\u001b[0m, in \u001b[0;36mopen\u001b[0;34m(fp, mode, driver, schema, crs, encoding, layer, vfs, enabled_drivers, crs_wkt, allow_unsupported_drivers, **kwargs)\u001b[0m\n\u001b[1;32m    289\u001b[0m     path \u001b[38;5;241m=\u001b[39m parse_path(fp)\n\u001b[1;32m    291\u001b[0m \u001b[38;5;28;01mif\u001b[39;00m mode \u001b[38;5;129;01min\u001b[39;00m (\u001b[38;5;124m\"\u001b[39m\u001b[38;5;124ma\u001b[39m\u001b[38;5;124m\"\u001b[39m, \u001b[38;5;124m\"\u001b[39m\u001b[38;5;124mr\u001b[39m\u001b[38;5;124m\"\u001b[39m):\n\u001b[0;32m--> 292\u001b[0m     colxn \u001b[38;5;241m=\u001b[39m Collection(\n\u001b[1;32m    293\u001b[0m         path,\n\u001b[1;32m    294\u001b[0m         mode,\n\u001b[1;32m    295\u001b[0m         driver\u001b[38;5;241m=\u001b[39mdriver,\n\u001b[1;32m    296\u001b[0m         encoding\u001b[38;5;241m=\u001b[39mencoding,\n\u001b[1;32m    297\u001b[0m         layer\u001b[38;5;241m=\u001b[39mlayer,\n\u001b[1;32m    298\u001b[0m         enabled_drivers\u001b[38;5;241m=\u001b[39menabled_drivers,\n\u001b[1;32m    299\u001b[0m         allow_unsupported_drivers\u001b[38;5;241m=\u001b[39mallow_unsupported_drivers,\n\u001b[1;32m    300\u001b[0m         \u001b[38;5;241m*\u001b[39m\u001b[38;5;241m*\u001b[39mkwargs\n\u001b[1;32m    301\u001b[0m     )\n\u001b[1;32m    302\u001b[0m \u001b[38;5;28;01melif\u001b[39;00m mode \u001b[38;5;241m==\u001b[39m \u001b[38;5;124m\"\u001b[39m\u001b[38;5;124mw\u001b[39m\u001b[38;5;124m\"\u001b[39m:\n\u001b[1;32m    303\u001b[0m     colxn \u001b[38;5;241m=\u001b[39m Collection(\n\u001b[1;32m    304\u001b[0m         path,\n\u001b[1;32m    305\u001b[0m         mode,\n\u001b[0;32m   (...)\u001b[0m\n\u001b[1;32m    314\u001b[0m         \u001b[38;5;241m*\u001b[39m\u001b[38;5;241m*\u001b[39mkwargs\n\u001b[1;32m    315\u001b[0m     )\n",
      "File \u001b[0;32m~/anaconda3/envs/py311/lib/python3.11/site-packages/fiona/collection.py:243\u001b[0m, in \u001b[0;36mCollection.__init__\u001b[0;34m(self, path, mode, driver, schema, crs, encoding, layer, vsi, archive, enabled_drivers, crs_wkt, ignore_fields, ignore_geometry, include_fields, wkt_version, allow_unsupported_drivers, **kwargs)\u001b[0m\n\u001b[1;32m    241\u001b[0m \u001b[38;5;28;01mif\u001b[39;00m \u001b[38;5;28mself\u001b[39m\u001b[38;5;241m.\u001b[39mmode \u001b[38;5;241m==\u001b[39m \u001b[38;5;124m\"\u001b[39m\u001b[38;5;124mr\u001b[39m\u001b[38;5;124m\"\u001b[39m:\n\u001b[1;32m    242\u001b[0m     \u001b[38;5;28mself\u001b[39m\u001b[38;5;241m.\u001b[39msession \u001b[38;5;241m=\u001b[39m Session()\n\u001b[0;32m--> 243\u001b[0m     \u001b[38;5;28mself\u001b[39m\u001b[38;5;241m.\u001b[39msession\u001b[38;5;241m.\u001b[39mstart(\u001b[38;5;28mself\u001b[39m, \u001b[38;5;241m*\u001b[39m\u001b[38;5;241m*\u001b[39mkwargs)\n\u001b[1;32m    244\u001b[0m \u001b[38;5;28;01melif\u001b[39;00m \u001b[38;5;28mself\u001b[39m\u001b[38;5;241m.\u001b[39mmode \u001b[38;5;129;01min\u001b[39;00m (\u001b[38;5;124m\"\u001b[39m\u001b[38;5;124ma\u001b[39m\u001b[38;5;124m\"\u001b[39m, \u001b[38;5;124m\"\u001b[39m\u001b[38;5;124mw\u001b[39m\u001b[38;5;124m\"\u001b[39m):\n\u001b[1;32m    245\u001b[0m     \u001b[38;5;28mself\u001b[39m\u001b[38;5;241m.\u001b[39msession \u001b[38;5;241m=\u001b[39m WritingSession()\n",
      "File \u001b[0;32mfiona/ogrext.pyx:588\u001b[0m, in \u001b[0;36mfiona.ogrext.Session.start\u001b[0;34m()\u001b[0m\n",
      "File \u001b[0;32mfiona/ogrext.pyx:143\u001b[0m, in \u001b[0;36mfiona.ogrext.gdal_open_vector\u001b[0;34m()\u001b[0m\n",
      "\u001b[0;31mDriverError\u001b[0m: /home/local/aagesenh/GoogleDrive/Samfunnsgeo/phd/teaching/gmgi221/gmgi221/content/notebooks/data/helsinki_region_travel_times_to_railway_station/helsinki_region_travel_times_to_railway_station.gpkg: No such file or directory"
     ]
    }
   ],
   "source": [
    "import geopandas\n",
    "import numpy\n",
    "import ssl\n",
    "ssl._create_default_https_context = ssl._create_unverified_context\n",
    "\n",
    "accessibility_grid = geopandas.read_file(\n",
    "    DATA_DIRECTORY\n",
    "    / \"helsinki_region_travel_times_to_railway_station\"\n",
    "    / \"helsinki_region_travel_times_to_railway_station.gpkg\"\n",
    ")\n",
    "accessibility_grid[\"pt_r_t\"] = accessibility_grid[\"pt_r_t\"].replace(-1, numpy.nan)\n",
    "\n",
    "WFS_BASE_URL = (\n",
    "    \"https://kartta.hel.fi/ws/geoserver/avoindata/wfs\"\n",
    "    \"?service=wfs\"\n",
    "    \"&version=2.0.0\"\n",
    "    \"&request=GetFeature\"\n",
    "    \"&srsName=EPSG:3879\"\n",
    "    \"&typeName={layer:s}\"\n",
    ")\n",
    "\n",
    "metro = (\n",
    "    geopandas.read_file(\n",
    "        WFS_BASE_URL.format(layer=\"avoindata:Seutukartta_liikenne_metro_rata\")\n",
    "    )\n",
    "    .set_crs(\"EPSG:3879\")\n",
    ")\n",
    "roads = (\n",
    "    geopandas.read_file(\n",
    "        WFS_BASE_URL.format(layer=\"avoindata:Seutukartta_liikenne_paatiet\")\n",
    "    )\n",
    "    .set_crs(\"EPSG:3879\")\n",
    ")"
   ]
  },
  {
   "cell_type": "markdown",
   "id": "32790cb8",
   "metadata": {},
   "source": [
    ":::{admonition} Koordinatreferansesystemer\n",
    ":class: attention\n",
    "\n",
    "Husk at forskjellige geo-dataframes må være i samme koordinatsystem\n",
    "før de plottes på samme kart. `geopandas.GeoDataFrame.plot()` utfører ikke\n",
    "reprosjisering av data automatisk.\n",
    "\n",
    "Du kan alltid sjekke det med en enkel `assert` uttalelse.\n",
    ":::"
   ]
  },
  {
   "cell_type": "code",
   "execution_count": null,
   "id": "f50429b7",
   "metadata": {
    "tags": [
     "raises-exception"
    ]
   },
   "outputs": [],
   "source": [
    "assert accessibility_grid.crs == metro.crs == roads.crs, \"Inndataenes CRS er forskjellige\""
   ]
  },
  {
   "cell_type": "markdown",
   "id": "27707cc0",
   "metadata": {},
   "source": [
    "Hvis flere datasett ikke deler et felles CRS, finn ut først hvilket CRS\n",
    "de har tildelt (hvis noen!), deretter transformere dataene til et felles referanse\n",
    "system:"
   ]
  },
  {
   "cell_type": "code",
   "execution_count": null,
   "id": "2f504170",
   "metadata": {},
   "outputs": [],
   "source": [
    "accessibility_grid.crs"
   ]
  },
  {
   "cell_type": "code",
   "execution_count": null,
   "id": "d5257ef5",
   "metadata": {},
   "outputs": [],
   "source": [
    "metro.crs"
   ]
  },
  {
   "cell_type": "code",
   "execution_count": null,
   "id": "28b1ecb1",
   "metadata": {},
   "outputs": [],
   "source": [
    "roads.crs"
   ]
  },
  {
   "cell_type": "code",
   "execution_count": null,
   "id": "b5d8954b",
   "metadata": {},
   "outputs": [],
   "source": [
    "roads = roads.to_crs(accessibility_grid.crs)\n",
    "metro = metro.to_crs(accessibility_grid.crs)"
   ]
  },
  {
   "cell_type": "code",
   "execution_count": null,
   "id": "00e16734",
   "metadata": {},
   "outputs": [],
   "source": [
    "assert accessibility_grid.crs == metro.crs == roads.crs, \"Inndataenes CRS er forskjellige\""
   ]
  },
  {
   "cell_type": "markdown",
   "id": "a83a95a7",
   "metadata": {},
   "source": [
    "## Plotting et flerlagskart\n",
    "\n",
    ":::{admonition} Sjekk forståelsen din\n",
    ":class: hint\n",
    "\n",
    "Fullfør de neste trinnene i ditt eget tempo (tøm først kodecellene).\n",
    "Sørg for å gå tilbake til tidligere leksjoner hvis du føler deg usikker på hvordan du fullfører\n",
    "en oppgave.\n",
    "\n",
    "- Visualiser et flerlagskart ved hjelp av `geopandas.GeoDataFrame.plot()` metoden;\n",
    "- først, plott tilgjengelighetsrutenettet ved hjelp av et 'kvantil' klassifiseringsskjema,\n",
    "- deretter, legg til vei nettverk og metrolinjer i samme plott (husk `ax`\n",
    "  parameter)\n",
    ":::\n",
    "\n",
    "\n",
    "Husk følgende alternativer som kan sendes til `plot()`:\n",
    "- stil polygonlaget:\n",
    "    - definer et klassifiseringsskjema ved hjelp av `scheme` parameteren\n",
    "    - [endre fargekartet ved hjelp av\n",
    "      `cmap`](https://matplotlib.org/stable/tutorials/colors/colormaps.html)\n",
    "    - kontroller lagets gjennomsiktighet med `alpha` parameteren (`0` er fullt\n",
    "      gjennomsiktig, `1` fullt ugjennomsiktig)\n",
    "- stil linjelagene:\n",
    "    - juster [linjefargen](https://matplotlib.org/stable/api/colors_api.html) ved hjelp av\n",
    "      `color` parameteren\n",
    "    - endre `linewidth`, etter behov\n",
    "\n",
    "Lagene har forskjellige omfang (`roads` dekker et mye større område). Du kan\n",
    "bruke aksenes (`ax`) metoder `set_xlim()` og `set_ylim()` for å sette den horisontale\n",
    "og vertikale utstrekningen av kartet (f.eks. til en geo-dataframes `total_bounds`)."
   ]
  },
  {
   "cell_type": "code",
   "execution_count": null,
   "id": "d916dc17",
   "metadata": {},
   "outputs": [],
   "source": [
    "ax = accessibility_grid.plot(\n",
    "    figsize=(12, 8),\n",
    "\n",
    "    column=\"pt_r_t\",\n",
    "    scheme=\"quantiles\",\n",
    "    cmap=\"Spectral\",\n",
    "    linewidth=0,\n",
    "    alpha=0.8\n",
    ")\n",
    "\n",
    "metro.plot(\n",
    "    ax=ax,\n",
    "    color=\"orange\",\n",
    "    linewidth=2.5\n",
    ")\n",
    "\n",
    "roads.plot(\n",
    "    ax=ax,\n",
    "    color=\"grey\",\n",
    "    linewidth=0.8\n",
    ")\n",
    "\n",
    "minx, miny, maxx, maxy = accessibility_grid.total_bounds\n",
    "ax.set_xlim(minx, maxx)\n",
    "ax.set_ylim(miny, maxy)"
   ]
  },
  {
   "cell_type": "markdown",
   "id": "e656ece7",
   "metadata": {},
   "source": [
    "## Legge til en legend\n",
    "\n",
    "For å plotte en legend for et kart, legg til parameteren `legend=True`.\n",
    "\n",
    "For figurer uten et klassifisering `scheme`, består legenden av en farge\n",
    "gradient bar. Legend er en instans av\n",
    "[`matplotlib.pyplot.colorbar.Colorbar`](https://matplotlib.org/stable/api/_as_gen/matplotlib.pyplot.colorbar.html),\n",
    "og alle argumenter definert i `legend_kwds` blir sendt gjennom til den. Se nedenfor\n",
    "hvordan du bruker `label` egenskapen for å sette *legend tittelen*:"
   ]
  },
  {
   "cell_type": "code",
   "execution_count": null,
   "id": "270a26e5",
   "metadata": {},
   "outputs": [],
   "source": [
    "ax = accessibility_grid.plot(\n",
    "    figsize=(12, 8),\n",
    "\n",
    "    column=\"pt_r_t\",\n",
    "    cmap=\"Spectral\",\n",
    "    linewidth=0,\n",
    "    alpha=0.8,\n",
    "\n",
    "    legend=True,\n",
    "    legend_kwds={\"label\": \"Reisetid (min)\"}\n",
    ")"
   ]
  },
  {
   "cell_type": "markdown",
   "id": "814fe489",
   "metadata": {},
   "source": [
    ":::{admonition} Sett andre `Colorbar` parametere\n",
    ":class: hint\n",
    "\n",
    "Sjekk ut [`matplotlib.pyplot.colorbar.Colorbar`’s\n",
    "dokumentasjon](https://matplotlib.org/stable/api/_as_gen/matplotlib.pyplot.colorbar.html)\n",
    "og eksperimenter med andre parametere! Alt du legger til i `legend_kwds`\n",
    "ordboken vil bli sendt til fargebaren.\n",
    ":::\n",
    "\n",
    "\n",
    "---\n",
    "\n",
    "For figurer som bruker et klassifisering `scheme`, på den annen side, `plot()`\n",
    "lager en\n",
    "[`matplotlib.legend.Legend`](https://matplotlib.org/stable/api/legend_api.html#matplotlib.legend.Legend).\n",
    "Igjen, `legend_kwds` blir sendt gjennom, men parameterne er litt\n",
    "forskjellige: for eksempel, bruk `title` i stedet for `label` for å sette legenden\n",
    "tittel:"
   ]
  },
  {
   "cell_type": "code",
   "execution_count": null,
   "id": "9dac9267",
   "metadata": {},
   "outputs": [],
   "source": [
    "accessibility_grid.plot(\n",
    "    figsize=(12, 8),\n",
    "\n",
    "    column=\"pt_r_t\",\n",
    "    scheme=\"quantiles\",\n",
    "    cmap=\"Spectral\",\n",
    "    linewidth=0,\n",
    "    alpha=0.8,\n",
    "\n",
    "    legend=True,\n",
    "    legend_kwds={\"title\": \"Reisetid (min)\"}\n",
    ")"
   ]
  },
  {
   "cell_type": "markdown",
   "id": "6f60d498",
   "metadata": {},
   "source": [
    ":::{admonition} Sett andre `Legend` parametere\n",
    ":class: hint\n",
    "\n",
    "Sjekk ut [`matplotlib.pyplot.legend.Legend`’s\n",
    "dokumentasjon](https://matplotlib.org/stable/api/legend_api.html#matplotlib.legend.Legend),\n",
    "og eksperimenter med andre parametere! Alt du legger til i `legend_kwds`\n",
    "ordboken vil bli sendt til legenden.\n",
    "\n",
    "Hvilket `legend_kwds` nøkkelord vil spre legenden over to kolonner?\n",
    ":::\n",
    "\n",
    "\n",
    "## Legge til et basekart\n",
    "\n",
    "For bedre orientering er det ofte nyttig å legge til et basekart i et kartplott. En\n",
    "basekart, for eksempel, fra kartleverandører som\n",
    "[OpenStreetMap](https://osm.org/) eller [Stamen](https://maps.stamen.com/), legger til\n",
    "gater, stedsnavn, og annen kontekstuell informasjon.\n",
    "\n",
    "Python-pakken [contextily](https://contextily.readthedocs.io/) tar seg av\n",
    "nedlasting av nødvendige kartfliser og gjengir dem i en geopandas plot.\n",
    "\n",
    ":::{admonition} Web Mercator\n",
    ":class: caution\n",
    "\n",
    "Kartfliser fra online kartleverandører er typisk i [Web Mercator-projeksjon\n",
    "(EPSG:3857](http://spatialreference.org/ref/sr-org/epsg3857-wgs84-web-mercator-auxiliary-sphere/).\n",
    "Det er generelt tilrådelig å transformere alle andre lag til `EPSG:3857`, også.\n",
    ":::"
   ]
  },
  {
   "cell_type": "code",
   "execution_count": null,
   "id": "2a4b60b0",
   "metadata": {},
   "outputs": [],
   "source": [
    "accessibility_grid = accessibility_grid.to_crs(\"EPSG:3857\")\n",
    "metro = metro.to_crs(\"EPSG:3857\")\n",
    "roads = roads.to_crs(\"EPSG:3857\")"
   ]
  },
  {
   "cell_type": "markdown",
   "id": "d572bfbb",
   "metadata": {},
   "source": [
    "For å legge til et basekart i en eksisterende plot, bruk\n",
    "[`contextily.add_basemap()`](https://contextily.readthedocs.io/en/latest/intro_guide.html)\n",
    "funksjonen, og gi plot’s `ax` objektet som ble oppnådd i et tidligere trinn."
   ]
  },
  {
   "cell_type": "code",
   "execution_count": null,
   "id": "0643f350",
   "metadata": {},
   "outputs": [],
   "source": [
    "import contextily\n",
    "\n",
    "ax = accessibility_grid.plot(\n",
    "    figsize=(12, 8),\n",
    "\n",
    "    column=\"pt_r_t\",\n",
    "    scheme=\"quantiles\",\n",
    "    cmap=\"Spectral\",\n",
    "    linewidth=0,\n",
    "    alpha=0.8,\n",
    "\n",
    "    legend=True,\n",
    "    legend_kwds={\"title\": \"Reisetid (min)\"}\n",
    ")\n",
    "contextily.add_basemap(ax, source=contextily.providers.OpenStreetMap.Mapnik)"
   ]
  },
  {
   "cell_type": "markdown",
   "id": "d8197eee",
   "metadata": {},
   "source": [
    "[Det er mange\n",
    "andre nettbaserte kart å velge\n",
    "fra](https://contextily.readthedocs.io/en/latest/intro_guide.html#Providers).\n",
    "Alle de andre `contextily.providers` (se lenke ovenfor) kan sendes som en\n",
    "`source` til `add_basemap()`. Du kan få en liste over tilgjengelige leverandører:"
   ]
  },
  {
   "cell_type": "code",
   "execution_count": null,
   "id": "ac338144",
   "metadata": {},
   "outputs": [],
   "source": [
    "contextily.providers"
   ]
  },
  {
   "cell_type": "markdown",
   "id": "279ae00f",
   "metadata": {},
   "source": [
    "På dette zoomnivået, lever fordelene ved å bruke OpenStreetMap (som stedsnavn)\n",
    "ikke opp til sitt fulle potensial. La oss se på et delsett av reisetidsmatrisen:\n",
    "rutenettceller som er innenfor 15 minutter fra jernbanestasjonen."
   ]
  },
  {
   "cell_type": "code",
   "execution_count": null,
   "id": "3c66bc6e",
   "metadata": {},
   "outputs": [],
   "source": [
    "ax = accessibility_grid[accessibility_grid.pt_r_t <= 15].plot(\n",
    "    figsize=(12, 8),\n",
    "\n",
    "    column=\"pt_r_t\",\n",
    "    scheme=\"quantiles\",\n",
    "    k=5,\n",
    "    cmap=\"Spectral\",\n",
    "    linewidth=0,\n",
    "    alpha=0.8,\n",
    "\n",
    "    legend=True,\n",
    "    legend_kwds={\"title\": \"Reisetid (min)\"}\n",
    ")\n",
    "contextily.add_basemap(\n",
    "    ax,\n",
    "    source=contextily.providers.OpenStreetMap.Mapnik\n",
    ")"
   ]
  },
  {
   "cell_type": "markdown",
   "id": "c0252e31",
   "metadata": {},
   "source": [
    "Til slutt kan vi endre tilskrivningen (copyright-meldingen) som vises i\n",
    "nederste venstre hjørne av kartplottet. Merk at du alltid skal respektere kart\n",
    "leverandørenes bruksvilkår, som vanligvis inkluderer en datakilde-attribusjon\n",
    "(*contextily*’s standarder tar hånd om dette). Vi kan og bør imidlertid\n",
    "legge til en datakilde for alle lag vi la til, slik som reisetidsmatrisen\n",
    "datasett:"
   ]
  },
  {
   "cell_type": "code",
   "execution_count": null,
   "id": "8849c6b3",
   "metadata": {},
   "outputs": [],
   "source": [
    "ax = accessibility_grid[accessibility_grid.pt_r_t <= 15].plot(\n",
    "    figsize=(12, 8),\n",
    "\n",
    "    column=\"pt_r_t\",\n",
    "    scheme=\"quantiles\",\n",
    "    k=5,\n",
    "    cmap=\"Spectral\",\n",
    "    linewidth=0,\n",
    "    alpha=0.8,\n",
    "\n",
    "    legend=True,\n",
    "    legend_kwds={\"title\": \"Reisetid (min)\"}\n",
    ")\n",
    "contextily.add_basemap(\n",
    "    ax,\n",
    "    source=contextily.providers.OpenStreetMap.Mapnik,\n",
    "    attribution=(\n",
    "        \"Reisetidsdata (c) Digital Geography Lab, \"\n",
    "        \"kartdata (c) OpenStreetMap bidragsytere\"\n",
    "    )\n",
    ")"
   ]
  }
 ],
 "metadata": {
  "kernelspec": {
   "display_name": "Python 3 (ipykernel)",
   "language": "python",
   "name": "python3"
  },
  "language_info": {
   "codemirror_mode": {
    "name": "ipython",
    "version": 3
   },
   "file_extension": ".py",
   "mimetype": "text/x-python",
   "name": "python",
   "nbconvert_exporter": "python",
   "pygments_lexer": "ipython3",
   "version": "3.11.0"
  }
 },
 "nbformat": 4,
 "nbformat_minor": 5
}
