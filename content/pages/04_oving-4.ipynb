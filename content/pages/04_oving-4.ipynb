{
 "cells": [
  {
   "cell_type": "markdown",
   "metadata": {},
   "source": [
    "# 📥 Øving 4\n",
    "\n",
    "I denne øvingsoppgaven skal du finne adresser til ulike kjøpesentre i Oslo og geokode de og deretter buffre rundt punktene og lagre en GeoJSON-fil.\n",
    "\n",
    "Øvingsoppgaven finner du på Canvas under Oppgaver, eller på [dette GitHub-repoet](https://github.com/GMGI221/gmgi221-oving).\n",
    "\n",
    "Last den ned, åpne den i Jupyter Notebooks/Lab eller den editoren du bruker og følg instruksjonene i Notebooken. Lever den så inn på Canvas etter du har endret navn til \"oving4-ditt_navn.ipynb\"."
   ]
  },
  {
   "cell_type": "markdown",
   "metadata": {},
   "source": [
    "## Tips til oppgaven:\n",
    "Koordinatreferansesystemer\n",
    "\n",
    "<div class=\"alert alert-info\">\n",
    "\n",
    "**OBS**\n",
    "\n",
    "Husk forskjellen mellom å definere et CRS og å reprojisere et lag til et nytt CRS! Før reprojisering, bør laget ha en gyldig CRS-definisjon som du kan sjekke slik: `data.crs`.\n",
    "</div>\n",
    "\n",
    "For å definere en projeksjon, tilordne et nytt CRS til en geo-data frames crs-egenskap:\n",
    "\n",
    "```python\n",
    "data.crs = pyproj.CRS(\"EPSG:25832\")\n",
    "```\n",
    "\n",
    "Dette vil bare oppdatere metadataene. De faktiske koordinatverdiene forblir uendret. Bruk dette kun hvis den opprinnelige CRS-definisjonen mangler eller er ugyldig.\n",
    "\n",
    "For å reprojisere en geopandas.GeoDataFrame, bruk dens to_crs()-metode:\n",
    "\n",
    "```python\n",
    "data = data.to_(\"EPSG:25832\")\n",
    "```\n",
    "\n",
    "Dette vil faktisk transformere geometriobjektene i dataframen, OG omdefinere CRS-definisjonen lagret i .crs-egenskapen."
   ]
  }
 ],
 "metadata": {
  "kernelspec": {
   "display_name": "gmgi221",
   "language": "python",
   "name": "python3"
  },
  "language_info": {
   "codemirror_mode": {
    "name": "ipython",
    "version": 3
   },
   "file_extension": ".py",
   "mimetype": "text/x-python",
   "name": "python",
   "nbconvert_exporter": "python",
   "pygments_lexer": "ipython3",
   "version": "3.11.9"
  }
 },
 "nbformat": 4,
 "nbformat_minor": 2
}
